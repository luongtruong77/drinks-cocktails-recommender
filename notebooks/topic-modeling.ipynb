{
 "cells": [
  {
   "cell_type": "code",
   "execution_count": 37,
   "id": "chief-diet",
   "metadata": {
    "ExecuteTime": {
     "end_time": "2021-05-20T04:42:15.790651Z",
     "start_time": "2021-05-20T04:42:15.545336Z"
    }
   },
   "outputs": [
    {
     "name": "stdout",
     "output_type": "stream",
     "text": [
      "Libraries imported!\n"
     ]
    }
   ],
   "source": [
    "# Necessary imports\n",
    "import warnings\n",
    "warnings.filterwarnings(\"ignore\")\n",
    "import pandas as pd\n",
    "import numpy as np\n",
    "import glob\n",
    "import re\n",
    "from IPython.core.display import display, HTML\n",
    "import nltk\n",
    "from nltk.tokenize import word_tokenize\n",
    "from nltk.stem.lancaster import LancasterStemmer\n",
    "from nltk.tokenize import RegexpTokenizer\n",
    "from nltk.stem import WordNetLemmatizer\n",
    "\n",
    "from sklearn.feature_extraction.text import TfidfVectorizer, ENGLISH_STOP_WORDS\n",
    "from sklearn.decomposition import NMF, TruncatedSVD, LatentDirichletAllocation\n",
    "\n",
    "print('Libraries imported!')"
   ]
  },
  {
   "cell_type": "code",
   "execution_count": 2,
   "id": "crisp-plenty",
   "metadata": {
    "ExecuteTime": {
     "end_time": "2021-05-20T04:07:03.845217Z",
     "start_time": "2021-05-20T04:07:03.589557Z"
    }
   },
   "outputs": [
    {
     "name": "stdout",
     "output_type": "stream",
     "text": [
      "(10522, 17)\n"
     ]
    },
    {
     "data": {
      "text/html": [
       "<div>\n",
       "<style scoped>\n",
       "    .dataframe tbody tr th:only-of-type {\n",
       "        vertical-align: middle;\n",
       "    }\n",
       "\n",
       "    .dataframe tbody tr th {\n",
       "        vertical-align: top;\n",
       "    }\n",
       "\n",
       "    .dataframe thead th {\n",
       "        text-align: right;\n",
       "    }\n",
       "</style>\n",
       "<table border=\"1\" class=\"dataframe\">\n",
       "  <thead>\n",
       "    <tr style=\"text-align: right;\">\n",
       "      <th></th>\n",
       "      <th>Name</th>\n",
       "      <th>Description</th>\n",
       "      <th>Category</th>\n",
       "      <th>Country</th>\n",
       "      <th>Alcohol_Vol</th>\n",
       "      <th>Review</th>\n",
       "      <th>Style</th>\n",
       "      <th>Aroma</th>\n",
       "      <th>Flavor</th>\n",
       "      <th>Sweetness</th>\n",
       "      <th>Bitterness</th>\n",
       "      <th>Enjoy</th>\n",
       "      <th>Pairing</th>\n",
       "      <th>Cocktails</th>\n",
       "      <th>Bottom_Line</th>\n",
       "      <th>Points</th>\n",
       "      <th>Price</th>\n",
       "    </tr>\n",
       "  </thead>\n",
       "  <tbody>\n",
       "    <tr>\n",
       "      <th>0</th>\n",
       "      <td>Mezcal de Leyendas Verde San Luis Potosi Mezca...</td>\n",
       "      <td>Mezcal de Leyendas Review Verde San Luis Potos...</td>\n",
       "      <td>Blanco Mezcal</td>\n",
       "      <td>Mexico</td>\n",
       "      <td>45%</td>\n",
       "      <td>Clear color. Aromas and flavors of cucumber, m...</td>\n",
       "      <td>Fruity, Funky, Rich, Spicy, Smoky, Herbal &amp; Co...</td>\n",
       "      <td>cucumber-melon, lime spritz, caramelized orang...</td>\n",
       "      <td>Same as aromas with notes of pickled ginger, s...</td>\n",
       "      <td>NaN</td>\n",
       "      <td>NaN</td>\n",
       "      <td>in cocktails, on the rocks and neat</td>\n",
       "      <td>NaN</td>\n",
       "      <td>Paloma, Sangrita, Tommy's Margarita</td>\n",
       "      <td>A sweet, savory, salty, juicy display of compl...</td>\n",
       "      <td>97 Points</td>\n",
       "      <td>$49.99</td>\n",
       "    </tr>\n",
       "    <tr>\n",
       "      <th>1</th>\n",
       "      <td>El Tesoro Paradiso Tequila Extra Anejo Mexico ...</td>\n",
       "      <td>El Tesoro Review Paradiso Tequila Extra Anejo ...</td>\n",
       "      <td>Extra Añejo Tequila</td>\n",
       "      <td>Mexico</td>\n",
       "      <td>40%</td>\n",
       "      <td>Gold color. Inviting aromas of roasted nuts, c...</td>\n",
       "      <td>Fruity, Complex, Candied, Herbal, Rich &amp; Spicy</td>\n",
       "      <td>roasted nuts, candied cherries, vanilla bean, ...</td>\n",
       "      <td>ripe melons, toffee, and white pepper</td>\n",
       "      <td>NaN</td>\n",
       "      <td>NaN</td>\n",
       "      <td>in cocktails, neat, on the rocks and with cigars</td>\n",
       "      <td>NaN</td>\n",
       "      <td>Paloma, Sangrita, Tommy's Margarita</td>\n",
       "      <td>A tantalizing melange of complex flavors that ...</td>\n",
       "      <td>97 Points</td>\n",
       "      <td>$180</td>\n",
       "    </tr>\n",
       "    <tr>\n",
       "      <th>2</th>\n",
       "      <td>Peloton de la Muerte Vegan Pechuga Mezcal Mexi...</td>\n",
       "      <td>Peloton de la Muerte Review Vegan Pechuga Mezc...</td>\n",
       "      <td>Flavored Mezcal</td>\n",
       "      <td>Mexico</td>\n",
       "      <td>45.10%</td>\n",
       "      <td>Silvery straw color. Citrusy aromas and flavor...</td>\n",
       "      <td>Complex, Fruity &amp; Herbal</td>\n",
       "      <td>pickled melon and pineapple, candied jalapeño,...</td>\n",
       "      <td>Same as aromas with suggestions of curry</td>\n",
       "      <td>NaN</td>\n",
       "      <td>NaN</td>\n",
       "      <td>in cocktails, neat and on the rocks</td>\n",
       "      <td>NaN</td>\n",
       "      <td>Paloma, Sangrita, Tommy's Margarita</td>\n",
       "      <td>A joyous, extroverted Mezcal with juicy fruit ...</td>\n",
       "      <td>96 Points</td>\n",
       "      <td>$44.99</td>\n",
       "    </tr>\n",
       "    <tr>\n",
       "      <th>3</th>\n",
       "      <td>El Tesoro Anejo Tequila Mexico Spirits Review ...</td>\n",
       "      <td>El Tesoro Review Anejo Tequila Mexico Mexican ...</td>\n",
       "      <td>Añejo Tequila</td>\n",
       "      <td>Mexico</td>\n",
       "      <td>40%</td>\n",
       "      <td>Straw color. Inviting aromas and flavors of ho...</td>\n",
       "      <td>Fruity, Spicy &amp; Herbal</td>\n",
       "      <td>honey-drizzled grapefruit, sweet apple compote...</td>\n",
       "      <td>Same as aromas with notes of pink peppercorns,...</td>\n",
       "      <td>NaN</td>\n",
       "      <td>NaN</td>\n",
       "      <td>in cocktails, neat and on the rocks</td>\n",
       "      <td>NaN</td>\n",
       "      <td>Paloma, Sangrita, Tommy's Margarita</td>\n",
       "      <td>A stylish, peppery tequila with an authentic v...</td>\n",
       "      <td>96 Points</td>\n",
       "      <td>$85</td>\n",
       "    </tr>\n",
       "    <tr>\n",
       "      <th>4</th>\n",
       "      <td>1800 Milenio Extra Anejo Tequila Mexico Spirit...</td>\n",
       "      <td>1800 Review Milenio Extra Anejo Tequila Mexico...</td>\n",
       "      <td>Extra Añejo Tequila</td>\n",
       "      <td>Mexico</td>\n",
       "      <td>40%</td>\n",
       "      <td>Amber color. Aromas of toffee coated popcorn, ...</td>\n",
       "      <td>Fruity, Rich &amp; Spicy</td>\n",
       "      <td>toffee coated popcorn, peanuts, warm madeira c...</td>\n",
       "      <td>allspice, mint tea, candied ginger, honey, and...</td>\n",
       "      <td>NaN</td>\n",
       "      <td>NaN</td>\n",
       "      <td>neat and on the rocks</td>\n",
       "      <td>NaN</td>\n",
       "      <td>NaN</td>\n",
       "      <td>A richly flavored Extra Añejo Tequila with an ...</td>\n",
       "      <td>96 Points</td>\n",
       "      <td>$250</td>\n",
       "    </tr>\n",
       "  </tbody>\n",
       "</table>\n",
       "</div>"
      ],
      "text/plain": [
       "                                                Name  \\\n",
       "0  Mezcal de Leyendas Verde San Luis Potosi Mezca...   \n",
       "1  El Tesoro Paradiso Tequila Extra Anejo Mexico ...   \n",
       "2  Peloton de la Muerte Vegan Pechuga Mezcal Mexi...   \n",
       "3  El Tesoro Anejo Tequila Mexico Spirits Review ...   \n",
       "4  1800 Milenio Extra Anejo Tequila Mexico Spirit...   \n",
       "\n",
       "                                         Description             Category  \\\n",
       "0  Mezcal de Leyendas Review Verde San Luis Potos...        Blanco Mezcal   \n",
       "1  El Tesoro Review Paradiso Tequila Extra Anejo ...  Extra Añejo Tequila   \n",
       "2  Peloton de la Muerte Review Vegan Pechuga Mezc...      Flavored Mezcal   \n",
       "3  El Tesoro Review Anejo Tequila Mexico Mexican ...        Añejo Tequila   \n",
       "4  1800 Review Milenio Extra Anejo Tequila Mexico...  Extra Añejo Tequila   \n",
       "\n",
       "  Country Alcohol_Vol                                             Review  \\\n",
       "0  Mexico         45%  Clear color. Aromas and flavors of cucumber, m...   \n",
       "1  Mexico         40%  Gold color. Inviting aromas of roasted nuts, c...   \n",
       "2  Mexico      45.10%  Silvery straw color. Citrusy aromas and flavor...   \n",
       "3  Mexico         40%  Straw color. Inviting aromas and flavors of ho...   \n",
       "4  Mexico         40%  Amber color. Aromas of toffee coated popcorn, ...   \n",
       "\n",
       "                                               Style  \\\n",
       "0  Fruity, Funky, Rich, Spicy, Smoky, Herbal & Co...   \n",
       "1     Fruity, Complex, Candied, Herbal, Rich & Spicy   \n",
       "2                           Complex, Fruity & Herbal   \n",
       "3                             Fruity, Spicy & Herbal   \n",
       "4                               Fruity, Rich & Spicy   \n",
       "\n",
       "                                               Aroma  \\\n",
       "0  cucumber-melon, lime spritz, caramelized orang...   \n",
       "1  roasted nuts, candied cherries, vanilla bean, ...   \n",
       "2  pickled melon and pineapple, candied jalapeño,...   \n",
       "3  honey-drizzled grapefruit, sweet apple compote...   \n",
       "4  toffee coated popcorn, peanuts, warm madeira c...   \n",
       "\n",
       "                                              Flavor Sweetness Bitterness  \\\n",
       "0  Same as aromas with notes of pickled ginger, s...       NaN        NaN   \n",
       "1              ripe melons, toffee, and white pepper       NaN        NaN   \n",
       "2           Same as aromas with suggestions of curry       NaN        NaN   \n",
       "3  Same as aromas with notes of pink peppercorns,...       NaN        NaN   \n",
       "4  allspice, mint tea, candied ginger, honey, and...       NaN        NaN   \n",
       "\n",
       "                                              Enjoy Pairing  \\\n",
       "0               in cocktails, on the rocks and neat     NaN   \n",
       "1  in cocktails, neat, on the rocks and with cigars     NaN   \n",
       "2               in cocktails, neat and on the rocks     NaN   \n",
       "3               in cocktails, neat and on the rocks     NaN   \n",
       "4                             neat and on the rocks     NaN   \n",
       "\n",
       "                             Cocktails  \\\n",
       "0  Paloma, Sangrita, Tommy's Margarita   \n",
       "1  Paloma, Sangrita, Tommy's Margarita   \n",
       "2  Paloma, Sangrita, Tommy's Margarita   \n",
       "3  Paloma, Sangrita, Tommy's Margarita   \n",
       "4                                  NaN   \n",
       "\n",
       "                                         Bottom_Line     Points    Price  \n",
       "0  A sweet, savory, salty, juicy display of compl...  97 Points  $49.99   \n",
       "1  A tantalizing melange of complex flavors that ...  97 Points    $180   \n",
       "2  A joyous, extroverted Mezcal with juicy fruit ...  96 Points  $44.99   \n",
       "3  A stylish, peppery tequila with an authentic v...  96 Points     $85   \n",
       "4  A richly flavored Extra Añejo Tequila with an ...  96 Points    $250   "
      ]
     },
     "execution_count": 2,
     "metadata": {},
     "output_type": "execute_result"
    }
   ],
   "source": [
    "path = r'C:/Metis_Bootcamp/Cocktails_recommendation_NLP/data/main_reviews' # data path\n",
    "all_files = glob.glob(path + \"/*.csv\")\n",
    "\n",
    "li = []\n",
    "\n",
    "for filename in all_files:\n",
    "    data = pd.read_csv(filename, index_col=0, header=0)\n",
    "    li.append(data)\n",
    "\n",
    "df = pd.concat(li, axis=0, ignore_index=True)\n",
    "\n",
    "print(df.shape)\n",
    "\n",
    "df.head()"
   ]
  },
  {
   "cell_type": "code",
   "execution_count": 3,
   "id": "profitable-solid",
   "metadata": {
    "ExecuteTime": {
     "end_time": "2021-05-20T04:07:41.451725Z",
     "start_time": "2021-05-20T04:07:41.156019Z"
    }
   },
   "outputs": [],
   "source": [
    "#df.to_csv('main_reviews.csv')"
   ]
  },
  {
   "cell_type": "code",
   "execution_count": 149,
   "id": "next-arm",
   "metadata": {
    "ExecuteTime": {
     "end_time": "2021-05-20T06:12:18.431511Z",
     "start_time": "2021-05-20T06:12:18.281911Z"
    }
   },
   "outputs": [
    {
     "data": {
      "text/html": [
       "<div>\n",
       "<style scoped>\n",
       "    .dataframe tbody tr th:only-of-type {\n",
       "        vertical-align: middle;\n",
       "    }\n",
       "\n",
       "    .dataframe tbody tr th {\n",
       "        vertical-align: top;\n",
       "    }\n",
       "\n",
       "    .dataframe thead th {\n",
       "        text-align: right;\n",
       "    }\n",
       "</style>\n",
       "<table border=\"1\" class=\"dataframe\">\n",
       "  <thead>\n",
       "    <tr style=\"text-align: right;\">\n",
       "      <th></th>\n",
       "      <th>Name</th>\n",
       "      <th>Description</th>\n",
       "      <th>Category</th>\n",
       "      <th>Country</th>\n",
       "      <th>Alcohol_Vol</th>\n",
       "      <th>Review</th>\n",
       "      <th>Style</th>\n",
       "      <th>Aroma</th>\n",
       "      <th>Flavor</th>\n",
       "      <th>Sweetness</th>\n",
       "      <th>Bitterness</th>\n",
       "      <th>Enjoy</th>\n",
       "      <th>Pairing</th>\n",
       "      <th>Cocktails</th>\n",
       "      <th>Bottom_Line</th>\n",
       "      <th>Points</th>\n",
       "      <th>Price</th>\n",
       "    </tr>\n",
       "  </thead>\n",
       "  <tbody>\n",
       "    <tr>\n",
       "      <th>0</th>\n",
       "      <td>Mezcal de Leyendas Verde San Luis Potosi Mezca...</td>\n",
       "      <td>Mezcal de Leyendas Review Verde San Luis Potos...</td>\n",
       "      <td>Blanco Mezcal</td>\n",
       "      <td>Mexico</td>\n",
       "      <td>45%</td>\n",
       "      <td>Clear color. Aromas and flavors of cucumber, m...</td>\n",
       "      <td>Fruity, Funky, Rich, Spicy, Smoky, Herbal &amp; Co...</td>\n",
       "      <td>cucumber-melon, lime spritz, caramelized orang...</td>\n",
       "      <td>Same as aromas with notes of pickled ginger, s...</td>\n",
       "      <td>NaN</td>\n",
       "      <td>NaN</td>\n",
       "      <td>in cocktails, on the rocks and neat</td>\n",
       "      <td>NaN</td>\n",
       "      <td>Paloma, Sangrita, Tommy's Margarita</td>\n",
       "      <td>A sweet, savory, salty, juicy display of compl...</td>\n",
       "      <td>97 Points</td>\n",
       "      <td>$49.99</td>\n",
       "    </tr>\n",
       "    <tr>\n",
       "      <th>1</th>\n",
       "      <td>El Tesoro Paradiso Tequila Extra Anejo Mexico ...</td>\n",
       "      <td>El Tesoro Review Paradiso Tequila Extra Anejo ...</td>\n",
       "      <td>Extra Añejo Tequila</td>\n",
       "      <td>Mexico</td>\n",
       "      <td>40%</td>\n",
       "      <td>Gold color. Inviting aromas of roasted nuts, c...</td>\n",
       "      <td>Fruity, Complex, Candied, Herbal, Rich &amp; Spicy</td>\n",
       "      <td>roasted nuts, candied cherries, vanilla bean, ...</td>\n",
       "      <td>ripe melons, toffee, and white pepper</td>\n",
       "      <td>NaN</td>\n",
       "      <td>NaN</td>\n",
       "      <td>in cocktails, neat, on the rocks and with cigars</td>\n",
       "      <td>NaN</td>\n",
       "      <td>Paloma, Sangrita, Tommy's Margarita</td>\n",
       "      <td>A tantalizing melange of complex flavors that ...</td>\n",
       "      <td>97 Points</td>\n",
       "      <td>$180</td>\n",
       "    </tr>\n",
       "    <tr>\n",
       "      <th>2</th>\n",
       "      <td>Peloton de la Muerte Vegan Pechuga Mezcal Mexi...</td>\n",
       "      <td>Peloton de la Muerte Review Vegan Pechuga Mezc...</td>\n",
       "      <td>Flavored Mezcal</td>\n",
       "      <td>Mexico</td>\n",
       "      <td>45.10%</td>\n",
       "      <td>Silvery straw color. Citrusy aromas and flavor...</td>\n",
       "      <td>Complex, Fruity &amp; Herbal</td>\n",
       "      <td>pickled melon and pineapple, candied jalapeño,...</td>\n",
       "      <td>Same as aromas with suggestions of curry</td>\n",
       "      <td>NaN</td>\n",
       "      <td>NaN</td>\n",
       "      <td>in cocktails, neat and on the rocks</td>\n",
       "      <td>NaN</td>\n",
       "      <td>Paloma, Sangrita, Tommy's Margarita</td>\n",
       "      <td>A joyous, extroverted Mezcal with juicy fruit ...</td>\n",
       "      <td>96 Points</td>\n",
       "      <td>$44.99</td>\n",
       "    </tr>\n",
       "    <tr>\n",
       "      <th>3</th>\n",
       "      <td>El Tesoro Anejo Tequila Mexico Spirits Review ...</td>\n",
       "      <td>El Tesoro Review Anejo Tequila Mexico Mexican ...</td>\n",
       "      <td>Añejo Tequila</td>\n",
       "      <td>Mexico</td>\n",
       "      <td>40%</td>\n",
       "      <td>Straw color. Inviting aromas and flavors of ho...</td>\n",
       "      <td>Fruity, Spicy &amp; Herbal</td>\n",
       "      <td>honey-drizzled grapefruit, sweet apple compote...</td>\n",
       "      <td>Same as aromas with notes of pink peppercorns,...</td>\n",
       "      <td>NaN</td>\n",
       "      <td>NaN</td>\n",
       "      <td>in cocktails, neat and on the rocks</td>\n",
       "      <td>NaN</td>\n",
       "      <td>Paloma, Sangrita, Tommy's Margarita</td>\n",
       "      <td>A stylish, peppery tequila with an authentic v...</td>\n",
       "      <td>96 Points</td>\n",
       "      <td>$85</td>\n",
       "    </tr>\n",
       "    <tr>\n",
       "      <th>4</th>\n",
       "      <td>1800 Milenio Extra Anejo Tequila Mexico Spirit...</td>\n",
       "      <td>1800 Review Milenio Extra Anejo Tequila Mexico...</td>\n",
       "      <td>Extra Añejo Tequila</td>\n",
       "      <td>Mexico</td>\n",
       "      <td>40%</td>\n",
       "      <td>Amber color. Aromas of toffee coated popcorn, ...</td>\n",
       "      <td>Fruity, Rich &amp; Spicy</td>\n",
       "      <td>toffee coated popcorn, peanuts, warm madeira c...</td>\n",
       "      <td>allspice, mint tea, candied ginger, honey, and...</td>\n",
       "      <td>NaN</td>\n",
       "      <td>NaN</td>\n",
       "      <td>neat and on the rocks</td>\n",
       "      <td>NaN</td>\n",
       "      <td>NaN</td>\n",
       "      <td>A richly flavored Extra Añejo Tequila with an ...</td>\n",
       "      <td>96 Points</td>\n",
       "      <td>$250</td>\n",
       "    </tr>\n",
       "  </tbody>\n",
       "</table>\n",
       "</div>"
      ],
      "text/plain": [
       "                                                Name  \\\n",
       "0  Mezcal de Leyendas Verde San Luis Potosi Mezca...   \n",
       "1  El Tesoro Paradiso Tequila Extra Anejo Mexico ...   \n",
       "2  Peloton de la Muerte Vegan Pechuga Mezcal Mexi...   \n",
       "3  El Tesoro Anejo Tequila Mexico Spirits Review ...   \n",
       "4  1800 Milenio Extra Anejo Tequila Mexico Spirit...   \n",
       "\n",
       "                                         Description             Category  \\\n",
       "0  Mezcal de Leyendas Review Verde San Luis Potos...        Blanco Mezcal   \n",
       "1  El Tesoro Review Paradiso Tequila Extra Anejo ...  Extra Añejo Tequila   \n",
       "2  Peloton de la Muerte Review Vegan Pechuga Mezc...      Flavored Mezcal   \n",
       "3  El Tesoro Review Anejo Tequila Mexico Mexican ...        Añejo Tequila   \n",
       "4  1800 Review Milenio Extra Anejo Tequila Mexico...  Extra Añejo Tequila   \n",
       "\n",
       "  Country Alcohol_Vol                                             Review  \\\n",
       "0  Mexico         45%  Clear color. Aromas and flavors of cucumber, m...   \n",
       "1  Mexico         40%  Gold color. Inviting aromas of roasted nuts, c...   \n",
       "2  Mexico      45.10%  Silvery straw color. Citrusy aromas and flavor...   \n",
       "3  Mexico         40%  Straw color. Inviting aromas and flavors of ho...   \n",
       "4  Mexico         40%  Amber color. Aromas of toffee coated popcorn, ...   \n",
       "\n",
       "                                               Style  \\\n",
       "0  Fruity, Funky, Rich, Spicy, Smoky, Herbal & Co...   \n",
       "1     Fruity, Complex, Candied, Herbal, Rich & Spicy   \n",
       "2                           Complex, Fruity & Herbal   \n",
       "3                             Fruity, Spicy & Herbal   \n",
       "4                               Fruity, Rich & Spicy   \n",
       "\n",
       "                                               Aroma  \\\n",
       "0  cucumber-melon, lime spritz, caramelized orang...   \n",
       "1  roasted nuts, candied cherries, vanilla bean, ...   \n",
       "2  pickled melon and pineapple, candied jalapeño,...   \n",
       "3  honey-drizzled grapefruit, sweet apple compote...   \n",
       "4  toffee coated popcorn, peanuts, warm madeira c...   \n",
       "\n",
       "                                              Flavor Sweetness Bitterness  \\\n",
       "0  Same as aromas with notes of pickled ginger, s...       NaN        NaN   \n",
       "1              ripe melons, toffee, and white pepper       NaN        NaN   \n",
       "2           Same as aromas with suggestions of curry       NaN        NaN   \n",
       "3  Same as aromas with notes of pink peppercorns,...       NaN        NaN   \n",
       "4  allspice, mint tea, candied ginger, honey, and...       NaN        NaN   \n",
       "\n",
       "                                              Enjoy Pairing  \\\n",
       "0               in cocktails, on the rocks and neat     NaN   \n",
       "1  in cocktails, neat, on the rocks and with cigars     NaN   \n",
       "2               in cocktails, neat and on the rocks     NaN   \n",
       "3               in cocktails, neat and on the rocks     NaN   \n",
       "4                             neat and on the rocks     NaN   \n",
       "\n",
       "                             Cocktails  \\\n",
       "0  Paloma, Sangrita, Tommy's Margarita   \n",
       "1  Paloma, Sangrita, Tommy's Margarita   \n",
       "2  Paloma, Sangrita, Tommy's Margarita   \n",
       "3  Paloma, Sangrita, Tommy's Margarita   \n",
       "4                                  NaN   \n",
       "\n",
       "                                         Bottom_Line     Points    Price  \n",
       "0  A sweet, savory, salty, juicy display of compl...  97 Points  $49.99   \n",
       "1  A tantalizing melange of complex flavors that ...  97 Points    $180   \n",
       "2  A joyous, extroverted Mezcal with juicy fruit ...  96 Points  $44.99   \n",
       "3  A stylish, peppery tequila with an authentic v...  96 Points     $85   \n",
       "4  A richly flavored Extra Añejo Tequila with an ...  96 Points    $250   "
      ]
     },
     "execution_count": 149,
     "metadata": {},
     "output_type": "execute_result"
    }
   ],
   "source": [
    "df = pd.read_csv('../data/main_reviews.csv', index_col=0)\n",
    "df.head()"
   ]
  },
  {
   "cell_type": "code",
   "execution_count": 7,
   "id": "parched-connection",
   "metadata": {
    "ExecuteTime": {
     "end_time": "2021-05-20T04:09:57.428660Z",
     "start_time": "2021-05-20T04:09:57.408686Z"
    }
   },
   "outputs": [
    {
     "name": "stdout",
     "output_type": "stream",
     "text": [
      "<class 'pandas.core.frame.DataFrame'>\n",
      "Int64Index: 10522 entries, 0 to 10521\n",
      "Data columns (total 17 columns):\n",
      " #   Column       Non-Null Count  Dtype \n",
      "---  ------       --------------  ----- \n",
      " 0   Name         10517 non-null  object\n",
      " 1   Description  10517 non-null  object\n",
      " 2   Category     9467 non-null   object\n",
      " 3   Country      9461 non-null   object\n",
      " 4   Alcohol_Vol  9467 non-null   object\n",
      " 5   Review       9467 non-null   object\n",
      " 6   Style        9406 non-null   object\n",
      " 7   Aroma        9429 non-null   object\n",
      " 8   Flavor       9427 non-null   object\n",
      " 9   Sweetness    6927 non-null   object\n",
      " 10  Bitterness   473 non-null    object\n",
      " 11  Enjoy        9429 non-null   object\n",
      " 12  Pairing      7171 non-null   object\n",
      " 13  Cocktails    1643 non-null   object\n",
      " 14  Bottom_Line  9467 non-null   object\n",
      " 15  Points       7949 non-null   object\n",
      " 16  Price        8579 non-null   object\n",
      "dtypes: object(17)\n",
      "memory usage: 1.4+ MB\n"
     ]
    }
   ],
   "source": [
    "df.info()"
   ]
  },
  {
   "cell_type": "markdown",
   "id": "weary-individual",
   "metadata": {},
   "source": [
    "## Review topic modeling"
   ]
  },
  {
   "cell_type": "code",
   "execution_count": 31,
   "id": "stupendous-wheel",
   "metadata": {
    "ExecuteTime": {
     "end_time": "2021-05-20T04:37:09.286395Z",
     "start_time": "2021-05-20T04:37:09.273429Z"
    }
   },
   "outputs": [],
   "source": [
    "import random\n",
    "\n",
    "random.seed(42)\n",
    "reviews = df['Review'].fillna(value='')\n"
   ]
  },
  {
   "cell_type": "code",
   "execution_count": 54,
   "id": "compassionate-vacation",
   "metadata": {
    "ExecuteTime": {
     "end_time": "2021-05-20T04:57:18.658653Z",
     "start_time": "2021-05-20T04:57:18.551548Z"
    }
   },
   "outputs": [],
   "source": [
    "#lowercase\n",
    "reviews = reviews.apply(lambda x: x.lower())\n",
    "\n",
    "#Remove puntuations\n",
    "reviews = reviews.apply(lambda x: re.sub(r'[^\\w\\s]','',x))\n",
    "\n",
    "#Remove numbers\n",
    "reviews = reviews.apply(lambda x: re.sub(r'\\d+', '', x))"
   ]
  },
  {
   "cell_type": "code",
   "execution_count": 55,
   "id": "equal-hurry",
   "metadata": {
    "ExecuteTime": {
     "end_time": "2021-05-20T04:57:21.258410Z",
     "start_time": "2021-05-20T04:57:21.239461Z"
    }
   },
   "outputs": [
    {
     "name": "stdout",
     "output_type": "stream",
     "text": [
      "silver color aromas of peach compote and green apple candy with a satiny crisp spritzy offdry light body and a smooth breezy raspberry slushie finish with no oak flavor a bright and fruity seltzerlike refresher for the summer months\n",
      "\n",
      "\n",
      "clear dark ruby color earthy aromas and flavors of shredded beet and rhubarb salad dill charcoal tomate de arbol star anise and mixed peppercorns with a satiny vibrant dry medium body and a tingling mediumlong finish that exhibits accents of marinara and toast with crunchy tannins and moderate oak flavor a savory earthy chianti with shining acidity to stand up to robust hearty meals\n",
      "\n",
      "\n",
      "straw green color aromas of pineapple mango peach diced green pepper and lanolin with a supple crisp dryyetfruity light body and a smooth brisk kiwi and lime finish with no oak flavor a crisp sauvignon blanc with refreshing notes of citrus\n",
      "\n",
      "\n",
      "deep purple color aromas and flavors of blueberry compote hints of herbs and baking spices with a supple bright dryyetfruity lighttomedium body and a sleek quick finish with light oak flavor a weeknight red for a crowd\n",
      "\n",
      "\n",
      "clear color aromas and flavors of fresh cream wet stone hints of toasty waffle and white pepper with a round crisp dry light body and an effortless mediumlength finish imparting suggestions of hints of citrus zest and almond a rich and round vodka that will be great in martinis on the rocks or any way you take it\n",
      "\n",
      "\n"
     ]
    }
   ],
   "source": [
    "for review in reviews.sample(5).values:\n",
    "    print(review)\n",
    "    print('\\n')"
   ]
  },
  {
   "cell_type": "code",
   "execution_count": 27,
   "id": "extraneous-feature",
   "metadata": {
    "ExecuteTime": {
     "end_time": "2021-05-20T04:35:09.057724Z",
     "start_time": "2021-05-20T04:35:09.050742Z"
    }
   },
   "outputs": [],
   "source": [
    "sw = ['color', 'colors', 'aroma', 'aromas', 'flavor', 'flavors']\n",
    "stop_words = ENGLISH_STOP_WORDS.union(sw)"
   ]
  },
  {
   "cell_type": "code",
   "execution_count": 24,
   "id": "playful-reserve",
   "metadata": {
    "ExecuteTime": {
     "end_time": "2021-05-20T04:23:24.739811Z",
     "start_time": "2021-05-20T04:23:24.715809Z"
    }
   },
   "outputs": [
    {
     "data": {
      "text/plain": [
       "318"
      ]
     },
     "execution_count": 24,
     "metadata": {},
     "output_type": "execute_result"
    }
   ],
   "source": [
    "len(ENGLISH_STOP_WORDS)"
   ]
  },
  {
   "cell_type": "code",
   "execution_count": 57,
   "id": "prudent-survey",
   "metadata": {
    "ExecuteTime": {
     "end_time": "2021-05-20T04:58:23.259442Z",
     "start_time": "2021-05-20T04:58:22.957131Z"
    }
   },
   "outputs": [],
   "source": [
    "tfidf = TfidfVectorizer(stop_words=stop_words)\n",
    "\n",
    "reviews_matrix = tfidf.fit_transform(reviews)\n",
    "\n",
    "vocabs = tfidf.get_feature_names()"
   ]
  },
  {
   "cell_type": "code",
   "execution_count": 60,
   "id": "raw-milk",
   "metadata": {
    "ExecuteTime": {
     "end_time": "2021-05-20T05:03:27.899030Z",
     "start_time": "2021-05-20T05:03:27.887061Z"
    }
   },
   "outputs": [],
   "source": [
    "def display_topics(model, feature_names, no_top_words, topic_names=None):\n",
    "    for ix, topic in enumerate(model.components_):\n",
    "        if not topic_names or not topic_names[ix]:\n",
    "            print(\"\\nTopic \", ix)\n",
    "        else:\n",
    "            print(\"\\nTopic: '\",topic_names[ix],\"'\")\n",
    "        print(\", \".join([feature_names[i]\n",
    "                        for i in topic.argsort()[:-no_top_words - 1:-1]]))"
   ]
  },
  {
   "cell_type": "markdown",
   "id": "vigorous-fee",
   "metadata": {},
   "source": [
    "### NMF"
   ]
  },
  {
   "cell_type": "code",
   "execution_count": 59,
   "id": "fluid-mention",
   "metadata": {
    "ExecuteTime": {
     "end_time": "2021-05-20T04:59:41.727638Z",
     "start_time": "2021-05-20T04:59:41.001547Z"
    }
   },
   "outputs": [
    {
     "data": {
      "text/plain": [
       "NMF(n_components=10)"
      ]
     },
     "execution_count": 59,
     "metadata": {},
     "output_type": "execute_result"
    }
   ],
   "source": [
    "nmf = NMF(n_components=10)\n",
    "\n",
    "nmf.fit(reviews_matrix)"
   ]
  },
  {
   "cell_type": "code",
   "execution_count": 62,
   "id": "hollow-description",
   "metadata": {
    "ExecuteTime": {
     "end_time": "2021-05-20T05:06:47.975938Z",
     "start_time": "2021-05-20T05:06:47.936056Z"
    }
   },
   "outputs": [],
   "source": [
    "reviews_matrix = nmf.transform(reviews_matrix)"
   ]
  },
  {
   "cell_type": "code",
   "execution_count": 68,
   "id": "Spanish-engineer",
   "metadata": {
    "ExecuteTime": {
     "end_time": "2021-05-20T05:14:00.314641Z",
     "start_time": "2021-05-20T05:14:00.278730Z"
    }
   },
   "outputs": [
    {
     "data": {
      "text/html": [
       "<div>\n",
       "<style scoped>\n",
       "    .dataframe tbody tr th:only-of-type {\n",
       "        vertical-align: middle;\n",
       "    }\n",
       "\n",
       "    .dataframe tbody tr th {\n",
       "        vertical-align: top;\n",
       "    }\n",
       "\n",
       "    .dataframe thead th {\n",
       "        text-align: right;\n",
       "    }\n",
       "</style>\n",
       "<table border=\"1\" class=\"dataframe\">\n",
       "  <thead>\n",
       "    <tr style=\"text-align: right;\">\n",
       "      <th></th>\n",
       "      <th>topic_0</th>\n",
       "      <th>topic_1</th>\n",
       "      <th>topic_2</th>\n",
       "      <th>topic_3</th>\n",
       "      <th>topic_4</th>\n",
       "      <th>topic_5</th>\n",
       "      <th>topic_6</th>\n",
       "      <th>topic_7</th>\n",
       "      <th>topic_8</th>\n",
       "      <th>topic_9</th>\n",
       "      <th>Review</th>\n",
       "    </tr>\n",
       "  </thead>\n",
       "  <tbody>\n",
       "    <tr>\n",
       "      <th>0</th>\n",
       "      <td>0.000000</td>\n",
       "      <td>0.021830</td>\n",
       "      <td>0.016173</td>\n",
       "      <td>0.031777</td>\n",
       "      <td>0.000000</td>\n",
       "      <td>0.013539</td>\n",
       "      <td>0.036207</td>\n",
       "      <td>0.000000</td>\n",
       "      <td>0.000000</td>\n",
       "      <td>0.000000</td>\n",
       "      <td>clear color aromas and flavors of cucumber mel...</td>\n",
       "    </tr>\n",
       "    <tr>\n",
       "      <th>1</th>\n",
       "      <td>0.000000</td>\n",
       "      <td>0.010161</td>\n",
       "      <td>0.024188</td>\n",
       "      <td>0.064934</td>\n",
       "      <td>0.000000</td>\n",
       "      <td>0.018172</td>\n",
       "      <td>0.022767</td>\n",
       "      <td>0.007691</td>\n",
       "      <td>0.000000</td>\n",
       "      <td>0.000000</td>\n",
       "      <td>gold color inviting aromas of roasted nuts can...</td>\n",
       "    </tr>\n",
       "    <tr>\n",
       "      <th>2</th>\n",
       "      <td>0.000000</td>\n",
       "      <td>0.004899</td>\n",
       "      <td>0.008995</td>\n",
       "      <td>0.014389</td>\n",
       "      <td>0.020789</td>\n",
       "      <td>0.080346</td>\n",
       "      <td>0.000000</td>\n",
       "      <td>0.010406</td>\n",
       "      <td>0.000000</td>\n",
       "      <td>0.000742</td>\n",
       "      <td>silvery straw color citrusy aromas and flavors...</td>\n",
       "    </tr>\n",
       "    <tr>\n",
       "      <th>3</th>\n",
       "      <td>0.006673</td>\n",
       "      <td>0.011876</td>\n",
       "      <td>0.000000</td>\n",
       "      <td>0.043415</td>\n",
       "      <td>0.000000</td>\n",
       "      <td>0.020694</td>\n",
       "      <td>0.047288</td>\n",
       "      <td>0.000000</td>\n",
       "      <td>0.000000</td>\n",
       "      <td>0.021299</td>\n",
       "      <td>straw color inviting aromas and flavors of hon...</td>\n",
       "    </tr>\n",
       "    <tr>\n",
       "      <th>4</th>\n",
       "      <td>0.000000</td>\n",
       "      <td>0.002528</td>\n",
       "      <td>0.001464</td>\n",
       "      <td>0.074491</td>\n",
       "      <td>0.000000</td>\n",
       "      <td>0.004351</td>\n",
       "      <td>0.007705</td>\n",
       "      <td>0.003336</td>\n",
       "      <td>0.000000</td>\n",
       "      <td>0.000000</td>\n",
       "      <td>amber color aromas of toffee coated popcorn pe...</td>\n",
       "    </tr>\n",
       "    <tr>\n",
       "      <th>5</th>\n",
       "      <td>0.000000</td>\n",
       "      <td>0.000000</td>\n",
       "      <td>0.000000</td>\n",
       "      <td>0.044555</td>\n",
       "      <td>0.006012</td>\n",
       "      <td>0.015866</td>\n",
       "      <td>0.012878</td>\n",
       "      <td>0.038094</td>\n",
       "      <td>0.000000</td>\n",
       "      <td>0.000000</td>\n",
       "      <td>clear color savory aromas and flavors of marin...</td>\n",
       "    </tr>\n",
       "    <tr>\n",
       "      <th>6</th>\n",
       "      <td>0.000000</td>\n",
       "      <td>0.000000</td>\n",
       "      <td>0.007281</td>\n",
       "      <td>0.041471</td>\n",
       "      <td>0.000000</td>\n",
       "      <td>0.003735</td>\n",
       "      <td>0.042928</td>\n",
       "      <td>0.021372</td>\n",
       "      <td>0.000000</td>\n",
       "      <td>0.000000</td>\n",
       "      <td>clear color savory aromas of sweet chili sauce...</td>\n",
       "    </tr>\n",
       "    <tr>\n",
       "      <th>7</th>\n",
       "      <td>0.011994</td>\n",
       "      <td>0.002214</td>\n",
       "      <td>0.000000</td>\n",
       "      <td>0.026669</td>\n",
       "      <td>0.000000</td>\n",
       "      <td>0.008058</td>\n",
       "      <td>0.014487</td>\n",
       "      <td>0.032559</td>\n",
       "      <td>0.000000</td>\n",
       "      <td>0.000000</td>\n",
       "      <td>straw yellow color savory aromas and flavors o...</td>\n",
       "    </tr>\n",
       "    <tr>\n",
       "      <th>8</th>\n",
       "      <td>0.000000</td>\n",
       "      <td>0.000000</td>\n",
       "      <td>0.000000</td>\n",
       "      <td>0.103402</td>\n",
       "      <td>0.005427</td>\n",
       "      <td>0.003685</td>\n",
       "      <td>0.000000</td>\n",
       "      <td>0.000000</td>\n",
       "      <td>0.095582</td>\n",
       "      <td>0.000000</td>\n",
       "      <td>amber color aromas of molasses roasted figs ho...</td>\n",
       "    </tr>\n",
       "    <tr>\n",
       "      <th>9</th>\n",
       "      <td>0.007789</td>\n",
       "      <td>0.010556</td>\n",
       "      <td>0.000000</td>\n",
       "      <td>0.033585</td>\n",
       "      <td>0.027265</td>\n",
       "      <td>0.010337</td>\n",
       "      <td>0.023823</td>\n",
       "      <td>0.000688</td>\n",
       "      <td>0.000000</td>\n",
       "      <td>0.000000</td>\n",
       "      <td>clear color aromas of sweet tea gunpowder gril...</td>\n",
       "    </tr>\n",
       "  </tbody>\n",
       "</table>\n",
       "</div>"
      ],
      "text/plain": [
       "    topic_0   topic_1   topic_2   topic_3   topic_4   topic_5   topic_6  \\\n",
       "0  0.000000  0.021830  0.016173  0.031777  0.000000  0.013539  0.036207   \n",
       "1  0.000000  0.010161  0.024188  0.064934  0.000000  0.018172  0.022767   \n",
       "2  0.000000  0.004899  0.008995  0.014389  0.020789  0.080346  0.000000   \n",
       "3  0.006673  0.011876  0.000000  0.043415  0.000000  0.020694  0.047288   \n",
       "4  0.000000  0.002528  0.001464  0.074491  0.000000  0.004351  0.007705   \n",
       "5  0.000000  0.000000  0.000000  0.044555  0.006012  0.015866  0.012878   \n",
       "6  0.000000  0.000000  0.007281  0.041471  0.000000  0.003735  0.042928   \n",
       "7  0.011994  0.002214  0.000000  0.026669  0.000000  0.008058  0.014487   \n",
       "8  0.000000  0.000000  0.000000  0.103402  0.005427  0.003685  0.000000   \n",
       "9  0.007789  0.010556  0.000000  0.033585  0.027265  0.010337  0.023823   \n",
       "\n",
       "    topic_7   topic_8   topic_9  \\\n",
       "0  0.000000  0.000000  0.000000   \n",
       "1  0.007691  0.000000  0.000000   \n",
       "2  0.010406  0.000000  0.000742   \n",
       "3  0.000000  0.000000  0.021299   \n",
       "4  0.003336  0.000000  0.000000   \n",
       "5  0.038094  0.000000  0.000000   \n",
       "6  0.021372  0.000000  0.000000   \n",
       "7  0.032559  0.000000  0.000000   \n",
       "8  0.000000  0.095582  0.000000   \n",
       "9  0.000688  0.000000  0.000000   \n",
       "\n",
       "                                              Review  \n",
       "0  clear color aromas and flavors of cucumber mel...  \n",
       "1  gold color inviting aromas of roasted nuts can...  \n",
       "2  silvery straw color citrusy aromas and flavors...  \n",
       "3  straw color inviting aromas and flavors of hon...  \n",
       "4  amber color aromas of toffee coated popcorn pe...  \n",
       "5  clear color savory aromas and flavors of marin...  \n",
       "6  clear color savory aromas of sweet chili sauce...  \n",
       "7  straw yellow color savory aromas and flavors o...  \n",
       "8  amber color aromas of molasses roasted figs ho...  \n",
       "9  clear color aromas of sweet tea gunpowder gril...  "
      ]
     },
     "execution_count": 68,
     "metadata": {},
     "output_type": "execute_result"
    }
   ],
   "source": [
    "reviews_df = pd.DataFrame(reviews_matrix).add_prefix('topic_')\n",
    "reviews_df['Review'] = reviews\n",
    "reviews_df.head(10)"
   ]
  },
  {
   "cell_type": "code",
   "execution_count": 72,
   "id": "finished-raise",
   "metadata": {
    "ExecuteTime": {
     "end_time": "2021-05-20T05:15:44.111857Z",
     "start_time": "2021-05-20T05:15:44.086962Z"
    }
   },
   "outputs": [
    {
     "data": {
      "text/html": [
       "<div>\n",
       "<style scoped>\n",
       "    .dataframe tbody tr th:only-of-type {\n",
       "        vertical-align: middle;\n",
       "    }\n",
       "\n",
       "    .dataframe tbody tr th {\n",
       "        vertical-align: top;\n",
       "    }\n",
       "\n",
       "    .dataframe thead th {\n",
       "        text-align: right;\n",
       "    }\n",
       "</style>\n",
       "<table border=\"1\" class=\"dataframe\">\n",
       "  <thead>\n",
       "    <tr style=\"text-align: right;\">\n",
       "      <th></th>\n",
       "      <th>topic_0</th>\n",
       "      <th>topic_1</th>\n",
       "      <th>topic_2</th>\n",
       "      <th>topic_3</th>\n",
       "      <th>topic_4</th>\n",
       "      <th>topic_5</th>\n",
       "      <th>topic_6</th>\n",
       "      <th>topic_7</th>\n",
       "      <th>topic_8</th>\n",
       "      <th>topic_9</th>\n",
       "    </tr>\n",
       "  </thead>\n",
       "  <tbody>\n",
       "    <tr>\n",
       "      <th>abbey</th>\n",
       "      <td>0.00013</td>\n",
       "      <td>0.00000</td>\n",
       "      <td>0.00079</td>\n",
       "      <td>0.00116</td>\n",
       "      <td>0.00000</td>\n",
       "      <td>0.00000</td>\n",
       "      <td>0.00000</td>\n",
       "      <td>0.00000</td>\n",
       "      <td>0.00000</td>\n",
       "      <td>0.0000</td>\n",
       "    </tr>\n",
       "    <tr>\n",
       "      <th>ability</th>\n",
       "      <td>0.00000</td>\n",
       "      <td>0.00133</td>\n",
       "      <td>0.00000</td>\n",
       "      <td>0.00000</td>\n",
       "      <td>0.00000</td>\n",
       "      <td>0.00023</td>\n",
       "      <td>0.00000</td>\n",
       "      <td>0.00043</td>\n",
       "      <td>0.00000</td>\n",
       "      <td>0.0000</td>\n",
       "    </tr>\n",
       "    <tr>\n",
       "      <th>abound</th>\n",
       "      <td>0.00000</td>\n",
       "      <td>0.00038</td>\n",
       "      <td>0.01823</td>\n",
       "      <td>0.00000</td>\n",
       "      <td>0.00000</td>\n",
       "      <td>0.00000</td>\n",
       "      <td>0.00000</td>\n",
       "      <td>0.00186</td>\n",
       "      <td>0.00000</td>\n",
       "      <td>0.0000</td>\n",
       "    </tr>\n",
       "    <tr>\n",
       "      <th>abounding</th>\n",
       "      <td>0.00000</td>\n",
       "      <td>0.00154</td>\n",
       "      <td>0.00000</td>\n",
       "      <td>0.00000</td>\n",
       "      <td>0.00000</td>\n",
       "      <td>0.00005</td>\n",
       "      <td>0.00000</td>\n",
       "      <td>0.00120</td>\n",
       "      <td>0.00000</td>\n",
       "      <td>0.0000</td>\n",
       "    </tr>\n",
       "    <tr>\n",
       "      <th>absinthe</th>\n",
       "      <td>0.00000</td>\n",
       "      <td>0.00250</td>\n",
       "      <td>0.00000</td>\n",
       "      <td>0.00227</td>\n",
       "      <td>0.00101</td>\n",
       "      <td>0.00009</td>\n",
       "      <td>0.00472</td>\n",
       "      <td>0.00000</td>\n",
       "      <td>0.00000</td>\n",
       "      <td>0.0000</td>\n",
       "    </tr>\n",
       "    <tr>\n",
       "      <th>absolute</th>\n",
       "      <td>0.00000</td>\n",
       "      <td>0.00000</td>\n",
       "      <td>0.00000</td>\n",
       "      <td>0.00059</td>\n",
       "      <td>0.00000</td>\n",
       "      <td>0.00087</td>\n",
       "      <td>0.00260</td>\n",
       "      <td>0.00303</td>\n",
       "      <td>0.00592</td>\n",
       "      <td>0.0066</td>\n",
       "    </tr>\n",
       "    <tr>\n",
       "      <th>absolutely</th>\n",
       "      <td>0.00000</td>\n",
       "      <td>0.00312</td>\n",
       "      <td>0.00227</td>\n",
       "      <td>0.00816</td>\n",
       "      <td>0.00000</td>\n",
       "      <td>0.00000</td>\n",
       "      <td>0.00376</td>\n",
       "      <td>0.00008</td>\n",
       "      <td>0.00000</td>\n",
       "      <td>0.0000</td>\n",
       "    </tr>\n",
       "    <tr>\n",
       "      <th>abstain</th>\n",
       "      <td>0.00000</td>\n",
       "      <td>0.00000</td>\n",
       "      <td>0.00000</td>\n",
       "      <td>0.00214</td>\n",
       "      <td>0.00106</td>\n",
       "      <td>0.00000</td>\n",
       "      <td>0.00000</td>\n",
       "      <td>0.00000</td>\n",
       "      <td>0.00053</td>\n",
       "      <td>0.0000</td>\n",
       "    </tr>\n",
       "    <tr>\n",
       "      <th>absurdly</th>\n",
       "      <td>0.00000</td>\n",
       "      <td>0.00000</td>\n",
       "      <td>0.00000</td>\n",
       "      <td>0.00381</td>\n",
       "      <td>0.00000</td>\n",
       "      <td>0.00000</td>\n",
       "      <td>0.00338</td>\n",
       "      <td>0.00000</td>\n",
       "      <td>0.00000</td>\n",
       "      <td>0.0000</td>\n",
       "    </tr>\n",
       "    <tr>\n",
       "      <th>abv</th>\n",
       "      <td>0.00000</td>\n",
       "      <td>0.00000</td>\n",
       "      <td>0.00000</td>\n",
       "      <td>0.00488</td>\n",
       "      <td>0.00063</td>\n",
       "      <td>0.00042</td>\n",
       "      <td>0.00000</td>\n",
       "      <td>0.00000</td>\n",
       "      <td>0.00000</td>\n",
       "      <td>0.0000</td>\n",
       "    </tr>\n",
       "  </tbody>\n",
       "</table>\n",
       "</div>"
      ],
      "text/plain": [
       "            topic_0  topic_1  topic_2  topic_3  topic_4  topic_5  topic_6  \\\n",
       "abbey       0.00013  0.00000  0.00079  0.00116  0.00000  0.00000  0.00000   \n",
       "ability     0.00000  0.00133  0.00000  0.00000  0.00000  0.00023  0.00000   \n",
       "abound      0.00000  0.00038  0.01823  0.00000  0.00000  0.00000  0.00000   \n",
       "abounding   0.00000  0.00154  0.00000  0.00000  0.00000  0.00005  0.00000   \n",
       "absinthe    0.00000  0.00250  0.00000  0.00227  0.00101  0.00009  0.00472   \n",
       "absolute    0.00000  0.00000  0.00000  0.00059  0.00000  0.00087  0.00260   \n",
       "absolutely  0.00000  0.00312  0.00227  0.00816  0.00000  0.00000  0.00376   \n",
       "abstain     0.00000  0.00000  0.00000  0.00214  0.00106  0.00000  0.00000   \n",
       "absurdly    0.00000  0.00000  0.00000  0.00381  0.00000  0.00000  0.00338   \n",
       "abv         0.00000  0.00000  0.00000  0.00488  0.00063  0.00042  0.00000   \n",
       "\n",
       "            topic_7  topic_8  topic_9  \n",
       "abbey       0.00000  0.00000   0.0000  \n",
       "ability     0.00043  0.00000   0.0000  \n",
       "abound      0.00186  0.00000   0.0000  \n",
       "abounding   0.00120  0.00000   0.0000  \n",
       "absinthe    0.00000  0.00000   0.0000  \n",
       "absolute    0.00303  0.00592   0.0066  \n",
       "absolutely  0.00008  0.00000   0.0000  \n",
       "abstain     0.00000  0.00053   0.0000  \n",
       "absurdly    0.00000  0.00000   0.0000  \n",
       "abv         0.00000  0.00000   0.0000  "
      ]
     },
     "execution_count": 72,
     "metadata": {},
     "output_type": "execute_result"
    }
   ],
   "source": [
    "reviews_word_df = pd.DataFrame(nmf.components_.round(5), columns=vocabs).T.add_prefix('topic_')\n",
    "\n",
    "reviews_word_df.head(10)"
   ]
  },
  {
   "cell_type": "code",
   "execution_count": 78,
   "id": "boring-storage",
   "metadata": {
    "ExecuteTime": {
     "end_time": "2021-05-20T05:21:37.652122Z",
     "start_time": "2021-05-20T05:21:37.630165Z"
    }
   },
   "outputs": [
    {
     "name": "stdout",
     "output_type": "stream",
     "text": [
      "\n",
      "Topic  0\n",
      "chardonnay, apple, straw, yellow, pineapple, golden, oak, lighttomedium, lemon, apples\n",
      "\n",
      "Topic  1\n",
      "black, moderate, plum, violet, tannins, oak, vibrant, cabernet, tea, mediumfull\n",
      "\n",
      "Topic  2\n",
      "fruity, mediumlength, satiny, juicy, raspberry, jam, crisp, smooth, ripe, berry\n",
      "\n",
      "Topic  3\n",
      "amber, caramel, finish, complex, mediumlong, whiskey, cocktails, warming, long, spicy\n",
      "\n",
      "Topic  4\n",
      "light, supple, dryish, brisk, crisp, dry, soft, smooth, finish, quaffer\n",
      "\n",
      "Topic  5\n",
      "green, straw, white, blanc, sauvignon, fresh, lime, grapefruit, emerald, ripe\n",
      "\n",
      "Topic  6\n",
      "sweet, peach, moderately, spritzy, wine, orange, candies, moscato, candied, fun\n",
      "\n",
      "Topic  7\n",
      "dusty, garnet, dried, cherry, nuts, tannins, ruby, medium, pinot, roasted\n",
      "\n",
      "Topic  8\n",
      "chewy, slightly, moderate, purple, deep, mediumtofull, tannins, oak, oaky, crisp\n",
      "\n",
      "Topic  9\n",
      "pink, strawberry, coral, watermelon, rose, rosé, candies, cherry, pale, steely\n"
     ]
    }
   ],
   "source": [
    "display_topics(nmf, vocabs, 10)"
   ]
  },
  {
   "cell_type": "markdown",
   "id": "weary-rent",
   "metadata": {},
   "source": [
    "### Topic exploration"
   ]
  },
  {
   "cell_type": "markdown",
   "id": "putrid-author",
   "metadata": {},
   "source": [
    "#### Topic_0"
   ]
  },
  {
   "cell_type": "code",
   "execution_count": 74,
   "id": "serene-supermarket",
   "metadata": {
    "ExecuteTime": {
     "end_time": "2021-05-20T05:18:19.551922Z",
     "start_time": "2021-05-20T05:18:19.539953Z"
    }
   },
   "outputs": [
    {
     "name": "stdout",
     "output_type": "stream",
     "text": [
      "golden yellow color inviting aromas and flavors of toasted parker dinner rolls with lemon curd pineapple custard and hints of clove with a satiny lively dryyetfruity lighttomedium body and an even charming mediumlong finish with notes of honeycrisp apple and lemon spritz with wellintegrated coating tannins and moderate oak flavor a nicely balanced chardonnay with bright acidity and toasty oak\n",
      "\n",
      "\n",
      "golden yellow color inviting aromas and flavors of toasted parker dinner rolls with lemon curd pineapple custard and hints of clove with a satiny lively dryyetfruity lighttomedium body and an even charming mediumlong finish with notes of honeycrisp apple and lemon spritz with wellintegrated coating tannins and moderate oak flavor a nicely balanced chardonnay with bright acidity and toasty oak\n",
      "\n",
      "\n",
      "golden yellow color aromas of apple pie buttery croissant and roasted pineapple with a bright dryyetfruity lighttomedium body and a silky mediumlength toasty oak caramelcoated popcorn and coconut cream finish with moderate oak flavor a solid oaky chardonnay with a nice sense of balance\n",
      "\n",
      "\n",
      "yellow straw color aromas of baked apple phyllo pastry buttercream dried pineapple and dried sage with a satiny soft dryyetfruity lighttomedium body and a smooth buoyant vanilla cream finish with a suggestion of oak flavor an easydrinking chardonnay with toasty notes of pastry and baked apple\n",
      "\n",
      "\n",
      "golden straw color aromas and flavors of roasted pineapple and nuts honeyed apples cornpops and apple butter with a supple bright dryyetfruity medium body and a smooth delightful buoyant finish with notes of apple nut tart and pineapple custard with a suggestion of oak flavor a wellbalanced flavorful chardonnay that is sure to please\n",
      "\n",
      "\n",
      "yellow straw color aromas and flavors of buttered corn bread toasty apple pastry baked peach and oak with a velvety crisp dryish lighttomedium body and a sleek mediumlength finish conveying nuances of pineapple with no oak flavor a highly pairable chardonnay with big oak great acidity and juicy fruit\n",
      "\n",
      "\n",
      "yellow straw color aromas and flavors of buttered corn bread toasty apple pastry baked peach and oak with a velvety crisp dryish lighttomedium body and a sleek mediumlength finish conveying nuances of pineapple with no oak flavor a highly pairable chardonnay with big oak great acidity and juicy fruit\n",
      "\n",
      "\n",
      "golden straw color aromas and flavors of brioche pineapple preserves and honey with a satiny crisp fruity lighttomedium body and a smooth mediumlength finish manifesting notes of pineapple pastry and hints of peach with moderate oak flavor a juicy fruity chardonnay with toasty nuance\n",
      "\n",
      "\n",
      "bright golden yellow color fruity aromas and flavors of toast with apple butter pineapple smoothie hints of peach pie and honey with a silky dryyetfruity light body and a breezy finish with light oak flavor a silky fruity chardonnay for everyday pleasure\n",
      "\n",
      "\n",
      "bright golden yellow color fruity aromas and flavors of toast with apple butter pineapple smoothie hints of peach pie and honey with a silky dryyetfruity light body and a breezy finish with light oak flavor a silky fruity chardonnay for everyday pleasure\n",
      "\n",
      "\n"
     ]
    }
   ],
   "source": [
    "for review in reviews_df.sort_values(by='topic_0', ascending=False).head(10)['Review'].values:\n",
    "    print(review)\n",
    "    print('\\n')"
   ]
  },
  {
   "cell_type": "code",
   "execution_count": 84,
   "id": "muted-actor",
   "metadata": {
    "ExecuteTime": {
     "end_time": "2021-05-20T05:22:59.472984Z",
     "start_time": "2021-05-20T05:22:59.466003Z"
    }
   },
   "outputs": [
    {
     "data": {
      "text/plain": [
       "chardonnay       1.42657\n",
       "apple            1.24264\n",
       "straw            1.20751\n",
       "yellow           1.20349\n",
       "pineapple        1.17456\n",
       "golden           1.16401\n",
       "oak              0.72121\n",
       "lighttomedium    0.65939\n",
       "lemon            0.63541\n",
       "apples           0.52804\n",
       "Name: topic_0, dtype: float64"
      ]
     },
     "execution_count": 84,
     "metadata": {},
     "output_type": "execute_result"
    }
   ],
   "source": [
    "reviews_word_df.sort_values(by='topic_0', ascending=False).head(10).topic_0"
   ]
  },
  {
   "cell_type": "markdown",
   "id": "fabulous-review",
   "metadata": {},
   "source": [
    "**This is topic about Chardonnay white wine**"
   ]
  },
  {
   "cell_type": "markdown",
   "id": "barren-craft",
   "metadata": {},
   "source": [
    "#### Topic_1"
   ]
  },
  {
   "cell_type": "code",
   "execution_count": 85,
   "id": "fast-ticket",
   "metadata": {
    "ExecuteTime": {
     "end_time": "2021-05-20T05:25:39.276003Z",
     "start_time": "2021-05-20T05:25:39.256057Z"
    }
   },
   "outputs": [
    {
     "name": "stdout",
     "output_type": "stream",
     "text": [
      "black violet color aromas of plum tart with vanilla meringue latte menthol and raspberry with a silky crisp fruity medium body and a smooth breezy dark chocolate with almonds black licorice and black tea finish with medium tannins and moderate oak flavor a solid merlot that will round out a meal\n",
      "\n",
      "\n",
      "black garnet color aromas of black currant apple pastry leather sarsaparilla and dark chocolate with a round vibrant fruity mediumtofull body and a warming interesting mediumlong black licorice balsamic reduction and espresso finish with wellintegrated tannins and moderate oak flavor a delicious and fresh cabernet with wellintegrated flavors and tannins highly recommended\n",
      "\n",
      "\n",
      "garnet black color inviting aromas of ripe plum black licorice black tea eucalyptus honey and peony with a lightly tannic vibrant dry mediumtofull body and a refreshing mediumlong dark chocolate with almonds blueberry jam and toasty crepes finish with drying tannins and moderate oak flavor a dry complex cabernet that will open up beautifully with food potential for improvement in the cellar\n",
      "\n",
      "\n",
      "garnet black color inviting aromas of ripe plum black licorice black tea eucalyptus honey and peony with a lightly tannic vibrant dry mediumtofull body and a refreshing mediumlong dark chocolate with almonds blueberry jam and toasty crepes finish with drying tannins and moderate oak flavor a dry complex cabernet that will open up beautifully with food potential for improvement in the cellar\n",
      "\n",
      "\n",
      "black violet color aromas and flavors of fine leather dried cassis peony petals and black licorice with a slightly chewy vibrant dryish mediumfull body and a warming interesting mediumlong finish with notes of black pepper rosemary and ground espresso with firm tannins and moderate oak flavor a rich and concentrated cabernet with firm tannins and cellarworthy style\n",
      "\n",
      "\n",
      "black garnet color aromas and flavors of ripe cherry rosemary black olive tobacco and cured meats with a satiny vibrant dryyetfruity full body and a smooth complex long finish with notes of blueberry black plum graphite and black tea with silky wellintegrated tannins and moderate oak flavor a complex cabernet with fantastic structure beautifully integrated tannins make for a memorable wine with excellent cellarability\n",
      "\n",
      "\n",
      "black violet color aromas of black olives buttercream ripe raspberry carob and herbal tea with a velvety crisp dryyetfruity light body and a tingling interesting mediumlong bacon sugared plums and black pepper finish with wellintegrated tannins and heavy oak flavor a bold and smoky cabernet sauvignon with a savory balance\n",
      "\n",
      "\n",
      "black violet color aromas of black olives buttercream ripe raspberry carob and herbal tea with a velvety crisp dryyetfruity light body and a tingling interesting mediumlong bacon sugared plums and black pepper finish with wellintegrated tannins and heavy oak flavor a bold and smoky cabernet sauvignon with a savory balance\n",
      "\n",
      "\n",
      "ruby black color aromas and flavors of oregano bell pepper caper berries cracked black pepper violet and clove with a satiny crisp dryish mediumtofull body and a smooth complex long finish evoking notes of plum black tea with cream and cornichons with wellintegrated silky tannins and heavy oak flavor a lovely wellintegrated cabernet with great balance and style\n",
      "\n",
      "\n",
      "ruby black color aromas and flavors of oregano bell pepper caper berries cracked black pepper violet and clove with a satiny crisp dryish mediumtofull body and a smooth complex long finish evoking notes of plum black tea with cream and cornichons with wellintegrated silky tannins and heavy oak flavor a lovely wellintegrated cabernet with great balance and style\n",
      "\n",
      "\n"
     ]
    },
    {
     "data": {
      "text/plain": [
       "black         1.80789\n",
       "moderate      0.63169\n",
       "plum          0.52964\n",
       "violet        0.52919\n",
       "tannins       0.48140\n",
       "oak           0.47689\n",
       "vibrant       0.46841\n",
       "cabernet      0.44094\n",
       "tea           0.41839\n",
       "mediumfull    0.40946\n",
       "Name: topic_1, dtype: float64"
      ]
     },
     "execution_count": 85,
     "metadata": {},
     "output_type": "execute_result"
    }
   ],
   "source": [
    "for review in reviews_df.sort_values(by='topic_1', ascending=False).head(10)['Review'].values:\n",
    "    print(review)\n",
    "    print('\\n')\n",
    "reviews_word_df.sort_values(by='topic_1', ascending=False).head(10).topic_1"
   ]
  },
  {
   "cell_type": "markdown",
   "id": "sinful-talk",
   "metadata": {},
   "source": [
    "black -> red wine, plum -> sweet, cabernet -> of course cabernet. This is likely about **sweet Cabernet or Merlot**"
   ]
  },
  {
   "cell_type": "markdown",
   "id": "enormous-sense",
   "metadata": {},
   "source": [
    "#### Topic_2"
   ]
  },
  {
   "cell_type": "code",
   "execution_count": 90,
   "id": "stained-power",
   "metadata": {
    "ExecuteTime": {
     "end_time": "2021-05-20T05:31:00.876097Z",
     "start_time": "2021-05-20T05:31:00.861137Z"
    }
   },
   "outputs": [
    {
     "name": "stdout",
     "output_type": "stream",
     "text": [
      "dark ruby color fruity aromas of fruit punch raspberry cobbler and cola with a supple crisp fruity lighttomedium body and a smooth breezy finish with moderate oak flavor a fruity easydrinking red that will be a hit\n",
      "\n",
      "\n",
      "dark ruby color fruity aromas of fruit punch raspberry cobbler and cola with a supple crisp fruity lighttomedium body and a smooth breezy finish with moderate oak flavor a fruity easydrinking red that will be a hit\n",
      "\n",
      "\n",
      "dark ruby color fruity aromas of fruit punch raspberry cobbler and cola with a supple crisp fruity lighttomedium body and a smooth breezy finish with moderate oak flavor a fruity easydrinking red that will be a hit\n",
      "\n",
      "\n",
      "dark ruby color fruity aromas of fruit punch raspberry cobbler and cola with a supple crisp fruity lighttomedium body and a smooth breezy finish with moderate oak flavor a fruity easydrinking red that will be a hit\n",
      "\n",
      "\n",
      "ruby color fruity aromas of raspberry jam chocolate cake eucalyptus and orange marmalade with a satiny crisp fruity lighttomedium body and a seamless mediumlength white chocolate ganache finish a fresh fruity grenache with wide appeal\n",
      "\n",
      "\n",
      "dark ruby color fruity aromas and flavors of fruit punch raspberry cobbler and cola with a supple crisp fruity lighttomedium body and a graceful relaxed finish with moderate oak flavor a fruity easydrinking red that will be a hit\n",
      "\n",
      "\n",
      "black ruby color fruity aromas and flavors of raspberry jam vanilla candle hints of tropical fruit and hibiscus tea with a silky crisp fruity lighttomedium body and an effortless breezy finish with a suggestion of oak flavor a juicy red pleaser\n",
      "\n",
      "\n",
      "black ruby color fruity aromas and flavors of raspberry jam vanilla candle hints of tropical fruit and hibiscus tea with a silky crisp fruity lighttomedium body and an effortless breezy finish with a suggestion of oak flavor a juicy red pleaser\n",
      "\n",
      "\n",
      "deep purple color fruity aromas of cherry punch and mixed berry pie with a slightly chewy crisp fruity mediumtofull body and a smooth shorttomedium vanilla custard and tobacco finish with light oak flavor a fruity oaky melange\n",
      "\n",
      "\n",
      "deep purple color aromas and flavors of mixed berry jam blackberry sorbet tobacco cherry candle and peach melba with a satiny bright fruity medium body and a mediumlength finish with medium tannins and moderate oak flavor a fruity oaky pleaser for weeknight sipping\n",
      "\n",
      "\n"
     ]
    },
    {
     "data": {
      "text/plain": [
       "fruity          2.17641\n",
       "mediumlength    0.59582\n",
       "satiny          0.59083\n",
       "juicy           0.49978\n",
       "raspberry       0.44226\n",
       "jam             0.43401\n",
       "crisp           0.42762\n",
       "smooth          0.40914\n",
       "ripe            0.34904\n",
       "berry           0.29829\n",
       "Name: topic_2, dtype: float64"
      ]
     },
     "execution_count": 90,
     "metadata": {},
     "output_type": "execute_result"
    }
   ],
   "source": [
    "for review in reviews_df.sort_values(by='topic_2', ascending=False).head(10)['Review'].values:\n",
    "    print(review)\n",
    "    print('\\n')\n",
    "reviews_word_df.sort_values(by='topic_2', ascending=False).head(10).topic_2"
   ]
  },
  {
   "cell_type": "markdown",
   "id": "icy-cable",
   "metadata": {},
   "source": [
    "Some fruity wine, probably **Merlot** or **Pinot Noir**, both of which are delicious with red meat (ribs, steak). :)"
   ]
  },
  {
   "cell_type": "markdown",
   "id": "specific-gear",
   "metadata": {},
   "source": [
    "#### Topic_3"
   ]
  },
  {
   "cell_type": "code",
   "execution_count": 89,
   "id": "disfigured-window",
   "metadata": {
    "ExecuteTime": {
     "end_time": "2021-05-20T05:29:14.013883Z",
     "start_time": "2021-05-20T05:29:13.990972Z"
    }
   },
   "outputs": [
    {
     "name": "stdout",
     "output_type": "stream",
     "text": [
      "gold color aromas of coffee cake honey butter and caramel with a satiny crisp dryish lighttomedium body and a warming interesting mediumlong dark toasted whole grain bread sweet roasted corn toffee candied walnut and caramelized banana finish a toasty roasty irish whiskey that warms the palate\n",
      "\n",
      "\n",
      "gold color aromas of coffee cake honey butter and caramel with a satiny crisp dryish lighttomedium body and a warming interesting mediumlong dark toasted whole grain bread sweet roasted corn toffee candied walnut and caramelized banana finish a toasty roasty irish whiskey that warms the palate\n",
      "\n",
      "\n",
      "amber color aromas and flavors of winter spice cookies spice drops peach cobbler stroopwafel herbal tea and toasted peanuts with a velvety vibrant dryish medium body and a warming complex mediumlong finish that shows notes of caramel gelato sarsaparilla and coconut a distinctive and slightly herbal bourbon whiskey that delivers rich complexity\n",
      "\n",
      "\n",
      "amber color aromas and flavors of winter spice cookies spice drops peach cobbler stroopwafel herbal tea and toasted peanuts with a velvety vibrant dryish medium body and a warming complex mediumlong finish that shows notes of caramel gelato sarsaparilla and coconut a distinctive and slightly herbal bourbon whiskey that delivers rich complexity\n",
      "\n",
      "\n",
      "gold color aromas of toasted coconut spiced rice pudding roasted apricot and candied orange with a round lively dryish mediumtofull body and a peppery complex long dark chocolate covered almonds clove tobacco raisins mint tea and lemon pepper finish a bold irish single pot still whiskey with a sweet melange of spices and dried fruits\n",
      "\n",
      "\n",
      "gold color aromas of toasted coconut spiced rice pudding roasted apricot and candied orange with a round lively dryish mediumtofull body and a peppery complex long dark chocolate covered almonds clove tobacco raisins mint tea and lemon pepper finish a bold irish single pot still whiskey with a sweet melange of spices and dried fruits\n",
      "\n",
      "\n",
      "amber color aromas and flavors of spiced orange tea banana custard pecan praline and caramel on peanuts with a satiny vibrant dryyetfruity medium body and an effortless complex mediumlong finish with notes of cinnamonraisin cookies chocolatedipped pretzels and nougat a delicious concentrated nutty bourbon that will play well in stirred cocktails\n",
      "\n",
      "\n",
      "amber color aromas and flavors of spiced orange tea banana custard pecan praline and caramel on peanuts with a satiny vibrant dryyetfruity medium body and an effortless complex mediumlong finish with notes of cinnamonraisin cookies chocolatedipped pretzels and nougat a delicious concentrated nutty bourbon that will play well in stirred cocktails\n",
      "\n",
      "\n",
      "golden amber color aromas and flavors of salted peanuts in caramel fresh nougat kettle corn black tea coconut cream roasted walnuts and milk chocolate with a satiny crisp dryyetfruity medium body and a tingling interesting mediumlong finish with accents of dried cherry bananas foster and licorice finish a rocksolid classic bourbon with great versatility\n",
      "\n",
      "\n",
      "golden amber color aromas of hay carob dark chocolate and pumpernickel crisps with a satiny vibrant dryish medium body and a peppery interesting mediumlength cracked pepper fresh tarragon caraway butterscotch and toasted sesame finish a complex and peppery rye whiskey with great herbal character\n",
      "\n",
      "\n"
     ]
    },
    {
     "data": {
      "text/plain": [
       "amber         0.79109\n",
       "caramel       0.52603\n",
       "finish        0.47911\n",
       "complex       0.46655\n",
       "mediumlong    0.45073\n",
       "whiskey       0.39468\n",
       "cocktails     0.39443\n",
       "warming       0.39111\n",
       "long          0.38472\n",
       "spicy         0.38302\n",
       "Name: topic_3, dtype: float64"
      ]
     },
     "execution_count": 89,
     "metadata": {},
     "output_type": "execute_result"
    }
   ],
   "source": [
    "for review in reviews_df.sort_values(by='topic_3', ascending=False).head(10)['Review'].values:\n",
    "    print(review)\n",
    "    print('\\n')\n",
    "reviews_word_df.sort_values(by='topic_3', ascending=False).head(10).topic_3"
   ]
  },
  {
   "cell_type": "markdown",
   "id": "avaricious-complaint",
   "metadata": {},
   "source": [
    "caramel, whiskey -> **bourbon whiskey** (likely)"
   ]
  },
  {
   "cell_type": "markdown",
   "id": "lazy-event",
   "metadata": {},
   "source": [
    "#### Topic_4"
   ]
  },
  {
   "cell_type": "code",
   "execution_count": 91,
   "id": "chilly-necessary",
   "metadata": {
    "ExecuteTime": {
     "end_time": "2021-05-20T05:34:15.243432Z",
     "start_time": "2021-05-20T05:34:15.222488Z"
    }
   },
   "outputs": [
    {
     "name": "stdout",
     "output_type": "stream",
     "text": [
      "golden straw color aromas of dried apples cream and jute with a supple bright dry light body and a smooth brisk pickled apricot finish with light oak flavor a light chardonnay to serve with a good chill\n",
      "\n",
      "\n",
      "pale golden straw color aroma of golden apples with a supple bright dryyetfruity light body and an even brisk lemon spritz finish with no oak flavor a light juicy quaffer for simple sipping\n",
      "\n",
      "\n",
      "pale golden straw color aroma of golden apples with a supple bright dryyetfruity light body and an even brisk lemon spritz finish with no oak flavor a light juicy quaffer for simple sipping\n",
      "\n",
      "\n",
      "pale straw color aromas and flavors of apples and bananas with a supple bright dryish light body and a sleek brisk finish with no oak flavor an easy white quaffer for everyday indulging\n",
      "\n",
      "\n",
      "straw color aromas and flavors of lemon rind underripe apple and buttered toast with a lean soft dry light body and a seamless brisk finish with no oak flavor a simple soft quaffer\n",
      "\n",
      "\n",
      "light gold color aromas of peach jam on crumpet with a crisp spritzy dryish light body and a smooth breezy melon rind and apple jelly finish a dry foodfriendly cider for the table\n",
      "\n",
      "\n",
      "pale straw color aromas of golden apple compote with a supple crisp dryish light body and a graceful brisk hints of lemon zest herbs and lime peel finish with no oak flavor an effortless pinot grigio that refreshes the palate\n",
      "\n",
      "\n",
      "straw color aromas and flavors of dried pear and lavender with a supple crisp dry light body and a polished fast finish that shows impressions of lime and minerals with no oak flavor a crisp dry quaffer for anytime sipping\n",
      "\n",
      "\n",
      "straw color aromas and flavors of dried pear and lavender with a supple crisp dry light body and a polished fast finish that shows impressions of lime and minerals with no oak flavor a crisp dry quaffer for anytime sipping\n",
      "\n",
      "\n",
      "light gold color aromas of lemon tea honeycomb honeysuckle eucalyptus and apple with a supple soft dryish lighttomedium body and a smooth brisk parchment and balsa wood finish an easydrinking quaffer to serve wellchilled\n",
      "\n",
      "\n"
     ]
    },
    {
     "data": {
      "text/plain": [
       "light      1.59102\n",
       "supple     0.94643\n",
       "dryish     0.72080\n",
       "brisk      0.68982\n",
       "crisp      0.62614\n",
       "dry        0.52932\n",
       "soft       0.48783\n",
       "smooth     0.47322\n",
       "finish     0.41457\n",
       "quaffer    0.39784\n",
       "Name: topic_4, dtype: float64"
      ]
     },
     "execution_count": 91,
     "metadata": {},
     "output_type": "execute_result"
    }
   ],
   "source": [
    "for review in reviews_df.sort_values(by='topic_4', ascending=False).head(10)['Review'].values:\n",
    "    print(review)\n",
    "    print('\\n')\n",
    "reviews_word_df.sort_values(by='topic_4', ascending=False).head(10).topic_4"
   ]
  },
  {
   "cell_type": "markdown",
   "id": "corny-pie",
   "metadata": {},
   "source": [
    "#### Topic_5"
   ]
  },
  {
   "cell_type": "code",
   "execution_count": 92,
   "id": "angelic-house",
   "metadata": {
    "ExecuteTime": {
     "end_time": "2021-05-20T05:35:32.295656Z",
     "start_time": "2021-05-20T05:35:32.277704Z"
    }
   },
   "outputs": [
    {
     "name": "stdout",
     "output_type": "stream",
     "text": [
      "white gold color fruity aromas and flavors of ripe kiwi fresh green bell pepper white grapefruit zest and white pepper with a satiny vibrant dryyetfruity lighttomedium body and a smooth delightful mediumlength finish with notes of guava and lime spritz with no oak flavor a juicy intense sauvignon blanc that hits every note\n",
      "\n",
      "\n",
      "white gold color fruity aromas and flavors of ripe kiwi fresh green bell pepper white grapefruit zest and white pepper with a satiny vibrant dryyetfruity lighttomedium body and a smooth delightful mediumlength finish with notes of guava and lime spritz with no oak flavor a juicy intense sauvignon blanc that hits every note\n",
      "\n",
      "\n",
      "straw green color aromas of dill pickles yellow tomato green pepper and white grapefruit with a satiny crisp dryyetfruity lighttomedium body and a sleek mediumlength lime and green apple finish an herbal savory sauvignon blanc for pairing\n",
      "\n",
      "\n",
      "pale straw green color aromas of lemon meringue lime and apple jelly with a satiny vibrant dry lighttomedium body and a polished intriguing mediumlength tangy white grapefruit and fresh green beans finish with no oak flavor a crisp and savory sauvignon blanc to pair with the salad course\n",
      "\n",
      "\n",
      "silvery emerald straw color aromas of lime ginger ripe peach white grapefruit and roasted yellow pepper with a satiny vibrant dryish light body and a sleek engaging mediumlength passion fruit and cilantro finish a classic juicy marlborough sauvignon blanc that hits the spot\n",
      "\n",
      "\n",
      "silvery emerald straw color aromas of lime ginger ripe peach white grapefruit and roasted yellow pepper with a satiny vibrant dryish light body and a sleek engaging mediumlength passion fruit and cilantro finish a classic juicy marlborough sauvignon blanc that hits the spot\n",
      "\n",
      "\n",
      "straw green color aromas and flavors of honey white blossoms and pears in cream with a satiny crisp dryish lighttomedium body and a smooth mediumlength finish conveying accents of white grapefruit with no oak flavor a concentrated yet restrained sauvignon blanc\n",
      "\n",
      "\n",
      "straw green color aromas and flavors of honey white blossoms and pears in cream with a satiny crisp dryish lighttomedium body and a smooth mediumlength finish conveying accents of white grapefruit with no oak flavor a concentrated yet restrained sauvignon blanc\n",
      "\n",
      "\n",
      "emerald straw color aromas and flavors of green gooseberry ripe starfruit baked peach finger lime and fresh cream with a satiny vibrant fruity lighttomedium body and a silky refreshing mediumlength finish revealing overtones of grapefruit jam and pepper jelly with no oak flavor a bright and fruity sauvignon blanc with refreshing grassy character\n",
      "\n",
      "\n",
      "pale golden straw color citrusy aromas of white grapefruit pith diced kiwi in cream geranium green peppercorn and green apple candies with a satiny vibrant dryyetfruity lighttomedium body and a captivating mediumlength limestone lime leaf and lime flesh finish with no oak flavor a crisp and citrusforward sauvignon blanc\n",
      "\n",
      "\n"
     ]
    },
    {
     "data": {
      "text/plain": [
       "green         0.83085\n",
       "straw         0.81478\n",
       "white         0.80287\n",
       "blanc         0.75718\n",
       "sauvignon     0.70799\n",
       "fresh         0.66620\n",
       "lime          0.63959\n",
       "grapefruit    0.59357\n",
       "emerald       0.52999\n",
       "ripe          0.39243\n",
       "Name: topic_5, dtype: float64"
      ]
     },
     "execution_count": 92,
     "metadata": {},
     "output_type": "execute_result"
    }
   ],
   "source": [
    "for review in reviews_df.sort_values(by='topic_5', ascending=False).head(10)['Review'].values:\n",
    "    print(review)\n",
    "    print('\\n')\n",
    "reviews_word_df.sort_values(by='topic_5', ascending=False).head(10).topic_5"
   ]
  },
  {
   "cell_type": "code",
   "execution_count": null,
   "id": "friendly-studio",
   "metadata": {},
   "outputs": [],
   "source": []
  },
  {
   "cell_type": "code",
   "execution_count": 96,
   "id": "standard-campaign",
   "metadata": {
    "ExecuteTime": {
     "end_time": "2021-05-20T05:37:16.266676Z",
     "start_time": "2021-05-20T05:37:16.248724Z"
    }
   },
   "outputs": [
    {
     "name": "stdout",
     "output_type": "stream",
     "text": [
      "bright pink coral color aromas of underripe raspberry crisp pink apples and fresh herbs with a silky vibrant dryyetfruity lighttomedium body and a smooth mediumlength summer watermelon sliced strawberry pink peppercorn and blood orange finish a tasty and bright rose sparkler with much to love\n",
      "\n",
      "\n",
      "pink coral color aromas and flavors of ripe strawberry and watermelon candies with a satiny crisp offdry light body and an even brisk finish with no oak flavor an offdry simple but tasty rosé with big notes of watermelon candy\n",
      "\n",
      "\n",
      "pink coral color aromas and flavors of ripe strawberry and watermelon candies with a satiny crisp offdry light body and an even brisk finish with no oak flavor an offdry simple but tasty rosé with big notes of watermelon candy\n",
      "\n",
      "\n",
      "pale pink coral color aromas and flavors of blood orange marmalade and ripe strawberry with a satiny crisp effervescent dryish lighttomedium body and a polished breezy finish conveying accents of pink grapefruit with no oak flavor a simple slightly sparkling rosé that refreshes\n",
      "\n",
      "\n",
      "pale pink coral color aromas and flavors of blood orange marmalade and ripe strawberry with a satiny crisp effervescent dryish lighttomedium body and a polished breezy finish conveying accents of pink grapefruit with no oak flavor a simple slightly sparkling rosé that refreshes\n",
      "\n",
      "\n",
      "pink coral color aromas and flavors of watermelon candies cherry yogurt and white strawberry with a supple crisp dryish light body and a smooth breezy finish with no oak flavor a solid crisp rosé with a mild flavor profile\n",
      "\n",
      "\n",
      "light pink coral color aromas and flavors of red cherries fresh strawberry pink lady apple and watermelon candy with a supple bright dry lighttomedium body and a tingling delightful mediumlength finish with accents of pink grapefruit peel meyer lemon raspberry and strawberry preserves with no oak flavor a rich yet nuanced washington rosé that puts you in a provence state of mind\n",
      "\n",
      "\n",
      "pink coral color sweet aromas of strawberry jam hints of fresh herbs peach candies and dried orange with a satiny vibrant dryyetfruity light body and a smooth interesting mediumlength berry tea and pink grapefruit finish with no oak flavor a bright and juicy rosé that checks all the boxes\n",
      "\n",
      "\n",
      "pink coral color sweet aromas of strawberry jam hints of fresh herbs peach candies and dried orange with a satiny vibrant dryyetfruity light body and a smooth interesting mediumlength berry tea and pink grapefruit finish with no oak flavor a bright and juicy rosé that checks all the boxes\n",
      "\n",
      "\n",
      "pink coral color aromas of watermelon candy and raspberry jam with a supple crisp offdry lighttomedium body and an even mediumlength cherry lollipop and bubblegum finish with no oak flavor an offdry rosé with lots of friendly fruit flavor\n",
      "\n",
      "\n"
     ]
    },
    {
     "data": {
      "text/plain": [
       "pink          1.62542\n",
       "strawberry    1.25313\n",
       "coral         1.08119\n",
       "watermelon    0.84722\n",
       "rose          0.79200\n",
       "rosé          0.70421\n",
       "candies       0.41166\n",
       "cherry        0.37282\n",
       "pale          0.35508\n",
       "steely        0.31160\n",
       "Name: topic_9, dtype: float64"
      ]
     },
     "execution_count": 96,
     "metadata": {},
     "output_type": "execute_result"
    }
   ],
   "source": [
    "for review in reviews_df.sort_values(by='topic_9', ascending=False).head(10)['Review'].values:\n",
    "    print(review)\n",
    "    print('\\n')\n",
    "reviews_word_df.sort_values(by='topic_9', ascending=False).head(10).topic_9"
   ]
  },
  {
   "cell_type": "code",
   "execution_count": null,
   "id": "secondary-lab",
   "metadata": {},
   "outputs": [],
   "source": []
  },
  {
   "cell_type": "markdown",
   "id": "educated-wave",
   "metadata": {},
   "source": [
    "## Description topic modeling"
   ]
  },
  {
   "cell_type": "code",
   "execution_count": 102,
   "id": "dependable-major",
   "metadata": {
    "ExecuteTime": {
     "end_time": "2021-05-20T05:47:30.669735Z",
     "start_time": "2021-05-20T05:47:30.661728Z"
    }
   },
   "outputs": [],
   "source": [
    "def text_cleaning(texts):\n",
    "    #lowercase\n",
    "    texts = texts.apply(lambda x: x.lower())\n",
    "\n",
    "    #Remove puntuations\n",
    "    texts = texts.apply(lambda x: re.sub(r'[^\\w\\s]','',x))\n",
    "\n",
    "    #Remove numbers\n",
    "    texts = texts.apply(lambda x: re.sub(r'\\d+', '', x))\n",
    "    \n",
    "    return texts"
   ]
  },
  {
   "cell_type": "code",
   "execution_count": 106,
   "id": "back-ability",
   "metadata": {
    "ExecuteTime": {
     "end_time": "2021-05-20T05:48:22.354566Z",
     "start_time": "2021-05-20T05:48:22.168022Z"
    }
   },
   "outputs": [],
   "source": []
  },
  {
   "cell_type": "code",
   "execution_count": 107,
   "id": "wee-crack",
   "metadata": {
    "ExecuteTime": {
     "end_time": "2021-05-20T05:48:42.961726Z",
     "start_time": "2021-05-20T05:48:42.246602Z"
    }
   },
   "outputs": [],
   "source": [
    "descriptions = df['Description'].fillna('')\n",
    "\n",
    "descriptions = text_cleaning(descriptions)\n",
    "\n",
    "tfidf_des = TfidfVectorizer(stop_words=stop_words)\n",
    "\n",
    "des_matrix = tfidf_des.fit_transform(descriptions)\n",
    "\n",
    "vocabs_des = tfidf_des.get_feature_names()"
   ]
  },
  {
   "cell_type": "code",
   "execution_count": 110,
   "id": "honorable-stock",
   "metadata": {
    "ExecuteTime": {
     "end_time": "2021-05-20T05:50:37.961561Z",
     "start_time": "2021-05-20T05:50:36.742818Z"
    }
   },
   "outputs": [
    {
     "data": {
      "text/html": [
       "<div>\n",
       "<style scoped>\n",
       "    .dataframe tbody tr th:only-of-type {\n",
       "        vertical-align: middle;\n",
       "    }\n",
       "\n",
       "    .dataframe tbody tr th {\n",
       "        vertical-align: top;\n",
       "    }\n",
       "\n",
       "    .dataframe thead th {\n",
       "        text-align: right;\n",
       "    }\n",
       "</style>\n",
       "<table border=\"1\" class=\"dataframe\">\n",
       "  <thead>\n",
       "    <tr style=\"text-align: right;\">\n",
       "      <th></th>\n",
       "      <th>topic_0</th>\n",
       "      <th>topic_1</th>\n",
       "      <th>topic_2</th>\n",
       "      <th>topic_3</th>\n",
       "      <th>topic_4</th>\n",
       "      <th>topic_5</th>\n",
       "      <th>topic_6</th>\n",
       "      <th>topic_7</th>\n",
       "      <th>topic_8</th>\n",
       "      <th>topic_9</th>\n",
       "      <th>Description</th>\n",
       "    </tr>\n",
       "  </thead>\n",
       "  <tbody>\n",
       "    <tr>\n",
       "      <th>0</th>\n",
       "      <td>0.006417</td>\n",
       "      <td>0.050884</td>\n",
       "      <td>0.012315</td>\n",
       "      <td>0.000000</td>\n",
       "      <td>0.001946</td>\n",
       "      <td>0.000000</td>\n",
       "      <td>0.000000</td>\n",
       "      <td>0.000000</td>\n",
       "      <td>0.000005</td>\n",
       "      <td>0.000000</td>\n",
       "      <td>mezcal de leyendas review verde san luis potos...</td>\n",
       "    </tr>\n",
       "    <tr>\n",
       "      <th>1</th>\n",
       "      <td>0.005488</td>\n",
       "      <td>0.079571</td>\n",
       "      <td>0.009753</td>\n",
       "      <td>0.000000</td>\n",
       "      <td>0.000000</td>\n",
       "      <td>0.000000</td>\n",
       "      <td>0.000000</td>\n",
       "      <td>0.000000</td>\n",
       "      <td>0.000000</td>\n",
       "      <td>0.000000</td>\n",
       "      <td>el tesoro review paradiso tequila extra anejo ...</td>\n",
       "    </tr>\n",
       "    <tr>\n",
       "      <th>2</th>\n",
       "      <td>0.001282</td>\n",
       "      <td>0.049880</td>\n",
       "      <td>0.006791</td>\n",
       "      <td>0.000426</td>\n",
       "      <td>0.000814</td>\n",
       "      <td>0.001663</td>\n",
       "      <td>0.005806</td>\n",
       "      <td>0.002435</td>\n",
       "      <td>0.001770</td>\n",
       "      <td>0.001045</td>\n",
       "      <td>peloton de la muerte review vegan pechuga mezc...</td>\n",
       "    </tr>\n",
       "    <tr>\n",
       "      <th>3</th>\n",
       "      <td>0.013598</td>\n",
       "      <td>0.083110</td>\n",
       "      <td>0.000000</td>\n",
       "      <td>0.000000</td>\n",
       "      <td>0.002207</td>\n",
       "      <td>0.000000</td>\n",
       "      <td>0.000000</td>\n",
       "      <td>0.000000</td>\n",
       "      <td>0.000000</td>\n",
       "      <td>0.000000</td>\n",
       "      <td>el tesoro review anejo tequila mexico mexican ...</td>\n",
       "    </tr>\n",
       "    <tr>\n",
       "      <th>4</th>\n",
       "      <td>0.002395</td>\n",
       "      <td>0.082996</td>\n",
       "      <td>0.001859</td>\n",
       "      <td>0.000000</td>\n",
       "      <td>0.000000</td>\n",
       "      <td>0.000000</td>\n",
       "      <td>0.000000</td>\n",
       "      <td>0.000000</td>\n",
       "      <td>0.000000</td>\n",
       "      <td>0.000000</td>\n",
       "      <td>review milenio extra anejo tequila mexico mex...</td>\n",
       "    </tr>\n",
       "    <tr>\n",
       "      <th>5</th>\n",
       "      <td>0.004167</td>\n",
       "      <td>0.070128</td>\n",
       "      <td>0.002724</td>\n",
       "      <td>0.000000</td>\n",
       "      <td>0.002153</td>\n",
       "      <td>0.000000</td>\n",
       "      <td>0.000133</td>\n",
       "      <td>0.000000</td>\n",
       "      <td>0.002887</td>\n",
       "      <td>0.000000</td>\n",
       "      <td>el tesoro review blanco tequila mexico mexican...</td>\n",
       "    </tr>\n",
       "    <tr>\n",
       "      <th>6</th>\n",
       "      <td>0.007579</td>\n",
       "      <td>0.051696</td>\n",
       "      <td>0.008574</td>\n",
       "      <td>0.000000</td>\n",
       "      <td>0.000248</td>\n",
       "      <td>0.000000</td>\n",
       "      <td>0.000000</td>\n",
       "      <td>0.000000</td>\n",
       "      <td>0.000561</td>\n",
       "      <td>0.000000</td>\n",
       "      <td>mezcal de leyendas review cenizo durango mezca...</td>\n",
       "    </tr>\n",
       "    <tr>\n",
       "      <th>7</th>\n",
       "      <td>0.003630</td>\n",
       "      <td>0.060784</td>\n",
       "      <td>0.010256</td>\n",
       "      <td>0.000000</td>\n",
       "      <td>0.002320</td>\n",
       "      <td>0.000000</td>\n",
       "      <td>0.000000</td>\n",
       "      <td>0.000000</td>\n",
       "      <td>0.001095</td>\n",
       "      <td>0.000000</td>\n",
       "      <td>el tesoro review extra anejo tequila mexico me...</td>\n",
       "    </tr>\n",
       "    <tr>\n",
       "      <th>8</th>\n",
       "      <td>0.000000</td>\n",
       "      <td>0.086471</td>\n",
       "      <td>0.004573</td>\n",
       "      <td>0.000000</td>\n",
       "      <td>0.000000</td>\n",
       "      <td>0.000000</td>\n",
       "      <td>0.000000</td>\n",
       "      <td>0.000000</td>\n",
       "      <td>0.002098</td>\n",
       "      <td>0.000000</td>\n",
       "      <td>jose cuervo review reserva de la familia extra...</td>\n",
       "    </tr>\n",
       "    <tr>\n",
       "      <th>9</th>\n",
       "      <td>0.009842</td>\n",
       "      <td>0.050570</td>\n",
       "      <td>0.000000</td>\n",
       "      <td>0.000000</td>\n",
       "      <td>0.001770</td>\n",
       "      <td>0.000000</td>\n",
       "      <td>0.000000</td>\n",
       "      <td>0.000000</td>\n",
       "      <td>0.000000</td>\n",
       "      <td>0.030330</td>\n",
       "      <td>montelobos review ensamble joven mezcal mexico...</td>\n",
       "    </tr>\n",
       "  </tbody>\n",
       "</table>\n",
       "</div>"
      ],
      "text/plain": [
       "    topic_0   topic_1   topic_2   topic_3   topic_4   topic_5   topic_6  \\\n",
       "0  0.006417  0.050884  0.012315  0.000000  0.001946  0.000000  0.000000   \n",
       "1  0.005488  0.079571  0.009753  0.000000  0.000000  0.000000  0.000000   \n",
       "2  0.001282  0.049880  0.006791  0.000426  0.000814  0.001663  0.005806   \n",
       "3  0.013598  0.083110  0.000000  0.000000  0.002207  0.000000  0.000000   \n",
       "4  0.002395  0.082996  0.001859  0.000000  0.000000  0.000000  0.000000   \n",
       "5  0.004167  0.070128  0.002724  0.000000  0.002153  0.000000  0.000133   \n",
       "6  0.007579  0.051696  0.008574  0.000000  0.000248  0.000000  0.000000   \n",
       "7  0.003630  0.060784  0.010256  0.000000  0.002320  0.000000  0.000000   \n",
       "8  0.000000  0.086471  0.004573  0.000000  0.000000  0.000000  0.000000   \n",
       "9  0.009842  0.050570  0.000000  0.000000  0.001770  0.000000  0.000000   \n",
       "\n",
       "    topic_7   topic_8   topic_9  \\\n",
       "0  0.000000  0.000005  0.000000   \n",
       "1  0.000000  0.000000  0.000000   \n",
       "2  0.002435  0.001770  0.001045   \n",
       "3  0.000000  0.000000  0.000000   \n",
       "4  0.000000  0.000000  0.000000   \n",
       "5  0.000000  0.002887  0.000000   \n",
       "6  0.000000  0.000561  0.000000   \n",
       "7  0.000000  0.001095  0.000000   \n",
       "8  0.000000  0.002098  0.000000   \n",
       "9  0.000000  0.000000  0.030330   \n",
       "\n",
       "                                         Description  \n",
       "0  mezcal de leyendas review verde san luis potos...  \n",
       "1  el tesoro review paradiso tequila extra anejo ...  \n",
       "2  peloton de la muerte review vegan pechuga mezc...  \n",
       "3  el tesoro review anejo tequila mexico mexican ...  \n",
       "4   review milenio extra anejo tequila mexico mex...  \n",
       "5  el tesoro review blanco tequila mexico mexican...  \n",
       "6  mezcal de leyendas review cenizo durango mezca...  \n",
       "7  el tesoro review extra anejo tequila mexico me...  \n",
       "8  jose cuervo review reserva de la familia extra...  \n",
       "9  montelobos review ensamble joven mezcal mexico...  "
      ]
     },
     "execution_count": 110,
     "metadata": {},
     "output_type": "execute_result"
    }
   ],
   "source": [
    "nmf = NMF(n_components=10)\n",
    "\n",
    "nmf.fit(des_matrix)\n",
    "\n",
    "des_matrix = nmf.transform(des_matrix)\n",
    "\n",
    "des_df = pd.DataFrame(des_matrix).add_prefix('topic_')\n",
    "des_df['Description'] = descriptions\n",
    "des_df.head(10)"
   ]
  },
  {
   "cell_type": "code",
   "execution_count": null,
   "id": "rash-tennis",
   "metadata": {},
   "outputs": [],
   "source": []
  },
  {
   "cell_type": "markdown",
   "id": "leading-climate",
   "metadata": {},
   "source": [
    "#### Topic_0"
   ]
  },
  {
   "cell_type": "code",
   "execution_count": 111,
   "id": "muddy-lab",
   "metadata": {
    "ExecuteTime": {
     "end_time": "2021-05-20T05:52:47.930568Z",
     "start_time": "2021-05-20T05:52:47.920602Z"
    }
   },
   "outputs": [],
   "source": [
    "des_word_df = pd.DataFrame(nmf.components_.round(5), columns=vocabs_des).T.add_prefix('topic_')"
   ]
  },
  {
   "cell_type": "code",
   "execution_count": 112,
   "id": "flat-sister",
   "metadata": {
    "ExecuteTime": {
     "end_time": "2021-05-20T05:52:55.196567Z",
     "start_time": "2021-05-20T05:52:55.183603Z"
    }
   },
   "outputs": [
    {
     "name": "stdout",
     "output_type": "stream",
     "text": [
      "barefoot review moscato nv ca california usa us wine california sweet wine  sweet wine tasting note flavor description fruity crisp  lively juicy  smooth  non oaky smooth moderately sweet no oak sweet peach fondant pears in syrup and orange blossom honey same as aromas with accents of lemon candies a moscato like sweet white best enjoyed with good chill silver medal december  rating   points inexpensive price cheap low priced american eandj gallo winery\n",
      "\n",
      "\n",
      "barefoot review moscato nv ca california usa us wine california sweet wine  sweet wine tasting note flavor description fruity crisp  lively juicy  smooth  non oaky smooth moderately sweet no oak sweet peach fondant pears in syrup and orange blossom honey same as aromas with accents of lemon candies a moscato like sweet white best enjoyed with good chill silver medal december  rating   points inexpensive price cheap low priced american eandj gallo winery\n",
      "\n",
      "\n",
      "barefoot review moscato nv ca california usa us wine california sweet wine  sweet wine tasting note flavor description fruity crisp  lively juicy  smooth  non oaky smooth moderately sweet no oak sweet peach fondant pears in syrup and orange blossom honey same as aromas with overtones of lemon candies a moscato like sweet white best enjoyed with good chill silver medal august  rating   points inexpensive price cheap low priced american eandj gallo winery\n",
      "\n",
      "\n",
      "barefoot review moscato nv ca california usa us wine california sweet wine  sweet wine tasting note flavor description fruity crisp  lively juicy  smooth  non oaky smooth moderately sweet no oak sweet peach fondant pears in syrup and orange blossom honey same as aromas with overtones of lemon candies a moscato like sweet white best enjoyed with good chill silver medal august  rating   points inexpensive price cheap low priced american eandj gallo winery\n",
      "\n",
      "\n",
      "barefoot review moscato nv ca california usa us wine california sweet wine  sweet wine tasting note flavor description fruity crisp  lively juicy  smooth  non oaky smooth moderately sweet no oak sweet peach fondant pears in syrup and orange blossom honey same as aromas with suggestions of lemon candies a moscato like sweet white best enjoyed with good chill silver medal  world value wine challenge top  sweet wine  and under october  rating   points inexpensive price cheap low priced american eandj gallo winery\n",
      "\n",
      "\n",
      "barefoot review moscato nv ca california usa us wine california sweet wine  sweet wine tasting note flavor description fruity crisp  lively juicy  smooth  non oaky smooth moderately sweet no oak sweet peach fondant pears in syrup and orange blossom honey same as aromas with suggestions of lemon candies a moscato like sweet white best enjoyed with good chill silver medal  world value wine challenge top  sweet wine  and under october  rating   points inexpensive price cheap low priced american eandj gallo winery\n",
      "\n",
      "\n",
      "barefoot bubbly review pink moscato nv ca california usa us wine california sparkling sweet wine  sweet wine tasting note flavor description fruity crisp  lively  juicy  smooth smooth sweet no oak sliced watermelon honey and peach sorbet strawberry lime soda a soda like refresher for anytime quaffing bronze medal june  rating   points inexpensive price cheap low priced american eandj gallo winery\n",
      "\n",
      "\n",
      "barefoot bubbly review pink moscato nv ca california usa us wine california sparkling sweet wine  sweet wine tasting note flavor description fruity crisp  lively  juicy  smooth smooth sweet no oak sliced watermelon honey and peach sorbet strawberry lime soda a soda like refresher for anytime quaffing bronze medal april  rating   points inexpensive price cheap low priced american eandj gallo winery\n",
      "\n",
      "\n",
      "barefoot bubbly review pink moscato nv ca california usa us wine california sparkling sweet wine  sweet wine tasting note flavor description fruity crisp  lively  juicy  smooth smooth sweet no oak sliced watermelon honey and peach sorbet strawberry lime soda a soda like refresher for anytime quaffing bronze medal march  rating   points inexpensive price cheap low priced american eandj gallo winery\n",
      "\n",
      "\n",
      "barefoot review pink moscato nv ca california usa us wine california sweet wine  sweet wine tasting note flavor description crisp  lively fruity juicy  smooth non oaky  quaffable smooth moderately sweet no oak strawberry jell o and peach pastry same as aromas with notes of mixed fruit gummies an easy breezy sweet wine in summery tone bronze medal  world value wine challenge top  sweet wine  and under october  rating   points inexpensive price cheap low priced american eandj gallo winery\n",
      "\n",
      "\n"
     ]
    },
    {
     "data": {
      "text/plain": [
       "sweet          1.88108\n",
       "wine           1.33913\n",
       "california     1.14081\n",
       "moscato        1.07845\n",
       "nv             1.07539\n",
       "eandj          0.89989\n",
       "gallo          0.89866\n",
       "barefoot       0.88927\n",
       "low            0.87229\n",
       "inexpensive    0.87008\n",
       "Name: topic_0, dtype: float64"
      ]
     },
     "execution_count": 112,
     "metadata": {},
     "output_type": "execute_result"
    }
   ],
   "source": [
    "for description in des_df.sort_values(by='topic_0', ascending=False).head(10)['Description'].values:\n",
    "    print(description)\n",
    "    print('\\n')\n",
    "des_word_df.sort_values(by='topic_0', ascending=False).head(10).topic_0"
   ]
  },
  {
   "cell_type": "markdown",
   "id": "crushing-word",
   "metadata": {},
   "source": [
    "#### Topic_1"
   ]
  },
  {
   "cell_type": "code",
   "execution_count": 113,
   "id": "scholarly-author",
   "metadata": {
    "ExecuteTime": {
     "end_time": "2021-05-20T05:55:09.131750Z",
     "start_time": "2021-05-20T05:55:09.113798Z"
    }
   },
   "outputs": [
    {
     "name": "stdout",
     "output_type": "stream",
     "text": [
      "boulder review straight bourbon whiskey co colorado usa us spirits straight bourbon whiskey  whisky spirits tasting note flavor description spicy warming dry engaging cedar popcorn roasted pecan nougat and banana cake cinnamon danish a bold craft whiskey that offers tasty notes of sweet cinnamon pastry silver medal december  rating   points premium price special occasion spendy american vapor distillery liquor booze hooch dependable spirits producer dependable distillery\n",
      "\n",
      "\n",
      "capmaker review bourbon whiskey tx texas usa us spirits bourbon whiskey  whisky spirits tasting note flavor description mild warming dry cinnamon dusted pear hints of caramelized nuts dried cherry and honeycomb sourdough dulce de leche and black tea a mild bourbon that will play well in craft cocktails silver medal december  rating   points moderate price affordable economical american dynasty spirits liquor booze hooch dependable spirits producer dependable distillery\n",
      "\n",
      "\n",
      "chicken cock review kentucky straight bourbon whiskey ky kentucky usa us spirits straight bourbon whiskey  whisky spirits tasting note flavor description mild smooth dryish charming vanilla custard sweet corn buttercream honey and brown sugar molasses cookies and roasted pecans a rock solid smooth sipping bourbon that gives people what they want gold medal november  rating   points luxury price expensive high priced american grain and barrel spirits liquor booze hooch great spirits producer great distillery\n",
      "\n",
      "\n",
      "paddleford creek review bourbon whiskey mn minnesota usa us spirits bourbon whiskey  whisky spirits tasting note flavor description candied fruity  herbal tingling fruity interesting buttered grilled corn fresh caramel honey sticky rice and licorice chocolate covered toffee and herb scone a sweet friendly all american whiskey bourbon by book silver medal november  rating   points premium price special occasion spendy american distiller sales company liquor booze hooch dependable spirits producer dependable distillery\n",
      "\n",
      "\n",
      "ballotin review chocolate mint whiskey ky kentucky usa us spirits flavored whiskey  whisky spirits tasting note flavor description candied rich  spicy smooth fruity interesting spearmint caramel iced tea with honey cardamom and clove peppermint creme dark chocolate coating and spiced orange a fun spiced whiskey with lots cool weather applications gold medal january  rating   points premium price special occasion spendy american saloon spirits llc liquor booze hooch great spirits producer great distillery\n",
      "\n",
      "\n",
      "title no  review bourbon whiskey tx texas usa us spirits bourbon whiskey  whisky spirits tasting note flavor description candied  fruity warming fruity watermelon candies candy corn jasmine tea taffy and fresh pressed apple cider pound cake with jam butterscotch and black pepper a fruity and outgoing bourbon with an autumnal vibe silver medal november  rating   points premium price special occasion spendy american southwest spirits and wine liquor booze hooch dependable spirits producer dependable distillery\n",
      "\n",
      "\n",
      "hangar one review mandarin blossom flavored vodka ca california usa us spirits flavored vodka  vodka spirits tasting note flavor description fruity  herbal warming fruity pink grapefruit and hints of dried herbs same as aromas with notes of ginger a persistent grapefruit vodka with spicy herbal nuance easy to love and never too sweet silver medal march  rating   points premium price special occasion spendy american proximo spirits liquor booze hooch dependable spirits producer dependable distillery\n",
      "\n",
      "\n",
      "jim beam review single barrel straight bourbon whiskey ky kentucky usa us spirits straight bourbon whiskey  whisky spirits tasting note flavor description spirity warming dry delightful cola steamed corn sweet tea apple turnover bar nuts and damp earth spanish peanuts candy corn and caramel a warming nutty bourbon silver medal november  rating   points premium price special occasion spendy american icf next liquor booze hooch dependable spirits producer dependable distillery\n",
      "\n",
      "\n",
      "calumet farm review  year old single rack black bourbon whiskey ky kentucky usa us spirits bourbon whiskey  whisky spirits tasting note flavor description rich peppery dry yet fruity complex fresh sweet corn cherry taffy rose water orange peels and pecan pie vanilla bean salted caramel chocolate mousse and spearmint a rock solid bourbon that is perfect for an old fashioned plenty of delicate floral notes also makes this good choice for nuanced sipper gold medal november  rating   points luxury price expensive high priced american western spirits beverage company liquor booze hooch great spirits producer great distillery\n",
      "\n",
      "\n",
      "hangar one review straight american vodka ca california usa us spirits unflavored vodka  vodka spirits tasting note flavor description fruity smooth dry yet fruity compelling cream of wheat sliced bananas and hints of chocolate cream of wheat sliced bananas and hints of chocolate a fruity banana like vodka for citrusy cocktails and mixed drinks silver medal march  rating   points premium price special occasion spendy american proximo spirits liquor booze hooch dependable spirits producer dependable distillery\n",
      "\n",
      "\n"
     ]
    },
    {
     "data": {
      "text/plain": [
       "spirits       1.92816\n",
       "whiskey       0.83316\n",
       "vodka         0.77918\n",
       "liquor        0.72847\n",
       "booze         0.72089\n",
       "hooch         0.72089\n",
       "distillery    0.61057\n",
       "whisky        0.60359\n",
       "gin           0.55755\n",
       "rum           0.52025\n",
       "Name: topic_1, dtype: float64"
      ]
     },
     "execution_count": 113,
     "metadata": {},
     "output_type": "execute_result"
    }
   ],
   "source": [
    "for description in des_df.sort_values(by='topic_1', ascending=False).head(10)['Description'].values:\n",
    "    print(description)\n",
    "    print('\\n')\n",
    "des_word_df.sort_values(by='topic_1', ascending=False).head(10).topic_1"
   ]
  },
  {
   "cell_type": "markdown",
   "id": "honorable-bread",
   "metadata": {},
   "source": [
    "#### Topic_2"
   ]
  },
  {
   "cell_type": "code",
   "execution_count": 114,
   "id": "noxious-track",
   "metadata": {
    "ExecuteTime": {
     "end_time": "2021-05-20T06:01:32.105532Z",
     "start_time": "2021-05-20T06:01:32.092565Z"
    }
   },
   "outputs": [
    {
     "name": "stdout",
     "output_type": "stream",
     "text": [
      "vineyard  review cabernet sauvignon  ca california usa us wine diamond mountain napa valley cabernet sauvignon  red wine tasting note flavor description fruity juicy  smooth oaky rich  full  spicy  complex warming dry yet fruity heavy oak complex marinated beets and beans cranberry dark chocolate nutmeg and menthol fine leather chocolate gelato and plum a creamy velvety cabernet with appetizing savory elements and fruity center delicious gold medal cellar selection march  rating   points luxury price expensive high priced american vineyard  cellar selection great wine producer great winery\n",
      "\n",
      "\n",
      "crux winery review gsm red blend  ca california usa us wine russian river valley gsm blend red  red wine tasting note flavor description fruity oaky rich  full spicy  complex  juicy  smooth warming dry yet fruity moderate oak interesting red velvet cake ripe plum and cherry sorbet ripe berries sage spiced apple black tea licorice and black pepper a charming rhone varietal blend with excellent food affinity lengthy gold medal cellar selection july  rating   points premium price special occasion spendy american crux winery cellar selection great wine producer great winery\n",
      "\n",
      "\n",
      "louis m martini review cabernet sauvignon  ca california usa us wine napa valley cabernet sauvignon  red wine tasting note flavor description fruity juicy  smooth oaky rich  full  spicy  complex warming dry yet fruity moderate oak complex baked chocolate dried blueberry latte and dried herbs roasted yams black licorice tar and black olives a brooding cabernet with heady fruit dark mystery and velvety tannins gold medal cellar selection november  rating   points premium price special occasion spendy american eandj gallo winery cellar selection dependable wine producer dependable winery\n",
      "\n",
      "\n",
      "plagidos winery review cabernet merlot red blend  nj new jersey usa us wine outer coastal plain bordeaux red varietal blend  red wine tasting note flavor description fruity juicy  smooth new world  savory smooth dry yet fruity light oak compelling butter roasted nuts sappy pine and dried cherry and mint same as aromas with notes of braised spiced apple pomegranate cocoa dusted nuts and cedar a robust chewy red blend that will be great with steaks gold medal cellar selection august  rating   points premium price special occasion spendy american plagidos winery cellar selection great wine producer great winery\n",
      "\n",
      "\n",
      "great sage review cabernet sauvignon  ca california usa us wine napa valley cabernet sauvignon  red wine tasting note flavor description fruity juicy  smooth oaky rich  full  spicy  complex warming dry yet fruity moderate oak complex mixed berry tart bramble elderflower caramel latte and cocoa dusted plum same as aromas with notes of challah with butter and preserves and gingerbread a bold cabernet with bright fruit well integrated oak and great style gold medal cellar selection november  rating   points luxury price expensive high priced american great sage wines cellar selection great wine producer great winery\n",
      "\n",
      "\n",
      "freedom estate review cabernet sauvignon  ca california usa us wine napa valley cabernet sauvignon  red wine tasting note flavor description fruity juicy  smooth oaky rich  full  spicy  complex tingling dry yet fruity heavy oak intriguing dark chocolate roasted hazelnuts licorice and black tea berry jam chocolate ladyfingers espresso and toast a nuanced and well structured red that will certainly develop with cellar time gold medal cellar selection december  rating   points luxury price expensive high priced american freedom estate wine cellar selection great wine producer great winery\n",
      "\n",
      "\n",
      "proverbial review cabernet sauvignon  ca california usa us wine alexander valley cabernet sauvignon  red wine tasting note flavor description fruity juicy  smooth oaky rich  full  spicy  complex warming dryish moderate oak interesting fine leather dried cassis peony petals and black licorice same as aromas with notes of black pepper rosemary and ground espresso a rich and concentrated cabernet with firm tannins and cellar worthy style gold medal cellar selection november  rating   points moderate price affordable economical american americava wines cellar selection great wine producer great winery\n",
      "\n",
      "\n",
      "square plumb  level review cabernet sauvignon cabernet franc peterson vineyard red blend  ca california usa us wine dry creek valley bordeaux red varietal blend  red wine tasting note flavor description fruity oaky  rich  full tingling fruity moderate oak engaging red cassis spice cabinet chocolate cookies green peppercorns and sage same as aromas with notes of honey roasted nuts and olives a fruity grippy red blend from dry creek valley that hits nail on head enjoy its layers of flavor tonight gold medal cellar selection march  rating   points premium price special occasion spendy american crafted brands cellar selection great wine producer great winery\n",
      "\n",
      "\n",
      "phantom review red blend  ca california usa us wine california other us red  red wine tasting note flavor description juicy  smooth fruity oaky rich  full  spicy  complex peppery dry yet fruity heavy oak interesting vanilla black peppercorn raspberry coulis red bell pepper and star anise same as aromas with notes of ash and dr pepper a tight and spicy wine that should blossom with cellaring silver medal cellar selection march  rating   points moderate price affordable economical american bogle vineyards inc cellar selection dependable wine producer dependable winery\n",
      "\n",
      "\n",
      "hawk and horse vineyards review cabernet sauvignon block three  ca california usa us wine red hills cabernet sauvignon  red wine tasting note flavor description fruity oaky rich  full  spicy  complex warming dry yet fruity subtle red cassis cinnamon pastry and black olives smoked meats dates chocolate and licorice a slightly savory cabernet with excellent balance great steak pairing gold medal cellar selection july  rating   points luxury price expensive high priced american hawk and horse vineyards cellar selection great wine producer great winery\n",
      "\n",
      "\n"
     ]
    },
    {
     "data": {
      "text/plain": [
       "red          1.25438\n",
       "wine         1.05654\n",
       "cabernet     0.90894\n",
       "cellar       0.61606\n",
       "selection    0.56487\n",
       "fruity       0.54372\n",
       "great        0.52528\n",
       "winery       0.47673\n",
       "rich         0.47473\n",
       "blend        0.46112\n",
       "Name: topic_2, dtype: float64"
      ]
     },
     "execution_count": 114,
     "metadata": {},
     "output_type": "execute_result"
    }
   ],
   "source": [
    "for description in des_df.sort_values(by='topic_2', ascending=False).head(10)['Description'].values:\n",
    "    print(description)\n",
    "    print('\\n')\n",
    "des_word_df.sort_values(by='topic_2', ascending=False).head(10).topic_2"
   ]
  },
  {
   "cell_type": "markdown",
   "id": "inexperienced-interaction",
   "metadata": {},
   "source": [
    "#### Topic_3"
   ]
  },
  {
   "cell_type": "code",
   "execution_count": 115,
   "id": "giddy-reflection",
   "metadata": {
    "ExecuteTime": {
     "end_time": "2021-05-20T06:01:54.834421Z",
     "start_time": "2021-05-20T06:01:54.808489Z"
    }
   },
   "outputs": [
    {
     "name": "stdout",
     "output_type": "stream",
     "text": [
      "love noir review pinot noir  ca california usa us wine california pinot noir  red wine tasting note flavor description fruity juicy  smooth  oaky tingling dryish moderate oak candied cherries cranberry tart maple and french toast same as aromas with notes of charred oak an easy pinot noir for the table silver medal november  rating   points moderate price affordable economical american the wine group\n",
      "\n",
      "\n",
      "love noir review pinot noir  ca california usa us wine california pinot noir  red wine tasting note flavor description fruity juicy  smooth  oaky tingling dryish moderate oak candied cherries cranberry tart maple and french toast same as aromas with notes of charred oak an easy pinot noir for the table silver medal november  rating   points moderate price affordable economical american the wine group\n",
      "\n",
      "\n",
      "imagery estate review pinot noir  ca california usa us wine california pinot noir  red wine tasting note flavor description fruity juicy  smooth  oaky smooth fruity a suggestion of oak roasted beets walnut vinaigrette sour cherries and fresh herbs same as aromas with notes of shortcake a juicy easy drinking pinot noir for weeknight sipping bronze medal november  rating   points moderate price affordable economical american the wine group\n",
      "\n",
      "\n",
      "imagery estate review pinot noir  ca california usa us wine california pinot noir  red wine tasting note flavor description fruity juicy  smooth  oaky smooth fruity a suggestion of oak roasted beets walnut vinaigrette sour cherries and fresh herbs same as aromas with notes of shortcake a juicy easy drinking pinot noir for weeknight sipping bronze medal november  rating   points moderate price affordable economical american the wine group\n",
      "\n",
      "\n",
      "estancia review pinot noir  ca california usa us wine monterey county pinot noir  red wine tasting note flavor description fruity juicy  smooth  oaky smooth dry yet fruity light oak roasted nuts with maple syrup toasty crepes cherry cola and mocha cranberry and black tea a slightly oaky pinot noir with attractive roasty notes an easy weeknight pinot silver medal january  rating   points moderate price affordable economical american eandj gallo winery best buy best buy good value\n",
      "\n",
      "\n",
      "benziger review pinot noir  ca california usa us wine monterey county pinot noir  red wine tasting note flavor description oaky  juicy  smooth smooth dryish moderate oak intriguing spiced cherries cola caramel on gingerbread and coconut same as aromas with touches of minerals a spicy toasty pinot noir for the cooler months silver medal november  rating   points moderate price affordable economical american the wine group\n",
      "\n",
      "\n",
      "benziger review pinot noir  ca california usa us wine monterey county pinot noir  red wine tasting note flavor description oaky  juicy  smooth smooth dryish moderate oak intriguing spiced cherries cola caramel on gingerbread and coconut same as aromas with touches of minerals a spicy toasty pinot noir for the cooler months silver medal november  rating   points moderate price affordable economical american the wine group\n",
      "\n",
      "\n",
      "black box review pinot noir  ca california usa us wine california pinot noir  red wine tasting note flavor description fruity  juicy  smooth smooth dry yet fruity a suggestion of oak interesting spiced cherries sumac and cola hints of orange and clove a solid pinot noir that will play well at the table and beyond silver medal january  rating   points luxury price expensive high priced american black box wines\n",
      "\n",
      "\n",
      "bogle review pinot noir  ca california usa us wine california pinot noir  red wine tasting note flavor description fruity juicy  smooth  oaky smooth fruity moderate oak fruit punch chocolate cake and cherries in syrup toffee and roasted nuts a toasty friendly pinot noir with big notes of cherry and chocolate bronze medal july  rating   points moderate price affordable economical american bogle vineyards inc\n",
      "\n",
      "\n",
      "bogle review pinot noir  ca california usa us wine california pinot noir  red wine tasting note flavor description fruity juicy  smooth  oaky smooth fruity moderate oak fruit punch chocolate cake and cherries in syrup toffee and roasted nuts a toasty friendly pinot noir with big notes of cherry and chocolate bronze medal july  rating   points moderate price affordable economical american bogle vineyards inc\n",
      "\n",
      "\n"
     ]
    },
    {
     "data": {
      "text/plain": [
       "pinot         2.44163\n",
       "noir          1.83210\n",
       "grigio        0.81446\n",
       "wine          0.55939\n",
       "smooth        0.31023\n",
       "california    0.29649\n",
       "dependable    0.27642\n",
       "fruity        0.26485\n",
       "cherry        0.24925\n",
       "ca            0.23245\n",
       "Name: topic_3, dtype: float64"
      ]
     },
     "execution_count": 115,
     "metadata": {},
     "output_type": "execute_result"
    }
   ],
   "source": [
    "for description in des_df.sort_values(by='topic_3', ascending=False).head(10)['Description'].values:\n",
    "    print(description)\n",
    "    print('\\n')\n",
    "des_word_df.sort_values(by='topic_3', ascending=False).head(10).topic_3"
   ]
  },
  {
   "cell_type": "markdown",
   "id": "same-responsibility",
   "metadata": {},
   "source": [
    "#### Topic_6"
   ]
  },
  {
   "cell_type": "code",
   "execution_count": 116,
   "id": "acclaimed-holiday",
   "metadata": {
    "ExecuteTime": {
     "end_time": "2021-05-20T06:02:12.928007Z",
     "start_time": "2021-05-20T06:02:12.915043Z"
    }
   },
   "outputs": [
    {
     "name": "stdout",
     "output_type": "stream",
     "text": [
      "avinodos review sauvignon blanc  ca california usa us wine los carneros sauvignon blanc  white wine tasting note flavor description fruity juicy  smooth crisp  lively  non oaky smooth fruity interesting white grapefruit fresh grass cilantro and yuzu same as aromas with overtones of white peach a vibrant herbal sauvignon blanc california sauvignon blanc for marlborough drinker gold medal june  rating   points premium price special occasion spendy american avinodos wines\n",
      "\n",
      "\n",
      "kopu review sauvignon blanc  new zealand new zealand wine marlborough sauvignon blanc  white wine tasting note flavor description crisp  lively fruity juicy  smooth  non oaky smooth dry yet fruity no oak interesting golden apple passion fruit lime fresh cut grass shortcake and ripe mango same as aromas with accents of tangerine a juicy tropical and fresh sauvignon blanc that will be summer hit silver medal december  rating   points moderate price affordable economical lake road group\n",
      "\n",
      "\n",
      "kopu review sauvignon blanc  new zealand new zealand wine marlborough sauvignon blanc  white wine tasting note flavor description crisp  lively fruity juicy  smooth  non oaky smooth dry yet fruity no oak interesting golden apple passion fruit lime fresh cut grass shortcake and ripe mango same as aromas with accents of tangerine a juicy tropical and fresh sauvignon blanc that will be summer hit silver medal december  rating   points moderate price affordable economical lake road group\n",
      "\n",
      "\n",
      "starborough review sauvignon blanc  new zealand new zealand wine marlborough sauvignon blanc  white wine tasting note flavor description crisp  lively fruity  juicy  smooth smooth dryish no oak fresh gooseberry finger lime and cilantro same as aromas with overtones of sweet grapefruit white peach and underripe pineapple a cheery and bright new zealand sauvignon blanc silver medal july  rating   points moderate price affordable economical eandj gallo winery dependable wine producer dependable winery\n",
      "\n",
      "\n",
      "bonterra review sauvignon blanc nv ca california usa us wine california sauvignon blanc  white wine tasting note flavor description crisp  lively fruity juicy  smooth quaffable  non oaky smooth dry yet fruity no oak pineapple mango peach diced green pepper and lanolin kiwi and lime a crisp sauvignon blanc with refreshing notes of citrus silver medal september  rating   points luxury price expensive high priced american fetzer vineyards\n",
      "\n",
      "\n",
      "bonterra review sauvignon blanc nv ca california usa us wine california sauvignon blanc  white wine tasting note flavor description crisp  lively fruity juicy  smooth quaffable  non oaky smooth dry yet fruity no oak pineapple mango peach diced green pepper and lanolin kiwi and lime a crisp sauvignon blanc with refreshing notes of citrus silver medal september  rating   points luxury price expensive high priced american fetzer vineyards\n",
      "\n",
      "\n",
      "chloe review sauvignon blanc  new zealand new zealand wine marlborough sauvignon blanc  white wine tasting note flavor description juicy  smooth smooth dry no oak ripe kiwi gooseberry fresh radish and wheat grass grapefruit sorbet and green tea a dry refreshing sauvignon blanc in an understated style gold medal july  rating   points moderate price affordable economical the wine group best buy best buy good value\n",
      "\n",
      "\n",
      "chloe review sauvignon blanc  new zealand new zealand wine marlborough sauvignon blanc  white wine tasting note flavor description juicy  smooth smooth dry no oak ripe kiwi gooseberry fresh radish and wheat grass grapefruit sorbet and green tea a dry refreshing sauvignon blanc in an understated style gold medal july  rating   points moderate price affordable economical the wine group best buy best buy good value\n",
      "\n",
      "\n",
      "line  review sauvignon blanc  ca california usa us wine california sauvignon blanc  white wine tasting note flavor description fruity  juicy  smooth smooth dry yet fruity no oak apple apricot banana lime spritz and asparagus same as aromas with accents of passion fruit an easy sauvignon blanc quaffer bronze medal march  rating   points moderate price affordable economical american oneill vintners and distillers\n",
      "\n",
      "\n",
      "overstone review sauvignon blanc  new zealand new zealand wine marlborough sauvignon blanc  white wine tasting note flavor description crisp  lively fruity  juicy  smooth smooth dry yet fruity no oak captivating ripe kiwi fresh green bell pepper white grapefruit zest and white pepper same as aromas with notes of guava and lime spritz a juicy intense sauvignon blanc that hits every note silver medal december  rating   points moderate price affordable economical prestige beverage group best buy best buy good value\n",
      "\n",
      "\n"
     ]
    },
    {
     "data": {
      "text/plain": [
       "sauvignon     2.52890\n",
       "blanc         2.40032\n",
       "cabernet      0.87054\n",
       "white         0.79049\n",
       "wine          0.59202\n",
       "zealand       0.58436\n",
       "crisp         0.44835\n",
       "new           0.42702\n",
       "lively        0.40363\n",
       "grapefruit    0.39766\n",
       "Name: topic_6, dtype: float64"
      ]
     },
     "execution_count": 116,
     "metadata": {},
     "output_type": "execute_result"
    }
   ],
   "source": [
    "for description in des_df.sort_values(by='topic_6', ascending=False).head(10)['Description'].values:\n",
    "    print(description)\n",
    "    print('\\n')\n",
    "des_word_df.sort_values(by='topic_6', ascending=False).head(10).topic_6"
   ]
  },
  {
   "cell_type": "markdown",
   "id": "optimistic-category",
   "metadata": {},
   "source": [
    "#### Topic_8"
   ]
  },
  {
   "cell_type": "code",
   "execution_count": 118,
   "id": "plastic-theme",
   "metadata": {
    "ExecuteTime": {
     "end_time": "2021-05-20T06:02:31.818995Z",
     "start_time": "2021-05-20T06:02:31.796083Z"
    }
   },
   "outputs": [
    {
     "name": "stdout",
     "output_type": "stream",
     "text": [
      "burleigh brewing review twisted palm ale australia australian beer american style pale ale  ale beer tasting note flavor description hoppy smooth dry amusing dried mango and orange pith lavash caraway and crisp lettuces a light and lager like ipa with balanced bitterness silver medal may  rating  points price burleigh brewing company dependable beer producer dependable brewery\n",
      "\n",
      "\n",
      "great lakes brewing review burning river pale ale oh ohio usa us beer american style pale ale  ale beer tasting note flavor description malty rich  heavy hoppy  smooth  mild smooth dry yet fruity interesting orange blossom honeycomb on toast and butter roasted corn and nuts same as aromas with accents of toasted lemon scone orange melon salad and radish a superb pale ale with great balance flavor and easy drinking style gold medal may  rating  points price american great lakes brewing great beer producer great brewery\n",
      "\n",
      "\n",
      "lift bridge beer company review jibe talkin apricot sour ale mn minnesota usa us beer sour ale  ale beer tasting note flavor description crisp  light smooth fruity no oak uncommon apricot nectar pears in syrup peach tea and nectarine tomato leaf apricot and toast a beer with inviting stone fruit flavor and table friendly style silver medal july  rating  points price american lift bridge beer company dependable beer producer dependable brewery\n",
      "\n",
      "\n",
      "tarpon river brewing review honey love honey beer fl florida usa us beer honey beer  flavored beer tasting note flavor description smooth  mild smooth fruity interesting honeycomb on fresh biscuits crisp apples wildberry jam and dried apricot same as aromas with suggestions of milk toast and candied orange peel a delicious and desirable honey beer that drinks like fine warming belgian golden ale gold medal january  rating  points price american tarpon river brewing great beer producer great brewery\n",
      "\n",
      "\n",
      "lift bridge beer company review hop dish ipa mn minnesota usa us beer american style ipa  ale beer tasting note flavor description malty  hoppy tingling dry citrus peel pine cajeta and souffle and greens and peas lemon herb pepper muffin and radish a pleasant easy going ipa that will cover most bases silver medal may  rating  points price american lift bridge beer company dependable beer producer dependable brewery\n",
      "\n",
      "\n",
      "lift bridge beer company review x brotherhood beer mn minnesota usa us beer pale lager  lager beer tasting note flavor description crisp  light  funky smooth dry fresh grain sauteed asparagus and minerals crispy croutons a super solid lager that hits spot silver medal march  rating  points price american lift bridge beer company dependable beer producer dependable brewery\n",
      "\n",
      "\n",
      "lift bridge beer company review x brotherhood beer mn minnesota usa us beer pale lager  lager beer tasting note flavor description crisp  light smooth dry interesting soda bread dressed greens and parsley corn silk and focaccia a refreshing lager that will work well at table or in hand any time silver medal june  rating  points price american lift bridge beer company dependable beer producer dependable brewery\n",
      "\n",
      "\n",
      "indeed brewing review zwickelbier mn minnesota usa us beer kellerzwickl  lager beer tasting note flavor description crisp  light  malty smooth dryish charming golden kiwi and steamed veggies endive with blue cheese and wheat cracker a nice zwickl with an american hop vibe will be great beer with food silver medal march  rating  points price american indeed brewing company dependable beer producer dependable brewery\n",
      "\n",
      "\n",
      "great lakes brewing review cloud cutter ale oh ohio usa us beer wheat ale  ale beer tasting note flavor description hoppy  smooth  mild tingling dry amusing lemon souffle and scone cracked green pepper pine and lip balm same as aromas with notes of citrus peels pepper and radicchio a hoppy wheat ale with refreshing summer style gold medal june  rating  points price american great lakes brewing great beer producer great brewery\n",
      "\n",
      "\n",
      "lift bridge beer company review mango blonde ale mn minnesota usa us beer flavored ale  flavored beer tasting note flavor description smooth  mild smooth off dry no oak bland white bread rosemary oil dried orange peel and almond croissant wheat toast orange marmalade apricot pit and pressed flowers a crushable and balanced mango y refresher silver medal july  rating  points price american lift bridge beer company dependable beer producer dependable brewery\n",
      "\n",
      "\n"
     ]
    },
    {
     "data": {
      "text/plain": [
       "beer          1.97779\n",
       "ale           0.86246\n",
       "brewery       0.76472\n",
       "brewing       0.72570\n",
       "ipa           0.52329\n",
       "lager         0.51232\n",
       "great         0.42141\n",
       "stout         0.39850\n",
       "malty         0.37491\n",
       "dependable    0.31671\n",
       "Name: topic_8, dtype: float64"
      ]
     },
     "execution_count": 118,
     "metadata": {},
     "output_type": "execute_result"
    }
   ],
   "source": [
    "for description in des_df.sort_values(by='topic_8', ascending=False).head(10)['Description'].values:\n",
    "    print(description)\n",
    "    print('\\n')\n",
    "des_word_df.sort_values(by='topic_8', ascending=False).head(10).topic_8"
   ]
  },
  {
   "cell_type": "markdown",
   "id": "unkempt-league",
   "metadata": {},
   "source": [
    "#### Topic_9"
   ]
  },
  {
   "cell_type": "code",
   "execution_count": 119,
   "id": "dark-contract",
   "metadata": {
    "ExecuteTime": {
     "end_time": "2021-05-20T06:02:59.850176Z",
     "start_time": "2021-05-20T06:02:59.833222Z"
    }
   },
   "outputs": [
    {
     "name": "stdout",
     "output_type": "stream",
     "text": [
      "alamos review red blend  argentina argentine wine mendoza other argentine red  red wine tasting note flavor description fruity juicy  smooth  oaky smooth dryish moderate oak pencil shavings plum preserves black tea and sassafras same as aromas with notes of baking spices a bold and chewy red best with beef silver medal  world value wine challenge top  red wine  and under october  rating   points moderate price affordable economical eandj gallo winery best buy best buy good value\n",
      "\n",
      "\n",
      "alamos review red blend  argentina argentine wine mendoza other argentine red  red wine tasting note flavor description fruity juicy  smooth  oaky smooth dryish moderate oak pencil shavings plum preserves black tea and sassafras same as aromas with notes of baking spices a bold and chewy red best with beef silver medal  world value wine challenge top  red wine  and under october  rating   points moderate price affordable economical eandj gallo winery best buy best buy good value\n",
      "\n",
      "\n",
      "ruggeri review argeo nv italy italian wine prosecco di treviso doc prosecco  sparkling wine tasting note flavor description juicy  smooth smooth fruity ripe apple and pastry dough honeycomb and banana a light clean and fruity prosecco with juicy notes of apple gold medal  world value wine challenge top  sparkling wine  and under exceptional value october  rating   points moderate price affordable economical winesu best buy best buy good value dependable wine producer dependable winery\n",
      "\n",
      "\n",
      "espritza review bubbly white wine nv italy italian wine other sparkling  sparkling wine tasting note flavor description crisp  lively fruity  juicy  smooth smooth fruity no oak candied pear almond cakes lemon blossom and kiwi pineapple sorbet and green apple a fruity prosecco like sparkler thats sure to please silver medal july  rating   points moderate price affordable economical mack and schuhle inc best buy best buy good value\n",
      "\n",
      "\n",
      "espritza review bubbly white wine nv italy italian wine other sparkling  sparkling wine tasting note flavor description crisp  lively fruity  juicy  smooth smooth fruity no oak candied pear almond cakes lemon blossom and kiwi pineapple sorbet and green apple a fruity prosecco like sparkler thats sure to please silver medal july  rating   points moderate price affordable economical mack and schuhle inc best buy best buy good value\n",
      "\n",
      "\n",
      "belposto review nv italy italian wine prosecco doc prosecco  sparkling wine tasting note flavor description fruity juicy  smooth  non oaky smooth fruity no oak interesting ripe apple hints of peach lilac and crystalized lemon peel same as aromas with nuances of almond a juicy prosecco pleaser that hits all the notes silver medal november  rating   points moderate price affordable economical prestige beverage group best buy best buy good value\n",
      "\n",
      "\n",
      "belposto review nv italy italian wine prosecco doc prosecco  sparkling wine tasting note flavor description fruity juicy  smooth  non oaky smooth fruity no oak interesting ripe apple hints of peach lilac and crystalized lemon peel same as aromas with nuances of almond a juicy prosecco pleaser that hits all the notes silver medal november  rating   points moderate price affordable economical prestige beverage group best buy best buy good value\n",
      "\n",
      "\n",
      "alamos review red blend  argentina argentine wine mendoza other argentine red  red wine tasting note flavor description fruity juicy  smooth  oaky smooth dryish moderate oak pencil shavings plum preserves black tea and sassafras same as aromas with accents of baking spices a bold and chewy red best with beef silver medal august  rating   points moderate price affordable economical eandj gallo winery best buy best buy good value\n",
      "\n",
      "\n",
      "alamos review red blend  argentina argentine wine mendoza other argentine red  red wine tasting note flavor description fruity juicy  smooth  oaky smooth dryish moderate oak pencil shavings plum preserves black tea and sassafras same as aromas with accents of baking spices a bold and chewy red best with beef silver medal august  rating   points moderate price affordable economical eandj gallo winery best buy best buy good value\n",
      "\n",
      "\n",
      "cupcake review nv italy italian wine prosecco doc prosecco  sparkling wine tasting note flavor description fruity juicy  smooth non oaky  crisp  lively smooth dry yet fruity no oak engaging lemon zest lavender and green apple same as aromas with accents of peppered water crackers melon and ripe pear a juicy friendly prosecco with great sense of place silver medal june  rating   points moderate price affordable economical wine group best buy best buy good value dependable wine producer dependable winery\n",
      "\n",
      "\n"
     ]
    },
    {
     "data": {
      "text/plain": [
       "buy           2.15382\n",
       "best          2.13803\n",
       "value         1.24716\n",
       "good          1.06952\n",
       "wine          0.53865\n",
       "affordable    0.47963\n",
       "economical    0.47941\n",
       "moderate      0.43518\n",
       "smooth        0.33068\n",
       "fruity        0.31695\n",
       "Name: topic_9, dtype: float64"
      ]
     },
     "execution_count": 119,
     "metadata": {},
     "output_type": "execute_result"
    }
   ],
   "source": [
    "for description in des_df.sort_values(by='topic_9', ascending=False).head(10)['Description'].values:\n",
    "    print(description)\n",
    "    print('\\n')\n",
    "des_word_df.sort_values(by='topic_9', ascending=False).head(10).topic_9"
   ]
  },
  {
   "cell_type": "markdown",
   "id": "gross-damage",
   "metadata": {},
   "source": [
    "## Clean numerical features"
   ]
  },
  {
   "cell_type": "code",
   "execution_count": 151,
   "id": "unfit-spread",
   "metadata": {
    "ExecuteTime": {
     "end_time": "2021-05-20T06:12:35.943445Z",
     "start_time": "2021-05-20T06:12:35.311808Z"
    }
   },
   "outputs": [],
   "source": [
    "for _ in range(len(df)):\n",
    "    try:\n",
    "        df.Points[_] = df.Points[_].split(\" \")[0]\n",
    "    except:\n",
    "        pass"
   ]
  },
  {
   "cell_type": "code",
   "execution_count": 166,
   "id": "nocturnal-boyfriend",
   "metadata": {
    "ExecuteTime": {
     "end_time": "2021-05-20T06:17:24.644218Z",
     "start_time": "2021-05-20T06:17:24.633248Z"
    }
   },
   "outputs": [],
   "source": [
    "try:\n",
    "    df.Points = pd.to_numeric(df.Points, errors='coerce').fillna(0).astype(np.int64)\n",
    "except:\n",
    "    pass"
   ]
  },
  {
   "cell_type": "code",
   "execution_count": 171,
   "id": "generous-use",
   "metadata": {
    "ExecuteTime": {
     "end_time": "2021-05-20T06:19:34.383917Z",
     "start_time": "2021-05-20T06:19:33.529202Z"
    }
   },
   "outputs": [],
   "source": [
    "for _ in range(len(df)):\n",
    "    if df.Points[_] == 0:\n",
    "        df.Points[_] = np.nan\n",
    "    else:\n",
    "        pass"
   ]
  },
  {
   "cell_type": "code",
   "execution_count": 173,
   "id": "sorrowful-two",
   "metadata": {
    "ExecuteTime": {
     "end_time": "2021-05-20T06:19:53.237838Z",
     "start_time": "2021-05-20T06:19:53.218887Z"
    }
   },
   "outputs": [
    {
     "data": {
      "text/plain": [
       "87.0    1115\n",
       "88.0    1113\n",
       "89.0     967\n",
       "85.0     841\n",
       "86.0     832\n",
       "90.0     814\n",
       "92.0     686\n",
       "91.0     578\n",
       "93.0     520\n",
       "94.0     274\n",
       "95.0     120\n",
       "96.0      53\n",
       "97.0      26\n",
       "98.0       8\n",
       "99.0       2\n",
       "Name: Points, dtype: int64"
      ]
     },
     "execution_count": 173,
     "metadata": {},
     "output_type": "execute_result"
    }
   ],
   "source": [
    "df.Points.value_counts()"
   ]
  },
  {
   "cell_type": "code",
   "execution_count": 175,
   "id": "kooky-jury",
   "metadata": {
    "ExecuteTime": {
     "end_time": "2021-05-20T06:20:35.211610Z",
     "start_time": "2021-05-20T06:20:35.092691Z"
    }
   },
   "outputs": [],
   "source": [
    "for _ in range(len(df)):\n",
    "    try:\n",
    "        df.Price[_] = df.Price[_].split(\"$\")[1]\n",
    "    except:\n",
    "        pass\n",
    "\n",
    "try:\n",
    "    df.Price = pd.to_numeric(df.Price, errors='coerce').fillna(0).astype(np.int64)\n",
    "except:\n",
    "    pass"
   ]
  },
  {
   "cell_type": "code",
   "execution_count": 177,
   "id": "glass-boss",
   "metadata": {
    "ExecuteTime": {
     "end_time": "2021-05-20T06:20:53.585424Z",
     "start_time": "2021-05-20T06:20:52.909705Z"
    }
   },
   "outputs": [],
   "source": [
    "for _ in range(len(df)):\n",
    "    if df.Price[_] == 0:\n",
    "        df.Price[_] = np.nan\n",
    "    else:\n",
    "        pass"
   ]
  },
  {
   "cell_type": "code",
   "execution_count": 181,
   "id": "worrisome-vacation",
   "metadata": {
    "ExecuteTime": {
     "end_time": "2021-05-20T06:21:34.459081Z",
     "start_time": "2021-05-20T06:21:34.446116Z"
    }
   },
   "outputs": [
    {
     "data": {
      "text/plain": [
       "14.0     489\n",
       "9.0      487\n",
       "19.0     431\n",
       "12.0     415\n",
       "15.0     393\n",
       "        ... \n",
       "185.0      1\n",
       "169.0      1\n",
       "399.0      1\n",
       "137.0      1\n",
       "94.0       1\n",
       "Name: Price, Length: 148, dtype: int64"
      ]
     },
     "execution_count": 181,
     "metadata": {},
     "output_type": "execute_result"
    }
   ],
   "source": [
    "df.Price.value_counts()"
   ]
  },
  {
   "cell_type": "code",
   "execution_count": 182,
   "id": "suburban-swimming",
   "metadata": {
    "ExecuteTime": {
     "end_time": "2021-05-20T06:21:36.326616Z",
     "start_time": "2021-05-20T06:21:36.301683Z"
    }
   },
   "outputs": [
    {
     "name": "stdout",
     "output_type": "stream",
     "text": [
      "<class 'pandas.core.frame.DataFrame'>\n",
      "Int64Index: 10522 entries, 0 to 10521\n",
      "Data columns (total 17 columns):\n",
      " #   Column       Non-Null Count  Dtype  \n",
      "---  ------       --------------  -----  \n",
      " 0   Name         10517 non-null  object \n",
      " 1   Description  10517 non-null  object \n",
      " 2   Category     9467 non-null   object \n",
      " 3   Country      9461 non-null   object \n",
      " 4   Alcohol_Vol  9467 non-null   object \n",
      " 5   Review       9467 non-null   object \n",
      " 6   Style        9406 non-null   object \n",
      " 7   Aroma        9429 non-null   object \n",
      " 8   Flavor       9427 non-null   object \n",
      " 9   Sweetness    6927 non-null   object \n",
      " 10  Bitterness   473 non-null    object \n",
      " 11  Enjoy        9429 non-null   object \n",
      " 12  Pairing      7171 non-null   object \n",
      " 13  Cocktails    1643 non-null   object \n",
      " 14  Bottom_Line  9467 non-null   object \n",
      " 15  Points       7949 non-null   float64\n",
      " 16  Price        8577 non-null   float64\n",
      "dtypes: float64(2), object(15)\n",
      "memory usage: 1.7+ MB\n"
     ]
    }
   ],
   "source": [
    "df.info()"
   ]
  },
  {
   "cell_type": "code",
   "execution_count": 183,
   "id": "harmless-net",
   "metadata": {
    "ExecuteTime": {
     "end_time": "2021-05-20T06:21:41.080231Z",
     "start_time": "2021-05-20T06:21:41.058263Z"
    }
   },
   "outputs": [
    {
     "data": {
      "text/html": [
       "<div>\n",
       "<style scoped>\n",
       "    .dataframe tbody tr th:only-of-type {\n",
       "        vertical-align: middle;\n",
       "    }\n",
       "\n",
       "    .dataframe tbody tr th {\n",
       "        vertical-align: top;\n",
       "    }\n",
       "\n",
       "    .dataframe thead th {\n",
       "        text-align: right;\n",
       "    }\n",
       "</style>\n",
       "<table border=\"1\" class=\"dataframe\">\n",
       "  <thead>\n",
       "    <tr style=\"text-align: right;\">\n",
       "      <th></th>\n",
       "      <th>Points</th>\n",
       "      <th>Price</th>\n",
       "    </tr>\n",
       "  </thead>\n",
       "  <tbody>\n",
       "    <tr>\n",
       "      <th>count</th>\n",
       "      <td>7949.000000</td>\n",
       "      <td>8577.000000</td>\n",
       "    </tr>\n",
       "    <tr>\n",
       "      <th>mean</th>\n",
       "      <td>88.957982</td>\n",
       "      <td>28.889588</td>\n",
       "    </tr>\n",
       "    <tr>\n",
       "      <th>std</th>\n",
       "      <td>2.756745</td>\n",
       "      <td>38.085419</td>\n",
       "    </tr>\n",
       "    <tr>\n",
       "      <th>min</th>\n",
       "      <td>85.000000</td>\n",
       "      <td>1.000000</td>\n",
       "    </tr>\n",
       "    <tr>\n",
       "      <th>25%</th>\n",
       "      <td>87.000000</td>\n",
       "      <td>12.000000</td>\n",
       "    </tr>\n",
       "    <tr>\n",
       "      <th>50%</th>\n",
       "      <td>89.000000</td>\n",
       "      <td>19.000000</td>\n",
       "    </tr>\n",
       "    <tr>\n",
       "      <th>75%</th>\n",
       "      <td>91.000000</td>\n",
       "      <td>35.000000</td>\n",
       "    </tr>\n",
       "    <tr>\n",
       "      <th>max</th>\n",
       "      <td>99.000000</td>\n",
       "      <td>699.000000</td>\n",
       "    </tr>\n",
       "  </tbody>\n",
       "</table>\n",
       "</div>"
      ],
      "text/plain": [
       "            Points        Price\n",
       "count  7949.000000  8577.000000\n",
       "mean     88.957982    28.889588\n",
       "std       2.756745    38.085419\n",
       "min      85.000000     1.000000\n",
       "25%      87.000000    12.000000\n",
       "50%      89.000000    19.000000\n",
       "75%      91.000000    35.000000\n",
       "max      99.000000   699.000000"
      ]
     },
     "execution_count": 183,
     "metadata": {},
     "output_type": "execute_result"
    }
   ],
   "source": [
    "df.describe()"
   ]
  },
  {
   "cell_type": "code",
   "execution_count": null,
   "id": "evergreen-beat",
   "metadata": {},
   "outputs": [],
   "source": []
  }
 ],
 "metadata": {
  "kernelspec": {
   "display_name": "Python [conda env:metis] *",
   "language": "python",
   "name": "conda-env-metis-py"
  },
  "language_info": {
   "codemirror_mode": {
    "name": "ipython",
    "version": 3
   },
   "file_extension": ".py",
   "mimetype": "text/x-python",
   "name": "python",
   "nbconvert_exporter": "python",
   "pygments_lexer": "ipython3",
   "version": "3.8.8"
  },
  "toc": {
   "base_numbering": 1,
   "nav_menu": {},
   "number_sections": true,
   "sideBar": true,
   "skip_h1_title": false,
   "title_cell": "Table of Contents",
   "title_sidebar": "Contents",
   "toc_cell": false,
   "toc_position": {
    "height": "calc(100% - 180px)",
    "left": "10px",
    "top": "150px",
    "width": "165px"
   },
   "toc_section_display": true,
   "toc_window_display": true
  },
  "varInspector": {
   "cols": {
    "lenName": 16,
    "lenType": 16,
    "lenVar": 40
   },
   "kernels_config": {
    "python": {
     "delete_cmd_postfix": "",
     "delete_cmd_prefix": "del ",
     "library": "var_list.py",
     "varRefreshCmd": "print(var_dic_list())"
    },
    "r": {
     "delete_cmd_postfix": ") ",
     "delete_cmd_prefix": "rm(",
     "library": "var_list.r",
     "varRefreshCmd": "cat(var_dic_list()) "
    }
   },
   "types_to_exclude": [
    "module",
    "function",
    "builtin_function_or_method",
    "instance",
    "_Feature"
   ],
   "window_display": false
  }
 },
 "nbformat": 4,
 "nbformat_minor": 5
}
