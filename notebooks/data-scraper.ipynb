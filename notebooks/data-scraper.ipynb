{
 "cells": [
  {
   "cell_type": "code",
   "execution_count": 1,
   "id": "entire-beads",
   "metadata": {
    "ExecuteTime": {
     "end_time": "2021-05-29T20:07:36.153418Z",
     "start_time": "2021-05-29T20:07:35.257391Z"
    }
   },
   "outputs": [
    {
     "name": "stdout",
     "output_type": "stream",
     "text": [
      "Libraries imported\n"
     ]
    }
   ],
   "source": [
    "import pandas as pd\n",
    "import pickle\n",
    "import time, os\n",
    "\n",
    "from bs4 import BeautifulSoup\n",
    "import requests\n",
    "\n",
    "import re\n",
    "\n",
    "import random\n",
    "\n",
    "print('Libraries imported')\n",
    "\n",
    "all_page_list = []\n",
    "\n",
    "\n"
   ]
  },
  {
   "cell_type": "code",
   "execution_count": 2,
   "id": "gruesome-smoke",
   "metadata": {
    "ExecuteTime": {
     "end_time": "2021-05-24T00:41:30.536851Z",
     "start_time": "2021-05-24T00:41:30.516824Z"
    }
   },
   "outputs": [],
   "source": [
    "with open('all_item_list.pkl', 'rb') as input:\n",
    "    all_items_list = pickle.load(input)"
   ]
  },
  {
   "cell_type": "code",
   "execution_count": null,
   "id": "legitimate-change",
   "metadata": {},
   "outputs": [],
   "source": []
  },
  {
   "cell_type": "code",
   "execution_count": 2,
   "id": "strategic-superior",
   "metadata": {
    "ExecuteTime": {
     "end_time": "2021-05-29T20:07:38.327005Z",
     "start_time": "2021-05-29T20:07:38.315002Z"
    }
   },
   "outputs": [],
   "source": [
    "#This header is to bypass CAPCHA\n",
    "header = {'User-Agent': 'Mozilla/5.0 (X11; Linux x86_64) AppleWebKit/537.11 (KHTML, like Gecko) Chrome/23.0.1271.64 Safari/537.11',\n",
    "       'Accept': 'text/html,application/xhtml+xml,application/xml;q=0.9,*/*;q=0.8',\n",
    "       'Accept-Charset': 'ISO-8859-1,utf-8;q=0.7,*;q=0.3',\n",
    "       'Accept-Encoding': 'none',\n",
    "       'Accept-Language': 'en-US,en;q=0.8',\n",
    "       'Connection': 'keep-alive'}\n",
    "\n",
    "#Dataframe headers\n",
    "df_headers = [\"Name\", \"Description\", \"Category\", \"Country\", \"Alcohol_Vol\", \"Review\", \"Style\",\n",
    "             \"Aroma\", \"Flavor\", \"Sweetness\", \"Bitterness\", \"Enjoy\", \"Pairing\", \"Cocktails\", \n",
    "             \"Bottom_Line\", \"Points\", \"Price\"]\n",
    "\n",
    "\n",
    "root_url = 'https://www.totalwine.com'\n"
   ]
  },
  {
   "cell_type": "markdown",
   "id": "foreign-hobby",
   "metadata": {},
   "source": [
    "### Get all page_links"
   ]
  },
  {
   "cell_type": "code",
   "execution_count": 4,
   "id": "underlying-arrow",
   "metadata": {
    "ExecuteTime": {
     "end_time": "2021-05-19T20:03:59.063577Z",
     "start_time": "2021-05-19T20:03:58.269172Z"
    }
   },
   "outputs": [
    {
     "name": "stdout",
     "output_type": "stream",
     "text": [
      "Now we have 95 links\n"
     ]
    }
   ],
   "source": [
    "\n",
    "#Lastest review\n",
    "page_url = 'https://www.tastings.com/Reviews/Latest-Spirits-Wine-Beer-Reviews.aspx'\n",
    "\n",
    "response = requests.get(page_url, headers=header)\n",
    "\n",
    "data = response.text\n",
    "\n",
    "soup = BeautifulSoup(data, \"html.parser\")\n",
    "for i in range(len(soup.find_all(class_='m-content-link-bold m-content-link-font-q'))):\n",
    "    \n",
    "    url = soup.find_all(class_='m-content-link-bold m-content-link-font-q')[i]['href']\n",
    "    all_page_list.append(root_url+url)\n",
    "\n",
    "print('Now we have {} links'.format(len(all_page_list)))"
   ]
  },
  {
   "cell_type": "code",
   "execution_count": 41,
   "id": "d9c0f361",
   "metadata": {
    "ExecuteTime": {
     "end_time": "2021-05-24T19:39:47.377521Z",
     "start_time": "2021-05-24T19:39:47.369542Z"
    }
   },
   "outputs": [],
   "source": [
    "\n",
    "root_page = 'https://www.totalwine.com/spirits/c/c0030?&page={}&pageSize=100&aty=1,1,1,1'"
   ]
  },
  {
   "cell_type": "code",
   "execution_count": 48,
   "id": "b14efbf5",
   "metadata": {
    "ExecuteTime": {
     "end_time": "2021-05-24T19:51:52.420217Z",
     "start_time": "2021-05-24T19:49:34.068032Z"
    }
   },
   "outputs": [],
   "source": [
    "for num_page in range(38,102):\n",
    "    \n",
    "    page_link = root_page.format(num_page)\n",
    "    \n",
    "    response = requests.get(page_link, headers=header)\n",
    "\n",
    "    data = response.text\n",
    "\n",
    "    soup = BeautifulSoup(data, \"html.parser\")\n",
    "\n",
    "    for i in range(100):\n",
    "            try:\n",
    "                all_items_list.append(root_url + soup.find_all(class_='titleRatingsHolder__1TZlqhxF')[i]('a')[0]['href'])\n",
    "            except:\n",
    "                pass\n",
    "\n",
    "    time.sleep(2)"
   ]
  },
  {
   "cell_type": "code",
   "execution_count": null,
   "id": "21d4e32b",
   "metadata": {},
   "outputs": [],
   "source": []
  },
  {
   "cell_type": "code",
   "execution_count": 175,
   "id": "cf6215fd",
   "metadata": {
    "ExecuteTime": {
     "end_time": "2021-05-25T04:56:37.752633Z",
     "start_time": "2021-05-25T04:56:37.732630Z"
    }
   },
   "outputs": [
    {
     "ename": "NameError",
     "evalue": "name 'all_items_list' is not defined",
     "output_type": "error",
     "traceback": [
      "\u001b[1;31m---------------------------------------------------------------------------\u001b[0m",
      "\u001b[1;31mNameError\u001b[0m                                 Traceback (most recent call last)",
      "\u001b[1;32m<ipython-input-175-9edcd1633c6d>\u001b[0m in \u001b[0;36m<module>\u001b[1;34m\u001b[0m\n\u001b[1;32m----> 1\u001b[1;33m \u001b[0mlen\u001b[0m\u001b[1;33m(\u001b[0m\u001b[0mall_items_list\u001b[0m\u001b[1;33m)\u001b[0m\u001b[1;33m\u001b[0m\u001b[1;33m\u001b[0m\u001b[0m\n\u001b[0m",
      "\u001b[1;31mNameError\u001b[0m: name 'all_items_list' is not defined"
     ]
    }
   ],
   "source": [
    "len(all_items_list)"
   ]
  },
  {
   "cell_type": "code",
   "execution_count": 51,
   "id": "03b93722",
   "metadata": {
    "ExecuteTime": {
     "end_time": "2021-05-24T19:55:32.864751Z",
     "start_time": "2021-05-24T19:55:32.857770Z"
    }
   },
   "outputs": [],
   "source": [
    "with open('items_list_liquor_total_wine.pkl', 'wb') as wf:\n",
    "    pickle.dump(all_items_list, wf)"
   ]
  },
  {
   "cell_type": "code",
   "execution_count": 3,
   "id": "36442d4a",
   "metadata": {
    "ExecuteTime": {
     "end_time": "2021-05-25T14:50:30.750799Z",
     "start_time": "2021-05-25T14:50:30.594798Z"
    }
   },
   "outputs": [
    {
     "data": {
      "text/plain": [
       "<!DOCTYPE html>\n",
       " <html lang=\"en\"> <head> <meta charset=\"utf-8\"/> <meta content=\"width=device-width, initial-scale=1\" name=\"viewport\"/> <title>Total Wine &amp; More - Access to this page has been denied.</title> <link href=\"https://fonts.googleapis.com/css?family=Roboto&amp;display=swap\" rel=\"stylesheet\"/> <style> html, body { margin: 0; padding: 0; font-family: 'Roboto', sans-serif; color: #000; } a { color: #c5c5c5; text-decoration: none; } .container { align-items: center; display: flex; flex: 1; justify-content: space-between; flex-direction: column; height: 100%; } .container > div { width: 100%; display: flex; justify-content: center; } .container > div > div { display: flex; width: 80%; } .customer-logo-wrapper { padding: 0px; background-color: #811F08; } .customer-logo { padding: 16px 0px 16px 0px; } .page-title-wrapper { flex-grow: 2; } .page-title { flex-direction: column-reverse; } .content-wrapper { flex-grow: 5; } .content { flex-direction: column; } .page-footer-wrapper { align-items: center; flex-grow: 0.2; background-color: #000; color: #c5c5c5; font-size: 70%; } @media (min-width: 768px) { html, body { height: 100%; } } </style> <!-- Custom CSS --> </head> <body> <section class=\"container\"> <div class=\"customer-logo-wrapper\"> <div class=\"customer-logo\"> <svg height=\"50\" style=\"color: #fff !important; fill: #fff !important; text-align: bottom;\" viewbox=\"0 0 180 50\" width=\"180\"><use xlink:href=\"/global-static-resources/twm-sprite.svg#twm-logo\"></use></svg> </div> </div> <div class=\"page-title-wrapper\"> <div class=\"page-title\"> <h1>Please verify you are a human</h1> </div> </div> <div class=\"content-wrapper\"> <div class=\"content\"> <div id=\"px-captcha\"> </div> <p> Access to this page has been denied because we believe you are using automation tools to browse the website. </p> <p> This may happen as a result of the following: </p> <ul> <li> Javascript is disabled or blocked by an extension (ad blockers for example) </li> <li> Your browser does not support cookies </li> </ul> <p> Please make sure that Javascript and cookies are enabled on your browser and that you are not blocking them from loading. </p> <p> Reference ID: #8d5f8cf0-bd68-11eb-93dd-b58d4266b3c1 </p> </div> </div> <div class=\"page-footer-wrapper\"> <div class=\"page-footer\"> <p> Powered by <a href=\"https://www.perimeterx.com/whywasiblocked\">PerimeterX</a> , Inc. </p> </div> </div> </section> <!-- Px --> <script> window._pxAppId = 'PXFF0j69T5'; window._pxJsClientSrc = '/FF0j69T5/init.js'; window._pxFirstPartyEnabled = true; window._pxVid = ''; window._pxUuid = '8d5f8cf0-bd68-11eb-93dd-b58d4266b3c1'; window._pxHostUrl = '/FF0j69T5/xhr'; </script> <script> var s = document.createElement('script'); s.src = '/FF0j69T5/captcha/captcha.js?a=c&u=8d5f8cf0-bd68-11eb-93dd-b58d4266b3c1&v=&m=0'; var p = document.getElementsByTagName('head')[0]; p.insertBefore(s, null); if (true ){s.onerror = function () {s = document.createElement('script'); var suffixIndex = '/FF0j69T5/captcha/captcha.js?a=c&u=8d5f8cf0-bd68-11eb-93dd-b58d4266b3c1&v=&m=0'.indexOf('/captcha.js'); var temperedBlockScript = '/FF0j69T5/captcha/captcha.js?a=c&u=8d5f8cf0-bd68-11eb-93dd-b58d4266b3c1&v=&m=0'.substring(suffixIndex); s.src = '//captcha.px-cdn.net/PXFF0j69T5' + temperedBlockScript; p.parentNode.insertBefore(s, p);};}</script> <!-- Custom Script --> </body> </html>"
      ]
     },
     "execution_count": 3,
     "metadata": {},
     "output_type": "execute_result"
    }
   ],
   "source": [
    "response = requests.get('https://www.totalwine.com/spirits/american-whiskey/rye-whiskey/wild-turkey-rye-81/p/123632750?s=1406&igrules=true', headers=header)\n",
    "\n",
    "data = response.text\n",
    "\n",
    "soup = BeautifulSoup(data, \"html.parser\")\n",
    "\n",
    "soup"
   ]
  },
  {
   "cell_type": "code",
   "execution_count": 15,
   "id": "afbe2c20",
   "metadata": {
    "ExecuteTime": {
     "end_time": "2021-05-25T01:13:55.344415Z",
     "start_time": "2021-05-25T01:13:55.336420Z"
    }
   },
   "outputs": [],
   "source": [
    "all_items_caskers = []\n",
    "root_url = 'https://www.caskers.com/spirits/?p={}&product_list_limit=80'"
   ]
  },
  {
   "cell_type": "code",
   "execution_count": null,
   "id": "19e22af7",
   "metadata": {
    "ExecuteTime": {
     "start_time": "2021-05-25T01:14:07.734Z"
    }
   },
   "outputs": [],
   "source": [
    "for num_page in range(1,41):\n",
    "    \n",
    "    page_link = root_url.format(num_page)\n",
    "    \n",
    "    response = requests.get(page_link, headers=header)\n",
    "\n",
    "    data = response.text\n",
    "\n",
    "    soup = BeautifulSoup(data, \"html.parser\")\n",
    "\n",
    "    for i in range(80):\n",
    "            try:\n",
    "                all_items_caskers.append(soup.find_all(class_='product-item-info')[i]('a')[0]['href'])\n",
    "            except:\n",
    "                pass\n",
    "\n",
    "    time.sleep(10)"
   ]
  },
  {
   "cell_type": "code",
   "execution_count": 13,
   "id": "12048f80",
   "metadata": {
    "ExecuteTime": {
     "end_time": "2021-05-25T01:13:29.272983Z",
     "start_time": "2021-05-25T01:13:26.751011Z"
    }
   },
   "outputs": [],
   "source": [
    "page_link = root_url.format(2)\n",
    "\n",
    "response = requests.get(page_link, headers=header)\n",
    "\n",
    "data = response.text\n",
    "\n",
    "soup = BeautifulSoup(data, \"html.parser\")\n",
    "\n",
    "for i in range(80):\n",
    "        try:\n",
    "            all_items_caskers.append(soup.find_all(class_='product-item-info')[i]('a')[0]['href'])\n",
    "        except:\n",
    "            pass"
   ]
  },
  {
   "cell_type": "code",
   "execution_count": 11,
   "id": "47844cc2",
   "metadata": {
    "ExecuteTime": {
     "end_time": "2021-05-25T01:12:34.320623Z",
     "start_time": "2021-05-25T01:12:34.276590Z"
    }
   },
   "outputs": [
    {
     "data": {
      "text/plain": [
       "'https://www.caskers.com/bootlegger-new-york-crarft-vodka/'"
      ]
     },
     "execution_count": 11,
     "metadata": {},
     "output_type": "execute_result"
    }
   ],
   "source": [
    "soup.find_all(class_='product-item-info')[3]('a')[0]['href']"
   ]
  },
  {
   "cell_type": "code",
   "execution_count": 91,
   "id": "46f8baf7",
   "metadata": {
    "ExecuteTime": {
     "end_time": "2021-05-24T21:40:13.419883Z",
     "start_time": "2021-05-24T21:40:13.381022Z"
    }
   },
   "outputs": [
    {
     "data": {
      "text/plain": [
       "88"
      ]
     },
     "execution_count": 91,
     "metadata": {},
     "output_type": "execute_result"
    }
   ],
   "source": []
  },
  {
   "cell_type": "code",
   "execution_count": null,
   "id": "40f95e6d",
   "metadata": {},
   "outputs": [],
   "source": []
  },
  {
   "cell_type": "code",
   "execution_count": 5,
   "id": "rental-chamber",
   "metadata": {
    "ExecuteTime": {
     "end_time": "2021-05-19T20:03:59.732603Z",
     "start_time": "2021-05-19T20:03:59.065571Z"
    }
   },
   "outputs": [
    {
     "name": "stdout",
     "output_type": "stream",
     "text": [
      "Now we have 192 links\n"
     ]
    }
   ],
   "source": [
    "#2020 Review\n",
    "\n",
    "page_url = 'https://www.tastings.com/Reviews/2020-Spirits-Wine-Beer-Reviews.aspx'\n",
    "\n",
    "response = requests.get(page_url, headers=header)\n",
    "\n",
    "data = response.text\n",
    "\n",
    "soup = BeautifulSoup(data, \"html.parser\")\n",
    "\n",
    "for i in range(len(soup.find_all(class_='m-content-link-bold m-content-link-font-q'))):\n",
    "    \n",
    "    url = soup.find_all(class_='m-content-link-bold m-content-link-font-q')[i]['href']\n",
    "    all_page_list.append(root_url+url)\n",
    "    \n",
    "print('Now we have {} links'.format(len(all_page_list)))"
   ]
  },
  {
   "cell_type": "code",
   "execution_count": 6,
   "id": "becoming-cleaners",
   "metadata": {
    "ExecuteTime": {
     "end_time": "2021-05-19T20:04:00.434081Z",
     "start_time": "2021-05-19T20:03:59.733572Z"
    }
   },
   "outputs": [
    {
     "name": "stdout",
     "output_type": "stream",
     "text": [
      "Now we have 292 links\n"
     ]
    }
   ],
   "source": [
    "#2019 Review\n",
    "\n",
    "page_url = 'https://www.tastings.com/Reviews/2019-Spirits-Wine-Beer-Reviews.aspx'\n",
    "\n",
    "response = requests.get(page_url, headers=header)\n",
    "\n",
    "data = response.text\n",
    "\n",
    "soup = BeautifulSoup(data, \"html.parser\")\n",
    "\n",
    "for i in range(len(soup.find_all(class_='m-content-link-bold m-content-link-font-q'))):\n",
    "    \n",
    "    url = soup.find_all(class_='m-content-link-bold m-content-link-font-q')[i]['href']\n",
    "    all_page_list.append(root_url+url)\n",
    "    \n",
    "print('Now we have {} links'.format(len(all_page_list)))"
   ]
  },
  {
   "cell_type": "code",
   "execution_count": 7,
   "id": "weekly-folks",
   "metadata": {
    "ExecuteTime": {
     "end_time": "2021-05-19T20:04:01.136606Z",
     "start_time": "2021-05-19T20:04:00.435071Z"
    }
   },
   "outputs": [
    {
     "name": "stdout",
     "output_type": "stream",
     "text": [
      "Now we have 390 links\n"
     ]
    }
   ],
   "source": [
    "#2018 Review\n",
    "\n",
    "page_url = 'https://www.tastings.com/Reviews/2018-Spirits-Wine-Beer-Reviews.aspx'\n",
    "\n",
    "response = requests.get(page_url, headers=header)\n",
    "\n",
    "data = response.text\n",
    "\n",
    "soup = BeautifulSoup(data, \"html.parser\")\n",
    "\n",
    "for i in range(len(soup.find_all(class_='m-content-link-bold m-content-link-font-q'))):\n",
    "    \n",
    "    url = soup.find_all(class_='m-content-link-bold m-content-link-font-q')[i]['href']\n",
    "    all_page_list.append(root_url+url)\n",
    "    \n",
    "print('Now we have {} links'.format(len(all_page_list)))"
   ]
  },
  {
   "cell_type": "markdown",
   "id": "massive-dakota",
   "metadata": {},
   "source": [
    "### Get all items_links"
   ]
  },
  {
   "cell_type": "code",
   "execution_count": 8,
   "id": "distinguished-celebration",
   "metadata": {
    "ExecuteTime": {
     "end_time": "2021-05-19T20:04:01.774444Z",
     "start_time": "2021-05-19T20:04:01.137603Z"
    }
   },
   "outputs": [],
   "source": [
    "page_url = 'https://www.tastings.com/Calendar-Spirits/Review-2021-05-01-Agave.aspx'\n",
    "\n",
    "response = requests.get(page_url, headers=header)\n",
    "\n",
    "data = response.text\n",
    "\n",
    "soup = BeautifulSoup(data, \"html.parser\")\n"
   ]
  },
  {
   "cell_type": "code",
   "execution_count": 9,
   "id": "specialized-metadata",
   "metadata": {
    "ExecuteTime": {
     "end_time": "2021-05-19T20:04:01.821319Z",
     "start_time": "2021-05-19T20:04:01.777435Z"
    }
   },
   "outputs": [
    {
     "data": {
      "text/plain": [
       "'/Spirits-Review/Mezcal-de-Leyendas-Verde-San-Luis-Potosi-Mezcal-Mexico-90-Proof-05-01-2021.aspx'"
      ]
     },
     "execution_count": 9,
     "metadata": {},
     "output_type": "execute_result"
    }
   ],
   "source": [
    "soup.find_all(class_='m-preview-title-1')[0].find('a')['href']"
   ]
  },
  {
   "cell_type": "code",
   "execution_count": 10,
   "id": "specific-concept",
   "metadata": {
    "ExecuteTime": {
     "end_time": "2021-05-19T20:04:01.836278Z",
     "start_time": "2021-05-19T20:04:01.823313Z"
    }
   },
   "outputs": [],
   "source": [
    "# #Get all items_links\n",
    "# all_items_list = []\n",
    "\n",
    "# for url in all_page_list:\n",
    "    \n",
    "#     response = requests.get(url, headers=header)\n",
    "\n",
    "#     data = response.text\n",
    "\n",
    "#     soup = BeautifulSoup(data, \"html.parser\")\n",
    "\n",
    "#     for i in range(len(soup.find_all(class_='m-preview-title-1'))):\n",
    "    \n",
    "#         item_url = soup.find_all(class_='m-preview-title-1')[i].find('a')['href']\n",
    "        \n",
    "#         all_items_list.append(root_url+item_url)\n",
    "\n",
    "    \n",
    "# print('Now we have {} items to scrape!'.format(len(all_items_list)))"
   ]
  },
  {
   "cell_type": "code",
   "execution_count": 11,
   "id": "injured-meditation",
   "metadata": {
    "ExecuteTime": {
     "end_time": "2021-05-19T20:04:01.852267Z",
     "start_time": "2021-05-19T20:04:01.838294Z"
    }
   },
   "outputs": [
    {
     "data": {
      "text/plain": [
       "['https://www.tastings.com/Spirits-Review/Mezcal-de-Leyendas-Verde-San-Luis-Potosi-Mezcal-Mexico-90-Proof-05-01-2021.aspx',\n",
       " 'https://www.tastings.com/Spirits-Review/El-Tesoro-Paradiso-Tequila-Extra-Anejo-Mexico-05-01-2021.aspx',\n",
       " 'https://www.tastings.com/Spirits-Review/Peloton-de-la-Muerte-Vegan-Pechuga-Mezcal-Mexico-90-2-Proof-05-01-2021.aspx',\n",
       " 'https://www.tastings.com/Spirits-Review/El-Tesoro-Anejo-Tequila-Mexico-05-01-2021.aspx',\n",
       " 'https://www.tastings.com/Spirits-Review/1800-Milenio-Extra-Anejo-Tequila-Mexico-05-01-2021.aspx',\n",
       " 'https://www.tastings.com/Spirits-Review/El-Tesoro-Blanco-Tequila-Mexico-05-01-2021.aspx',\n",
       " 'https://www.tastings.com/Spirits-Review/Mezcal-de-Leyendas-Cenizo-Durango-Mezcal-Mexico-94-Proof-05-01-2021.aspx',\n",
       " 'https://www.tastings.com/Spirits-Review/El-Tesoro-Extra-Anejo-Tequila-Mexico-05-01-2021.aspx',\n",
       " 'https://www.tastings.com/Spirits-Review/Jose-Cuervo-Reserva-De-La-Familia-Extra-Anejo-Tequila-Mexico-05-01-2021.aspx',\n",
       " 'https://www.tastings.com/Spirits-Review/Montelobos-Ensamble-Joven-Mezcal-Mexico-90-6-Proof-05-01-2021.aspx']"
      ]
     },
     "execution_count": 11,
     "metadata": {},
     "output_type": "execute_result"
    }
   ],
   "source": [
    "all_items_list[:10]"
   ]
  },
  {
   "cell_type": "markdown",
   "id": "retired-stadium",
   "metadata": {},
   "source": [
    "### Get all items_details"
   ]
  },
  {
   "cell_type": "code",
   "execution_count": 75,
   "id": "laughing-sauce",
   "metadata": {
    "ExecuteTime": {
     "end_time": "2021-05-19T20:31:54.135774Z",
     "start_time": "2021-05-19T20:31:53.678279Z"
    }
   },
   "outputs": [],
   "source": [
    "items_list = []\n",
    "\n",
    "page_url = 'https://www.tastings.com/Wine-Review/Celebrities-2018-Syrah-Carinena-Spain-11-08-2020.aspx'\n",
    "\n",
    "response = requests.get(page_url, headers=header)\n",
    "\n",
    "data = response.text\n",
    "\n",
    "soup = BeautifulSoup(data, \"html.parser\")\n"
   ]
  },
  {
   "cell_type": "code",
   "execution_count": 13,
   "id": "conservative-grade",
   "metadata": {
    "ExecuteTime": {
     "end_time": "2021-05-19T20:04:02.371779Z",
     "start_time": "2021-05-19T20:04:02.356821Z"
    }
   },
   "outputs": [
    {
     "data": {
      "text/plain": [
       "'Celebrities 2018 Syrah Carinena Spain Wine Review | Tastings'"
      ]
     },
     "execution_count": 13,
     "metadata": {},
     "output_type": "execute_result"
    }
   ],
   "source": [
    "soup.find_all('meta')[2]['content'] #name"
   ]
  },
  {
   "cell_type": "code",
   "execution_count": 14,
   "id": "informative-oakland",
   "metadata": {
    "ExecuteTime": {
     "end_time": "2021-05-19T20:04:02.387737Z",
     "start_time": "2021-05-19T20:04:02.372777Z"
    }
   },
   "outputs": [
    {
     "data": {
      "text/plain": [
       "'Celebrities Review Syrah 2018 Spain Spanish Wine Cariñena Syrah 233202 Red Wine Tasting Note Flavor Description Fruity Juicy & Smooth & Rich & Full Smooth Dryish Moderate Oak Interesting blackberry reduction sassafras dried figs and dates and black olives Same as aromas with notes of hints of roasted meats A bold chewy Syrah that will stand up to rich beefy dishes Silver Medal November 2020 Rating $10.99 88 Points Moderate Price Affordable Economical Gregory Vine Best Buy Best Buy Good Value'"
      ]
     },
     "execution_count": 14,
     "metadata": {},
     "output_type": "execute_result"
    }
   ],
   "source": [
    "soup.find_all('meta')[4]['content'] #description"
   ]
  },
  {
   "cell_type": "code",
   "execution_count": 27,
   "id": "streaming-region",
   "metadata": {
    "ExecuteTime": {
     "end_time": "2021-05-19T20:12:12.049873Z",
     "start_time": "2021-05-19T20:12:12.027947Z"
    }
   },
   "outputs": [
    {
     "data": {
      "text/plain": [
       "'Syrah'"
      ]
     },
     "execution_count": 27,
     "metadata": {},
     "output_type": "execute_result"
    }
   ],
   "source": [
    "soup.find_all(class_='m-review-center-info-text')[0].find('h3').text.split('\\r\\n')[1].strip() #categories"
   ]
  },
  {
   "cell_type": "code",
   "execution_count": 35,
   "id": "aggressive-album",
   "metadata": {
    "ExecuteTime": {
     "end_time": "2021-05-19T20:13:09.901947Z",
     "start_time": "2021-05-19T20:13:09.879959Z"
    }
   },
   "outputs": [
    {
     "data": {
      "text/plain": [
       "'Spain'"
      ]
     },
     "execution_count": 35,
     "metadata": {},
     "output_type": "execute_result"
    }
   ],
   "source": [
    "soup.find_all(class_='m-review-center-info-text')[0].find_all('div')[1].text.strip().split('\\r\\n')[1].strip() #country"
   ]
  },
  {
   "cell_type": "code",
   "execution_count": 36,
   "id": "ongoing-hamilton",
   "metadata": {
    "ExecuteTime": {
     "end_time": "2021-05-19T20:13:26.598700Z",
     "start_time": "2021-05-19T20:13:26.587760Z"
    }
   },
   "outputs": [
    {
     "data": {
      "text/plain": [
       "'14.5%'"
      ]
     },
     "execution_count": 36,
     "metadata": {},
     "output_type": "execute_result"
    }
   ],
   "source": [
    "soup.find_all(class_='m-review-center-info-text')[0].find_all('div')[2].text.strip().split('\\r\\n')[1].strip() #alcohol vol"
   ]
  },
  {
   "cell_type": "code",
   "execution_count": 41,
   "id": "dependent-manufacturer",
   "metadata": {
    "ExecuteTime": {
     "end_time": "2021-05-19T20:14:42.907347Z",
     "start_time": "2021-05-19T20:14:42.896377Z"
    }
   },
   "outputs": [
    {
     "data": {
      "text/plain": [
       "'Black garnet color. Fruity aromas and flavors of blackberry reduction, sassafras, dried figs and dates, and black olives with a slightly chewy, vibrant, dryish medium-full body and a silky, appealing, medium-long finish displaying notes of hints of roasted meats with moderate oak flavor. A bold, chewy Syrah that will stand up to rich, beefy dishes.'"
      ]
     },
     "execution_count": 41,
     "metadata": {},
     "output_type": "execute_result"
    }
   ],
   "source": [
    "soup.find(class_='m-review-testimonials-text').text.strip() #review_text"
   ]
  },
  {
   "cell_type": "code",
   "execution_count": 56,
   "id": "pesky-ring",
   "metadata": {
    "ExecuteTime": {
     "end_time": "2021-05-19T20:19:52.692554Z",
     "start_time": "2021-05-19T20:19:52.677594Z"
    }
   },
   "outputs": [
    {
     "data": {
      "text/plain": [
       "'Fruity, Juicy & Smooth & Rich & Full'"
      ]
     },
     "execution_count": 56,
     "metadata": {},
     "output_type": "execute_result"
    }
   ],
   "source": [
    "soup.find(id='ctl00_ContentMain_rowStyle').find(class_='m-review-tastings-notes-cell-value').text.strip() #Style"
   ]
  },
  {
   "cell_type": "code",
   "execution_count": 57,
   "id": "criminal-shoot",
   "metadata": {
    "ExecuteTime": {
     "end_time": "2021-05-19T20:20:19.423478Z",
     "start_time": "2021-05-19T20:20:19.404529Z"
    }
   },
   "outputs": [
    {
     "data": {
      "text/plain": [
       "'blackberry reduction, sassafras, dried figs and dates, and black olives'"
      ]
     },
     "execution_count": 57,
     "metadata": {},
     "output_type": "execute_result"
    }
   ],
   "source": [
    "soup.find(id='ctl00_ContentMain_rowAroma').find(class_='m-review-tastings-notes-cell-value').text.strip() #Aroma"
   ]
  },
  {
   "cell_type": "code",
   "execution_count": 58,
   "id": "devoted-unit",
   "metadata": {
    "ExecuteTime": {
     "end_time": "2021-05-19T20:20:33.905006Z",
     "start_time": "2021-05-19T20:20:33.896030Z"
    }
   },
   "outputs": [
    {
     "data": {
      "text/plain": [
       "'Same as aromas with notes of hints of roasted meats'"
      ]
     },
     "execution_count": 58,
     "metadata": {},
     "output_type": "execute_result"
    }
   ],
   "source": [
    "soup.find(id='ctl00_ContentMain_rowFlavor').find(class_='m-review-tastings-notes-cell-value').text.strip() #Flavor"
   ]
  },
  {
   "cell_type": "code",
   "execution_count": 60,
   "id": "immense-profile",
   "metadata": {
    "ExecuteTime": {
     "end_time": "2021-05-19T20:20:56.180399Z",
     "start_time": "2021-05-19T20:20:56.168432Z"
    }
   },
   "outputs": [
    {
     "data": {
      "text/plain": [
       "'Dryish'"
      ]
     },
     "execution_count": 60,
     "metadata": {},
     "output_type": "execute_result"
    }
   ],
   "source": [
    "soup.find(id='ctl00_ContentMain_rowSweetness').find(class_='m-review-tastings-notes-cell-value').text.strip() #Sweetness"
   ]
  },
  {
   "cell_type": "code",
   "execution_count": 73,
   "id": "musty-stage",
   "metadata": {
    "ExecuteTime": {
     "end_time": "2021-05-19T20:26:34.367637Z",
     "start_time": "2021-05-19T20:26:34.352678Z"
    }
   },
   "outputs": [
    {
     "ename": "AttributeError",
     "evalue": "'NoneType' object has no attribute 'find'",
     "output_type": "error",
     "traceback": [
      "\u001b[1;31m---------------------------------------------------------------------------\u001b[0m",
      "\u001b[1;31mAttributeError\u001b[0m                            Traceback (most recent call last)",
      "\u001b[1;32m<ipython-input-73-197c818281bc>\u001b[0m in \u001b[0;36m<module>\u001b[1;34m\u001b[0m\n\u001b[1;32m----> 1\u001b[1;33m \u001b[0msoup\u001b[0m\u001b[1;33m.\u001b[0m\u001b[0mfind\u001b[0m\u001b[1;33m(\u001b[0m\u001b[0mid\u001b[0m\u001b[1;33m=\u001b[0m\u001b[1;34m'ctl00_ContentMain_rowBitterness'\u001b[0m\u001b[1;33m)\u001b[0m\u001b[1;33m.\u001b[0m\u001b[0mfind\u001b[0m\u001b[1;33m(\u001b[0m\u001b[0mclass_\u001b[0m\u001b[1;33m=\u001b[0m\u001b[1;34m'm-review-tastings-notes-cell-value'\u001b[0m\u001b[1;33m)\u001b[0m\u001b[1;33m.\u001b[0m\u001b[0mtext\u001b[0m\u001b[1;33m.\u001b[0m\u001b[0mstrip\u001b[0m\u001b[1;33m(\u001b[0m\u001b[1;33m)\u001b[0m \u001b[1;31m#Bitterness\u001b[0m\u001b[1;33m\u001b[0m\u001b[1;33m\u001b[0m\u001b[0m\n\u001b[0m",
      "\u001b[1;31mAttributeError\u001b[0m: 'NoneType' object has no attribute 'find'"
     ]
    }
   ],
   "source": [
    "soup.find(id='ctl00_ContentMain_rowBitterness').find(class_='m-review-tastings-notes-cell-value').text.strip() #Bitterness"
   ]
  },
  {
   "cell_type": "code",
   "execution_count": 62,
   "id": "pointed-pressure",
   "metadata": {
    "ExecuteTime": {
     "end_time": "2021-05-19T20:21:21.079944Z",
     "start_time": "2021-05-19T20:21:21.069980Z"
    }
   },
   "outputs": [
    {
     "data": {
      "text/plain": [
       "'Now on its own and with food'"
      ]
     },
     "execution_count": 62,
     "metadata": {},
     "output_type": "execute_result"
    }
   ],
   "source": [
    "soup.find(id='ctl00_ContentMain_rowEnjoy').find(class_='m-review-tastings-notes-cell-value').text.strip() #Enjoy"
   ]
  },
  {
   "cell_type": "code",
   "execution_count": 63,
   "id": "angelic-make",
   "metadata": {
    "ExecuteTime": {
     "end_time": "2021-05-19T20:21:33.315028Z",
     "start_time": "2021-05-19T20:21:33.289091Z"
    }
   },
   "outputs": [
    {
     "data": {
      "text/plain": [
       "'Peking Duck, Lamb Tagine, Souvlaki'"
      ]
     },
     "execution_count": 63,
     "metadata": {},
     "output_type": "execute_result"
    }
   ],
   "source": [
    "soup.find(id='ctl00_ContentMain_rowPairing').find(class_='m-review-tastings-notes-cell-value').text.strip() #Pairing"
   ]
  },
  {
   "cell_type": "code",
   "execution_count": 72,
   "id": "unfinished-cat",
   "metadata": {
    "ExecuteTime": {
     "end_time": "2021-05-19T20:25:30.653681Z",
     "start_time": "2021-05-19T20:25:30.630757Z"
    }
   },
   "outputs": [
    {
     "ename": "AttributeError",
     "evalue": "'NoneType' object has no attribute 'find'",
     "output_type": "error",
     "traceback": [
      "\u001b[1;31m---------------------------------------------------------------------------\u001b[0m",
      "\u001b[1;31mAttributeError\u001b[0m                            Traceback (most recent call last)",
      "\u001b[1;32m<ipython-input-72-7501ec0b7825>\u001b[0m in \u001b[0;36m<module>\u001b[1;34m\u001b[0m\n\u001b[1;32m----> 1\u001b[1;33m \u001b[0msoup\u001b[0m\u001b[1;33m.\u001b[0m\u001b[0mfind\u001b[0m\u001b[1;33m(\u001b[0m\u001b[0mid\u001b[0m\u001b[1;33m=\u001b[0m\u001b[1;34m'ctl00_ContentMain_rowCocktails'\u001b[0m\u001b[1;33m)\u001b[0m\u001b[1;33m.\u001b[0m\u001b[0mfind\u001b[0m\u001b[1;33m(\u001b[0m\u001b[0mclass_\u001b[0m\u001b[1;33m=\u001b[0m\u001b[1;34m'm-review-tastings-notes-cell-value'\u001b[0m\u001b[1;33m)\u001b[0m\u001b[1;33m.\u001b[0m\u001b[0mtext\u001b[0m\u001b[1;33m.\u001b[0m\u001b[0mstrip\u001b[0m\u001b[1;33m(\u001b[0m\u001b[1;33m)\u001b[0m \u001b[1;31m#Cocktails\u001b[0m\u001b[1;33m\u001b[0m\u001b[1;33m\u001b[0m\u001b[0m\n\u001b[0m",
      "\u001b[1;31mAttributeError\u001b[0m: 'NoneType' object has no attribute 'find'"
     ]
    }
   ],
   "source": [
    "soup.find(id='ctl00_ContentMain_rowCocktails').find(class_='m-review-tastings-notes-cell-value').text.strip() #Cocktails"
   ]
  },
  {
   "cell_type": "code",
   "execution_count": 65,
   "id": "warlike-strip",
   "metadata": {
    "ExecuteTime": {
     "end_time": "2021-05-19T20:21:52.339590Z",
     "start_time": "2021-05-19T20:21:52.328621Z"
    }
   },
   "outputs": [
    {
     "data": {
      "text/plain": [
       "'A bold, chewy Syrah that will stand up to rich, beefy dishes.'"
      ]
     },
     "execution_count": 65,
     "metadata": {},
     "output_type": "execute_result"
    }
   ],
   "source": [
    "soup.find(id='ctl00_ContentMain_rowBottomLine').find(class_='m-review-tastings-notes-cell-value').text.strip() #Bottom Line"
   ]
  },
  {
   "cell_type": "code",
   "execution_count": 68,
   "id": "tedious-representative",
   "metadata": {
    "ExecuteTime": {
     "end_time": "2021-05-19T20:23:23.857060Z",
     "start_time": "2021-05-19T20:23:23.842105Z"
    }
   },
   "outputs": [
    {
     "data": {
      "text/plain": [
       "'88 Points'"
      ]
     },
     "execution_count": 68,
     "metadata": {},
     "output_type": "execute_result"
    }
   ],
   "source": [
    "soup.find(class_='m-review-medal-points-q').text.strip() #points"
   ]
  },
  {
   "cell_type": "code",
   "execution_count": 69,
   "id": "hilarious-stick",
   "metadata": {
    "ExecuteTime": {
     "end_time": "2021-05-19T20:23:57.011422Z",
     "start_time": "2021-05-19T20:23:57.002474Z"
    }
   },
   "outputs": [
    {
     "data": {
      "text/plain": [
       "'$10.99'"
      ]
     },
     "execution_count": 69,
     "metadata": {},
     "output_type": "execute_result"
    }
   ],
   "source": [
    "soup.find(id='ctl00_ContentMain_divPrice').text.strip() #Price"
   ]
  },
  {
   "cell_type": "markdown",
   "id": "amused-entry",
   "metadata": {},
   "source": [
    "### Scrape"
   ]
  },
  {
   "cell_type": "code",
   "execution_count": 76,
   "id": "tangible-economics",
   "metadata": {
    "ExecuteTime": {
     "end_time": "2021-05-19T20:35:12.168639Z",
     "start_time": "2021-05-19T20:35:12.155704Z"
    }
   },
   "outputs": [],
   "source": [
    "import numpy as np"
   ]
  },
  {
   "cell_type": "code",
   "execution_count": 90,
   "id": "spotless-crack",
   "metadata": {
    "ExecuteTime": {
     "end_time": "2021-05-19T20:53:05.353236Z",
     "start_time": "2021-05-19T20:53:05.330298Z"
    }
   },
   "outputs": [],
   "source": [
    "def get_drink_features(url):\n",
    "    \n",
    "    features_list = []\n",
    "    \n",
    "    response = requests.get(url, headers=header)\n",
    "\n",
    "    data = response.text\n",
    "\n",
    "    soup = BeautifulSoup(data, \"html.parser\")\n",
    "    \n",
    "    \n",
    "    try:\n",
    "        name = soup.find_all('meta')[2]['content']\n",
    "    except:\n",
    "        name = np.nan\n",
    "    \n",
    "    \n",
    "    try:\n",
    "        description = soup.find_all('meta')[4]['content']\n",
    "    except:\n",
    "        description = np.nan\n",
    "    \n",
    "    try:\n",
    "        category = soup.find_all(class_='m-review-center-info-text')[0].find('h3').text.split('\\r\\n')[1].strip()\n",
    "    except:\n",
    "        category = np.nan\n",
    "        \n",
    "    try:\n",
    "        country = soup.find_all(class_='m-review-center-info-text')[0].find_all('div')[1].text.strip().split('\\r\\n')[1].strip()\n",
    "    except:\n",
    "        country = np.nan\n",
    "    \n",
    "    try:\n",
    "        alc_vol = soup.find_all(class_='m-review-center-info-text')[0].find_all('div')[2].text.strip().split('\\r\\n')[1].strip()\n",
    "    except:\n",
    "        alc_vol = np.nan\n",
    "        \n",
    "        \n",
    "    try:\n",
    "        review = soup.find(class_='m-review-testimonials-text').text.strip()\n",
    "    except:\n",
    "        review = np.nan\n",
    "        \n",
    "    try:\n",
    "        style = soup.find(id='ctl00_ContentMain_rowStyle').find(class_='m-review-tastings-notes-cell-value').text.strip()\n",
    "    except:\n",
    "        style = np.nan\n",
    "        \n",
    "    try:\n",
    "        aroma = soup.find(id='ctl00_ContentMain_rowAroma').find(class_='m-review-tastings-notes-cell-value').text.strip()\n",
    "    except:\n",
    "        aroma = np.nan\n",
    "        \n",
    "    try:\n",
    "        flavor = soup.find(id='ctl00_ContentMain_rowFlavor').find(class_='m-review-tastings-notes-cell-value').text.strip()\n",
    "    except:\n",
    "        flavor = np.nan\n",
    "        \n",
    "    try:\n",
    "        sweetness = soup.find(id='ctl00_ContentMain_rowSweetness').find(class_='m-review-tastings-notes-cell-value').text.strip()\n",
    "    except:\n",
    "        sweetness = np.nan\n",
    "        \n",
    "    try:\n",
    "        bitterness = soup.find(id='ctl00_ContentMain_rowBitterness').find(class_='m-review-tastings-notes-cell-value').text.strip()\n",
    "    except:\n",
    "        bitterness = np.nan\n",
    "        \n",
    "    try:\n",
    "        enjoy = soup.find(id='ctl00_ContentMain_rowEnjoy').find(class_='m-review-tastings-notes-cell-value').text.strip()\n",
    "    except:\n",
    "        enjoy = np.nan\n",
    "        \n",
    "    try:\n",
    "        pairing = soup.find(id='ctl00_ContentMain_rowPairing').find(class_='m-review-tastings-notes-cell-value').text.strip()\n",
    "    except:\n",
    "        pairing = np.nan\n",
    "        \n",
    "    try:\n",
    "        cocktails = soup.find(id='ctl00_ContentMain_rowCocktails').find(class_='m-review-tastings-notes-cell-value').text.strip()\n",
    "    except:\n",
    "        cocktails = np.nan\n",
    "        \n",
    "    try:\n",
    "        bot_line = soup.find(id='ctl00_ContentMain_rowBottomLine').find(class_='m-review-tastings-notes-cell-value').text.strip()\n",
    "    except:\n",
    "        bot_line = np.nan\n",
    "        \n",
    "    try:\n",
    "        point = soup.find(class_='m-review-medal-points-q').text.strip()\n",
    "    except:\n",
    "        point = np.nan\n",
    "        \n",
    "    try:\n",
    "        price = soup.find(id='ctl00_ContentMain_divPrice').text.strip()\n",
    "    except:\n",
    "        price = np.nan\n",
    "        \n",
    "        \n",
    "    #Put all features in a dictionary\n",
    "    drink_dict = dict(zip(df_headers, [name,\n",
    "                                      description,\n",
    "                                      category,\n",
    "                                      country,\n",
    "                                      alc_vol,\n",
    "                                      review,\n",
    "                                      style,\n",
    "                                      aroma,\n",
    "                                      flavor,\n",
    "                                      sweetness,\n",
    "                                      bitterness,\n",
    "                                      enjoy,\n",
    "                                      pairing,\n",
    "                                      cocktails,\n",
    "                                      bot_line,\n",
    "                                      point,\n",
    "                                      price]))\n",
    "    \n",
    "    features_list = features_list.append(drink_dict)\n",
    "    \n",
    "    return features_list\n",
    "    "
   ]
  },
  {
   "cell_type": "code",
   "execution_count": 92,
   "id": "clueless-picture",
   "metadata": {
    "ExecuteTime": {
     "end_time": "2021-05-19T20:55:48.460497Z",
     "start_time": "2021-05-19T20:55:47.952615Z"
    }
   },
   "outputs": [
    {
     "data": {
      "text/plain": [
       "[]"
      ]
     },
     "execution_count": 92,
     "metadata": {},
     "output_type": "execute_result"
    }
   ],
   "source": [
    "features_list = []\n",
    "\n",
    "get_drink_features('https://www.tastings.com/Wine-Review/Celebrities-2018-Syrah-Carinena-Spain-11-08-2020.aspx')\n",
    "\n",
    "features_list"
   ]
  },
  {
   "cell_type": "code",
   "execution_count": 4,
   "id": "linear-tourist",
   "metadata": {
    "ExecuteTime": {
     "end_time": "2021-05-22T20:50:39.553056Z",
     "start_time": "2021-05-22T20:50:39.529059Z"
    }
   },
   "outputs": [
    {
     "data": {
      "text/plain": [
       "3522"
      ]
     },
     "execution_count": 4,
     "metadata": {},
     "output_type": "execute_result"
    }
   ],
   "source": [
    "len(all_items_list[7000:])"
   ]
  },
  {
   "cell_type": "code",
   "execution_count": 122,
   "id": "proud-object",
   "metadata": {
    "ExecuteTime": {
     "end_time": "2021-05-19T22:39:54.814184Z",
     "start_time": "2021-05-19T22:15:06.933686Z"
    }
   },
   "outputs": [
    {
     "name": "stdout",
     "output_type": "stream",
     "text": [
      "Done!\n"
     ]
    }
   ],
   "source": [
    "#Scrape 1000 items\n",
    "\n",
    "features_list = []\n",
    "\n",
    "for url in all_items_list[7000:]:\n",
    "\n",
    "    response = requests.get(url, headers=header)\n",
    "\n",
    "    data = response.text\n",
    "\n",
    "    soup = BeautifulSoup(data, \"html.parser\")\n",
    "\n",
    "\n",
    "    try:\n",
    "        name = soup.find_all('meta')[2]['content']\n",
    "    except:\n",
    "        name = np.nan\n",
    "\n",
    "\n",
    "    try:\n",
    "        description = soup.find_all('meta')[4]['content']\n",
    "    except:\n",
    "        description = np.nan\n",
    "\n",
    "    try:\n",
    "        category = soup.find_all(class_='m-review-center-info-text')[0].find('h3').text.split('\\r\\n')[1].strip()\n",
    "    except:\n",
    "        category = np.nan\n",
    "\n",
    "    try:\n",
    "        country = soup.find_all(class_='m-review-center-info-text')[0].find_all('div')[1].text.strip().split('\\r\\n')[1].strip()\n",
    "    except:\n",
    "        country = np.nan\n",
    "\n",
    "    try:\n",
    "        alc_vol = soup.find_all(class_='m-review-center-info-text')[0].find_all('div')[2].text.strip().split('\\r\\n')[1].strip()\n",
    "    except:\n",
    "        alc_vol = np.nan\n",
    "\n",
    "\n",
    "    try:\n",
    "        review = soup.find(class_='m-review-testimonials-text').text.strip()\n",
    "    except:\n",
    "        review = np.nan\n",
    "\n",
    "    try:\n",
    "        style = soup.find(id='ctl00_ContentMain_rowStyle').find(class_='m-review-tastings-notes-cell-value').text.strip()\n",
    "    except:\n",
    "        style = np.nan\n",
    "\n",
    "    try:\n",
    "        aroma = soup.find(id='ctl00_ContentMain_rowAroma').find(class_='m-review-tastings-notes-cell-value').text.strip()\n",
    "    except:\n",
    "        aroma = np.nan\n",
    "\n",
    "    try:\n",
    "        flavor = soup.find(id='ctl00_ContentMain_rowFlavor').find(class_='m-review-tastings-notes-cell-value').text.strip()\n",
    "    except:\n",
    "        flavor = np.nan\n",
    "\n",
    "    try:\n",
    "        sweetness = soup.find(id='ctl00_ContentMain_rowSweetness').find(class_='m-review-tastings-notes-cell-value').text.strip()\n",
    "    except:\n",
    "        sweetness = np.nan\n",
    "\n",
    "    try:\n",
    "        bitterness = soup.find(id='ctl00_ContentMain_rowBitterness').find(class_='m-review-tastings-notes-cell-value').text.strip()\n",
    "    except:\n",
    "        bitterness = np.nan\n",
    "\n",
    "    try:\n",
    "        enjoy = soup.find(id='ctl00_ContentMain_rowEnjoy').find(class_='m-review-tastings-notes-cell-value').text.strip()\n",
    "    except:\n",
    "        enjoy = np.nan\n",
    "\n",
    "    try:\n",
    "        pairing = soup.find(id='ctl00_ContentMain_rowPairing').find(class_='m-review-tastings-notes-cell-value').text.strip()\n",
    "    except:\n",
    "        pairing = np.nan\n",
    "\n",
    "    try:\n",
    "        cocktails = soup.find(id='ctl00_ContentMain_rowCocktails').find(class_='m-review-tastings-notes-cell-value').text.strip()\n",
    "    except:\n",
    "        cocktails = np.nan\n",
    "\n",
    "    try:\n",
    "        bot_line = soup.find(id='ctl00_ContentMain_rowBottomLine').find(class_='m-review-tastings-notes-cell-value').text.strip()\n",
    "    except:\n",
    "        bot_line = np.nan\n",
    "\n",
    "    try:\n",
    "        point = soup.find(class_='m-review-medal-points-q').text.strip()\n",
    "    except:\n",
    "        point = np.nan\n",
    "\n",
    "    try:\n",
    "        price = soup.find(id='ctl00_ContentMain_divPrice').text.strip()\n",
    "    except:\n",
    "        price = np.nan\n",
    "\n",
    "\n",
    "    #Put all features in a dictionary\n",
    "    drink_dict = dict(zip(df_headers, [name,\n",
    "                                      description,\n",
    "                                      category,\n",
    "                                      country,\n",
    "                                      alc_vol,\n",
    "                                      review,\n",
    "                                      style,\n",
    "                                      aroma,\n",
    "                                      flavor,\n",
    "                                      sweetness,\n",
    "                                      bitterness,\n",
    "                                      enjoy,\n",
    "                                      pairing,\n",
    "                                      cocktails,\n",
    "                                      bot_line,\n",
    "                                      point,\n",
    "                                      price]))\n",
    "\n",
    "    features_list.append(drink_dict)\n",
    "\n",
    "df = pd.DataFrame(features_list)\n",
    "\n",
    "df.to_csv('data/df_1000items_p8_p10.csv')\n",
    "\n",
    "print('Done!')"
   ]
  },
  {
   "cell_type": "code",
   "execution_count": null,
   "id": "disguised-bag",
   "metadata": {},
   "outputs": [],
   "source": []
  },
  {
   "cell_type": "code",
   "execution_count": 5,
   "id": "adorable-noise",
   "metadata": {
    "ExecuteTime": {
     "end_time": "2021-05-22T20:50:51.687643Z",
     "start_time": "2021-05-22T20:50:51.284271Z"
    }
   },
   "outputs": [],
   "source": [
    "response = requests.get('https://www.tastings.com/Beer-Review/Vancouver-Island-Brewing-Pipers-Pale-Ale-Canada-08-02-2018.aspx', headers=header)\n",
    "\n",
    "data = response.text\n",
    "\n",
    "soup = BeautifulSoup(data, \"html.parser\")"
   ]
  },
  {
   "cell_type": "code",
   "execution_count": 6,
   "id": "upset-shock",
   "metadata": {
    "ExecuteTime": {
     "end_time": "2021-05-22T20:51:20.920409Z",
     "start_time": "2021-05-22T20:51:20.896438Z"
    }
   },
   "outputs": [
    {
     "data": {
      "text/plain": [
       "'https://www.tastings.com/Product-Images/Beer/2018/8_2_2018/225202_fs.jpg'"
      ]
     },
     "execution_count": 6,
     "metadata": {},
     "output_type": "execute_result"
    }
   ],
   "source": [
    "soup.find(class_='m-review-left-image-container').find('img')['src'] #photo 127 x 228"
   ]
  },
  {
   "cell_type": "code",
   "execution_count": 135,
   "id": "hollow-fat",
   "metadata": {
    "ExecuteTime": {
     "end_time": "2021-05-19T22:50:44.955077Z",
     "start_time": "2021-05-19T22:50:44.942140Z"
    }
   },
   "outputs": [
    {
     "data": {
      "text/plain": [
       "'English-style pale ales are pale gold to amber in color and range in alcohol from 4-6%. These beers are characterized by the flavors and aromas of nutty and biscuity English malts, floral and earthy English hops and the notes of fruitiness and faint butterscotch of English yeast. Water also plays a key role in the overall character of these beers. Great examples of this style are brewed with harder water resembling that of Burton-Upon-Trent, lending these beers an impression of dryness in the finish and rounded hop bitterness. Pale ales originated in England over 300 years ago with the advent of new technology making pale barely malt a possibility. In the 19th century, ales that were pale in color were often referred to as pale ale or bitter interchangeably. Today, there is a distinction between these styles, albeit a very fine distinction with some arguing that “bitter” refers to the style dispensed as draft and “pale ale” to the style when bottled. Noteworthy examples of this style include: Fuller’s London Pride Pale Ale, Sam Smith’s Organic Pale Ale and Marston’s Pedigree English Pale Ale.'"
      ]
     },
     "execution_count": 135,
     "metadata": {},
     "output_type": "execute_result"
    }
   ],
   "source": [
    "soup.find(class_='m-review-catg-desc-text').text.strip() #extend review"
   ]
  },
  {
   "cell_type": "code",
   "execution_count": 17,
   "id": "flawed-devil",
   "metadata": {
    "ExecuteTime": {
     "end_time": "2021-05-20T15:05:19.729075Z",
     "start_time": "2021-05-20T15:05:19.723092Z"
    }
   },
   "outputs": [
    {
     "data": {
      "text/plain": [
       "10522"
      ]
     },
     "execution_count": 17,
     "metadata": {},
     "output_type": "execute_result"
    }
   ],
   "source": [
    "len(all_items_list)"
   ]
  },
  {
   "cell_type": "code",
   "execution_count": 8,
   "id": "8f048d2e",
   "metadata": {
    "ExecuteTime": {
     "end_time": "2021-05-20T14:46:11.062273Z",
     "start_time": "2021-05-20T14:46:09.529336Z"
    }
   },
   "outputs": [],
   "source": [
    "response = requests.get('https://www.tastings.com/Spirits-Review/Mezcal-de-Leyendas-Verde-San-Luis-Potosi-Mezcal-Mexico-90-Proof-05-01-2021.aspx', headers=header)\n",
    "\n",
    "data = response.text\n",
    "\n",
    "soup = BeautifulSoup(data, \"html.parser\")"
   ]
  },
  {
   "cell_type": "code",
   "execution_count": 15,
   "id": "8a304c38",
   "metadata": {
    "ExecuteTime": {
     "end_time": "2021-05-20T14:48:56.453179Z",
     "start_time": "2021-05-20T14:48:56.437169Z"
    }
   },
   "outputs": [
    {
     "data": {
      "text/plain": [
       "'Superlative'"
      ]
     },
     "execution_count": 15,
     "metadata": {},
     "output_type": "execute_result"
    }
   ],
   "source": [
    "soup.find(id='ctl00_ContentMain_divBands').text.strip()"
   ]
  },
  {
   "cell_type": "code",
   "execution_count": 18,
   "id": "4bec8c3c",
   "metadata": {
    "ExecuteTime": {
     "end_time": "2021-05-20T15:05:32.324748Z",
     "start_time": "2021-05-20T15:05:32.319761Z"
    }
   },
   "outputs": [],
   "source": [
    "import time, os"
   ]
  },
  {
   "cell_type": "code",
   "execution_count": 6,
   "id": "strident-male",
   "metadata": {
    "ExecuteTime": {
     "end_time": "2021-05-24T02:33:24.392609Z",
     "start_time": "2021-05-24T02:06:56.235867Z"
    }
   },
   "outputs": [
    {
     "name": "stdout",
     "output_type": "stream",
     "text": [
      "Done!\n"
     ]
    }
   ],
   "source": [
    "#Scrape more reviews and photos\n",
    "smaller_headers = [\"Name\", \"Photo_Link\"]\n",
    "features_list = []\n",
    "\n",
    "for url in all_items_list[7000:]:\n",
    "\n",
    "    response = requests.get(url, headers=header)\n",
    "\n",
    "    data = response.text\n",
    "\n",
    "    soup = BeautifulSoup(data, \"html.parser\")\n",
    "\n",
    "\n",
    "    try:\n",
    "        name = soup.find_all('meta')[2]['content']\n",
    "    except:\n",
    "        name = np.nan\n",
    "\n",
    "\n",
    "    try:\n",
    "        photo_link = soup.find(class_='m-review-left-image-container').find('img')['src'] #photo 127 x 228\n",
    "    except:\n",
    "        photo_link = np.nan\n",
    "\n",
    "\n",
    "\n",
    "    #Put all features in a dictionary\n",
    "    drink_dict = dict(zip(smaller_headers, [name, photo_link]))\n",
    "\n",
    "    features_list.append(drink_dict)\n",
    "\n",
    "df = pd.DataFrame(features_list)\n",
    "\n",
    "df.to_csv('tastings_photos_links_4.csv')\n",
    "time.sleep(60)\n",
    "print('Done!')"
   ]
  },
  {
   "cell_type": "code",
   "execution_count": 145,
   "id": "aggravating-cook",
   "metadata": {
    "ExecuteTime": {
     "end_time": "2021-05-19T23:03:30.789173Z",
     "start_time": "2021-05-19T23:03:30.774185Z"
    }
   },
   "outputs": [
    {
     "data": {
      "text/plain": [
       "10522"
      ]
     },
     "execution_count": 145,
     "metadata": {},
     "output_type": "execute_result"
    }
   ],
   "source": [
    "len(all_items_list)"
   ]
  },
  {
   "cell_type": "markdown",
   "id": "be57f8c4",
   "metadata": {},
   "source": [
    "### More scraping"
   ]
  },
  {
   "cell_type": "code",
   "execution_count": 179,
   "id": "6ff1b0ca",
   "metadata": {
    "ExecuteTime": {
     "end_time": "2021-05-25T05:05:22.504485Z",
     "start_time": "2021-05-25T05:05:20.924109Z"
    }
   },
   "outputs": [
    {
     "data": {
      "text/plain": [
       "<!DOCTYPE html>\n",
       "\n",
       "<html lang=\"en\">\n",
       "<head prefix=\"og: http://ogp.me/ns# fb: http://ogp.me/ns/fb# product: http://ogp.me/ns/product#\">\n",
       "<link href=\"https://www.caskers.com/static/version1620198840/_cache/merged/72031697a13e28ea9e121d33d1eed36f.min.css\" media=\"all\" rel=\"stylesheet\" type=\"text/css\"/><link href=\"https://www.caskers.com/static/version1620198840/frontend/BelVG/caskers_theme/en_US/css/print.min.css\" media=\"print\" rel=\"stylesheet\" type=\"text/css\"/><style>\n",
       "    #CybotCookiebotDialog a, #CybotCookiebotDialog div, #CybotCookiebotDialogBodyContentControls, #CybotCookiebotDialogBodyContentTitle {\n",
       "        font-family: GothamPro,Helvetica Neue,Helvetica,Arial,sans-serif!important;\n",
       "    }\n",
       "    #CybotCookiebotDialog {    box-shadow: 0 0 30px 0 rgba(0,0,0,.14)!important;}\n",
       "\n",
       "    a#CybotCookiebotDialogBodyLevelButtonLevelOptinAllowallSelection,a#CybotCookiebotDialogBodyLevelButtonLevelOptinAllowAll{border-radius: 3px!important; margin-top: 5px!important;  padding: 5px 10px!important;}\n",
       "    h2#CybotCookiebotDialogBodyContentTitle{padding-top: 10px;padding-bottom: 5px;}\n",
       "    .nav-open .promo-banner {\n",
       "        display: none !important;\n",
       "    }\n",
       "\n",
       "    .minicart-wrapper .owl-carousel .product-item-sales-block {display:none!Important;}\n",
       "    .category-clubs .toolbar-products {display:none;}\n",
       "    .category-treat-yourself .products.list {justify-content: center;}\n",
       "\n",
       "\n",
       "    .category-page-landing  .filter-sorter,\n",
       "    .category-page-landing  .bootstrap-select:not(:first-child),\n",
       "    .category-page-landing  .top-toolbar,\n",
       "    .category-mothers-day.catalog-category-view  .filter-sorter,\n",
       "    .category-mothers-day.catalog-category-view  .bootstrap-select:not(:first-child),\n",
       "    .category-mothers-day.catalog-category-view  .top-toolbar,\n",
       "    .category-premium-whiskey-pours.catalog-category-view  .filter-sorter,\n",
       "    .category-premium-whiskey-pours.catalog-category-view  .bootstrap-select:not(:first-child),\n",
       "    .category-premium-whiskey-pours.catalog-category-view  .top-toolbar,\n",
       "    .category-easter-bottle-guide.catalog-category-view  .filter-sorter,\n",
       "    .category-easter-bottle-guide.catalog-category-view  .bootstrap-select:not(:first-child),\n",
       "    .category-easter-bottle-guide.catalog-category-view  .top-toolbar,\n",
       "    .category-cinco-de-mayo-selection.catalog-category-view  .filter-sorter,\n",
       "    .category-cinco-de-mayo-selection.catalog-category-view  .bootstrap-select:not(:first-child),\n",
       "    .category-cinco-de-mayo-selection.catalog-category-view  .top-toolbar,\n",
       "    .category-kentucky-derby-selection.catalog-category-view  .filter-sorter,\n",
       "    .category-kentucky-derby-selection.catalog-category-view  .bootstrap-select:not(:first-child),\n",
       "    .category-kentucky-derby-selection.catalog-category-view  .top-toolbar,\n",
       "    .category-seven-stills  .filter-sorter,\n",
       "    .category-seven-stills  .bootstrap-select:not(:first-child),\n",
       "    .category-seven-stills  .top-toolbar,\n",
       "    .category-st-patricks  .filter-sorter,\n",
       "    .category-st-patricks  .bootstrap-select:not(:first-child),\n",
       "    .category-st-patricks  .top-toolbar,\n",
       "    .category-irish-whiskey-gems  .filter-sorter,\n",
       "    .category-irish-whiskey-gems  .bootstrap-select:not(:first-child),\n",
       "    .category-irish-whiskey-gems  .top-toolbar,\n",
       "    .category-teeling .filter-sorter,\n",
       "    .category-teeling .bootstrap-select:not(:first-child),\n",
       "    .category-teeling .top-toolbar,\n",
       "    .category-super-premium-selection .filter-sorter,\n",
       "    .category-super-premium-selection .bootstrap-select:not(:first-child),\n",
       "    .category-super-premium-selection .top-toolbar,\n",
       "    .category-treat-yourself .filter-sorter,\n",
       "    .category-treat-yourself .bootstrap-select:not(:first-child),\n",
       "    .category-treat-yourself .top-toolbar{visibility:hidden;width:0;height:0;}\n",
       "\n",
       "    .category-cinco-de-mayo-selection.catalog-category-view .has-line .dot,\n",
       "    .category-cinco-de-mayo-selection.catalog-category-view .has-line h3,\n",
       "    .category-easter-bottle-guide.catalog-category-view .has-line .dot,\n",
       "    .category-easter-bottle-guide.catalog-category-view .has-line h3,\n",
       "    .category-kentucky-derby-selection.catalog-category-view .has-line .dot,\n",
       "    .category-kentucky-derby-selection.catalog-category-view .has-line h3,\n",
       "    .category-page-landing  .breadcrumbs,\n",
       "    .category-page-landing  .bottom-toolbar,\n",
       "    .category-premium-whiskey-pours  .breadcrumbs,\n",
       "    .category-premium-whiskey-pours  .bottom-toolbar,\n",
       "    .category-mothers-day  .breadcrumbs,\n",
       "    .category-mothers-day  .bottom-toolbar,\n",
       "    .category-seven-stills  .breadcrumbs,\n",
       "    .category-seven-stills  .bottom-toolbar,\n",
       "    .category-kentucky-derby-selection.catalog-category-view  .breadcrumbs,\n",
       "    .category-kentucky-derby-selection.catalog-category-view  .bottom-toolbar,\n",
       "    .category-cinco-de-mayo-selection.catalog-category-view  .breadcrumbs,\n",
       "    .category-easter-bottle-guide.catalog-category-view  .breadcrumbs,\n",
       "    .category-st-patricks  .breadcrumbs,\n",
       "    .category-st-patricks  .bottom-toolbar,\n",
       "    .category-irish-whiskey-gems  .breadcrumbs,\n",
       "    .category-irish-whiskey-gems  .bottom-toolbar,\n",
       "    .category-teeling .breadcrumbs,\n",
       "    .category-teeling .bottom-toolbar,\n",
       "    .category-super-premium-selection .breadcrumbs,\n",
       "    .category-super-premium-selection .bottom-toolbar,\n",
       "    .category-treat-yourself .breadcrumbs,\n",
       "    .category-treat-yourself .bottom-toolbar {display:none!important;}\n",
       "</style><style>\n",
       ".top-container {            \n",
       "    max-width: 100%;\n",
       "    background: #0f1008;\n",
       "}\n",
       ".top-container img {height: 100px;    display: block;    object-fit: contain; margin: 0 auto; }\n",
       "\n",
       "@media (max-width: 768px) {\n",
       "    .page-wrapper {\n",
       "       /* padding-top: 114px;*/\n",
       "    }\n",
       "    .top-container img { height: 100px; margin: 0 auto; }\n",
       "}\n",
       "@media (max-width: 480px) {\n",
       "    .page-wrapper { padding-top: 106px; }\n",
       "    .banner-link { display: block; margin: 0 -25px; }\n",
       "    .top-container img { height: auto; }\n",
       "}\n",
       "</style><script data-pagespeed-orig-index=\"0\" type=\"text/psajs\">\n",
       "    var BASE_URL = 'https://www.caskers.com/';\n",
       "    var require = {\n",
       "        \"baseUrl\": \"https://www.caskers.com/static/version1620198840/frontend/BelVG/caskers_theme/en_US\"\n",
       "    };\n",
       "</script>\n",
       "<meta charset=\"utf-8\"/>\n",
       "<meta content=\"Westward American Single Malt Whiskey: Buy Now | Caskers\" name=\"title\"/>\n",
       "<meta content=\"Get Westward American Single Malt Whiskey for $69.99 ➜ See buyer reviews and tasting notes.\" name=\"description\"/>\n",
       "<meta content=\"INDEX,FOLLOW\" name=\"robots\"/>\n",
       "<meta content=\"width=device-width, initial-scale=1\" name=\"viewport\"/>\n",
       "<title>Westward American Single Malt Whiskey: Buy Now | Caskers</title>\n",
       "<script data-pagespeed-orig-index=\"1\" data-pagespeed-orig-type=\"text/javascript\" src=\"https://www.caskers.com/static/version1620198840/_cache/merged/d23a4da5061ec5ab6787bfef4caac068.js\" type=\"text/psajs\"></script>\n",
       "<link as=\"font\" crossorigin=\"anonymous\" href=\"https://www.caskers.com/static/version1620198840/frontend/BelVG/caskers_theme/en_US/Nwdthemes_Revslider/public/assets/fonts/revicons/revicons.woff\" rel=\"preload\"/>\n",
       "<link as=\"font\" crossorigin=\"anonymous\" href=\"https://www.caskers.com/static/version1620198840/frontend/BelVG/caskers_theme/en_US/fonts/gothampro/regular/GothamPro.woff2\" rel=\"preload\"/>\n",
       "<link as=\"font\" crossorigin=\"anonymous\" href=\"https://www.caskers.com/static/version1620198840/frontend/BelVG/caskers_theme/en_US/fonts/gothampro/book/Gotham-Book.woff2\" rel=\"preload\"/>\n",
       "<link as=\"font\" crossorigin=\"anonymous\" href=\"https://www.caskers.com/static/version1620198840/frontend/BelVG/caskers_theme/en_US/fonts/gothampro/bookItalic/Gotham-BookItalic.woff2\" rel=\"preload\"/>\n",
       "<link as=\"font\" crossorigin=\"anonymous\" href=\"https://www.caskers.com/static/version1620198840/frontend/BelVG/caskers_theme/en_US/fonts/gothampro/bold/Gotham-Bold.woff2\" rel=\"preload\"/>\n",
       "<link as=\"font\" crossorigin=\"anonymous\" href=\"https://www.caskers.com/static/version1620198840/frontend/BelVG/caskers_theme/en_US/fonts/Blank-Theme-Icons/Blank-Theme-Icons.woff2\" rel=\"preload\"/>\n",
       "<link href=\"https://www.caskers.com/westward-american-single-malt-whiskey/\" rel=\"canonical\"/>\n",
       "<link href=\"https://cdn.caskers.com/favicon/default/favicon.ico\" rel=\"icon\" type=\"image/x-icon\"/>\n",
       "<link href=\"https://cdn.caskers.com/favicon/default/favicon.ico\" rel=\"shortcut icon\" type=\"image/x-icon\"/>\n",
       "<!--TplOJKV7wEx31TBI1HHDk8BjDppKVgWl-->\n",
       "<!-- 25C9EE67073C902B3BCB4785AF8426D8 -->\n",
       "<!--442861d94834748b0949307b57914e8b-->\n",
       "<!--RbpOg79pJELDTu9lmgxm3Ji1OTjFih3r-->\n",
       "<link href=\"https://cdn.caskers.com\" rel=\"preconnect\"/>\n",
       "<link href=\"https://api.ipstack.com\" rel=\"preconnect\"/>\n",
       "<link href=\"https://www.googleadservices.com\" rel=\"preconnect\"/>\n",
       "<link href=\"https://connect.facebook.net\" rel=\"preconnect\"/>\n",
       "<link href=\"https://djtflbt20bdde.cloudfront.net\" rel=\"preconnect\"/>\n",
       "<link href=\"https://googleads.g.doubleclick.net\" rel=\"preconnect\"/>\n",
       "<link href=\"https://www.googletagmanager.com\" rel=\"preconnect\"/>\n",
       "<link href=\"https://ak.sail-horizon.com\" rel=\"preconnect\"/>\n",
       "<link href=\"https://fonts.googleapis.com\" rel=\"preconnect\"/>\n",
       "<!--\n",
       "<meta name=\"google-site-verification\" content=\"Nh2HBv0EPHvufTR9eIfaPwZZRuc0jvXO3Zybwd7PjUY\" />\n",
       "<meta name=\"google-site-verification\" content=\"V6nbMIKhHKURq8igMC4iUY3hDxY4w2IVKPvvdz_p9m8\" />\n",
       "<meta name=\"google-site-verification\" content=\"rNiIkF7LpgQM-1e6Fr3NQfp9QjntlGxppIFolscqzAM\" />\n",
       "-->\n",
       "<meta content=\"vfla20snog3pcsll545s2ijusqn9lh\" name=\"facebook-domain-verification\"/>\n",
       "<meta content=\"2IyHf1nKx-JKSUzye8-h1mlUhEeNQ91sgVUcoxL9Nnk\" name=\"google-site-verification\"/>\n",
       "<meta content=\"b4035e2b0b3613d110630d79950eccf5\" name=\"p:domain_verify\"/>\n",
       "<script type=\"application/ld+json\">\n",
       "    {\n",
       "        \"@context\": \"http://schema.org\",\n",
       "        \"@type\": \"WebSite\",\n",
       "        \"url\": \"https://www.caskers.com/\",\n",
       "        \"potentialAction\": {\n",
       "            \"@type\": \"SearchAction\",\n",
       "            \"target\": \"https://www.caskers.com/catalogsearch/result/?q={search_term_string}\",\n",
       "            \"query-input\": \"required name=search_term_string\"\n",
       "        }\n",
       "    }\n",
       "</script>\n",
       "<script type=\"application/ld+json\">{ \"@context\":\"http:\\/\\/schema.org\",\n",
       "        \"@type\":\"Organization\",\n",
       "        \"url\":\"https://www.caskers.com/\",\n",
       "        \"logo\":\"https://www.caskers.com/static/version1620198840/frontend/BelVG/caskers_theme/en_US/images/logo-bg.png\",\n",
       "        \"name\":\"Caskers\",\n",
       "        \"email\":\"info@caskers.com\"\n",
       "        }\n",
       "</script>\n",
       "<script data-pagespeed-orig-index=\"2\" type=\"text/psajs\">\n",
       "\n",
       "\t/**\n",
       "\t * Magento 2 Google Tag Manager Enhanced Ecommerce (UA) Tracking\n",
       "\t *\n",
       "\t * @author Anowave\n",
       "\t * @see http://www.anowave.com/marketplace/magento-2-extensions/magento-2-google-tag-manager-enhanced-ecommerce-ua-tracking/\n",
       "\t * @copyright 2020 Anowave\n",
       "\t */\n",
       "\n",
       "\twindow.dataLayer = window.dataLayer || [];\n",
       "\n",
       "\t\t\n",
       "\tAEC.Const = \n",
       "\t{\n",
       "\t\tTIMING_CATEGORY_ADD_TO_CART:\t\t'Add To Cart Time',\n",
       "\t\tTIMING_CATEGORY_REMOVE_FROM_CART:\t'Remove From Cart Time',\n",
       "\t\tTIMING_CATEGORY_PRODUCT_CLICK:\t\t'Product Detail Click Time',\n",
       "\t\tTIMING_CATEGORY_CHECKOUT:\t\t\t'Checkout Time',\n",
       "\t\tTIMING_CATEGORY_CHECKOUT_STEP:\t\t'Checkout Step Time',\n",
       "\t\tTIMING_CATEGORY_PRODUCT_WISHLIST:\t'Add to Wishlist Time',\n",
       "\t\tTIMING_CATEGORY_PRODUCT_COMPARE:\t'Add to Compare Time'\n",
       "\t};\n",
       "\n",
       "\tAEC.Const.URL \t\t\t\t\t= 'https://www.caskers.com/';\n",
       "\tAEC.Const.VARIANT_DELIMITER \t= '-';\n",
       "\tAEC.Const.VARIANT_DELIMITER_ATT = ':';\n",
       "\n",
       "\t\t\n",
       "\tAEC.Const.CHECKOUT_STEP_SHIPPING \t= 1;\n",
       "\tAEC.Const.CHECKOUT_STEP_PAYMENT  \t= 2;\n",
       "\tAEC.Const.CHECKOUT_STEP_ORDER  \t\t= 3;\n",
       "\n",
       "\t\t\n",
       "\tAEC.Const.DIMENSION_SEARCH = 3;\n",
       "\n",
       "\t\n",
       "\tAEC.Const.COOKIE_DIRECTIVE \t\t\t\t\t\t\t\t= false;\n",
       "\tAEC.Const.COOKIE_DIRECTIVE_CONSENT_GRANTED  \t\t\t= false;\n",
       "\tAEC.Const.COOKIE_DIRECTIVE_SEGMENT_MODE \t\t\t\t= false;\n",
       "\tAEC.Const.COOKIE_DIRECTIVE_SEGMENT_MODE_EVENTS\t\t\t= [\"cookieConsentGranted\"];\t\n",
       "\tAEC.Const.COOKIE_DIRECTIVE_CONSENT_GRANTED_EVENT \t\t= \"cookieConsentGranted\";\n",
       "\tAEC.Const.COOKIE_DIRECTIVE_CONSENT_DECLINE_EVENT \t\t= \"cookieConsentDeclined\";\n",
       "\n",
       "\t\t\n",
       "\tAEC.Const.CATALOG_CATEGORY_ADD_TO_CART_REDIRECT_EVENT \t= \"catalogCategoryAddToCartRedirect\";\n",
       "\n",
       "\t\t\n",
       "\tAEC.Message = \n",
       "\t{\n",
       "\t\tconfirm: \t\t\t true,\n",
       "\t\tconfirmRemoveTitle:  \"Are you sure?\",\n",
       "\t\tconfirmRemove: \t\t \"Are you sure you would like to remove this item from the shopping cart?\"\t\t\n",
       "\t};\n",
       "\t\t\t\n",
       "\tAEC.storeName \t\t\t= \"Default Store View\";\n",
       "\tAEC.currencyCode\t \t= \"USD\";\n",
       "\tAEC.useDefaultValues \t= false;\n",
       "\tAEC.facebook \t\t\t= false;\n",
       "\tAEC.facebookInitParams \t= [];\n",
       "\tAEC.eventCallback\t\t= false;\n",
       "\n",
       "\t\t\n",
       "\tAEC.SUPER = [];\n",
       "\n",
       "\t\t\n",
       "\tAEC.CONFIGURABLE_SIMPLES = [];\n",
       "\n",
       "\t\n",
       "\tAEC.BUNDLE = {\"bundles\":[],\"options\":[]};\n",
       "\n",
       "\t\n",
       "\tAEC.localStorage = true;\n",
       "\t\n",
       "</script>\n",
       "<script data-pagespeed-orig-index=\"3\" type=\"text/psajs\">\n",
       "\n",
       "\t/**\n",
       " \t * Define dataLayer[] object\n",
       "\t */\n",
       "\twindow.dataLayer = window.dataLayer || [];\n",
       "\n",
       "\t/**\n",
       "\t * Define transport layer to use as fallback in case of Ad-Blockers\n",
       "\t * \n",
       "\t * @copyright Anowave\n",
       "\t */\n",
       "\tvar dataLayerTransport = (function()\n",
       "\t{\n",
       "\t\tvar data = [];\n",
       "\t\t\n",
       "\t\treturn {\n",
       "\t\t\tdata:[],\n",
       "\t\t\tpush: function(data)\n",
       "\t\t\t{\n",
       "\t\t\t\tthis.data.push(data);\n",
       "\t\t\t\t\n",
       "\t\t\t\treturn this;\n",
       "\t\t\t},\n",
       "\t\t\tserialize: function()\n",
       "\t\t\t{\n",
       "\t\t\t\treturn this.data;\n",
       "\t\t\t}\n",
       "\t\t}\t\n",
       "\t})();\n",
       "\t\n",
       "</script><script data-pagespeed-orig-index=\"4\" type=\"text/psajs\">\n",
       "\n",
       "\tvar EC = [], Purchase = [];\n",
       "\n",
       "\t/* Dynamic remarketing */\n",
       "\twindow.google_tag_params = window.google_tag_params || {};\n",
       "\n",
       "\t/* Default pagetype */\n",
       "\twindow.google_tag_params.ecomm_pagetype = 'product';\n",
       "\n",
       "\t/* Grouped products collection */\n",
       "\twindow.G = [];\n",
       "\n",
       "\t/**\n",
       "\t * Global revenue \n",
       "\t */\n",
       "\twindow.revenue = 0;\n",
       "\n",
       "\t/**\n",
       "\t * DoubleClick\n",
       "\t */\n",
       "\twindow.DoubleClick = \n",
       "\t{\n",
       "\t\tDoubleClickRevenue:\t \t0,\n",
       "\t\tDoubleClickTransaction: 0,\n",
       "\t\tDoubleClickQuantity: \t0\n",
       "\t};\n",
       "\t\n",
       "\tvar visitor = {\"visitorLoginState\":\"Logged out\",\"visitorLifetimeValue\":0,\"visitorExistingCustomer\":\"No\",\"visitorType\":\"NOT LOGGED IN\",\"currentStore\":\"Default Store View\"};\n",
       "\t\n",
       "\t\t\n",
       "\t\n",
       "\t\n",
       "\tAEC.Cookie.visitor(visitor).push(dataLayer, false);\n",
       "\t\n",
       "</script>\n",
       "<script data-pagespeed-orig-index=\"5\" type=\"text/psajs\">\n",
       "\t\n",
       "\t\t\t\t\n",
       "\t\twindow.google_tag_params.ecomm_pagetype \t= 'product';\n",
       "\t\twindow.google_tag_params.ecomm_category \t= 'Spirits/Whiskey';\n",
       "\t\twindow.google_tag_params.ecomm_prodid\t\t= '5231-CSC';\n",
       "\t\twindow.google_tag_params.ecomm_totalvalue \t=  69.99;\n",
       "\t\twindow.google_tag_params.returnCustomer \t=  false;\n",
       "\n",
       "\t\t\t\t\n",
       "\t\t\n",
       "\t\tAEC.Cookie.detail({\"ecommerce\":{\"currencyCode\":\"USD\",\"detail\":{\"products\":[{\"id\":\"5231-CSC\",\"name\":\"Westward American Single Malt Whiskey\",\"price\":69.99,\"brand\":\"Westward\",\"category\":\"Spirits\\/Whiskey\",\"dimension10\":\"In stock\",\"quantity\":1}],\"actionField\":{\"list\":\"Whiskey\"}},\"impressions\":[]},\"currentStore\":\"Default Store View\"}).push(dataLayer, false);\n",
       "\n",
       "\t\t\n",
       "\t\tdataLayerTransport.push({\"ecommerce\":{\"currencyCode\":\"USD\",\"detail\":{\"products\":[{\"id\":\"5231-CSC\",\"name\":\"Westward American Single Malt Whiskey\",\"price\":69.99,\"brand\":\"Westward\",\"category\":\"Spirits\\/Whiskey\",\"dimension10\":\"In stock\",\"quantity\":1}],\"actionField\":{\"list\":\"Whiskey\"}},\"impressions\":[]},\"currentStore\":\"Default Store View\"});\n",
       "\t\t\n",
       "\t\t\t\t\n",
       "\t\twindow.G = [];\n",
       "\n",
       "\t\t\t</script>\n",
       "<!-- Google Tag Manager -->\n",
       "<script data-pagespeed-orig-index=\"6\" type=\"text/psajs\">(function(w,d,s,l,i){w[l]=w[l]||[];w[l].push({'gtm.start':\n",
       "new Date().getTime(),event:'gtm.js'});var f=d.getElementsByTagName(s)[0],\n",
       "j=d.createElement(s),dl=l!='dataLayer'?'&l='+l:'';j.async=true;j.src=\n",
       "'https://www.googletagmanager.com/gtm.js?id='+i+dl;f.parentNode.insertBefore(j,f);\n",
       "})(window,document,'script','dataLayer','GTM-TD6J4K9');</script>\n",
       "<!-- End Google Tag Manager --><script data-pagespeed-orig-index=\"7\" type=\"text/psajs\">AEC.Bind.apply({\"performance\":false})</script>\n",
       "<script data-pagespeed-orig-index=\"8\" data-pagespeed-orig-type=\"text/javascript\" type=\"text/psajs\">\n",
       "    require([\"jquery\", \"Sailthru\"], function ($, Sailthru) {\n",
       "        var client_id = 'ac42c5c278ae803264bd41ebfa0b1777';\n",
       "        Sailthru.init({\n",
       "            customerId: client_id,\n",
       "            isCustom: true,\n",
       "            autoTrackPageview: false\n",
       "        });\n",
       "\n",
       "        var $url = $('#sailthru-url');\n",
       "        if ($url.length) {\n",
       "            Sailthru.track('pageview', {\n",
       "                url: $url.attr('content')\n",
       "            });\n",
       "        }\n",
       "    });\n",
       "</script>\n",
       "<!--BEGIN SAILTHRU TAGS-->\n",
       "<meta content=\"Westward American Single Malt Whiskey\" name=\"sailthru.title\"/>\n",
       "<meta content=\"\" name=\"sailthru.tags\"/>\n",
       "<meta content=\"Born in the Northwest, Westward Whiskey was founded in 2004 by former brewer and winemaker Christian Krogstad who had a vision to bring American Single Malt, inspired by the distinctive culture, climate, and natural ingredients that come together in the Northwest, to the people. It's worth noting that at the time, there were no more than about three dozen craft distilleries in the U.S. Today, Westward Whiskey is lead by Christian and Thomas Mooney who joined the team in 2011. The distillery is a proud leader among more than 2,200 producers, bringing bold, robust and delicious American Single Malt to the world. \n",
       "\n",
       "Westward strives for perfection through Minimalist Distilling, a philosophy pioneered by their founders that begins by selection the highest quality ingredients. Their purposefully inefficient production process brings out the flavor of the grain and other natural ingredients. Every step is meant to express flavor; never to strip away or mask impurities.\n",
       "\n",
       "Westward American Single Malt begins by brewing a delicious, artisanal American ale, from scratch, using locally malted barley, ale yeast, and a slow, low temperature fermentation. The fresh beer is then distilled twice in custom low-reflux pot stills designed to create a robust spirit, transforming our fresh beer into whiskey. Westward is aged to perfection in new, charred American Oak barrels, then mingled in small batches to achieve Westward’s signature flavor profile – balanced and bold, with just the right amount of spice and sweetness.\n",
       "\n",
       "Westwatd American Single Malt Whiskey earned a Double Gold, at the San Francisco World Spirits Competition, 2019.\n",
       "\n",
       "\n",
       "Get yours today!\" name=\"sailthru.description\"/>\n",
       "<meta content=\"6999\" name=\"sailthru.price\"/>\n",
       "<meta content=\"https://www.caskers.com/catalog/product/view/id/3386\" id=\"sailthru-url\" name=\"sailthru.url\"/>\n",
       "<!--END SAILTHRU TAGS-->\n",
       "<script type=\"application/ld+json\">\n",
       "    {\n",
       "        \"@context\": \"https://schema.org/\",\n",
       "        \"@type\": \"Product\",\n",
       "        \"name\": \"Westward American Single Malt Whiskey\",\n",
       "        \"image\": \"https://cdn.caskers.com/catalog/product/cache/00cecac1993c85adfe937bb669fd27a3/w/e/westward-american-single-malt-whiskey_1.jpg\",\n",
       "        \"description\": \"This grain-to-glass Oregon single malt is crafted from scratch, using American Northwest two-row barley.\",\n",
       "        \"brand\": {\n",
       "            \"@type\": \"Thing\",\n",
       "            \"name\": \"Westward\"\n",
       "        },\n",
       "        \"sku\": \"5231-CSC\",\n",
       "        \"aggregateRating\": {\n",
       "            \"@type\": \"AggregateRating\",\n",
       "            \"bestRating\": 5,\n",
       "            \"worstRating\": 1,\n",
       "            \"ratingValue\": \"4.65\",\n",
       "            \"reviewCount\": \"2\"\n",
       "        },\n",
       "        \"offers\": {\n",
       "            \"@type\": \"Offer\",\n",
       "            \"url\": \"https://www.caskers.com/westward-american-single-malt-whiskey/\",\n",
       "            \"priceCurrency\": \"USD\",\n",
       "            \"priceValidUntil\":\"2030-01-01\",\n",
       "            \"availability\": \"https://schema.org/InStock\",\n",
       "             \"price\": \"69.99\"\n",
       "        }\n",
       "    }\n",
       "</script>\n",
       "<!--  facebook open graph -->\n",
       "<meta content=\"790658200991470\" property=\"fb:app_id\"/>\n",
       "<meta content=\"Caskers\" property=\"og:site_name\"/>\n",
       "<meta content=\"og:product\" property=\"og:type\"/>\n",
       "<meta content=\"Westward American Single Malt Whiskey\" property=\"og:title\"/>\n",
       "<meta content=\"https://cdn.caskers.com/catalog/product/cache/ce56bc73870585a38310c58e499d2fd4/w/e/westward-american-single-malt-whiskey_1.jpg\" property=\"og:image\"/>\n",
       "<meta content=\"Born in the Northwest, Westward Whiskey was founded in 2004 by former brewer and winemaker Christian Krogstad who had a vision to bring American Single Malt, inspired by the distinctive culture, climate, and natural ingredients that come together in the Northwest, to the people. It's worth noting that at the time, there were no more than about three dozen craft distilleries in the U.S. Today, Westward Whiskey is lead by Christian and Thomas Mooney who joined the team in 2011. The distillery is a proud leader among more than 2,200 producers, bringing bold, robust and delicious American Single Malt to the world. \n",
       "\n",
       "Westward strives for perfection through Minimalist Distilling, a philosophy pioneered by their founders that begins by selection the highest quality ingredients. Their purposefully inefficient production process brings out the flavor of the grain and other natural ingredients. Every step is meant to express flavor; never to strip away or mask impurities.\n",
       "\n",
       "Westward American Single Malt begins by brewing a delicious, artisanal American ale, from scratch, using locally malted barley, ale yeast, and a slow, low temperature fermentation. The fresh beer is then distilled twice in custom low-reflux pot stills designed to create a robust spirit, transforming our fresh beer into whiskey. Westward is aged to perfection in new, charred American Oak barrels, then mingled in small batches to achieve Westward’s signature flavor profile – balanced and bold, with just the right amount of spice and sweetness.\n",
       "\n",
       "Westwatd American Single Malt Whiskey earned a Double Gold, at the San Francisco World Spirits Competition, 2019.\n",
       "\n",
       "\n",
       "Get yours today!\" property=\"og:description\"/>\n",
       "<meta content=\"https://www.caskers.com/westward-american-single-malt-whiskey/\" property=\"og:url\"/>\n",
       "<meta content=\"69.99\" property=\"product:price:amount\"/>\n",
       "<meta content=\"USD\" property=\"product:price:currency\"/>\n",
       "<meta content=\"instock\" property=\"product:availability\"/>\n",
       "<!--  facebook open graph -->\n",
       "<!-- rich pins -->\n",
       "<meta content=\"enabled\" name=\"pinterest-rich-pin\"/>\n",
       "<!-- rich pins -->\n",
       "<script data-pagespeed-no-defer=\"\">(function(){function f(a,b,d){if(a.addEventListener)a.addEventListener(b,d,!1);else if(a.attachEvent)a.attachEvent(\"on\"+b,d);else{var c=a[\"on\"+b];a[\"on\"+b]=function(){d.call(this);c&&c.call(this)}}};window.pagespeed=window.pagespeed||{};var g=window.pagespeed;function k(a){this.g=[];this.f=0;this.h=!1;this.j=a;this.i=null;this.l=0;this.b=!1;this.a=0}function l(a,b){var d=b.getAttribute(\"data-pagespeed-lazy-position\");if(d)return parseInt(d,0);var d=b.offsetTop,c=b.offsetParent;c&&(d+=l(a,c));d=Math.max(d,0);b.setAttribute(\"data-pagespeed-lazy-position\",d);return d}\n",
       "function m(a,b){var d,c,e;if(!a.b&&(0==b.offsetHeight||0==b.offsetWidth))return!1;a:if(b.currentStyle)c=b.currentStyle.position;else{if(document.defaultView&&document.defaultView.getComputedStyle&&(c=document.defaultView.getComputedStyle(b,null))){c=c.getPropertyValue(\"position\");break a}c=b.style&&b.style.position?b.style.position:\"\"}if(\"relative\"==c)return!0;e=0;\"number\"==typeof window.pageYOffset?e=window.pageYOffset:document.body&&document.body.scrollTop?e=document.body.scrollTop:document.documentElement&&\n",
       "document.documentElement.scrollTop&&(e=document.documentElement.scrollTop);d=window.innerHeight||document.documentElement.clientHeight||document.body.clientHeight;c=e;e+=d;var h=b.getBoundingClientRect();h?(e=h.top-d,c=h.bottom):(h=l(a,b),d=h+b.offsetHeight,e=h-e,c=d-c);return e<=a.f&&0<=c+a.f}\n",
       "k.prototype.m=function(a){p(a);var b=this;window.setTimeout(function(){var d=a.getAttribute(\"data-pagespeed-lazy-src\");if(d)if((b.h||m(b,a))&&-1!=a.src.indexOf(b.j)){var c=a.parentNode,e=a.nextSibling;c&&c.removeChild(a);a.c&&(a.getAttribute=a.c);a.removeAttribute(\"onload\");a.tagName&&\"IMG\"==a.tagName&&g.CriticalImages&&f(a,\"load\",function(){g.CriticalImages.checkImageForCriticality(this);b.b&&(b.a--,b.a||g.CriticalImages.checkCriticalImages())});a.removeAttribute(\"data-pagespeed-lazy-src\");a.removeAttribute(\"data-pagespeed-lazy-replaced-functions\");\n",
       "c&&c.insertBefore(a,e);if(c=a.getAttribute(\"data-pagespeed-lazy-srcset\"))a.srcset=c,a.removeAttribute(\"data-pagespeed-lazy-srcset\");a.src=d}else b.g.push(a)},0)};k.prototype.loadIfVisibleAndMaybeBeacon=k.prototype.m;k.prototype.s=function(){this.h=!0;q(this)};k.prototype.loadAllImages=k.prototype.s;function q(a){var b=a.g,d=b.length;a.g=[];for(var c=0;c<d;++c)a.m(b[c])}function t(a,b){return a.a?null!=a.a(b):null!=a.getAttribute(b)}\n",
       "k.prototype.u=function(){for(var a=document.getElementsByTagName(\"img\"),b=0,d;d=a[b];b++)t(d,\"data-pagespeed-lazy-src\")&&p(d)};k.prototype.overrideAttributeFunctions=k.prototype.u;function p(a){t(a,\"data-pagespeed-lazy-replaced-functions\")||(a.c=a.getAttribute,a.getAttribute=function(a){\"src\"==a.toLowerCase()&&t(this,\"data-pagespeed-lazy-src\")&&(a=\"data-pagespeed-lazy-src\");return this.c(a)},a.setAttribute(\"data-pagespeed-lazy-replaced-functions\",\"1\"))}\n",
       "g.o=function(a,b){function d(){if(!(c.b&&a||c.i)){var b=200;200<(new Date).getTime()-c.l&&(b=0);c.i=window.setTimeout(function(){c.l=(new Date).getTime();q(c);c.i=null},b)}}var c=new k(b);g.lazyLoadImages=c;f(window,\"load\",function(){c.b=!0;c.h=a;c.f=200;if(g.CriticalImages){for(var b=0,d=document.getElementsByTagName(\"img\"),r=0,n;n=d[r];r++)-1!=n.src.indexOf(c.j)&&t(n,\"data-pagespeed-lazy-src\")&&b++;c.a=b;c.a||g.CriticalImages.checkCriticalImages()}q(c)});b.indexOf(\"data\")&&((new Image).src=b);f(window,\n",
       "\"scroll\",d);f(window,\"resize\",d)};g.lazyLoadInit=g.o;})();\n",
       "\n",
       "pagespeed.lazyLoadInit(false, \"/pagespeed_static/1.JiBnMqyl6S.gif\");\n",
       "</script></head>\n",
       "<body class=\"catalog-product-view product-westward-american-single-malt-whiskey page-layout-1column\" data-container=\"body\" data-mage-init='{\"loaderAjax\": {}, \"loader\": { \"icon\": \"https://www.caskers.com/static/version1620198840/frontend/BelVG/caskers_theme/en_US/images/loader-2.gif\"}}'>\n",
       "<script type=\"text/x-magento-init\">\n",
       "    {\n",
       "        \"*\": {\n",
       "            \"mage/cookies\": {\n",
       "                \"expires\": null,\n",
       "                \"path\": \"\\u002F\",\n",
       "                \"domain\": \".www.caskers.com\",\n",
       "                \"secure\": false,\n",
       "                \"lifetime\": \"86400\"\n",
       "            }\n",
       "        }\n",
       "    }\n",
       "</script>\n",
       "<noscript>\n",
       "<div class=\"message global noscript\">\n",
       "<div class=\"content\">\n",
       "<p>\n",
       "<strong>JavaScript seems to be disabled in your browser.</strong>\n",
       "<span>For the best experience on our site, be sure to turn on Javascript in your browser.</span>\n",
       "</p>\n",
       "</div>\n",
       "</div>\n",
       "</noscript>\n",
       "<script data-pagespeed-orig-index=\"9\" type=\"text/psajs\">\n",
       "    window.cookiesConfig = window.cookiesConfig || {};\n",
       "    window.cookiesConfig.secure = true;\n",
       "</script>\n",
       "<script data-pagespeed-orig-index=\"10\" type=\"text/psajs\">\n",
       "    require.config({\n",
       "        map: {\n",
       "            '*': {\n",
       "                wysiwygAdapter: 'mage/adminhtml/wysiwyg/tiny_mce/tinymce4Adapter'\n",
       "            }\n",
       "        }\n",
       "    });\n",
       "</script>\n",
       "<!-- Google Tag Manager (noscript) -->\n",
       "<noscript><iframe height=\"0\" src=\"https://www.googletagmanager.com/ns.html?id=GTM-TD6J4K9\" style=\"display:none;visibility:hidden\" width=\"0\"></iframe></noscript>\n",
       "<!-- End Google Tag Manager (noscript) --><div class=\"page-wrapper\"><header class=\"page-header\"><div class=\"promo-banner\">\n",
       "<div class=\"inner\">\n",
       "<span class=\"msg msg-2\">\n",
       "<strong>BE A GOOD KID!</strong> Celebrate <strong>Father's Day</strong> with us. <strong>Get $5 OFF</strong> every order with the code: <strong>FATHER5</strong>\n",
       "</span>\n",
       "</div>\n",
       "</div>\n",
       "<script data-pagespeed-orig-index=\"11\" type=\"text/psajs\">\n",
       "\n",
       "    require([\n",
       "        'jquery'\n",
       "    ], function ($) {\n",
       "        'use strict';\n",
       "\n",
       "        $(window).scroll(function(e){\n",
       "            if ($(this).scrollTop() > 480){\n",
       "                $('.promo-banner').slideUp();\n",
       "                if($(window).width() < 768) {\n",
       "                    $('.select-b.sticky').css('top', 59);\n",
       "                }\n",
       "                else {\n",
       "                    $('.select-b.sticky').css('top', 79);\n",
       "                }\n",
       "            }\n",
       "            else {\n",
       "                $('.promo-banner').slideDown(25);\n",
       "            }\n",
       "        });\n",
       "    });\n",
       "</script><div class=\"header content\"><span class=\"action nav-toggle\" data-action=\"toggle-nav\">\n",
       "<span></span>\n",
       "<span></span>\n",
       "<span></span>\n",
       "<span>Toggle Nav</span>\n",
       "</span>\n",
       "<span class=\"tab-back\">\n",
       "<span></span>\n",
       "<span></span>\n",
       "<span></span>\n",
       "</span>\n",
       "<a class=\"logo\" href=\"https://www.caskers.com/\" title=\"Take Pride In What You Drink - Caskers\">\n",
       "<script data-pagespeed-no-defer=\"\">(function(){for(var g=\"function\"==typeof Object.defineProperties?Object.defineProperty:function(b,c,a){if(a.get||a.set)throw new TypeError(\"ES3 does not support getters and setters.\");b!=Array.prototype&&b!=Object.prototype&&(b[c]=a.value)},h=\"undefined\"!=typeof window&&window===this?this:\"undefined\"!=typeof global&&null!=global?global:this,k=[\"String\",\"prototype\",\"repeat\"],l=0;l<k.length-1;l++){var m=k[l];m in h||(h[m]={});h=h[m]}\n",
       "var n=k[k.length-1],p=h[n],q=p?p:function(b){var c;if(null==this)throw new TypeError(\"The 'this' value for String.prototype.repeat must not be null or undefined\");c=this+\"\";if(0>b||1342177279<b)throw new RangeError(\"Invalid count value\");b|=0;for(var a=\"\";b;)if(b&1&&(a+=c),b>>>=1)c+=c;return a};q!=p&&null!=q&&g(h,n,{configurable:!0,writable:!0,value:q});var t=this;\n",
       "function u(b,c){var a=b.split(\".\"),d=t;a[0]in d||!d.execScript||d.execScript(\"var \"+a[0]);for(var e;a.length&&(e=a.shift());)a.length||void 0===c?d[e]?d=d[e]:d=d[e]={}:d[e]=c};function v(b){var c=b.length;if(0<c){for(var a=Array(c),d=0;d<c;d++)a[d]=b[d];return a}return[]};function w(b){var c=window;if(c.addEventListener)c.addEventListener(\"load\",b,!1);else if(c.attachEvent)c.attachEvent(\"onload\",b);else{var a=c.onload;c.onload=function(){b.call(this);a&&a.call(this)}}};var x;function y(b,c,a,d,e){this.h=b;this.j=c;this.l=a;this.f=e;this.g={height:window.innerHeight||document.documentElement.clientHeight||document.body.clientHeight,width:window.innerWidth||document.documentElement.clientWidth||document.body.clientWidth};this.i=d;this.b={};this.a=[];this.c={}}\n",
       "function z(b,c){var a,d,e=c.getAttribute(\"data-pagespeed-url-hash\");if(a=e&&!(e in b.c))if(0>=c.offsetWidth&&0>=c.offsetHeight)a=!1;else{d=c.getBoundingClientRect();var f=document.body;a=d.top+(\"pageYOffset\"in window?window.pageYOffset:(document.documentElement||f.parentNode||f).scrollTop);d=d.left+(\"pageXOffset\"in window?window.pageXOffset:(document.documentElement||f.parentNode||f).scrollLeft);f=a.toString()+\",\"+d;b.b.hasOwnProperty(f)?a=!1:(b.b[f]=!0,a=a<=b.g.height&&d<=b.g.width)}a&&(b.a.push(e),\n",
       "b.c[e]=!0)}y.prototype.checkImageForCriticality=function(b){b.getBoundingClientRect&&z(this,b)};u(\"pagespeed.CriticalImages.checkImageForCriticality\",function(b){x.checkImageForCriticality(b)});u(\"pagespeed.CriticalImages.checkCriticalImages\",function(){A(x)});\n",
       "function A(b){b.b={};for(var c=[\"IMG\",\"INPUT\"],a=[],d=0;d<c.length;++d)a=a.concat(v(document.getElementsByTagName(c[d])));if(a.length&&a[0].getBoundingClientRect){for(d=0;c=a[d];++d)z(b,c);a=\"oh=\"+b.l;b.f&&(a+=\"&n=\"+b.f);if(c=!!b.a.length)for(a+=\"&ci=\"+encodeURIComponent(b.a[0]),d=1;d<b.a.length;++d){var e=\",\"+encodeURIComponent(b.a[d]);131072>=a.length+e.length&&(a+=e)}b.i&&(e=\"&rd=\"+encodeURIComponent(JSON.stringify(B())),131072>=a.length+e.length&&(a+=e),c=!0);C=a;if(c){d=b.h;b=b.j;var f;if(window.XMLHttpRequest)f=\n",
       "new XMLHttpRequest;else if(window.ActiveXObject)try{f=new ActiveXObject(\"Msxml2.XMLHTTP\")}catch(r){try{f=new ActiveXObject(\"Microsoft.XMLHTTP\")}catch(D){}}f&&(f.open(\"POST\",d+(-1==d.indexOf(\"?\")?\"?\":\"&\")+\"url=\"+encodeURIComponent(b)),f.setRequestHeader(\"Content-Type\",\"application/x-www-form-urlencoded\"),f.send(a))}}}\n",
       "function B(){var b={},c;c=document.getElementsByTagName(\"IMG\");if(!c.length)return{};var a=c[0];if(!(\"naturalWidth\"in a&&\"naturalHeight\"in a))return{};for(var d=0;a=c[d];++d){var e=a.getAttribute(\"data-pagespeed-url-hash\");e&&(!(e in b)&&0<a.width&&0<a.height&&0<a.naturalWidth&&0<a.naturalHeight||e in b&&a.width>=b[e].o&&a.height>=b[e].m)&&(b[e]={rw:a.width,rh:a.height,ow:a.naturalWidth,oh:a.naturalHeight})}return b}var C=\"\";u(\"pagespeed.CriticalImages.getBeaconData\",function(){return C});\n",
       "u(\"pagespeed.CriticalImages.Run\",function(b,c,a,d,e,f){var r=new y(b,c,a,e,f);x=r;d&&w(function(){window.setTimeout(function(){A(r)},0)})});})();\n",
       "\n",
       "pagespeed.CriticalImages.Run('/ngx_pagespeed_beacon','https://www.caskers.com/westward-american-single-malt-whiskey/','fFI1k7hWJG',false,false,'DJlqOO_x-aU');</script><img alt=\"Take Pride In What You Drink - Caskers\" class=\"desktop-logo g-hide-d\" data-pagespeed-onload=\"pagespeed.CriticalImages.checkImageForCriticality(this);\" data-pagespeed-url-hash=\"199713550\" height=\"84\" onload=\"var elem=this;if (this==window) elem=document.body;elem.setAttribute('data-pagespeed-loaded', 1)\" src=\"https://www.caskers.com/static/version1620198840/frontend/BelVG/caskers_theme/en_US/images/logo/caskers-logo.svg\" width=\"130\"/>\n",
       "<img alt=\"Take Pride In What You Drink - Caskers\" class=\"mobile-logo g-hide-m\" data-pagespeed-onload=\"pagespeed.CriticalImages.checkImageForCriticality(this);\" data-pagespeed-url-hash=\"3764999784\" height=\"84\" onload=\"var elem=this;if (this==window) elem=document.body;elem.setAttribute('data-pagespeed-loaded', 1)\" src=\"https://www.caskers.com/static/version1620198840/frontend/BelVG/caskers_theme/en_US/images/logo/mobile.svg\" width=\"130\"/>\n",
       "</a>\n",
       "<div class=\"sections nav-sections\">\n",
       "<div class=\"section-items nav-sections-items\" data-mage-init='{\"tabs\":{\"openedState\":\"active\"}}'>\n",
       "<div class=\"section-item-content nav-sections-item-content\" data-role=\"content\" id=\"store.menu\">\n",
       "<nav class=\"navigation\" data-action=\"navigation\">\n",
       "<ul data-mage-init='{\"menu\":{\"responsive\":true, \"expanded\":true, \"position\":{\"my\":\"left+6 top\",\"at\":\"left bottom\"}, \"menus\": \"ul.submenu\"}}'>\n",
       "<li class=\"level0 nav-1 first level-top parent horizontal\">\n",
       "<a class=\"level-top ui-corner-all\" href=\"https://www.caskers.com/spirits/\"><span class=\"level-top-on\">Spirits</span></a>\n",
       "<ul class=\"submenu\">\n",
       "<li class=\"item\">\n",
       "<div class=\"column icons level1\">\n",
       "<a href=\"https://www.caskers.com/new-arrivals/\">\n",
       "<svg class=\"icon shape-codepen\" viewbox=\"0 0 100 100\">\n",
       "<use xlink:href=\"https://www.caskers.com/static/version1620198840/frontend/BelVG/caskers_theme/en_US/images/icons/icons.svg#new_arrivals\"></use>\n",
       "</svg>\n",
       "<span>New Arrivals</span>\n",
       "</a>\n",
       "<a href=\"https://www.caskers.com/rare-finds-selection/\">\n",
       "<svg class=\"icon shape-codepen\" viewbox=\"0 0 100 100\">\n",
       "<use xlink:href=\"https://www.caskers.com/static/version1620198840/frontend/BelVG/caskers_theme/en_US/images/icons/icons.svg#diamond\"></use>\n",
       "</svg>\n",
       "<span>Rare Finds</span>\n",
       "</a>\n",
       "</div>\n",
       "<div class=\"column level1 parent tab-menu\">\n",
       "<a class=\"tab-menu-button\" href=\"https://www.caskers.com/spirits/whiskey/\"><span class=\"level-top\">Whiskey</span></a>\n",
       "<ul class=\"tab-menu-list level3\">\n",
       "<li>\n",
       "<a href=\"https://www.caskers.com/spirits/whiskey/bourbon/\"><span>Bourbon</span></a>\n",
       "</li>\n",
       "<li>\n",
       "<a href=\"https://www.caskers.com/spirits/whiskey/moonshine/\"><span>Moonshine</span></a>\n",
       "</li>\n",
       "<li>\n",
       "<a href=\"https://www.caskers.com/spirits/whiskey/rye/\"><span>Rye</span></a>\n",
       "</li>\n",
       "<li>\n",
       "<a href=\"https://www.caskers.com/spirits/whiskey/scotch/\"><span>Scotch</span></a>\n",
       "</li>\n",
       "<li>\n",
       "<a href=\"https://www.caskers.com/spirits/whiskey/irish/\"><span>Irish Whiskeys</span></a>\n",
       "</li>\n",
       "<li>\n",
       "<a href=\"https://www.caskers.com/spirits/whiskey/japanese/\"><span>Japanese Whiskies</span></a>\n",
       "</li>\n",
       "</ul>\n",
       "</div>\n",
       "<ul class=\"column level1\">\n",
       "<li>\n",
       "<a href=\"https://www.caskers.com/spirits/vodka/\"><span>Vodka</span></a>\n",
       "</li>\n",
       "<li>\n",
       "<a href=\"https://www.caskers.com/spirits/tequila/\"><span>Tequila</span></a>\n",
       "</li>\n",
       "<li>\n",
       "<a href=\"https://www.caskers.com/spirits/gin/\"><span>Gin</span></a>\n",
       "</li>\n",
       "<li>\n",
       "<a href=\"https://www.caskers.com/spirits/rum/\"><span>Rum</span></a>\n",
       "</li>\n",
       "</ul>\n",
       "<div class=\"column level1 last parent tab-menu\">\n",
       "<a class=\"tab-menu-button\" href=\"https://www.caskers.com/spirits/other/\"><span class=\"level-top\">Other</span></a>\n",
       "<ul class=\"tab-menu-list level3\">\n",
       "<li>\n",
       "<a href=\"https://www.caskers.com/spirits/other/absinthe/\"><span>Absinthe</span></a>\n",
       "</li>\n",
       "<li>\n",
       "<a href=\"https://www.caskers.com/spirits/other/cognac/\"><span>Cognac</span></a>\n",
       "</li>\n",
       "<li>\n",
       "<a href=\"https://www.caskers.com/spirits/other/liqueur/\"><span>Liqueur</span></a>\n",
       "</li>\n",
       "<li>\n",
       "<a href=\"https://www.caskers.com/spirits/other/spirits-other-mezcal/\"><span>Mezcal</span></a>\n",
       "</li>\n",
       "<li>\n",
       "<a href=\"https://www.caskers.com/spirits/other/vermouth/\"><span>Vermouth</span></a>\n",
       "</li>\n",
       "</ul>\n",
       "</div>\n",
       "</li>\n",
       "</ul>\n",
       "</li>\n",
       "<li class=\"level0 nav-2 last level-top parent\">\n",
       "<a class=\"level-top\" href=\"https://www.caskers.com/clubs/\"><span class=\"level-top-on\">Clubs</span></a>\n",
       "<ul class=\"level0 submenu\">\n",
       "<li class=\"level1 first\">\n",
       "<a href=\"https://www.caskers.com/american-whiskey/\"><span>American Whiskey</span></a>\n",
       "</li>\n",
       "<li class=\"level1\">\n",
       "<a href=\"https://www.caskers.com/world-of-whiskey/\"><span>World of Whiskey</span></a>\n",
       "</li>\n",
       "<li class=\"level1\">\n",
       "<a href=\"https://www.caskers.com/gift-club/\"><span>Caskers Club Gift</span></a>\n",
       "</li>\n",
       "</ul>\n",
       "</li>\n",
       "<li class=\"level0\">\n",
       "<a class=\"level-top\" href=\"https://www.caskers.com/caskers-egift-card/\"><span>Gift Cards</span></a>\n",
       "</li>\n",
       "<li class=\"level0\">\n",
       "<a class=\"level-top\" href=\"https://www.caskers.com/private-cask/\"><span>Private Cask</span></a>\n",
       "</li>\n",
       "<!--<li class=\"level0 ui-menu-item\">\n",
       "    <a href='https://www.caskers.com/cocktail-bar/shop-by-recipe/' class=\"level-top\"><span>Cocktail Bar</span></a>\n",
       "</li>-->\n",
       "<li class=\"level0 ui-menu-item\">\n",
       "<a class=\"level-top\" href=\"https://www.caskers.com/fathers-day\"><span>FATHER'S <span class=\"bullet\" style=\"color:#CF9B65;\">⚫︎</span> DAY</span></a>\n",
       "</li> </ul>\n",
       "</nav>\n",
       "</div>\n",
       "</div>\n",
       "</div>\n",
       "<div class=\"header-icons-container\"><div class=\"block block-search\">\n",
       "<div class=\"block block-content\">\n",
       "<form action=\"https://www.caskers.com/catalogsearch/result/\" class=\"form minisearch\" id=\"search_mini_form\" method=\"get\">\n",
       "<div class=\"field search\">\n",
       "<label class=\"label\" data-role=\"minisearch-label\" for=\"search\">\n",
       "<span>Search</span>\n",
       "</label>\n",
       "<div class=\"control\">\n",
       "<input aria-autocomplete=\"both\" aria-haspopup=\"false\" autocomplete=\"off\" class=\"input-text\" data-mage-init='{\"quickSearch\":{\n",
       "                                \"formSelector\":\"#search_mini_form\",\n",
       "                                \"url\":\"https://www.caskers.com/search/ajax/suggest/\",\n",
       "                                \"destinationSelector\":\"#search_autocomplete\"}\n",
       "                           }' destinationselector=\"#search_autocomplete\" id=\"search\" maxlength=\"128\" name=\"q\" placeholder=\"Search entire store here...\" role=\"combobox\" type=\"text\" value=\"\"/>\n",
       "<button class=\"action search\" title=\"Search\" type=\"submit\">\n",
       "<svg height=\"20px\" id=\"Capa_1\" version=\"1.1\" viewbox=\"0 0 56.966 56.966\" width=\"20px\" x=\"0px\" xml:space=\"preserve\" xmlns=\"http://www.w3.org/2000/svg\" xmlns:xlink=\"http://www.w3.org/1999/xlink\" y=\"0px\">\n",
       "<path d=\"M55.146,51.887L41.588,37.786c3.486-4.144,5.396-9.358,5.396-14.786c0-12.682-10.318-23-23-23s-23,10.318-23,23  s10.318,23,23,23c4.761,0,9.298-1.436,13.177-4.162l13.661,14.208c0.571,0.593,1.339,0.92,2.162,0.92  c0.779,0,1.518-0.297,2.079-0.837C56.255,54.982,56.293,53.08,55.146,51.887z M23.984,6c9.374,0,17,7.626,17,17s-7.626,17-17,17  s-17-7.626-17-17S14.61,6,23.984,6z\"></path>\n",
       "</svg>\n",
       "</button>\n",
       "<span class=\"search-reset\">×</span>\n",
       "<span class=\"search-close\">×</span>\n",
       "<div class=\"search-autocomplete\" id=\"search_autocomplete\"></div>\n",
       "<div class=\"nested\">\n",
       "<a class=\"action advanced\" data-action=\"advanced-search\" href=\"https://www.caskers.com/catalogsearch/advanced/\">\n",
       "Advanced Search </a>\n",
       "</div>\n",
       "</div>\n",
       "</div>\n",
       "</form>\n",
       "</div>\n",
       "</div>\n",
       "<div class=\"user-menu-drop\" data-block=\"showusermenu\">\n",
       "<a class=\"action showusermenu\" href=\"https://www.caskers.com/customer/account/\">\n",
       "My account </a>\n",
       "<a class=\"action logout\" href=\"https://www.caskers.com/customer/account/logout/\" style=\"display: none;\">Log Out</a>\n",
       "</div>\n",
       "<div class=\"minicart-wrapper\" data-block=\"minicart\">\n",
       "<div class=\"overlay overlay ui-overlay\" id=\"cart-overlay\"></div>\n",
       "<a class=\"action showcart\" data-bind=\"scope: 'minicart_content'\" href=\"https://www.caskers.com/checkout/cart/\">\n",
       "<span class=\"text\">Shopping Bag</span>\n",
       "<span class=\"counter qty empty\" data-bind=\"css: { empty: !!getCartParam('summary_count') == false }, blockLoader: isLoading, visible: window.location.href !== window.checkout.checkoutUrl\">\n",
       "<span class=\"counter-number\"><!-- ko text: getCartParam('summary_count') --><!-- /ko --></span>\n",
       "<span class=\"counter-label\">\n",
       "<!-- ko if: getCartParam('summary_count') -->\n",
       "<!-- ko text: getCartParam('summary_count') --><!-- /ko -->\n",
       "<!-- ko i18n: 'items' --><!-- /ko -->\n",
       "<!-- /ko -->\n",
       "</span>\n",
       "</span>\n",
       "</a>\n",
       "<div class=\"block block-minicart empty\" data-mage-init='{\"dropdownDialog\":{\n",
       "                \"appendTo\":\"[data-block=minicart]\",\n",
       "                \"triggerTarget\":\".showcart\",\n",
       "                \"timeout\": \"2000\",\n",
       "                \"closeOnMouseLeave\": false,\n",
       "                \"closeOnEscape\": true,\n",
       "                \"triggerClass\":\"active\",\n",
       "                \"parentClass\":\"active\",\n",
       "                \"buttons\":[]}}' data-role=\"dropdownDialog\">\n",
       "<div data-bind=\"scope: 'minicart_content'\" id=\"minicart-content-wrapper\">\n",
       "<!-- ko template: getTemplate() --><!-- /ko -->\n",
       "</div>\n",
       "<div class=\"block block-products-list grid minicart-bestsellers\">\n",
       "<div class=\"block-title\">\n",
       "<div class=\"block-title-decoration\">\n",
       "<h5>You might also like</h5>\n",
       "</div>\n",
       "</div>\n",
       "<div class=\"block-content\">\n",
       "<!-- product_page_more_views--> <div class=\"products-grid grid\">\n",
       "<ol class=\"product-items carousel-attached-products owl-carousel owl-theme widget-product-grid\">\n",
       "<li class=\"item product-item\"> <div class=\"product-item-info\">\n",
       "<span class=\"right-ribbon-seal\">\n",
       "</span>\n",
       "<a class=\"product-item-photo\" href=\"https://www.caskers.com/bowman-brothers-pioneer-spirit-virginia-straight-bourbon-whiskey/\">\n",
       "<span class=\"product-image-container\" style=\"width:100px;\">\n",
       "<span class=\"product-image-wrapper\" style=\"padding-bottom: 100%;\">\n",
       "<img alt=\"Bowman Brothers Pioneer Spirit Virginia Straight Bourbon Whiskey\" class=\"product-image-photo\" data-pagespeed-onload=\"pagespeed.CriticalImages.checkImageForCriticality(this);\" data-pagespeed-url-hash=\"2569643867\" max-height=\"100\" max-width=\"100\" onload=\"var elem=this;if (this==window) elem=document.body;elem.setAttribute('data-pagespeed-loaded', 1)\" src=\"https://cdn.caskers.com/catalog/product/cache/93c295f2daf74f86d695f29e893b5a2d/b/o/bowman-brothers-bourbon-small-batch-1-1-n.jpg\"/></span>\n",
       "</span>\n",
       "</a>\n",
       "<div class=\"product-item-details-minicart\">\n",
       "<strong class=\"product-item-name\">\n",
       "<a class=\"product-item-link\" href=\"https://www.caskers.com/bowman-brothers-pioneer-spirit-virginia-straight-bourbon-whiskey/\" title=\"Bowman Brothers Pioneer Spirit Virginia Straight Bourbon Whiskey\">\n",
       "Bowman Brothers Pioneer Spirit Virginia Straight Bourbon Whiskey </a>\n",
       "</strong>\n",
       "<div class=\"price-box price-final_price\" data-price-box=\"product-id-760\" data-product-id=\"760\" data-role=\"priceBox\">\n",
       "<span class=\"price-container\">\n",
       "<span class=\"price-wrapper\" data-price-amount=\"32.99\" data-price-type=\"finalPrice\" id=\"product-price-760\"><span class=\"price\">$32.99</span></span>\n",
       "</span>\n",
       "</div> <div class=\"product-item-actions-minicart\">\n",
       "<div class=\"actions-primary\">\n",
       "<div class=\"product-item-buttons\">\n",
       "<form action=\"https://www.caskers.com/checkout/cart/add/uenc/aHR0cHM6Ly93d3cuY2Fza2Vycy5jb20vd2VzdHdhcmQtYW1lcmljYW4tc2luZ2xlLW1hbHQtd2hpc2tleS8%2C/product/760/\" data-role=\"tocart-form\" method=\"post\">\n",
       "<input name=\"form_key\" type=\"hidden\" value=\"YsoCFXfdRFu61gQv\"/> <button class=\"action tocart primary\" title=\"Add to Cart\" type=\"submit\">\n",
       "<span>Add to Cart</span>\n",
       "</button>\n",
       "</form>\n",
       "<script type=\"text/x-magento-init\">\n",
       "                                                            {\n",
       "                                                                \"[data-role=tocart-form]\": {\n",
       "                                                                    \"catalogAddToCart\": {\n",
       "                                                                        \"bindSubmit\": true\n",
       "                                                                    }\n",
       "                                                                }\n",
       "                                                            }\n",
       "                                                            </script>\n",
       "</div>\n",
       "</div>\n",
       "</div>\n",
       "</div>\n",
       "</div>\n",
       "</li><li class=\"item product-item\"> <div class=\"product-item-info\">\n",
       "<span class=\"right-ribbon-seal Limited-Edition\">\n",
       "Limited Edition</span>\n",
       "<a class=\"product-item-photo\" href=\"https://www.caskers.com/barterhouse-kentucky-bourbon-whiskey/\">\n",
       "<span class=\"product-image-container\" style=\"width:100px;\">\n",
       "<span class=\"product-image-wrapper\" style=\"padding-bottom: 100%;\">\n",
       "<img alt=\"Orphan Barrel Barterhouse 20 Year Old Kentucky Straight Bourbon Whiskey\" class=\"product-image-photo\" data-pagespeed-onload=\"pagespeed.CriticalImages.checkImageForCriticality(this);\" data-pagespeed-url-hash=\"1144553910\" max-height=\"100\" max-width=\"100\" onload=\"var elem=this;if (this==window) elem=document.body;elem.setAttribute('data-pagespeed-loaded', 1)\" src=\"https://cdn.caskers.com/catalog/product/cache/93c295f2daf74f86d695f29e893b5a2d/o/r/orphan-barrel-barterhouse-20-year-bourbon-1.jpg\"/></span>\n",
       "</span>\n",
       "</a>\n",
       "<div class=\"product-item-details-minicart\">\n",
       "<strong class=\"product-item-name\">\n",
       "<a class=\"product-item-link\" href=\"https://www.caskers.com/barterhouse-kentucky-bourbon-whiskey/\" title=\"Orphan Barrel Barterhouse 20 Year Old Kentucky Straight Bourbon Whiskey\">\n",
       "Orphan Barrel Barterhouse 20 Year Old Kentucky Straight Bourbon Whiskey </a>\n",
       "</strong>\n",
       "<div class=\"price-box price-final_price\" data-price-box=\"product-id-779\" data-product-id=\"779\" data-role=\"priceBox\">\n",
       "<span class=\"price-container\">\n",
       "<span class=\"price-wrapper\" data-price-amount=\"579.99\" data-price-type=\"finalPrice\" id=\"product-price-779\"><span class=\"price\">$579.99</span></span>\n",
       "</span>\n",
       "</div> <div class=\"product-item-actions-minicart\">\n",
       "<div class=\"actions-primary\">\n",
       "<div class=\"product-item-buttons\">\n",
       "<form action=\"https://www.caskers.com/checkout/cart/add/uenc/aHR0cHM6Ly93d3cuY2Fza2Vycy5jb20vd2VzdHdhcmQtYW1lcmljYW4tc2luZ2xlLW1hbHQtd2hpc2tleS8%2C/product/779/\" data-role=\"tocart-form\" method=\"post\">\n",
       "<input name=\"form_key\" type=\"hidden\" value=\"YsoCFXfdRFu61gQv\"/> <button class=\"action tocart primary\" title=\"Add to Cart\" type=\"submit\">\n",
       "<span>Add to Cart</span>\n",
       "</button>\n",
       "</form>\n",
       "<script type=\"text/x-magento-init\">\n",
       "                                                            {\n",
       "                                                                \"[data-role=tocart-form]\": {\n",
       "                                                                    \"catalogAddToCart\": {\n",
       "                                                                        \"bindSubmit\": true\n",
       "                                                                    }\n",
       "                                                                }\n",
       "                                                            }\n",
       "                                                            </script>\n",
       "</div>\n",
       "</div>\n",
       "</div>\n",
       "</div>\n",
       "</div>\n",
       "</li><li class=\"item product-item\"> <div class=\"product-item-info\">\n",
       "<span class=\"right-ribbon-seal\">\n",
       "</span>\n",
       "<a class=\"product-item-photo\" href=\"https://www.caskers.com/rittenhouse-straight-rye-whisky/\">\n",
       "<span class=\"product-image-container\" style=\"width:100px;\">\n",
       "<span class=\"product-image-wrapper\" style=\"padding-bottom: 100%;\">\n",
       "<img alt=\"Rittenhouse Straight Rye Whiskey\" class=\"product-image-photo\" data-pagespeed-onload=\"pagespeed.CriticalImages.checkImageForCriticality(this);\" data-pagespeed-url-hash=\"1750150175\" max-height=\"100\" max-width=\"100\" onload=\"var elem=this;if (this==window) elem=document.body;elem.setAttribute('data-pagespeed-loaded', 1)\" src=\"https://cdn.caskers.com/catalog/product/cache/93c295f2daf74f86d695f29e893b5a2d/r/i/rittenhouse-straight-rye-whiskey-1-n.jpg\"/></span>\n",
       "</span>\n",
       "</a>\n",
       "<div class=\"product-item-details-minicart\">\n",
       "<strong class=\"product-item-name\">\n",
       "<a class=\"product-item-link\" href=\"https://www.caskers.com/rittenhouse-straight-rye-whisky/\" title=\"Rittenhouse 100 Proof Straight Rye Whisky\">\n",
       "Rittenhouse 100 Proof Straight Rye Whisky </a>\n",
       "</strong>\n",
       "<div class=\"price-box price-final_price\" data-price-box=\"product-id-781\" data-product-id=\"781\" data-role=\"priceBox\">\n",
       "<span class=\"price-container\">\n",
       "<span class=\"price-wrapper\" data-price-amount=\"26.99\" data-price-type=\"finalPrice\" id=\"product-price-781\"><span class=\"price\">$26.99</span></span>\n",
       "</span>\n",
       "</div> <div class=\"product-item-actions-minicart\">\n",
       "<div class=\"actions-primary\">\n",
       "<div class=\"product-item-buttons\">\n",
       "<form action=\"https://www.caskers.com/checkout/cart/add/uenc/aHR0cHM6Ly93d3cuY2Fza2Vycy5jb20vd2VzdHdhcmQtYW1lcmljYW4tc2luZ2xlLW1hbHQtd2hpc2tleS8%2C/product/781/\" data-role=\"tocart-form\" method=\"post\">\n",
       "<input name=\"form_key\" type=\"hidden\" value=\"YsoCFXfdRFu61gQv\"/> <button class=\"action tocart primary\" title=\"Add to Cart\" type=\"submit\">\n",
       "<span>Add to Cart</span>\n",
       "</button>\n",
       "</form>\n",
       "<script type=\"text/x-magento-init\">\n",
       "                                                            {\n",
       "                                                                \"[data-role=tocart-form]\": {\n",
       "                                                                    \"catalogAddToCart\": {\n",
       "                                                                        \"bindSubmit\": true\n",
       "                                                                    }\n",
       "                                                                }\n",
       "                                                            }\n",
       "                                                            </script>\n",
       "</div>\n",
       "</div>\n",
       "</div>\n",
       "</div>\n",
       "</div>\n",
       "</li><li class=\"item product-item\"> <div class=\"product-item-info\">\n",
       "<span class=\"right-ribbon-seal\">\n",
       "</span>\n",
       "<a class=\"product-item-photo\" href=\"https://www.caskers.com/bootlegger-new-york-crarft-vodka/\">\n",
       "<span class=\"product-image-container\" style=\"width:100px;\">\n",
       "<span class=\"product-image-wrapper\" style=\"padding-bottom: 100%;\">\n",
       "<img alt=\"Bootlegger 21 New York Vodka\" class=\"product-image-photo\" data-pagespeed-onload=\"pagespeed.CriticalImages.checkImageForCriticality(this);\" data-pagespeed-url-hash=\"3734989420\" max-height=\"100\" max-width=\"100\" onload=\"var elem=this;if (this==window) elem=document.body;elem.setAttribute('data-pagespeed-loaded', 1)\" src=\"https://cdn.caskers.com/catalog/product/cache/93c295f2daf74f86d695f29e893b5a2d/b/o/bootlegger-21-new-york-vodka_1.jpg\"/></span>\n",
       "</span>\n",
       "</a>\n",
       "<div class=\"product-item-details-minicart\">\n",
       "<strong class=\"product-item-name\">\n",
       "<a class=\"product-item-link\" href=\"https://www.caskers.com/bootlegger-new-york-crarft-vodka/\" title=\"Bootlegger New York Craft Vodka\">\n",
       "Bootlegger New York Craft Vodka </a>\n",
       "</strong>\n",
       "<div class=\"price-box price-final_price\" data-price-box=\"product-id-796\" data-product-id=\"796\" data-role=\"priceBox\">\n",
       "<span class=\"price-container\">\n",
       "<span class=\"price-wrapper\" data-price-amount=\"35.99\" data-price-type=\"finalPrice\" id=\"product-price-796\"><span class=\"price\">$35.99</span></span>\n",
       "</span>\n",
       "</div> <div class=\"product-item-actions-minicart\">\n",
       "<div class=\"actions-primary\">\n",
       "<div class=\"product-item-buttons\">\n",
       "<form action=\"https://www.caskers.com/checkout/cart/add/uenc/aHR0cHM6Ly93d3cuY2Fza2Vycy5jb20vd2VzdHdhcmQtYW1lcmljYW4tc2luZ2xlLW1hbHQtd2hpc2tleS8%2C/product/796/\" data-role=\"tocart-form\" method=\"post\">\n",
       "<input name=\"form_key\" type=\"hidden\" value=\"YsoCFXfdRFu61gQv\"/> <button class=\"action tocart primary\" title=\"Add to Cart\" type=\"submit\">\n",
       "<span>Add to Cart</span>\n",
       "</button>\n",
       "</form>\n",
       "<script type=\"text/x-magento-init\">\n",
       "                                                            {\n",
       "                                                                \"[data-role=tocart-form]\": {\n",
       "                                                                    \"catalogAddToCart\": {\n",
       "                                                                        \"bindSubmit\": true\n",
       "                                                                    }\n",
       "                                                                }\n",
       "                                                            }\n",
       "                                                            </script>\n",
       "</div>\n",
       "</div>\n",
       "</div>\n",
       "</div>\n",
       "</div>\n",
       "</li><li class=\"item product-item\"> <div class=\"product-item-info\">\n",
       "<span class=\"right-ribbon-seal Limited-Supply\">\n",
       "Limited Supply</span>\n",
       "<a class=\"product-item-photo\" href=\"https://www.caskers.com/willett-pot-still-reserve-bourbon-10583/\">\n",
       "<span class=\"product-image-container\" style=\"width:100px;\">\n",
       "<span class=\"product-image-wrapper\" style=\"padding-bottom: 100%;\">\n",
       "<img alt=\"Willett Pot Still Reserve Straight Bourbon Whiskey\" class=\"product-image-photo\" data-pagespeed-onload=\"pagespeed.CriticalImages.checkImageForCriticality(this);\" data-pagespeed-url-hash=\"3857885876\" max-height=\"100\" max-width=\"100\" onload=\"var elem=this;if (this==window) elem=document.body;elem.setAttribute('data-pagespeed-loaded', 1)\" src=\"https://cdn.caskers.com/catalog/product/cache/93c295f2daf74f86d695f29e893b5a2d/w/i/willett-pot-still-reserve-small-batch-1.jpg\"/></span>\n",
       "</span>\n",
       "</a>\n",
       "<div class=\"product-item-details-minicart\">\n",
       "<strong class=\"product-item-name\">\n",
       "<a class=\"product-item-link\" href=\"https://www.caskers.com/willett-pot-still-reserve-bourbon-10583/\" title=\"Willett Pot Still Reserve Straight Bourbon Whiskey\">\n",
       "Willett Pot Still Reserve Straight Bourbon Whiskey </a>\n",
       "</strong>\n",
       "<div class=\"price-box price-final_price\" data-price-box=\"product-id-807\" data-product-id=\"807\" data-role=\"priceBox\">\n",
       "<span class=\"price-container\">\n",
       "<span class=\"price-wrapper\" data-price-amount=\"51.99\" data-price-type=\"finalPrice\" id=\"product-price-807\"><span class=\"price\">$51.99</span></span>\n",
       "</span>\n",
       "</div> <div class=\"product-item-actions-minicart\">\n",
       "<div class=\"actions-primary\">\n",
       "<div class=\"product-item-buttons\">\n",
       "<form action=\"https://www.caskers.com/checkout/cart/add/uenc/aHR0cHM6Ly93d3cuY2Fza2Vycy5jb20vd2VzdHdhcmQtYW1lcmljYW4tc2luZ2xlLW1hbHQtd2hpc2tleS8%2C/product/807/\" data-role=\"tocart-form\" method=\"post\">\n",
       "<input name=\"form_key\" type=\"hidden\" value=\"YsoCFXfdRFu61gQv\"/> <button class=\"action tocart primary\" title=\"Add to Cart\" type=\"submit\">\n",
       "<span>Add to Cart</span>\n",
       "</button>\n",
       "</form>\n",
       "<script type=\"text/x-magento-init\">\n",
       "                                                            {\n",
       "                                                                \"[data-role=tocart-form]\": {\n",
       "                                                                    \"catalogAddToCart\": {\n",
       "                                                                        \"bindSubmit\": true\n",
       "                                                                    }\n",
       "                                                                }\n",
       "                                                            }\n",
       "                                                            </script>\n",
       "</div>\n",
       "</div>\n",
       "</div>\n",
       "</div>\n",
       "</div>\n",
       "</li><li class=\"item product-item\"> <div class=\"product-item-info\">\n",
       "<span class=\"right-ribbon-seal\">\n",
       "</span>\n",
       "<a class=\"product-item-photo\" href=\"https://www.caskers.com/boyd-blair-potato-vodka/\">\n",
       "<span class=\"product-image-container\" style=\"width:100px;\">\n",
       "<span class=\"product-image-wrapper\" style=\"padding-bottom: 100%;\">\n",
       "<img alt=\"Boyd &amp; Blair Potato Vodka\" class=\"product-image-photo\" data-pagespeed-onload=\"pagespeed.CriticalImages.checkImageForCriticality(this);\" data-pagespeed-url-hash=\"4097169911\" max-height=\"100\" max-width=\"100\" onload=\"var elem=this;if (this==window) elem=document.body;elem.setAttribute('data-pagespeed-loaded', 1)\" src=\"https://cdn.caskers.com/catalog/product/cache/93c295f2daf74f86d695f29e893b5a2d/b/o/boyd_blair_potato_vodka_1-n.jpg\"/></span>\n",
       "</span>\n",
       "</a>\n",
       "<div class=\"product-item-details-minicart\">\n",
       "<strong class=\"product-item-name\">\n",
       "<a class=\"product-item-link\" href=\"https://www.caskers.com/boyd-blair-potato-vodka/\" title=\"Boyd &amp; Blair Potato Vodka\">\n",
       "Boyd &amp; Blair Potato Vodka </a>\n",
       "</strong>\n",
       "<div class=\"price-box price-final_price\" data-price-box=\"product-id-808\" data-product-id=\"808\" data-role=\"priceBox\">\n",
       "<span class=\"price-container\">\n",
       "<span class=\"price-wrapper\" data-price-amount=\"36.99\" data-price-type=\"finalPrice\" id=\"product-price-808\"><span class=\"price\">$36.99</span></span>\n",
       "</span>\n",
       "</div> <div class=\"product-item-actions-minicart\">\n",
       "<div class=\"actions-primary\">\n",
       "<div class=\"product-item-buttons\">\n",
       "<form action=\"https://www.caskers.com/checkout/cart/add/uenc/aHR0cHM6Ly93d3cuY2Fza2Vycy5jb20vd2VzdHdhcmQtYW1lcmljYW4tc2luZ2xlLW1hbHQtd2hpc2tleS8%2C/product/808/\" data-role=\"tocart-form\" method=\"post\">\n",
       "<input name=\"form_key\" type=\"hidden\" value=\"YsoCFXfdRFu61gQv\"/> <button class=\"action tocart primary\" title=\"Add to Cart\" type=\"submit\">\n",
       "<span>Add to Cart</span>\n",
       "</button>\n",
       "</form>\n",
       "<script type=\"text/x-magento-init\">\n",
       "                                                            {\n",
       "                                                                \"[data-role=tocart-form]\": {\n",
       "                                                                    \"catalogAddToCart\": {\n",
       "                                                                        \"bindSubmit\": true\n",
       "                                                                    }\n",
       "                                                                }\n",
       "                                                            }\n",
       "                                                            </script>\n",
       "</div>\n",
       "</div>\n",
       "</div>\n",
       "</div>\n",
       "</div>\n",
       "</li><li class=\"item product-item\"> <div class=\"product-item-info\">\n",
       "<span class=\"right-ribbon-seal\">\n",
       "</span>\n",
       "<a class=\"product-item-photo\" href=\"https://www.caskers.com/aberlour-a-bunadh-single-malt-scotch-whisky/\">\n",
       "<span class=\"product-image-container\" style=\"width:100px;\">\n",
       "<span class=\"product-image-wrapper\" style=\"padding-bottom: 100%;\">\n",
       "<img alt=\"Aberlour A'bunadh Single Malt Scotch Whisky\" class=\"product-image-photo\" data-pagespeed-onload=\"pagespeed.CriticalImages.checkImageForCriticality(this);\" data-pagespeed-url-hash=\"3031135504\" max-height=\"100\" max-width=\"100\" onload=\"var elem=this;if (this==window) elem=document.body;elem.setAttribute('data-pagespeed-loaded', 1)\" src=\"https://cdn.caskers.com/catalog/product/cache/93c295f2daf74f86d695f29e893b5a2d/a/b/aberlour-a_bunadh_1.jpg\"/></span>\n",
       "</span>\n",
       "</a>\n",
       "<div class=\"product-item-details-minicart\">\n",
       "<strong class=\"product-item-name\">\n",
       "<a class=\"product-item-link\" href=\"https://www.caskers.com/aberlour-a-bunadh-single-malt-scotch-whisky/\" title=\"Aberlour A'bunadh Single Malt Scotch Whisky\">\n",
       "Aberlour A'bunadh Single Malt Scotch Whisky </a>\n",
       "</strong>\n",
       "<div class=\"price-box price-final_price\" data-price-box=\"product-id-825\" data-product-id=\"825\" data-role=\"priceBox\">\n",
       "<span class=\"price-container\">\n",
       "<span class=\"price-wrapper\" data-price-amount=\"94.99\" data-price-type=\"finalPrice\" id=\"product-price-825\"><span class=\"price\">$94.99</span></span>\n",
       "</span>\n",
       "</div> <div class=\"product-item-actions-minicart\">\n",
       "<div class=\"actions-primary\">\n",
       "<div class=\"product-item-buttons\">\n",
       "<form action=\"https://www.caskers.com/checkout/cart/add/uenc/aHR0cHM6Ly93d3cuY2Fza2Vycy5jb20vd2VzdHdhcmQtYW1lcmljYW4tc2luZ2xlLW1hbHQtd2hpc2tleS8%2C/product/825/\" data-role=\"tocart-form\" method=\"post\">\n",
       "<input name=\"form_key\" type=\"hidden\" value=\"YsoCFXfdRFu61gQv\"/> <button class=\"action tocart primary\" title=\"Add to Cart\" type=\"submit\">\n",
       "<span>Add to Cart</span>\n",
       "</button>\n",
       "</form>\n",
       "<script type=\"text/x-magento-init\">\n",
       "                                                            {\n",
       "                                                                \"[data-role=tocart-form]\": {\n",
       "                                                                    \"catalogAddToCart\": {\n",
       "                                                                        \"bindSubmit\": true\n",
       "                                                                    }\n",
       "                                                                }\n",
       "                                                            }\n",
       "                                                            </script>\n",
       "</div>\n",
       "</div>\n",
       "</div>\n",
       "</div>\n",
       "</div>\n",
       "</li><li class=\"item product-item\"> <div class=\"product-item-info\">\n",
       "<span class=\"right-ribbon-seal With-Engraving\">\n",
       "With Engraving</span>\n",
       "<a class=\"product-item-photo\" href=\"https://www.caskers.com/larceny-very-special-small-batch-kentucky-straight-bourbon-whiskey-9220/\">\n",
       "<span class=\"product-image-container\" style=\"width:100px;\">\n",
       "<span class=\"product-image-wrapper\" style=\"padding-bottom: 100%;\">\n",
       "<img alt=\"Larceny Very Special Small Batch Kentucky Straight Bourbon Whiskey\" class=\"product-image-photo\" data-pagespeed-onload=\"pagespeed.CriticalImages.checkImageForCriticality(this);\" data-pagespeed-url-hash=\"84129735\" max-height=\"100\" max-width=\"100\" onload=\"var elem=this;if (this==window) elem=document.body;elem.setAttribute('data-pagespeed-loaded', 1)\" src=\"https://cdn.caskers.com/catalog/product/cache/93c295f2daf74f86d695f29e893b5a2d/l/a/larceny_very_special_small_batch_kentucky_straight_bourbon_whiskey_1-n.jpg\"/></span>\n",
       "</span>\n",
       "</a>\n",
       "<div class=\"product-item-details-minicart\">\n",
       "<strong class=\"product-item-name\">\n",
       "<a class=\"product-item-link\" href=\"https://www.caskers.com/larceny-very-special-small-batch-kentucky-straight-bourbon-whiskey-9220/\" title=\"Larceny Very Special Small Batch Kentucky Straight Bourbon Whiskey\">\n",
       "Larceny Very Special Small Batch Kentucky Straight Bourbon Whiskey </a>\n",
       "</strong>\n",
       "<div class=\"price-box price-final_price\" data-price-box=\"product-id-835\" data-product-id=\"835\" data-role=\"priceBox\">\n",
       "<span class=\"price-container\">\n",
       "<span class=\"price-wrapper\" data-price-amount=\"22.99\" data-price-type=\"finalPrice\" id=\"product-price-835\"><span class=\"price\">$22.99</span></span>\n",
       "</span>\n",
       "</div> <div class=\"product-item-actions-minicart\">\n",
       "<div class=\"actions-primary\">\n",
       "<div class=\"product-item-buttons\">\n",
       "<form action=\"https://www.caskers.com/checkout/cart/add/uenc/aHR0cHM6Ly93d3cuY2Fza2Vycy5jb20vd2VzdHdhcmQtYW1lcmljYW4tc2luZ2xlLW1hbHQtd2hpc2tleS8%2C/product/835/\" data-role=\"tocart-form\" method=\"post\">\n",
       "<input name=\"form_key\" type=\"hidden\" value=\"YsoCFXfdRFu61gQv\"/> <button class=\"action tocart primary\" title=\"Add to Cart\" type=\"submit\">\n",
       "<span>Add to Cart</span>\n",
       "</button>\n",
       "</form>\n",
       "<script type=\"text/x-magento-init\">\n",
       "                                                            {\n",
       "                                                                \"[data-role=tocart-form]\": {\n",
       "                                                                    \"catalogAddToCart\": {\n",
       "                                                                        \"bindSubmit\": true\n",
       "                                                                    }\n",
       "                                                                }\n",
       "                                                            }\n",
       "                                                            </script>\n",
       "</div>\n",
       "</div>\n",
       "</div>\n",
       "</div>\n",
       "</div>\n",
       "</li> </ol>\n",
       "</div>\n",
       "</div>\n",
       "</div>\n",
       "<script data-pagespeed-orig-index=\"12\" type=\"text/psajs\">\n",
       "\n",
       "    require([\n",
       "        'jquery',\n",
       "        'owlcarousel'\n",
       "    ], function () {\n",
       "        'use strict';\n",
       "        jQuery(\".minicart-bestsellers .product-items\").owlCarousel(\n",
       "            {\n",
       "            loop: false,\n",
       "            items: 2,\n",
       "            nav: true,\n",
       "            dots: false,\n",
       "            slideBy: 2,\n",
       "            navText: [' ', ' '],\n",
       "            responsive: {\n",
       "                0: {\n",
       "                    items: 1,\n",
       "                    nav: true\n",
       "                },\n",
       "                480: {\n",
       "                    items: 2,\n",
       "                    nav: true\n",
       "                }\n",
       "            }\n",
       "        }\n",
       "        );\n",
       "    });\n",
       "</script>\n",
       "</div>\n",
       "<script data-pagespeed-orig-index=\"13\" type=\"text/psajs\">\n",
       "        window.checkout = {\"shoppingCartUrl\":\"https:\\/\\/www.caskers.com\\/checkout\\/cart\\/\",\"checkoutUrl\":\"https:\\/\\/www.caskers.com\\/checkout\\/\",\"updateItemQtyUrl\":\"https:\\/\\/www.caskers.com\\/checkout\\/sidebar\\/updateItemQty\\/\",\"removeItemUrl\":\"https:\\/\\/www.caskers.com\\/checkout\\/sidebar\\/removeItem\\/\",\"imageTemplate\":\"Magento_Catalog\\/product\\/image_with_borders\",\"baseUrl\":\"https:\\/\\/www.caskers.com\\/\",\"minicartMaxItemsVisible\":3,\"websiteId\":\"1\",\"maxItemsToDisplay\":10,\"storeId\":\"1\",\"customerLoginUrl\":\"https:\\/\\/www.caskers.com\\/customer\\/account\\/login\\/referer\\/aHR0cHM6Ly93d3cuY2Fza2Vycy5jb20vd2VzdHdhcmQtYW1lcmljYW4tc2luZ2xlLW1hbHQtd2hpc2tleS8%2C\\/\",\"isRedirectRequired\":false,\"autocomplete\":\"off\",\"captcha\":{\"user_login\":{\"isCaseSensitive\":false,\"imageHeight\":50,\"imageSrc\":\"\",\"refreshUrl\":\"https:\\/\\/www.caskers.com\\/captcha\\/refresh\\/\",\"isRequired\":false,\"timestamp\":1621919121}}};\n",
       "    </script>\n",
       "<script type=\"text/x-magento-init\">\n",
       "    {\n",
       "        \"[data-block='minicart']\": {\n",
       "            \"Magento_Ui/js/core/app\": {\"components\":{\"minicart_content\":{\"children\":{\"subtotal.container\":{\"children\":{\"subtotal\":{\"children\":{\"subtotal.totals\":{\"config\":{\"display_cart_subtotal_incl_tax\":0,\"display_cart_subtotal_excl_tax\":1,\"template\":\"Magento_Tax\\/checkout\\/minicart\\/subtotal\\/totals\"},\"children\":{\"subtotal.totals.msrp\":{\"component\":\"Magento_Msrp\\/js\\/view\\/checkout\\/minicart\\/subtotal\\/totals\",\"config\":{\"displayArea\":\"minicart-subtotal-hidden\",\"template\":\"Magento_Msrp\\/checkout\\/minicart\\/subtotal\\/totals\"}}},\"component\":\"Magento_Tax\\/js\\/view\\/checkout\\/minicart\\/subtotal\\/totals\"}},\"component\":\"uiComponent\",\"config\":{\"template\":\"Magento_Checkout\\/minicart\\/subtotal\"}}},\"component\":\"uiComponent\",\"config\":{\"displayArea\":\"subtotalContainer\"}},\"item.renderer\":{\"component\":\"uiComponent\",\"config\":{\"displayArea\":\"defaultRenderer\",\"template\":\"Magento_Checkout\\/minicart\\/item\\/default\"},\"children\":{\"item.image\":{\"component\":\"Magento_Catalog\\/js\\/view\\/image\",\"config\":{\"template\":\"Magento_Catalog\\/product\\/image\",\"displayArea\":\"itemImage\"}},\"checkout.cart.item.price.sidebar\":{\"component\":\"uiComponent\",\"config\":{\"template\":\"Magento_Checkout\\/minicart\\/item\\/price\",\"displayArea\":\"priceSidebar\"}}}},\"discount.container\":{\"component\":\"uiComponent\",\"config\":{\"displayArea\":\"discountContainer\"},\"children\":{\"subtotal\":{\"sortOrder\":\"0\",\"component\":\"Magento_Checkout\\/js\\/view\\/checkout\\/minicart\\/subtotal\\/totals\",\"config\":{\"template\":\"Caskers_Checkout\\/minicart\\/discount\"},\"children\":{\"subtotal.totals\":{\"component\":\"Magento_Checkout\\/js\\/view\\/checkout\\/minicart\\/subtotal\\/totals\",\"config\":{\"template\":\"Caskers_Checkout\\/minicart\\/discount\\/inner\"}}}}}},\"extra_info\":{\"component\":\"uiComponent\",\"config\":{\"displayArea\":\"extraInfo\"}},\"promotion\":{\"component\":\"uiComponent\",\"config\":{\"displayArea\":\"promotion\"}}},\"config\":{\"itemRenderer\":{\"default\":\"defaultRenderer\",\"simple\":\"defaultRenderer\",\"virtual\":\"defaultRenderer\"},\"template\":\"Magento_Checkout\\/minicart\\/content\"},\"component\":\"Magento_Checkout\\/js\\/view\\/minicart\"}},\"types\":[]}        },\n",
       "        \"*\": {\n",
       "            \"Magento_Ui/js/block-loader\": \"https://www.caskers.com/static/version1620198840/frontend/BelVG/caskers_theme/en_US/images/loader-1.gif\"\n",
       "        }\n",
       "    }\n",
       "    </script>\n",
       "</div>\n",
       "</div></div></header><div class=\"top-container\"><div class=\"widget block block-static-block\">\n",
       "</div>\n",
       "<div class=\"widget block block-static-block\">\n",
       "<a class=\"banner-link\" href=\"/fathers-day/\"><img alt=\"5off\" data-pagespeed-onload=\"pagespeed.CriticalImages.checkImageForCriticality(this);\" data-pagespeed-url-hash=\"3940068730\" loading=\"lazy\" onload=\"var elem=this;if (this==window) elem=document.body;elem.setAttribute('data-pagespeed-loaded', 1)\" sizes=\"(min-width: 1460px) 1440px, 100vw\" src=\"https://cdn.caskers.com/wysiwyg/fd-2021-slim-desktop.png\" srcset=\"https://cdn.caskers.com/wysiwyg/fd-2021-slim-mobile.png 768w,\n",
       "             https://cdn.caskers.com/wysiwyg/fd-2021-slim-desktop.png 2880w\"/></a>\n",
       "</div>\n",
       "</div> <div class=\"breadcrumbs\">\n",
       "<ul class=\"items\">\n",
       "<li class=\"item home\">\n",
       "<a href=\"https://www.caskers.com/\" title=\"Go to Home Page\">Home</a>\n",
       "</li>\n",
       "<li class=\"item cms_page\">\n",
       "<strong>Westward American Single Malt Whiskey</strong>\n",
       "</li>\n",
       "</ul>\n",
       "</div>\n",
       "<script type=\"application/ld+json\">{\n",
       "    \"@context\": \"http://schema.org\",\n",
       "    \"@type\": \"BreadcrumbList\",\n",
       "    \"itemListElement\": [\n",
       "        {\n",
       "            \"@type\": \"ListItem\",\n",
       "            \"position\": 1,\n",
       "            \"name\": \"Westward American Single Malt Whiskey\",\n",
       "            \"item\": \"https://www.caskers.com/westward-american-single-malt-whiskey/\"\n",
       "        }\n",
       "    ]\n",
       "}</script>\n",
       "<main class=\"page-main\" id=\"maincontent\"><div class=\"page messages\"><div data-placeholder=\"messages\"></div>\n",
       "<div data-bind=\"scope: 'messages'\">\n",
       "<!-- ko if: cookieMessages && cookieMessages.length > 0 -->\n",
       "<div class=\"messages\" data-bind=\"foreach: { data: cookieMessages, as: 'message' }\" role=\"alert\">\n",
       "<div data-bind=\"attr: {\n",
       "            class: 'message-' + message.type + ' ' + message.type + ' message',\n",
       "            'data-ui-id': 'message-' + message.type\n",
       "        }\">\n",
       "<div data-bind=\"html: message.text\"></div>\n",
       "</div>\n",
       "</div>\n",
       "<!-- /ko -->\n",
       "<!-- ko if: messages().messages && messages().messages.length > 0 -->\n",
       "<div class=\"messages\" data-bind=\"foreach: { data: messages().messages, as: 'message' }\" role=\"alert\">\n",
       "<div data-bind=\"attr: {\n",
       "            class: 'message-' + message.type + ' ' + message.type + ' message',\n",
       "            'data-ui-id': 'message-' + message.type\n",
       "        }\">\n",
       "<div data-bind=\"html: message.text\"></div>\n",
       "</div>\n",
       "</div>\n",
       "<!-- /ko -->\n",
       "</div>\n",
       "<script type=\"text/x-magento-init\">\n",
       "    {\n",
       "        \"*\": {\n",
       "            \"Magento_Ui/js/core/app\": {\n",
       "                \"components\": {\n",
       "                        \"messages\": {\n",
       "                            \"component\": \"Magento_Theme/js/view/messages\"\n",
       "                        }\n",
       "                    }\n",
       "                }\n",
       "            }\n",
       "    }\n",
       "</script>\n",
       "<div class=\"rewards-notifications\" data-bind=\"scope: 'rewardsNotifications'\">\n",
       "<!-- ko if: messages() && messages().length > 0 -->\n",
       "<div data-bind=\"html: messages()\"></div>\n",
       "<!-- /ko -->\n",
       "</div>\n",
       "<script type=\"text/x-magento-init\">\n",
       "    {\n",
       "        \"*\": {\n",
       "            \"Magento_Ui/js/core/app\": {\n",
       "                \"components\": {\n",
       "                    \"rewardsNotifications\": {\n",
       "                        \"component\": \"Mirasvit_RewardsCheckout/js/view/rewards-notifications\",\n",
       "                        \"url\": \"https://www.caskers.com/rewards_catalog/notification/getProductNotification/product_id/3386/\"\n",
       "                    }\n",
       "                }\n",
       "            }\n",
       "        }\n",
       "    }\n",
       "</script>\n",
       "</div><div class=\"columns\"><div class=\"column main\">\n",
       "<div class=\"product-info-main\"><div class=\"page-title-wrapper product\">\n",
       "<h1 class=\"page-title\">\n",
       "<span class=\"base\" data-ui-id=\"page-title-wrapper\" itemprop=\"name\">Westward American Single Malt Whiskey</span> </h1>\n",
       "</div>\n",
       "<div class=\"product-reviews-summary short\">\n",
       "<div class=\"rating-summary\">\n",
       "<span class=\"label\"><span>Rating:</span></span>\n",
       "<div class=\"rating-result\" title=\"93%\">\n",
       "<span style=\"width:93%\"><span>93%</span></span>\n",
       "</div>\n",
       "</div>\n",
       "<div class=\"reviews-actions\">\n",
       "<a class=\"action view\" href=\"https://www.caskers.com/westward-american-single-malt-whiskey/#reviews\">(2)<span></span></a>\n",
       "</div>\n",
       "</div>\n",
       "<script data-pagespeed-orig-index=\"14\" type=\"text/psajs\">\n",
       "    requirejs(['jquery' ],\n",
       "        function   ($) {\n",
       "            $(document).ready(function() {\n",
       "                if ($('.reviews-actions .action.view').length) {\n",
       "                    var submitReviewUrl = $('.reviews-actions .action.view').attr('href').replace(\"#reviews\", \"#reviews\");\n",
       "                    var submitReviewLabel = \"Add Your Review\";\n",
       "                    $('<a/>', {\n",
       "                        class: \"action add\",\n",
       "                        href: submitReviewUrl,\n",
       "                        text: submitReviewLabel\n",
       "                    }).insertAfter('.reviews-actions .action.view');\n",
       "                }\n",
       "            });\n",
       "        });\n",
       "</script>\n",
       "<div class=\"product attribute overview\">\n",
       "<div class=\"value\" itemprop=\"description\">This grain-to-glass Oregon single malt is crafted from scratch, using American Northwest two-row barley.\n",
       "<br/>\n",
       "<br/> </div>\n",
       "</div>\n",
       "<div class=\"product-info-price\"><div class=\"price-box price-final_price\" data-price-box=\"product-id-3386\" data-product-id=\"3386\" data-role=\"priceBox\">\n",
       "<span class=\"price-container\">\n",
       "<span class=\"price-wrapper\" data-price-amount=\"69.99\" data-price-type=\"finalPrice\" id=\"product-price-3386\"><span class=\"price\">$69.99</span></span>\n",
       "</span>\n",
       "</div><a class=\"action towishlist\" data-action=\"add-to-wishlist\" data-event=\"addToWishlist\" data-event-label=\"Westward American Single Malt Whiskey\" data-post='{\"action\":\"https:\\/\\/www.caskers.com\\/wishlist\\/index\\/add\\/\",\"data\":{\"product\":3386,\"uenc\":\"aHR0cHM6Ly93d3cuY2Fza2Vycy5jb20vd2VzdHdhcmQtYW1lcmljYW4tc2luZ2xlLW1hbHQtd2hpc2tleS8,\"}}' href=\"#\"><span> </span>Add to Wish List</a>\n",
       "<script type=\"text/x-magento-init\">\n",
       "    {\n",
       "        \"body\": {\n",
       "            \"addToWishlist\": {\"productType\":\"simple\",\"aw_giftcardInfo\":\"[name^=aw_gc_]\"}        }\n",
       "    }\n",
       "</script>\n",
       "</div>\n",
       "<div class=\"product-add-form\">\n",
       "<form action=\"https://www.caskers.com/checkout/cart/add/uenc/aHR0cHM6Ly93d3cuY2Fza2Vycy5jb20vd2VzdHdhcmQtYW1lcmljYW4tc2luZ2xlLW1hbHQtd2hpc2tleS8%2C/product/3386/\" data-product-sku=\"5231-CSC\" id=\"product_addtocart_form\" method=\"post\">\n",
       "<input name=\"product\" type=\"hidden\" value=\"3386\"/>\n",
       "<input name=\"selected_configurable_option\" type=\"hidden\" value=\"\"/>\n",
       "<input id=\"related-products-field\" name=\"related_product\" type=\"hidden\" value=\"\"/>\n",
       "<input name=\"item\" type=\"hidden\" value=\"3386\"/>\n",
       "<input name=\"form_key\" type=\"hidden\" value=\"YsoCFXfdRFu61gQv\"/> <div class=\"box-tocart\">\n",
       "<div class=\"fieldset\">\n",
       "<div class=\"field qty\">\n",
       "<label class=\"label\" for=\"qty\"><span>Quantity</span></label>\n",
       "<div class=\"control\" data-bind=\"scope: 'qty_change'\">\n",
       "<button class=\"button-qty minus\" data-bind=\"click: minusQty\">-</button>\n",
       "<input class=\"input-text qty\" data-bind=\"value: qty\" data-validate='{\"required-number\":true,\"validate-item-quantity\":{\"minAllowed\":1,\"maxAllowed\":10000}}' id=\"qty\" name=\"qty\" title=\"Qty\" type=\"number\" value=\"1\"/><button class=\"button-qty plus\" data-bind=\"click: plusQty\">+</button>\n",
       "</div>\n",
       "</div>\n",
       "<div class=\"actions\">\n",
       "<button class=\"action primary tocart\" data-attributes=\"[]\" data-brand=\"Westward\" data-category=\"Whiskey\" data-click=\"\" data-currentstore=\"Default Store View\" data-event=\"addToCart\" data-id=\"5231-CSC\" data-list=\"Whiskey\" data-name=\"Westward American Single Malt Whiskey\" data-price=\"69.99\" id=\"product-addtocart-button\" title=\"Add to Cart\" type=\"submit\">\n",
       "<span>Add to Cart</span>\n",
       "</button>\n",
       "</div>\n",
       "</div>\n",
       "</div>\n",
       "<script type=\"text/x-magento-init\">\n",
       "    {\n",
       "        \"*\": {\n",
       "            \"Magento_Ui/js/core/app\" : {\n",
       "                \"components\": {\n",
       "                    \"qty_change\": {\n",
       "                        \"component\": \"Magento_Catalog/js/view/product/view/qty_change\",\n",
       "                        \"defaultQty\": 1\n",
       "                    }\n",
       "                }\n",
       "            }\n",
       "        },\n",
       "        \"#product_addtocart_form\": {\n",
       "            \"catalogAddToCart\": {\n",
       "                \"bindSubmit\": true\n",
       "            },\n",
       "            \"Magento_Catalog/product/view/validation\": {}\n",
       "        }\n",
       "    }\n",
       "</script>\n",
       "</form>\n",
       "</div>\n",
       "<script data-pagespeed-orig-index=\"15\" type=\"text/psajs\">\n",
       "    require([\n",
       "        'jquery',\n",
       "        'priceBox'\n",
       "    ], function($){\n",
       "        var dataPriceBoxSelector = '[data-role=priceBox]',\n",
       "            dataProductIdSelector = '[data-product-id=3386]',\n",
       "            priceBoxes = $(dataPriceBoxSelector + dataProductIdSelector);\n",
       "\n",
       "        priceBoxes = priceBoxes.filter(function(index, elem){\n",
       "            return !$(elem).find('.price-from').length;\n",
       "        });\n",
       "        priceBoxes.priceBox({'priceConfig': {\"productId\":\"3386\",\"priceFormat\":{\"pattern\":\"$%s\",\"precision\":2,\"requiredPrecision\":2,\"decimalSymbol\":\".\",\"groupSymbol\":\",\",\"groupLength\":3,\"integerRequired\":false}}});\n",
       "    });\n",
       "</script>\n",
       "<div class=\"product-social-links\"><div class=\"product-addto-links\" data-role=\"add-to-links\">\n",
       "</div>\n",
       "</div>\n",
       "<div class=\"product info detailed\">\n",
       "<div class=\"product data items\" data-mage-init='{\"accordion\":{\"openedState\":\"active\", \"active\":\"false\", \"collapsible\":true, \"multipleCollapsible\": \"true\"}}'>\n",
       "<div aria-labeledby=\"tab-label-description-title\" class=\"data item title\" data-role=\"collapsible\" id=\"tab-label-description\">\n",
       "<a class=\"data switch\" data-toggle=\"switch\" href=\"#description\" id=\"tab-label-description-title\" tabindex=\"-1\">\n",
       "<h2> History</h2>\n",
       "</a>\n",
       "</div>\n",
       "<div class=\"data item content\" data-role=\"content\" id=\"description\">\n",
       "<div class=\"product attribute description\">\n",
       "<div class=\"value\">Born in the Northwest, Westward Whiskey was founded in 2004 by former brewer and winemaker Christian Krogstad who had a vision to bring American Single Malt, inspired by the distinctive culture, climate, and natural ingredients that come together in the Northwest, to the people. It's worth noting that at the time, there were no more than about three dozen craft distilleries in the U.S. Today, Westward Whiskey is lead by Christian and Thomas Mooney who joined the team in 2011. The distillery is a proud leader among more than 2,200 producers, bringing bold, robust and delicious American Single Malt to the world. <br>\n",
       "<br>\n",
       "Westward strives for perfection through Minimalist Distilling, a philosophy pioneered by their founders that begins by selection the highest quality ingredients. Their purposefully inefficient production process brings out the flavor of the grain and other natural ingredients. Every step is meant to express flavor; never to strip away or mask impurities.<br/>\n",
       "<br/>\n",
       "Westward American Single Malt begins by brewing a delicious, artisanal American ale, from scratch, using locally malted barley, ale yeast, and a slow, low temperature fermentation. The fresh beer is then distilled twice in custom low-reflux pot stills designed to create a robust spirit, transforming our fresh beer into whiskey. Westward is aged to perfection in new, charred American Oak barrels, then mingled in small batches to achieve Westward’s signature flavor profile – balanced and bold, with just the right amount of spice and sweetness.<br/>\n",
       "<br/>\n",
       "Westwatd American Single Malt Whiskey earned a Double Gold, at the San Francisco World Spirits Competition, 2019.<br/>\n",
       "<br/>\n",
       "<br/>\n",
       "Get yours today!</br></br></div>\n",
       "</div>\n",
       "</div>\n",
       "<div aria-labeledby=\"tab-label-additional-title\" class=\"data item title\" data-role=\"collapsible\" id=\"tab-label-additional\">\n",
       "<a class=\"data switch\" data-toggle=\"switch\" href=\"#additional\" id=\"tab-label-additional-title\" tabindex=\"-1\">\n",
       "<h2> Information</h2>\n",
       "</a>\n",
       "</div>\n",
       "<div class=\"data item content\" data-role=\"content\" id=\"additional\">\n",
       "<div class=\"additional-attributes-wrapper table-wrapper\">\n",
       "<table class=\"data table additional-attributes\" id=\"product-attribute-specs-table\">\n",
       "<caption class=\"table-caption\">More Information</caption>\n",
       "<tbody>\n",
       "<tr>\n",
       "<th class=\"col label\" scope=\"row\">Proof</th>\n",
       "<td class=\"col data\" data-th=\"Proof\">90 (45% ABV)</td>\n",
       "</tr>\n",
       "<tr>\n",
       "<th class=\"col label\" scope=\"row\">Distiller/Bottler Name</th>\n",
       "<td class=\"col data\" data-th=\"Distiller/Bottler Name\">Westward Distillery</td>\n",
       "</tr>\n",
       "<tr>\n",
       "<th class=\"col label\" scope=\"row\">Size</th>\n",
       "<td class=\"col data\" data-th=\"Size\">750mL</td>\n",
       "</tr>\n",
       "</tbody>\n",
       "</table>\n",
       "</div>\n",
       "</div>\n",
       "<div aria-labeledby=\"tab-label-notes-title\" class=\"data item title\" data-role=\"collapsible\" id=\"tab-label-notes\">\n",
       "<a class=\"data switch\" data-toggle=\"switch\" href=\"#notes\" id=\"tab-label-notes-title\" tabindex=\"-1\">\n",
       "<h2> Tasting Notes</h2>\n",
       "</a>\n",
       "</div>\n",
       "<div class=\"data item content\" data-role=\"content\" id=\"notes\">\n",
       "<div class=\"product attribute tasting-note\">\n",
       "<div class=\"value\">Robust aromas of fruit, with creamy vanilla and brown sugar notes on the nose. The palate has flavors of baking spice, lush fruit, and sweet malt. The finish has notes of tobacco, dark chocolate, with a lingering oaky sweetness that gives way to stone fruit.</div>\n",
       "</div>\n",
       "</div>\n",
       "<div aria-labeledby=\"tab-label-reviews-title\" class=\"data item title\" data-role=\"collapsible\" id=\"tab-label-reviews\">\n",
       "<a class=\"data switch\" data-toggle=\"switch\" href=\"#reviews\" id=\"tab-label-reviews-title\" tabindex=\"-1\">\n",
       "<h2> Reviews <span class=\"counter\">2</span></h2>\n",
       "</a>\n",
       "</div>\n",
       "<div class=\"data item content\" data-role=\"content\" id=\"reviews\">\n",
       "<section>\n",
       "<div class=\"block review-list\" id=\"customer-reviews\">\n",
       "<div class=\"block-title\">\n",
       "<strong>Customer Reviews</strong>\n",
       "</div>\n",
       "<div class=\"block-content\">\n",
       "<ol class=\"items review-items\" data-role=\"product-review\" id=\"product-review-container\"></ol>\n",
       "<div class=\"block review-add\">\n",
       "<div class=\"message info notlogged\" id=\"review-form\">\n",
       "<div>\n",
       "Only registered users can write reviews. Please <a href=\"https://www.caskers.com/customer/account/login/referer/aHR0cHM6Ly93d3cuY2Fza2Vycy5jb20vY2F0YWxvZy9wcm9kdWN0L3ZpZXcvaWQvMzM4Ni8jcmV2aWV3LWZvcm0%2C/\">Sign in</a> or <a href=\"https://www.caskers.com/customer/account/create/\">create an account</a> </div>\n",
       "</div>\n",
       "</div>\n",
       "</div>\n",
       "</div>\n",
       "</section>\n",
       "<script type=\"text/x-magento-init\">\n",
       "    {\n",
       "        \"*\": {\n",
       "            \"Magento_Review/js/process-reviews\": {\n",
       "                \"productReviewUrl\": \"https\\u003A\\u002F\\u002Fwww.caskers.com\\u002Freview\\u002Fproduct\\u002FlistAjax\\u002Fid\\u002F3386\\u002F\",\n",
       "                \"reviewsTabSelector\": \"#tab-label-reviews\"\n",
       "            }\n",
       "        }\n",
       "    }\n",
       "\n",
       "</script>\n",
       "</div>\n",
       "</div>\n",
       "</div>\n",
       "<p class=\"product-note product-available-states\">\n",
       "<strong>This product is available in:  </strong>\n",
       "AZ, CA, CO, CT, DC, FL, IL, IN, KS, KY, LA, ME, MD, MI, MO, MT, NE, NV, NH, NJ, NM, NY, NC, ND, PA, RI, SC, TX, WA </p>\n",
       "<p class=\"product-note product-unavailable-states\">Unfortunately, we can't ship to PO Boxes and APO addresses.</p>\n",
       "<p class=\"product-note product-note-gift\">\n",
       "<strong>Note: </strong> This product is not eligible for gift wrapping.\n",
       "</p>\n",
       "<p class=\"product-note product-note-policy\">\n",
       "<strong>Note: </strong> Not Eligible for Return </p>\n",
       "</div><div class=\"product media\"> <a id=\"gallery-prev-area\" tabindex=\"-1\"></a>\n",
       "<div class=\"action-skip-wrapper\"><a class=\"action skip gallery-next-area\" href=\"#gallery-next-area\">\n",
       "<span>\n",
       "Skip to the end of the images gallery </span>\n",
       "</a>\n",
       "</div><div class=\"gallery-placeholder _block-content-loading\" data-gallery-role=\"gallery-placeholder\">\n",
       "<div class=\"loading-mask\" data-role=\"loader\">\n",
       "<div class=\"loader\">\n",
       "<img alt=\"Loading...\" data-pagespeed-onload=\"pagespeed.CriticalImages.checkImageForCriticality(this);\" data-pagespeed-url-hash=\"1363273225\" onload=\"var elem=this;if (this==window) elem=document.body;elem.setAttribute('data-pagespeed-loaded', 1)\" src=\"https://www.caskers.com/static/version1620198840/frontend/BelVG/caskers_theme/en_US/images/loader.svg\"/>\n",
       "</div>\n",
       "</div>\n",
       "</div>\n",
       "<!--Fix for jumping content. Loader must be the same size as gallery.-->\n",
       "<script data-pagespeed-orig-index=\"16\" type=\"text/psajs\">\n",
       "    var config = {\n",
       "            \"width\": 500,\n",
       "            \"thumbheight\": 77,\n",
       "            \"navtype\": \"slides\",\n",
       "            \"height\": 500        },\n",
       "        thumbBarHeight = 0,\n",
       "        loader = document.querySelectorAll('[data-gallery-role=\"gallery-placeholder\"] [data-role=\"loader\"]')[0];\n",
       "\n",
       "    if (config.navtype === 'horizontal') {\n",
       "        thumbBarHeight = config.thumbheight;\n",
       "    }\n",
       "\n",
       "    loader.style.paddingBottom = ( config.height / config.width * 100) + \"%\";\n",
       "</script>\n",
       "<script type=\"text/x-magento-init\">\n",
       "    {\n",
       "        \"[data-gallery-role=gallery-placeholder]\": {\n",
       "            \"mage/gallery/gallery\": {\n",
       "                \"mixins\":[\"magnifier/magnify\"],\n",
       "                \"magnifierOpts\": {\"fullscreenzoom\":\"20\",\"top\":\"\",\"left\":\"\",\"width\":\"\",\"height\":\"\",\"eventType\":\"hover\",\"enabled\":false},\n",
       "                \"data\": [{\"thumb\":\"https:\\/\\/cdn.caskers.com\\/catalog\\/product\\/cache\\/0c339bd660d09b95a0dcfbef4b8cb10e\\/w\\/e\\/westward-american-single-malt-whiskey_1.jpg\",\"img\":\"https:\\/\\/cdn.caskers.com\\/catalog\\/product\\/cache\\/ce56bc73870585a38310c58e499d2fd4\\/w\\/e\\/westward-american-single-malt-whiskey_1.jpg\",\"full\":\"https:\\/\\/cdn.caskers.com\\/catalog\\/product\\/cache\\/d6fd92b7cdac065d6fa78d9acf5d357e\\/w\\/e\\/westward-american-single-malt-whiskey_1.jpg\",\"caption\":\"Westward American Single Malt Whiskey\",\"position\":\"5\",\"isMain\":true,\"type\":\"image\",\"videoUrl\":null},{\"thumb\":\"https:\\/\\/cdn.caskers.com\\/catalog\\/product\\/cache\\/0c339bd660d09b95a0dcfbef4b8cb10e\\/w\\/e\\/westward-american-single-malt-whiskey_2.jpg\",\"img\":\"https:\\/\\/cdn.caskers.com\\/catalog\\/product\\/cache\\/ce56bc73870585a38310c58e499d2fd4\\/w\\/e\\/westward-american-single-malt-whiskey_2.jpg\",\"full\":\"https:\\/\\/cdn.caskers.com\\/catalog\\/product\\/cache\\/d6fd92b7cdac065d6fa78d9acf5d357e\\/w\\/e\\/westward-american-single-malt-whiskey_2.jpg\",\"caption\":\"Westward American Single Malt Whiskey\",\"position\":\"6\",\"isMain\":false,\"type\":\"image\",\"videoUrl\":null},{\"thumb\":\"https:\\/\\/cdn.caskers.com\\/catalog\\/product\\/cache\\/0c339bd660d09b95a0dcfbef4b8cb10e\\/w\\/e\\/westward-american-single-malt-whiskey_3.jpg\",\"img\":\"https:\\/\\/cdn.caskers.com\\/catalog\\/product\\/cache\\/ce56bc73870585a38310c58e499d2fd4\\/w\\/e\\/westward-american-single-malt-whiskey_3.jpg\",\"full\":\"https:\\/\\/cdn.caskers.com\\/catalog\\/product\\/cache\\/d6fd92b7cdac065d6fa78d9acf5d357e\\/w\\/e\\/westward-american-single-malt-whiskey_3.jpg\",\"caption\":\"Westward American Single Malt Whiskey\",\"position\":\"7\",\"isMain\":false,\"type\":\"image\",\"videoUrl\":null}],\n",
       "                \"options\": {\n",
       "                    \"nav\": \"thumbs\",\n",
       "                                            \"loop\": 1,\n",
       "                                                                \"keyboard\": 1,\n",
       "                                                                                                    \"width\": \"500\",\n",
       "                    \"thumbwidth\": \"57\",\n",
       "                    \"thumbmargin\": 10,\n",
       "                                            \"thumbheight\": 77,\n",
       "                                                                \"height\": 500,\n",
       "                                                                \"transitionduration\": 500,\n",
       "                                        \"transition\": \"slide\",\n",
       "                                            \"navarrows\": 1,\n",
       "                                        \"navtype\": \"slides\",\n",
       "                    \"navdir\": \"horizontal\"\n",
       "                },\n",
       "                \"fullscreen\": {\n",
       "                    \"nav\": \"thumbs\",\n",
       "                                            \"loop\": 1,\n",
       "                                        \"navdir\": \"horizontal\",\n",
       "                                        \"navtype\": \"slides\",\n",
       "                                                                                    \"transitionduration\": 500,\n",
       "                                        \"transition\": \"dissolve\"\n",
       "                },\n",
       "                \"breakpoints\": {\"mobile\":{\"conditions\":{\"max-width\":\"767px\"},\"options\":{\"options\":{\"nav\":\"thumbs\"}}}}            }\n",
       "        }\n",
       "    }\n",
       "</script>\n",
       "<script type=\"text/x-magento-init\">\n",
       "    {\n",
       "        \"[data-gallery-role=gallery-placeholder]\": {\n",
       "            \"Magento_ProductVideo/js/fotorama-add-video-events\": {\n",
       "                \"videoData\": [{\"mediaType\":\"image\",\"videoUrl\":null,\"isBase\":true},{\"mediaType\":\"image\",\"videoUrl\":null,\"isBase\":false},{\"mediaType\":\"image\",\"videoUrl\":null,\"isBase\":false}],\n",
       "                \"videoSettings\": [{\"playIfBase\":\"0\",\"showRelated\":\"0\",\"videoAutoRestart\":\"0\"}],\n",
       "                \"optionsVideoData\": []            }\n",
       "        }\n",
       "    }\n",
       "</script>\n",
       "<div class=\"action-skip-wrapper\"><a class=\"action skip gallery-prev-area\" href=\"#gallery-prev-area\">\n",
       "<span>\n",
       "Skip to the beginning of the images gallery </span>\n",
       "</a>\n",
       "</div><a id=\"gallery-next-area\" tabindex=\"-1\"></a>\n",
       "<span class=\"right-ribbon-seal\">\n",
       "</span>\n",
       "</div><input name=\"form_key\" type=\"hidden\" value=\"YsoCFXfdRFu61gQv\"><script type=\"text/x-magento-init\">\n",
       "    {\n",
       "        \"*\": {\n",
       "            \"Magento_Customer/js/section-config\": {\n",
       "                \"sections\": {\"stores\\/store\\/switch\":\"*\",\"stores\\/store\\/switchrequest\":\"*\",\"directory\\/currency\\/switch\":\"*\",\"*\":[\"messages\"],\"customer\\/account\\/logout\":[\"recently_viewed_product\",\"recently_compared_product\",\"persistent\"],\"customer\\/account\\/loginpost\":\"*\",\"customer\\/account\\/createpost\":\"*\",\"customer\\/account\\/editpost\":\"*\",\"customer\\/ajax\\/login\":[\"checkout-data\",\"cart\",\"captcha\"],\"catalog\\/product_compare\\/add\":[\"compare-products\"],\"catalog\\/product_compare\\/remove\":[\"compare-products\"],\"catalog\\/product_compare\\/clear\":[\"compare-products\"],\"sales\\/guest\\/reorder\":[\"cart\",\"ammessages\"],\"sales\\/order\\/reorder\":[\"cart\",\"ammessages\"],\"checkout\\/cart\\/add\":[\"cart\",\"directory-data\",\"ammessages\"],\"checkout\\/cart\\/delete\":[\"cart\",\"ammessages\"],\"checkout\\/cart\\/updatepost\":[\"cart\",\"ammessages\"],\"checkout\\/cart\\/updateitemoptions\":[\"cart\",\"ammessages\"],\"checkout\\/cart\\/couponpost\":[\"cart\",\"ammessages\"],\"checkout\\/cart\\/estimatepost\":[\"cart\",\"ammessages\"],\"checkout\\/cart\\/estimateupdatepost\":[\"cart\",\"ammessages\"],\"checkout\\/onepage\\/saveorder\":[\"cart\",\"checkout-data\",\"last-ordered-items\",\"ammessages\"],\"checkout\\/sidebar\\/removeitem\":[\"cart\",\"ammessages\"],\"checkout\\/sidebar\\/updateitemqty\":[\"cart\",\"ammessages\"],\"rest\\/*\\/v1\\/carts\\/*\\/payment-information\":[\"cart\",\"last-ordered-items\",\"instant-purchase\",\"ammessages\"],\"rest\\/*\\/v1\\/guest-carts\\/*\\/payment-information\":[\"cart\",\"ammessages\"],\"rest\\/*\\/v1\\/guest-carts\\/*\\/selected-payment-method\":[\"cart\",\"checkout-data\",\"ammessages\"],\"rest\\/*\\/v1\\/carts\\/*\\/selected-payment-method\":[\"cart\",\"checkout-data\",\"instant-purchase\",\"ammessages\"],\"customer\\/address\\/*\":[\"instant-purchase\"],\"customer\\/account\\/*\":[\"instant-purchase\"],\"vault\\/cards\\/deleteaction\":[\"instant-purchase\"],\"authorizenet\\/directpost_payment\\/place\":[\"cart\",\"checkout-data\",\"ammessages\"],\"paypal\\/express\\/placeorder\":[\"cart\",\"checkout-data\",\"ammessages\"],\"paypal\\/payflowexpress\\/placeorder\":[\"cart\",\"checkout-data\",\"ammessages\"],\"paypal\\/express\\/onauthorization\":[\"cart\",\"checkout-data\",\"ammessages\"],\"persistent\\/index\\/unsetcookie\":[\"persistent\"],\"review\\/product\\/post\":[\"review\"],\"braintree\\/paypal\\/placeorder\":[\"cart\",\"checkout-data\",\"ammessages\"],\"wishlist\\/index\\/add\":[\"wishlist\"],\"wishlist\\/index\\/remove\":[\"wishlist\"],\"wishlist\\/index\\/updateitemoptions\":[\"wishlist\"],\"wishlist\\/index\\/update\":[\"wishlist\"],\"wishlist\\/index\\/cart\":[\"wishlist\",\"cart\"],\"wishlist\\/index\\/fromcart\":[\"wishlist\",\"cart\"],\"wishlist\\/index\\/allcart\":[\"wishlist\",\"cart\"],\"wishlist\\/shared\\/allcart\":[\"wishlist\",\"cart\"],\"wishlist\\/shared\\/cart\":[\"cart\"],\"awgiftcard\\/cart\\/apply\":[\"cart\"],\"awgiftcard\\/cart\\/remove\":[\"cart\"],\"amasty_promo\\/cart\\/add\":[\"cart\",\"ammessages\"],\"multishipping\\/checkout\\/overviewpost\":[\"ammessages\"],\"sociallogin\\/popup\\/create\":[\"checkout-data\",\"cart\"]},\n",
       "                \"clientSideSections\": [\"checkout-data\",\"cart-data\"],\n",
       "                \"baseUrls\": [\"https:\\/\\/www.caskers.com\\/\"],\n",
       "                \"sectionNames\": [\"messages\",\"customer\",\"compare-products\",\"last-ordered-items\",\"cart\",\"directory-data\",\"captcha\",\"instant-purchase\",\"persistent\",\"review\",\"wishlist\",\"ammessages\",\"rewards\",\"recently_viewed_product\",\"recently_compared_product\",\"product_data_storage\",\"paypal-billing-agreement\"]            }\n",
       "        }\n",
       "    }\n",
       "</script>\n",
       "<script type=\"text/x-magento-init\">\n",
       "    {\n",
       "        \"*\": {\n",
       "            \"Magento_Customer/js/customer-data\": {\n",
       "                \"sectionLoadUrl\": \"https\\u003A\\u002F\\u002Fwww.caskers.com\\u002Fcustomer\\u002Fsection\\u002Fload\\u002F\",\n",
       "                \"expirableSectionLifetime\": 60,\n",
       "                \"expirableSectionNames\": [\"cart\",\"persistent\"],\n",
       "                \"cookieLifeTime\": \"86400\",\n",
       "                \"updateSessionUrl\": \"https\\u003A\\u002F\\u002Fwww.caskers.com\\u002Fcustomer\\u002Faccount\\u002FupdateSession\\u002F\"\n",
       "            }\n",
       "        }\n",
       "    }\n",
       "</script>\n",
       "<script type=\"text/x-magento-init\">\n",
       "    {\n",
       "        \"*\": {\n",
       "            \"Magento_Customer/js/invalidation-processor\": {\n",
       "                \"invalidationRules\": {\n",
       "                    \"website-rule\": {\n",
       "                        \"Magento_Customer/js/invalidation-rules/website-rule\": {\n",
       "                            \"scopeConfig\": {\n",
       "                                \"websiteId\": \"1\"\n",
       "                            }\n",
       "                        }\n",
       "                    }\n",
       "                }\n",
       "            }\n",
       "        }\n",
       "    }\n",
       "</script>\n",
       "<script type=\"text/x-magento-init\">\n",
       "    {\n",
       "        \"body\": {\n",
       "            \"pageCache\": {\"url\":\"https:\\/\\/www.caskers.com\\/page_cache\\/block\\/render\\/id\\/3386\\/\",\"handles\":[\"default\",\"catalog_product_view\",\"catalog_product_view_type_simple\",\"catalog_product_view_id_3386\",\"catalog_product_view_sku_5231-CSC\",\"weltpixel_googlecards_remove_opengraph\",\"weltpixel_googlecards_remove_schema\",\"nwdthemes_revslider_default\"],\"originalRequest\":{\"route\":\"catalog\",\"controller\":\"product\",\"action\":\"view\",\"uri\":\"\\/westward-american-single-malt-whiskey\\/\"},\"versionCookieName\":\"private_content_version\"}        }\n",
       "    }\n",
       "</script>\n",
       "<div class=\"white-popup mfp-with-anim mfp-hide\" data-mage-init='{\"socialPopupForm\": {\"headerLink\":\".header-icons-container .user-menu-drop, #top-cart-btn-checkout, .action.primary.checkout\",\"popupEffect\":\"mfp-move-from-top\",\"formLoginUrl\":\"https:\\/\\/www.caskers.com\\/customer\\/ajax\\/login\\/\",\"forgotFormUrl\":\"https:\\/\\/www.caskers.com\\/sociallogin\\/popup\\/forgot\\/\",\"createFormUrl\":\"https:\\/\\/www.caskers.com\\/sociallogin\\/popup\\/create\\/\",\"fakeEmailUrl\":\"https:\\/\\/www.caskers.com\\/sociallogin\\/social\\/email\\/\",\"showFields\":null,\"popupLogin\":\"popup_login\",\"actionName\":\"catalog_product_view\"}}' id=\"social-login-popup\">\n",
       "<div class=\"social-login block-container fake-email\" style=\"display:none\">\n",
       "<div class=\"social-login-title\">\n",
       "<span class=\"action nav-toggle\" data-action=\"toggle-nav\">\n",
       "<span></span>\n",
       "<span></span>\n",
       "<span></span>\n",
       "<span>Toggle Nav</span>\n",
       "</span>\n",
       "<span class=\"tab-back\">\n",
       "<span></span>\n",
       "<span></span>\n",
       "<span></span>\n",
       "</span>\n",
       "<a class=\"logo\" href=\"https://www.caskers.com/\" title=\"Take Pride In What You Drink - Caskers\">\n",
       "<img alt=\"Take Pride In What You Drink - Caskers\" class=\"desktop-logo g-hide-d\" data-pagespeed-onload=\"pagespeed.CriticalImages.checkImageForCriticality(this);\" data-pagespeed-url-hash=\"199713550\" height=\"60\" onload=\"var elem=this;if (this==window) elem=document.body;elem.setAttribute('data-pagespeed-loaded', 1)\" src=\"https://www.caskers.com/static/version1620198840/frontend/BelVG/caskers_theme/en_US/images/logo/caskers-logo.svg\" width=\"100\">\n",
       "<img alt=\"Take Pride In What You Drink - Caskers\" class=\"mobile-logo g-hide-m\" data-pagespeed-onload=\"pagespeed.CriticalImages.checkImageForCriticality(this);\" data-pagespeed-url-hash=\"3764999784\" height=\"60\" onload=\"var elem=this;if (this==window) elem=document.body;elem.setAttribute('data-pagespeed-loaded', 1)\" src=\"https://www.caskers.com/static/version1620198840/frontend/BelVG/caskers_theme/en_US/images/logo/mobile.svg\" width=\"100\">\n",
       "</img></img></a>\n",
       "</div>\n",
       "<div class=\"block social-login-customer-authentication col-mp mp-12\">\n",
       "<div class=\"block-title\">\n",
       "<span aria-level=\"2\" id=\"block-customer-login-heading\" role=\"heading\">Real email address is required to social networks</span>\n",
       "</div>\n",
       "<div class=\"block-content\">\n",
       "<form class=\"form-fake-email\" data-mage-init='{\"validation\":{}}' id=\"social-form-fake-email\">\n",
       "<fieldset class=\"fieldset\" data-hasrequired=\"* Required Fields\">\n",
       "<div class=\"field note\">Please enter your email address below to create account.</div>\n",
       "<div class=\"field email required\">\n",
       "<label class=\"label\" for=\"email_address\"><span>Email</span></label>\n",
       "<div class=\"control\">\n",
       "<input alt=\"email\" class=\"input-text\" data-validate=\"{required:true, 'validate-email':true}\" id=\"real_email_address\" name=\"realEmail\" type=\"email\"/>\n",
       "</div>\n",
       "</div>\n",
       "</fieldset>\n",
       "<div class=\"actions-toolbar\">\n",
       "<div class=\"primary\">\n",
       "<button class=\"action send primary\" id=\"bnt-social-login-fake-email\" type=\"button\">\n",
       "<span>Submit</span>\n",
       "</button>\n",
       "</div>\n",
       "</div>\n",
       "</form>\n",
       "</div>\n",
       "</div>\n",
       "</div>\n",
       "<div class=\"social-login block-container authentication\">\n",
       "<div class=\"social-login-title\">\n",
       "<span class=\"action nav-toggle\" data-action=\"toggle-nav\">\n",
       "<span></span>\n",
       "<span></span>\n",
       "<span></span>\n",
       "<span>Toggle Nav</span>\n",
       "</span>\n",
       "<span class=\"tab-back\">\n",
       "<span></span>\n",
       "<span></span>\n",
       "<span></span>\n",
       "</span>\n",
       "<a class=\"logo\" href=\"https://www.caskers.com/\" title=\"Take Pride In What You Drink - Caskers\">\n",
       "<img alt=\"Take Pride In What You Drink - Caskers\" class=\"desktop-logo g-hide-d\" data-pagespeed-onload=\"pagespeed.CriticalImages.checkImageForCriticality(this);\" data-pagespeed-url-hash=\"199713550\" height=\"60\" onload=\"var elem=this;if (this==window) elem=document.body;elem.setAttribute('data-pagespeed-loaded', 1)\" src=\"https://www.caskers.com/static/version1620198840/frontend/BelVG/caskers_theme/en_US/images/logo/caskers-logo.svg\" width=\"100\"/>\n",
       "<img alt=\"Take Pride In What You Drink - Caskers\" class=\"mobile-logo g-hide-m\" data-pagespeed-onload=\"pagespeed.CriticalImages.checkImageForCriticality(this);\" data-pagespeed-url-hash=\"3764999784\" height=\"60\" onload=\"var elem=this;if (this==window) elem=document.body;elem.setAttribute('data-pagespeed-loaded', 1)\" src=\"https://www.caskers.com/static/version1620198840/frontend/BelVG/caskers_theme/en_US/images/logo/mobile.svg\" width=\"100\"/>\n",
       "</a>\n",
       "</div>\n",
       "<div class=\"block social-login-customer-authentication col-mp mp-12\" id=\"social-login-authentication\">\n",
       "<div class=\"block-title\">\n",
       "<span aria-level=\"2\" id=\"block-customer-login-heading\" role=\"heading\">Sign in</span>\n",
       "</div>\n",
       "<div class=\"block social-login-authentication-channel account-social-login\">\n",
       "<div class=\"block-content\">\n",
       "<div class=\"actions-toolbar social-btn social-btn-actions-toolbar google-login\">\n",
       "<a class=\"btn btn-block btn-social btn-google\" data-mage-init='{\"socialProvider\": {\"url\": \"https://www.caskers.com/sociallogin/social/login/referer/aHR0cHM6Ly93d3cuY2Fza2Vycy5jb20vbmlra2EtY29mZmV5LWdyYWluLXdoaXNreS8_JTJGJTNGdXRtX2NhbXBhaWduPVVTQystK1Nob3BwaW5nJnV0bV9tZWRpdW09Y3BjJnV0bV9zb3VyY2U9Z29vZ2xl/type/google/\", \"label\": \"Login By Google\"}}'>\n",
       "<span class=\"fa fa-google\"></span>\n",
       "Login with Google </a>\n",
       "</div>\n",
       "<div class=\"actions-toolbar social-btn social-btn-actions-toolbar facebook-login\">\n",
       "<a class=\"btn btn-block btn-social btn-facebook\" data-mage-init='{\"socialProvider\": {\"url\": \"https://www.caskers.com/sociallogin/social/login/referer/aHR0cHM6Ly93d3cuY2Fza2Vycy5jb20vbmlra2EtY29mZmV5LWdyYWluLXdoaXNreS8_JTJGJTNGdXRtX2NhbXBhaWduPVVTQystK1Nob3BwaW5nJnV0bV9tZWRpdW09Y3BjJnV0bV9zb3VyY2U9Z29vZ2xl/type/facebook/\", \"label\": \"Login By Facebook\"}}'>\n",
       "<span class=\"fa fa-facebook\"></span>\n",
       "Login with Facebook </a>\n",
       "</div>\n",
       "</div>\n",
       "</div>\n",
       "<div class=\"separator-social-login\">\n",
       "<span>Or</span>\n",
       "</div>\n",
       "<script data-pagespeed-orig-index=\"17\" data-pagespeed-orig-type=\"text/javascript\" type=\"text/psajs\">\n",
       "        require(['jquery'], function ($) {\n",
       "            $('#social-login-authentication').removeClass('mp-12').addClass('mp-7');\n",
       "        });\n",
       "    </script>\n",
       "<div aria-labelledby=\"block-customer-login-heading\" class=\"block-content\">\n",
       "<form class=\"form-customer-login\" data-mage-init='{\"validation\":{}}' id=\"social-form-login\">\n",
       "<fieldset class=\"fieldset login\" data-hasrequired=\"* Required Fields\">\n",
       "<div class=\"field email required\">\n",
       "<label class=\"label\" for=\"social_login_email\"><span>Email</span></label>\n",
       "<div class=\"control\">\n",
       "<input autocomplete=\"off\" class=\"input-text\" data-validate=\"{required:true, 'validate-email':true}\" id=\"social_login_email\" name=\"username\" title=\"Email\" type=\"email\" value=\"\"/>\n",
       "</div>\n",
       "</div>\n",
       "<div class=\"field password required\">\n",
       "<label class=\"label\" for=\"pass\"><span>Password</span></label>\n",
       "<div class=\"control\">\n",
       "<input autocomplete=\"off\" class=\"input-text\" data-validate=\"{required:true, 'validate-password':true}\" id=\"social_login_pass\" name=\"password\" title=\"Password\" type=\"password\"/>\n",
       "</div>\n",
       "</div>\n",
       "<div class=\"field choice remember-me-box\">\n",
       "<input checked=\"checked\" class=\"checkbox\" id=\"remember_meUVZQZWFPbv\" name=\"caskers_remember_me\" title=\"Remember Me\" type=\"checkbox\">\n",
       "<label class=\"label\" for=\"remember_meUVZQZWFPbv\"><span>Remember Me</span></label>\n",
       "</input></div>\n",
       "<div class=\"bnt-social-forgot-password\">\n",
       "<a class=\"action remind\" href=\"https://www.caskers.com/customer/account/forgotpassword/\"><span>Forgot password?</span></a>\n",
       "</div>\n",
       "<!-- BLOCK social-login-captcha --><!-- /BLOCK social-login-captcha --> <button class=\"action login primary\" id=\"bnt-social-login-authentication\" type=\"button\">\n",
       "<span>Sign in</span>\n",
       "</button>\n",
       "<div class=\"bnt-social-create\">\n",
       "<a class=\"action create\" href=\"https://www.caskers.com/customer/account/create/\"><span>Register</span></a>\n",
       "</div>\n",
       "</fieldset>\n",
       "</form>\n",
       "</div>\n",
       "</div>\n",
       "</div>\n",
       "</div>\n",
       "<div style=\"clear: both\"></div>\n",
       "<div data-mage-init='{\"feedReport\":[]}'></div><script type=\"text/x-magento-init\">\n",
       "    {\n",
       "        \"body\": {\n",
       "            \"requireCookie\": {\"noCookieUrl\":\"https:\\/\\/www.caskers.com\\/cookie\\/index\\/noCookies\\/\",\"triggers\":[\".action.towishlist\"],\"isRedirectCmsPage\":true}        }\n",
       "    }\n",
       "</script>\n",
       "<aside><div class=\"block related\" data-limit=\"0\" data-mage-init='{\"relatedProducts\":{\"relatedCheckbox\":\".related.checkbox\"}}' data-shuffle=\"0\">\n",
       "<div class=\"block-title title\">\n",
       "<strong aria-level=\"2\" id=\"block-related-heading\" role=\"heading\">We also recommend</strong>\n",
       "</div>\n",
       "<div aria-labelledby=\"block-related-heading\" class=\"block-content content\">\n",
       "<div class=\"products wrapper grid products-grid products-related\">\n",
       "<ol class=\"products list items product-items carousel-attached-products owl-carousel owl-theme\"><li class=\"item product product-item\" style=\"display: none;\"> <div class=\"product-item-info related-available\">\n",
       "<!-- related_products_list--> <a class=\"product photo product-item-photo\" href=\"https://www.caskers.com/westland-american-oak-single-malt-whiskey/\">\n",
       "<span class=\"product-image-container\" style=\"width:200px;\">\n",
       "<span class=\"product-image-wrapper\" style=\"padding-bottom: 100%;\">\n",
       "<img alt=\"Westland American Oak Single Malt Whiskey\" class=\"product-image-photo\" data-pagespeed-onload=\"pagespeed.CriticalImages.checkImageForCriticality(this);\" data-pagespeed-url-hash=\"800565987\" max-height=\"200\" max-width=\"200\" onload=\"var elem=this;if (this==window) elem=document.body;elem.setAttribute('data-pagespeed-loaded', 1)\" src=\"https://cdn.caskers.com/catalog/product/cache/00cecac1993c85adfe937bb669fd27a3/w/e/westland-american-oak-1_1_2.jpg\"/></span>\n",
       "</span>\n",
       "</a>\n",
       "<a class=\"product-item-link-block\" href=\"https://www.caskers.com/westland-american-oak-single-malt-whiskey/\" title=\"Westland American Oak Single Malt Whiskey\">\n",
       "Westland American Oak Single Malt Whiskey </a>\n",
       "<div class=\"product details product-item-details\">\n",
       "<strong class=\"product name product-item-name\">\n",
       "<a class=\"product-item-link\" href=\"https://www.caskers.com/westland-american-oak-single-malt-whiskey/\" title=\"Westland American Oak Single Malt Whiskey\">\n",
       "Westland American Oak Single Malt Whiskey </a>\n",
       "</strong>\n",
       "<div class=\"price-box price-final_price\" data-price-box=\"product-id-3432\" data-product-id=\"3432\" data-role=\"priceBox\">\n",
       "<span class=\"price-container\">\n",
       "<span class=\"price-wrapper\" data-price-amount=\"70.99\" data-price-type=\"finalPrice\" id=\"product-price-3432\"><span class=\"price\">$70.99</span></span>\n",
       "</span>\n",
       "</div>\n",
       "<div class=\"product actions product-item-actions\">\n",
       "<div class=\"actions-primary\">\n",
       "<strong class=\"product-item-category\">Discover</strong>\n",
       "<strong class=\"product name product-item-name\">\n",
       "<a class=\"product-item-link\" href=\"https://www.caskers.com/westland-american-oak-single-malt-whiskey/\">\n",
       "Westland American Oak Single Malt Whiskey </a>\n",
       "</strong>\n",
       "<div class=\"product-item-buttons\">\n",
       "<button class=\"action tocart primary\" data-post='{\"action\":\"https:\\/\\/www.caskers.com\\/checkout\\/cart\\/add\\/uenc\\/aHR0cHM6Ly93d3cuY2Fza2Vycy5jb20vd2VzdHdhcmQtYW1lcmljYW4tc2luZ2xlLW1hbHQtd2hpc2tleS8%2C\\/product\\/3432\\/\",\"data\":{\"product\":\"3432\",\"uenc\":\"aHR0cHM6Ly93d3cuY2Fza2Vycy5jb20vd2VzdHdhcmQtYW1lcmljYW4tc2luZ2xlLW1hbHQtd2hpc2tleS8,\"}}' title=\"Add to Cart\" type=\"button\">\n",
       "<span>Add to Cart</span>\n",
       "</button>\n",
       "</div>\n",
       "</div>\n",
       "<div class=\"secondary-addto-links actions-secondary\" data-role=\"add-to-links\">\n",
       "</div>\n",
       "</div>\n",
       "</div>\n",
       "</div>\n",
       "</li><li class=\"item product product-item\" style=\"display: none;\"> <div class=\"product-item-info related-available\">\n",
       "<!-- related_products_list--> <a class=\"product photo product-item-photo\" href=\"https://www.caskers.com/westland-sherry-wood-american-single-malt-whiskey/\">\n",
       "<span class=\"product-image-container\" style=\"width:200px;\">\n",
       "<span class=\"product-image-wrapper\" style=\"padding-bottom: 100%;\">\n",
       "<img alt=\"Westland Sherry Wood American Single Malt Whiskey\" class=\"product-image-photo\" data-pagespeed-onload=\"pagespeed.CriticalImages.checkImageForCriticality(this);\" data-pagespeed-url-hash=\"3277293100\" max-height=\"200\" max-width=\"200\" onload=\"var elem=this;if (this==window) elem=document.body;elem.setAttribute('data-pagespeed-loaded', 1)\" src=\"https://cdn.caskers.com/catalog/product/cache/00cecac1993c85adfe937bb669fd27a3/w/e/westland-sherry-wood-1_2.jpg\"/></span>\n",
       "</span>\n",
       "</a>\n",
       "<a class=\"product-item-link-block\" href=\"https://www.caskers.com/westland-sherry-wood-american-single-malt-whiskey/\" title=\"Westland Sherry Wood American Single Malt Whiskey\">\n",
       "Westland Sherry Wood American Single Malt Whiskey </a>\n",
       "<div class=\"product details product-item-details\">\n",
       "<strong class=\"product name product-item-name\">\n",
       "<a class=\"product-item-link\" href=\"https://www.caskers.com/westland-sherry-wood-american-single-malt-whiskey/\" title=\"Westland Sherry Wood American Single Malt Whiskey\">\n",
       "Westland Sherry Wood American Single Malt Whiskey </a>\n",
       "</strong>\n",
       "<div class=\"price-box price-final_price\" data-price-box=\"product-id-3431\" data-product-id=\"3431\" data-role=\"priceBox\">\n",
       "<span class=\"price-container\">\n",
       "<span class=\"price-wrapper\" data-price-amount=\"72.99\" data-price-type=\"finalPrice\" id=\"product-price-3431\"><span class=\"price\">$72.99</span></span>\n",
       "</span>\n",
       "</div>\n",
       "<div class=\"product actions product-item-actions\">\n",
       "<div class=\"actions-primary\">\n",
       "<strong class=\"product-item-category\">Discover</strong>\n",
       "<strong class=\"product name product-item-name\">\n",
       "<a class=\"product-item-link\" href=\"https://www.caskers.com/westland-sherry-wood-american-single-malt-whiskey/\">\n",
       "Westland Sherry Wood American Single Malt Whiskey </a>\n",
       "</strong>\n",
       "<div class=\"product-item-buttons\">\n",
       "<button class=\"action tocart primary\" data-post='{\"action\":\"https:\\/\\/www.caskers.com\\/checkout\\/cart\\/add\\/uenc\\/aHR0cHM6Ly93d3cuY2Fza2Vycy5jb20vd2VzdHdhcmQtYW1lcmljYW4tc2luZ2xlLW1hbHQtd2hpc2tleS8%2C\\/product\\/3431\\/\",\"data\":{\"product\":\"3431\",\"uenc\":\"aHR0cHM6Ly93d3cuY2Fza2Vycy5jb20vd2VzdHdhcmQtYW1lcmljYW4tc2luZ2xlLW1hbHQtd2hpc2tleS8,\"}}' title=\"Add to Cart\" type=\"button\">\n",
       "<span>Add to Cart</span>\n",
       "</button>\n",
       "</div>\n",
       "</div>\n",
       "<div class=\"secondary-addto-links actions-secondary\" data-role=\"add-to-links\">\n",
       "</div>\n",
       "</div>\n",
       "</div>\n",
       "</div>\n",
       "</li><li class=\"item product product-item\" style=\"display: none;\"> <div class=\"product-item-info related-available\">\n",
       "<!-- related_products_list--> <a class=\"product photo product-item-photo\" href=\"https://www.caskers.com/westland-peated-american-single-malt-whiskey/\">\n",
       "<span class=\"product-image-container\" style=\"width:200px;\">\n",
       "<span class=\"product-image-wrapper\" style=\"padding-bottom: 100%;\">\n",
       "<img alt=\"Westland Peated American Single Malt Whiskey\" class=\"product-image-photo\" data-pagespeed-onload=\"pagespeed.CriticalImages.checkImageForCriticality(this);\" data-pagespeed-url-hash=\"2767468745\" max-height=\"200\" max-width=\"200\" onload=\"var elem=this;if (this==window) elem=document.body;elem.setAttribute('data-pagespeed-loaded', 1)\" src=\"https://cdn.caskers.com/catalog/product/cache/00cecac1993c85adfe937bb669fd27a3/w/e/westland-peated-1.jpg\"/></span>\n",
       "</span>\n",
       "</a>\n",
       "<a class=\"product-item-link-block\" href=\"https://www.caskers.com/westland-peated-american-single-malt-whiskey/\" title=\"Westland Peated American Single Malt Whiskey\">\n",
       "Westland Peated American Single Malt Whiskey </a>\n",
       "<div class=\"product details product-item-details\">\n",
       "<strong class=\"product name product-item-name\">\n",
       "<a class=\"product-item-link\" href=\"https://www.caskers.com/westland-peated-american-single-malt-whiskey/\" title=\"Westland Peated American Single Malt Whiskey\">\n",
       "Westland Peated American Single Malt Whiskey </a>\n",
       "</strong>\n",
       "<div class=\"price-box price-final_price\" data-price-box=\"product-id-2887\" data-product-id=\"2887\" data-role=\"priceBox\">\n",
       "<span class=\"price-container\">\n",
       "<span class=\"price-wrapper\" data-price-amount=\"79.99\" data-price-type=\"finalPrice\" id=\"product-price-2887\"><span class=\"price\">$79.99</span></span>\n",
       "</span>\n",
       "</div>\n",
       "<div class=\"product actions product-item-actions\">\n",
       "<div class=\"actions-primary\">\n",
       "<strong class=\"product-item-category\">Discover</strong>\n",
       "<strong class=\"product name product-item-name\">\n",
       "<a class=\"product-item-link\" href=\"https://www.caskers.com/westland-peated-american-single-malt-whiskey/\">\n",
       "Westland Peated American Single Malt Whiskey </a>\n",
       "</strong>\n",
       "<div class=\"product-item-buttons\">\n",
       "<button class=\"action tocart primary\" data-post='{\"action\":\"https:\\/\\/www.caskers.com\\/checkout\\/cart\\/add\\/uenc\\/aHR0cHM6Ly93d3cuY2Fza2Vycy5jb20vd2VzdHdhcmQtYW1lcmljYW4tc2luZ2xlLW1hbHQtd2hpc2tleS8%2C\\/product\\/2887\\/\",\"data\":{\"product\":\"2887\",\"uenc\":\"aHR0cHM6Ly93d3cuY2Fza2Vycy5jb20vd2VzdHdhcmQtYW1lcmljYW4tc2luZ2xlLW1hbHQtd2hpc2tleS8,\"}}' title=\"Add to Cart\" type=\"button\">\n",
       "<span>Add to Cart</span>\n",
       "</button>\n",
       "</div>\n",
       "</div>\n",
       "<div class=\"secondary-addto-links actions-secondary\" data-role=\"add-to-links\">\n",
       "</div>\n",
       "</div>\n",
       "</div>\n",
       "</div>\n",
       "</li><li class=\"item product product-item\" style=\"display: none;\"> <div class=\"product-item-info related-available\">\n",
       "<!-- related_products_list--> <a class=\"product photo product-item-photo\" href=\"https://www.caskers.com/westland-garryana-single-malt-whiskey/\">\n",
       "<span class=\"product-image-container\" style=\"width:200px;\">\n",
       "<span class=\"product-image-wrapper\" style=\"padding-bottom: 100%;\">\n",
       "<img alt=\"Westland Garryana Single Malt Whiskey\" class=\"product-image-photo\" data-pagespeed-onload=\"pagespeed.CriticalImages.checkImageForCriticality(this);\" data-pagespeed-url-hash=\"1195553177\" max-height=\"200\" max-width=\"200\" onload=\"var elem=this;if (this==window) elem=document.body;elem.setAttribute('data-pagespeed-loaded', 1)\" src=\"https://cdn.caskers.com/catalog/product/cache/00cecac1993c85adfe937bb669fd27a3/w/e/westland-garryana-edition-2-1.jpg\"/></span>\n",
       "</span>\n",
       "</a>\n",
       "<a class=\"product-item-link-block\" href=\"https://www.caskers.com/westland-garryana-single-malt-whiskey/\" title=\"Westland Garryana Single Malt Whiskey\">\n",
       "Westland Garryana Single Malt Whiskey </a>\n",
       "<div class=\"product details product-item-details\">\n",
       "<strong class=\"product name product-item-name\">\n",
       "<a class=\"product-item-link\" href=\"https://www.caskers.com/westland-garryana-single-malt-whiskey/\" title=\"Westland Garryana Single Malt Whiskey\">\n",
       "Westland Garryana Single Malt Whiskey </a>\n",
       "</strong>\n",
       "<div class=\"price-box price-final_price\" data-price-box=\"product-id-3424\" data-product-id=\"3424\" data-role=\"priceBox\">\n",
       "<span class=\"price-container\">\n",
       "<span class=\"price-wrapper\" data-price-amount=\"161.99\" data-price-type=\"finalPrice\" id=\"product-price-3424\"><span class=\"price\">$161.99</span></span>\n",
       "</span>\n",
       "</div>\n",
       "<div class=\"product actions product-item-actions\">\n",
       "<div class=\"actions-primary\">\n",
       "<strong class=\"product-item-category\">Discover</strong>\n",
       "<strong class=\"product name product-item-name\">\n",
       "<a class=\"product-item-link\" href=\"https://www.caskers.com/westland-garryana-single-malt-whiskey/\">\n",
       "Westland Garryana Single Malt Whiskey </a>\n",
       "</strong>\n",
       "<div class=\"product-item-buttons\">\n",
       "<button class=\"action tocart primary\" data-post='{\"action\":\"https:\\/\\/www.caskers.com\\/checkout\\/cart\\/add\\/uenc\\/aHR0cHM6Ly93d3cuY2Fza2Vycy5jb20vd2VzdHdhcmQtYW1lcmljYW4tc2luZ2xlLW1hbHQtd2hpc2tleS8%2C\\/product\\/3424\\/\",\"data\":{\"product\":\"3424\",\"uenc\":\"aHR0cHM6Ly93d3cuY2Fza2Vycy5jb20vd2VzdHdhcmQtYW1lcmljYW4tc2luZ2xlLW1hbHQtd2hpc2tleS8,\"}}' title=\"Add to Cart\" type=\"button\">\n",
       "<span>Add to Cart</span>\n",
       "</button>\n",
       "</div>\n",
       "</div>\n",
       "<div class=\"secondary-addto-links actions-secondary\" data-role=\"add-to-links\">\n",
       "</div>\n",
       "</div>\n",
       "</div>\n",
       "</div>\n",
       "</li><li class=\"item product product-item\" style=\"display: none;\"> <div class=\"product-item-info related-available\">\n",
       "<!-- related_products_list--> <a class=\"product photo product-item-photo\" href=\"https://www.caskers.com/few-single-malt-whisky/\">\n",
       "<span class=\"product-image-container\" style=\"width:200px;\">\n",
       "<span class=\"product-image-wrapper\" style=\"padding-bottom: 100%;\">\n",
       "<img alt=\"Few Single Malt Whisky\" class=\"product-image-photo\" data-pagespeed-onload=\"pagespeed.CriticalImages.checkImageForCriticality(this);\" data-pagespeed-url-hash=\"2838776464\" max-height=\"200\" max-width=\"200\" onload=\"var elem=this;if (this==window) elem=document.body;elem.setAttribute('data-pagespeed-loaded', 1)\" src=\"https://cdn.caskers.com/catalog/product/cache/00cecac1993c85adfe937bb669fd27a3/f/e/few-single-malt-whisky-1_1.jpg\"/></span>\n",
       "</span>\n",
       "</a>\n",
       "<a class=\"product-item-link-block\" href=\"https://www.caskers.com/few-single-malt-whisky/\" title=\"FEW Single Malt Whisky\">\n",
       "FEW Single Malt Whisky </a>\n",
       "<div class=\"product details product-item-details\">\n",
       "<strong class=\"product name product-item-name\">\n",
       "<a class=\"product-item-link\" href=\"https://www.caskers.com/few-single-malt-whisky/\" title=\"FEW Single Malt Whisky\">\n",
       "FEW Single Malt Whisky </a>\n",
       "</strong>\n",
       "<div class=\"price-box price-final_price\" data-price-box=\"product-id-1982\" data-product-id=\"1982\" data-role=\"priceBox\">\n",
       "<span class=\"price-container\">\n",
       "<span class=\"price-wrapper\" data-price-amount=\"69.99\" data-price-type=\"finalPrice\" id=\"product-price-1982\"><span class=\"price\">$69.99</span></span>\n",
       "</span>\n",
       "</div>\n",
       "<div class=\"product actions product-item-actions\">\n",
       "<div class=\"actions-primary\">\n",
       "<strong class=\"product-item-category\">Discover</strong>\n",
       "<strong class=\"product name product-item-name\">\n",
       "<a class=\"product-item-link\" href=\"https://www.caskers.com/few-single-malt-whisky/\">\n",
       "FEW Single Malt Whisky </a>\n",
       "</strong>\n",
       "<div class=\"product-item-buttons\">\n",
       "<button class=\"action tocart primary\" data-post='{\"action\":\"https:\\/\\/www.caskers.com\\/checkout\\/cart\\/add\\/uenc\\/aHR0cHM6Ly93d3cuY2Fza2Vycy5jb20vd2VzdHdhcmQtYW1lcmljYW4tc2luZ2xlLW1hbHQtd2hpc2tleS8%2C\\/product\\/1982\\/\",\"data\":{\"product\":\"1982\",\"uenc\":\"aHR0cHM6Ly93d3cuY2Fza2Vycy5jb20vd2VzdHdhcmQtYW1lcmljYW4tc2luZ2xlLW1hbHQtd2hpc2tleS8,\"}}' title=\"Add to Cart\" type=\"button\">\n",
       "<span>Add to Cart</span>\n",
       "</button>\n",
       "</div>\n",
       "</div>\n",
       "<div class=\"secondary-addto-links actions-secondary\" data-role=\"add-to-links\">\n",
       "</div>\n",
       "</div>\n",
       "</div>\n",
       "</div>\n",
       "</li><li class=\"item product product-item\" style=\"display: none;\"> <div class=\"product-item-info related-available\">\n",
       "<!-- related_products_list--> <a class=\"product photo product-item-photo\" href=\"https://www.caskers.com/balcones-texas-single-malt-whisky/\">\n",
       "<span class=\"product-image-container\" style=\"width:200px;\">\n",
       "<span class=\"product-image-wrapper\" style=\"padding-bottom: 100%;\">\n",
       "<img alt=\"Balcones Texas Single Malt Whisky\" class=\"product-image-photo\" data-pagespeed-onload=\"pagespeed.CriticalImages.checkImageForCriticality(this);\" data-pagespeed-url-hash=\"1004038513\" max-height=\"200\" max-width=\"200\" onload=\"var elem=this;if (this==window) elem=document.body;elem.setAttribute('data-pagespeed-loaded', 1)\" src=\"https://cdn.caskers.com/catalog/product/cache/00cecac1993c85adfe937bb669fd27a3/b/a/balcones-texas-single-malt-whisky-1.jpg\"/></span>\n",
       "</span>\n",
       "</a>\n",
       "<a class=\"product-item-link-block\" href=\"https://www.caskers.com/balcones-texas-single-malt-whisky/\" title=\"Balcones Texas Single Malt Whisky\">\n",
       "Balcones Texas Single Malt Whisky </a>\n",
       "<div class=\"product details product-item-details\">\n",
       "<strong class=\"product name product-item-name\">\n",
       "<a class=\"product-item-link\" href=\"https://www.caskers.com/balcones-texas-single-malt-whisky/\" title=\"Balcones Texas Single Malt Whisky\">\n",
       "Balcones Texas Single Malt Whisky </a>\n",
       "</strong>\n",
       "<div class=\"price-box price-final_price\" data-price-box=\"product-id-936\" data-product-id=\"936\" data-role=\"priceBox\">\n",
       "<span class=\"price-container\">\n",
       "<span class=\"price-wrapper\" data-price-amount=\"68.99\" data-price-type=\"finalPrice\" id=\"product-price-936\"><span class=\"price\">$68.99</span></span>\n",
       "</span>\n",
       "</div>\n",
       "<div class=\"product actions product-item-actions\">\n",
       "<div class=\"actions-primary\">\n",
       "<strong class=\"product-item-category\">Discover</strong>\n",
       "<strong class=\"product name product-item-name\">\n",
       "<a class=\"product-item-link\" href=\"https://www.caskers.com/balcones-texas-single-malt-whisky/\">\n",
       "Balcones Texas Single Malt Whisky </a>\n",
       "</strong>\n",
       "<div class=\"product-item-buttons\">\n",
       "<button class=\"action tocart primary\" data-post='{\"action\":\"https:\\/\\/www.caskers.com\\/checkout\\/cart\\/add\\/uenc\\/aHR0cHM6Ly93d3cuY2Fza2Vycy5jb20vd2VzdHdhcmQtYW1lcmljYW4tc2luZ2xlLW1hbHQtd2hpc2tleS8%2C\\/product\\/936\\/\",\"data\":{\"product\":\"936\",\"uenc\":\"aHR0cHM6Ly93d3cuY2Fza2Vycy5jb20vd2VzdHdhcmQtYW1lcmljYW4tc2luZ2xlLW1hbHQtd2hpc2tleS8,\"}}' title=\"Add to Cart\" type=\"button\">\n",
       "<span>Add to Cart</span>\n",
       "</button>\n",
       "</div>\n",
       "</div>\n",
       "<div class=\"secondary-addto-links actions-secondary\" data-role=\"add-to-links\">\n",
       "</div>\n",
       "</div>\n",
       "</div>\n",
       "</div>\n",
       "</li><li class=\"item product product-item\" style=\"display: none;\"> <div class=\"product-item-info related-available\">\n",
       "<!-- related_products_list--> <a class=\"product photo product-item-photo\" href=\"https://www.caskers.com/balcones-peated-texas-single-malt-2020-edition/\">\n",
       "<span class=\"product-image-container\" style=\"width:200px;\">\n",
       "<span class=\"product-image-wrapper\" style=\"padding-bottom: 100%;\">\n",
       "<img alt=\"Balcones Peated Texas Single Malt 2020 Edition\" class=\"product-image-photo\" data-pagespeed-onload=\"pagespeed.CriticalImages.checkImageForCriticality(this);\" data-pagespeed-url-hash=\"3412544631\" max-height=\"200\" max-width=\"200\" onload=\"var elem=this;if (this==window) elem=document.body;elem.setAttribute('data-pagespeed-loaded', 1)\" src=\"https://cdn.caskers.com/catalog/product/cache/00cecac1993c85adfe937bb669fd27a3/b/a/balcones-peated-texas-single-malt_1_1.jpg\"/></span>\n",
       "</span>\n",
       "</a>\n",
       "<a class=\"product-item-link-block\" href=\"https://www.caskers.com/balcones-peated-texas-single-malt-2020-edition/\" title=\"Balcones Peated Texas Single Malt 2020 Edition\">\n",
       "Balcones Peated Texas Single Malt 2020 Edition </a>\n",
       "<div class=\"product details product-item-details\">\n",
       "<strong class=\"product name product-item-name\">\n",
       "<a class=\"product-item-link\" href=\"https://www.caskers.com/balcones-peated-texas-single-malt-2020-edition/\" title=\"Balcones Peated Texas Single Malt 2020 Edition\">\n",
       "Balcones Peated Texas Single Malt 2020 Edition </a>\n",
       "</strong>\n",
       "<div class=\"price-box price-final_price\" data-price-box=\"product-id-6054\" data-product-id=\"6054\" data-role=\"priceBox\">\n",
       "<span class=\"price-container\">\n",
       "<span class=\"price-wrapper\" data-price-amount=\"65.99\" data-price-type=\"finalPrice\" id=\"product-price-6054\"><span class=\"price\">$65.99</span></span>\n",
       "</span>\n",
       "</div>\n",
       "<div class=\"product actions product-item-actions\">\n",
       "<div class=\"actions-primary\">\n",
       "<strong class=\"product-item-category\">Discover</strong>\n",
       "<strong class=\"product name product-item-name\">\n",
       "<a class=\"product-item-link\" href=\"https://www.caskers.com/balcones-peated-texas-single-malt-2020-edition/\">\n",
       "Balcones Peated Texas Single Malt 2020 Edition </a>\n",
       "</strong>\n",
       "<div class=\"product-item-buttons\">\n",
       "<button class=\"action tocart primary\" data-post='{\"action\":\"https:\\/\\/www.caskers.com\\/checkout\\/cart\\/add\\/uenc\\/aHR0cHM6Ly93d3cuY2Fza2Vycy5jb20vd2VzdHdhcmQtYW1lcmljYW4tc2luZ2xlLW1hbHQtd2hpc2tleS8%2C\\/product\\/6054\\/\",\"data\":{\"product\":\"6054\",\"uenc\":\"aHR0cHM6Ly93d3cuY2Fza2Vycy5jb20vd2VzdHdhcmQtYW1lcmljYW4tc2luZ2xlLW1hbHQtd2hpc2tleS8,\"}}' title=\"Add to Cart\" type=\"button\">\n",
       "<span>Add to Cart</span>\n",
       "</button>\n",
       "</div>\n",
       "</div>\n",
       "<div class=\"secondary-addto-links actions-secondary\" data-role=\"add-to-links\">\n",
       "</div>\n",
       "</div>\n",
       "</div>\n",
       "</div>\n",
       "</li><li class=\"item product product-item\" style=\"display: none;\"> <div class=\"product-item-info related-available\">\n",
       "<!-- related_products_list--> <a class=\"product photo product-item-photo\" href=\"https://www.caskers.com/colkegan-single-malt-whiskey/\">\n",
       "<span class=\"product-image-container\" style=\"width:200px;\">\n",
       "<span class=\"product-image-wrapper\" style=\"padding-bottom: 100%;\">\n",
       "<img alt=\"Colkegan Single Malt Whiskey\" class=\"product-image-photo\" data-pagespeed-onload=\"pagespeed.CriticalImages.checkImageForCriticality(this);\" data-pagespeed-url-hash=\"1581972218\" max-height=\"200\" max-width=\"200\" onload=\"var elem=this;if (this==window) elem=document.body;elem.setAttribute('data-pagespeed-loaded', 1)\" src=\"https://cdn.caskers.com/catalog/product/cache/00cecac1993c85adfe937bb669fd27a3/c/o/colkegan-single-malt-whiskey-1.jpg\"/></span>\n",
       "</span>\n",
       "</a>\n",
       "<a class=\"product-item-link-block\" href=\"https://www.caskers.com/colkegan-single-malt-whiskey/\" title=\"Colkegan Single Malt Whiskey\">\n",
       "Colkegan Single Malt Whiskey </a>\n",
       "<div class=\"product details product-item-details\">\n",
       "<strong class=\"product name product-item-name\">\n",
       "<a class=\"product-item-link\" href=\"https://www.caskers.com/colkegan-single-malt-whiskey/\" title=\"Colkegan Single Malt Whiskey\">\n",
       "Colkegan Single Malt Whiskey </a>\n",
       "</strong>\n",
       "<div class=\"price-box price-final_price\" data-price-box=\"product-id-2751\" data-product-id=\"2751\" data-role=\"priceBox\">\n",
       "<span class=\"price-container\">\n",
       "<span class=\"price-wrapper\" data-price-amount=\"74.99\" data-price-type=\"finalPrice\" id=\"product-price-2751\"><span class=\"price\">$74.99</span></span>\n",
       "</span>\n",
       "</div>\n",
       "<div class=\"product actions product-item-actions\">\n",
       "<div class=\"actions-primary\">\n",
       "<strong class=\"product-item-category\">Discover</strong>\n",
       "<strong class=\"product name product-item-name\">\n",
       "<a class=\"product-item-link\" href=\"https://www.caskers.com/colkegan-single-malt-whiskey/\">\n",
       "Colkegan Single Malt Whiskey </a>\n",
       "</strong>\n",
       "<div class=\"product-item-buttons\">\n",
       "<button class=\"action tocart primary\" data-post='{\"action\":\"https:\\/\\/www.caskers.com\\/checkout\\/cart\\/add\\/uenc\\/aHR0cHM6Ly93d3cuY2Fza2Vycy5jb20vd2VzdHdhcmQtYW1lcmljYW4tc2luZ2xlLW1hbHQtd2hpc2tleS8%2C\\/product\\/2751\\/\",\"data\":{\"product\":\"2751\",\"uenc\":\"aHR0cHM6Ly93d3cuY2Fza2Vycy5jb20vd2VzdHdhcmQtYW1lcmljYW4tc2luZ2xlLW1hbHQtd2hpc2tleS8,\"}}' title=\"Add to Cart\" type=\"button\">\n",
       "<span>Add to Cart</span>\n",
       "</button>\n",
       "</div>\n",
       "</div>\n",
       "<div class=\"secondary-addto-links actions-secondary\" data-role=\"add-to-links\">\n",
       "</div>\n",
       "</div>\n",
       "</div>\n",
       "</div>\n",
       "</li> </ol></div>\n",
       "</div>\n",
       "</div>\n",
       "</aside>\n",
       "</input></div></div></main><footer class=\"page-footer\"><div class=\"footer content\"><div class=\"footer-menu-container\" id=\"footer-menu-collapsible\">\n",
       "<div class=\"footer-menu-block\">\n",
       "<div data-role=\"collapsible\">\n",
       "<div data-toggle=\"switch\">\n",
       "<span>Our products</span>\n",
       "</div>\n",
       "</div>\n",
       "<ul class=\"submenu\" data-role=\"content\">\n",
       "<li><a href=\"https://www.caskers.com/spirits/\">Spirits</a></li>\n",
       "<li><a href=\"https://www.caskers.com/clubs/\">Clubs</a></li>\n",
       "<li><a href=\"https://www.caskers.com/caskers-gift-cards/\">Gift cards</a></li>\n",
       "<li><a href=\"https://www.caskers.com/concierge/\">Concierge</a></li>\n",
       "</ul>\n",
       "</div>\n",
       "<div class=\"footer-menu-block\">\n",
       "<div data-role=\"collapsible\">\n",
       "<div data-toggle=\"switch\">\n",
       "<span>Our company</span>\n",
       "</div>\n",
       "</div>\n",
       "<ul class=\"submenu\" data-role=\"content\">\n",
       "<li><a href=\"https://www.caskers.com/about-us\">About us</a></li>\n",
       "<li><a href=\"https://www.caskers.com/contact\">Contact Us</a></li>\n",
       "<li><a href=\"https://www.caskers.com/contact\">Feedback</a></li>\n",
       "</ul>\n",
       "</div>\n",
       "<div class=\"footer-menu-block\">\n",
       "<div data-role=\"collapsible\">\n",
       "<div data-toggle=\"switch\">\n",
       "<span>Information</span>\n",
       "</div>\n",
       "</div>\n",
       "<ul class=\"submenu\" data-role=\"content\">\n",
       "<li><a href=\"https://www.caskers.com/track\">Order tracking</a></li>\n",
       "<li><a href=\"https://www.caskers.com/invite-friends\">Invite a friend</a></li>\n",
       "<li><a href=\"https://www.caskers.com/office\">For offices</a></li>\n",
       "<li><a href=\"https://www.caskers.com/shipping-returns\">Shipping &amp; returns</a></li>\n",
       "<li><a href=\"https://www.caskers.com/refund-policy\">Refund policy</a></li>\n",
       "<li><a href=\"https://help.caskers.com/\">Faq</a></li>\n",
       "</ul>\n",
       "</div>\n",
       "</div><div class=\"footer-social-container\">\n",
       "<ul>\n",
       "<li class=\"facebook\">\n",
       "<a href=\"https://www.facebook.com/CaskersSpirits\" rel=\"noopener noreferrer\" target=\"_blank\">\n",
       "<svg height=\"20px\" id=\"Capa_1\" style=\"enable-background:new 0 0 470.513 470.513;\" version=\"1.1\" viewbox=\"0 0 470.513 470.513\" width=\"20px\" x=\"0px\" xml:space=\"preserve\" xmlns=\"http://www.w3.org/2000/svg\" xmlns:xlink=\"http://www.w3.org/1999/xlink\" y=\"0px\">\n",
       "<g>\n",
       "<path d=\"M271.521,154.17v-40.541c0-6.086,0.28-10.8,0.849-14.13c0.567-3.335,1.857-6.615,3.859-9.853   c1.999-3.236,5.236-5.47,9.706-6.708c4.476-1.24,10.424-1.858,17.85-1.858h40.539V0h-64.809c-37.5,0-64.433,8.897-80.803,26.691   c-16.368,17.798-24.551,44.014-24.551,78.658v48.82h-48.542v81.086h48.539v235.256h97.362V235.256h64.805l8.566-81.086H271.521z\" fill=\"#FFFFFF\"></path>\n",
       "</g>\n",
       "</svg>\n",
       "</a>\n",
       "</li>\n",
       "<li class=\"twitter\">\n",
       "<a href=\"https://twitter.com/Caskers\" rel=\"noreferrer\" target=\"_blank\">\n",
       "<svg height=\"20px\" id=\"Capa_1\" style=\"enable-background:new 0 0 612 612;\" version=\"1.1\" viewbox=\"0 0 612 612\" width=\"20px\" x=\"0px\" xml:space=\"preserve\" xmlns=\"http://www.w3.org/2000/svg\" xmlns:xlink=\"http://www.w3.org/1999/xlink\" y=\"0px\">\n",
       "<g>\n",
       "<g>\n",
       "<path d=\"M612,116.258c-22.525,9.981-46.694,16.75-72.088,19.772c25.929-15.527,45.777-40.155,55.184-69.411    c-24.322,14.379-51.169,24.82-79.775,30.48c-22.907-24.437-55.49-39.658-91.63-39.658c-69.334,0-125.551,56.217-125.551,125.513    c0,9.828,1.109,19.427,3.251,28.606C197.065,206.32,104.556,156.337,42.641,80.386c-10.823,18.51-16.98,40.078-16.98,63.101    c0,43.559,22.181,81.993,55.835,104.479c-20.575-0.688-39.926-6.348-56.867-15.756v1.568c0,60.806,43.291,111.554,100.693,123.104    c-10.517,2.83-21.607,4.398-33.08,4.398c-8.107,0-15.947-0.803-23.634-2.333c15.985,49.907,62.336,86.199,117.253,87.194    c-42.947,33.654-97.099,53.655-155.916,53.655c-10.134,0-20.116-0.612-29.944-1.721c55.567,35.681,121.536,56.485,192.438,56.485    c230.948,0,357.188-191.291,357.188-357.188l-0.421-16.253C573.872,163.526,595.211,141.422,612,116.258z\" fill=\"#FFFFFF\"></path>\n",
       "</g>\n",
       "</g>\n",
       "</svg>\n",
       "</a>\n",
       "</li>\n",
       "<li class=\"inst\">\n",
       "<a href=\"https://www.instagram.com/caskers\" rel=\"noopener noreferrer\" target=\"_blank\">\n",
       "<svg height=\"20px\" id=\"Layer_1\" style=\"enable-background:new 0 0 169.063 169.063;\" version=\"1.1\" viewbox=\"0 0 169.063 169.063\" width=\"20px\" x=\"0px\" xml:space=\"preserve\" xmlns=\"http://www.w3.org/2000/svg\" xmlns:xlink=\"http://www.w3.org/1999/xlink\" y=\"0px\">\n",
       "<g>\n",
       "<path d=\"M122.406,0H46.654C20.929,0,0,20.93,0,46.655v75.752c0,25.726,20.929,46.655,46.654,46.655h75.752   c25.727,0,46.656-20.93,46.656-46.655V46.655C169.063,20.93,148.133,0,122.406,0z M154.063,122.407   c0,17.455-14.201,31.655-31.656,31.655H46.654C29.2,154.063,15,139.862,15,122.407V46.655C15,29.201,29.2,15,46.654,15h75.752   c17.455,0,31.656,14.201,31.656,31.655V122.407z\" fill=\"#FFFFFF\"></path>\n",
       "<path d=\"M84.531,40.97c-24.021,0-43.563,19.542-43.563,43.563c0,24.02,19.542,43.561,43.563,43.561s43.563-19.541,43.563-43.561   C128.094,60.512,108.552,40.97,84.531,40.97z M84.531,113.093c-15.749,0-28.563-12.812-28.563-28.561   c0-15.75,12.813-28.563,28.563-28.563s28.563,12.813,28.563,28.563C113.094,100.281,100.28,113.093,84.531,113.093z\" fill=\"#FFFFFF\"></path>\n",
       "<path d=\"M129.921,28.251c-2.89,0-5.729,1.17-7.77,3.22c-2.051,2.04-3.23,4.88-3.23,7.78c0,2.891,1.18,5.73,3.23,7.78   c2.04,2.04,4.88,3.22,7.77,3.22c2.9,0,5.73-1.18,7.78-3.22c2.05-2.05,3.22-4.89,3.22-7.78c0-2.9-1.17-5.74-3.22-7.78   C135.661,29.421,132.821,28.251,129.921,28.251z\" fill=\"#FFFFFF\"></path>\n",
       "</g>\n",
       "</svg>\n",
       "</a>\n",
       "</li>\n",
       "<li class=\"pinterest\">\n",
       "<a href=\"https://www.pinterest.com/caskers/\" rel=\"noopener noreferrer\" target=\"_blank\">\n",
       "<svg height=\"20px\" id=\"Layer_1\" style=\"enable-background:new 0 0 310.05 310.05;\" version=\"1.1\" viewbox=\"0 0 310.05 310.05\" width=\"20px\" x=\"0px\" xml:space=\"preserve\" xmlns=\"http://www.w3.org/2000/svg\" xmlns:xlink=\"http://www.w3.org/1999/xlink\" y=\"0px\">\n",
       "<g id=\"XMLID_798_\">\n",
       "<path d=\"M245.265,31.772C223.923,11.284,194.388,0,162.101,0c-49.32,0-79.654,20.217-96.416,37.176   c-20.658,20.9-32.504,48.651-32.504,76.139c0,34.513,14.436,61.003,38.611,70.858c1.623,0.665,3.256,1,4.857,1   c5.1,0,9.141-3.337,10.541-8.69c0.816-3.071,2.707-10.647,3.529-13.936c1.76-6.495,0.338-9.619-3.5-14.142   c-6.992-8.273-10.248-18.056-10.248-30.788c0-37.818,28.16-78.011,80.352-78.011c41.412,0,67.137,23.537,67.137,61.425   c0,23.909-5.15,46.051-14.504,62.35c-6.5,11.325-17.93,24.825-35.477,24.825c-7.588,0-14.404-3.117-18.705-8.551   c-4.063-5.137-5.402-11.773-3.768-18.689c1.846-7.814,4.363-15.965,6.799-23.845c4.443-14.392,8.643-27.985,8.643-38.83   c0-18.55-11.404-31.014-28.375-31.014c-21.568,0-38.465,21.906-38.465,49.871c0,13.715,3.645,23.973,5.295,27.912   c-2.717,11.512-18.865,79.953-21.928,92.859c-1.771,7.534-12.44,67.039,5.219,71.784c19.841,5.331,37.576-52.623,39.381-59.172   c1.463-5.326,6.582-25.465,9.719-37.845c9.578,9.226,25,15.463,40.006,15.463c28.289,0,53.73-12.73,71.637-35.843   c17.367-22.418,26.932-53.664,26.932-87.978C276.869,77.502,265.349,51.056,245.265,31.772z\" fill=\"#FFFFFF\" id=\"XMLID_799_\"></path>\n",
       "</g>\n",
       "</svg>\n",
       "</a>\n",
       "</li>\n",
       "</ul>\n",
       "</div>\n",
       "<div>\n",
       "<div style=\"text-align: center; color: #ee4e2c;\">\n",
       "</div>\n",
       "<div class=\"footer-notice ca\">\n",
       "<p style=\"color: #6d6d6d; font-size:0.8em;\">California Residents: <a href=\"/california-proposition-65\" target=\"_blank\">Click here for Proposition 65 WARNING</a> | <a href=\"/california-privacy-rights\" target=\"_blank\">CA Privacy Right</a></p>\n",
       "</div><small class=\"copyright\">\n",
       "<span>Copyright 2012 - 2021 Caskers. All rights reserved.</span>\n",
       "<a href=\"https://www.caskers.com/terms/\">Terms</a>\n",
       "<a href=\"https://www.caskers.com/privacy/\">Privacy</a>\n",
       "</small>\n",
       "<script data-pagespeed-orig-index=\"18\" type=\"text/psajs\">\n",
       "    require([\n",
       "        'jquery',\n",
       "        'js/assets/readmore',\n",
       "        'domReady!'\n",
       "    ], function ($) {\n",
       "        $(document).on('click','.data.switch', function () {\n",
       "            $('.product.attribute.description').readmore({\n",
       "                speed: 500,\n",
       "                moreLink: '<a href=\"#\" class=\"action-read-more\" >Read More</a>',\n",
       "                lessLink: '<a href=\"#\" class=\"action-show-less\" >Show Less</a>',\n",
       "                collapsedHeight: 300\n",
       "            });\n",
       "        });\n",
       "    });\n",
       "</script>\n",
       "<div class=\"field-recaptcha\" data-bind=\"scope:'msp-recaptcha-58312e2256fb5bcda606e9b5046e00ef'\" id=\"msp-recaptcha-58312e2256fb5bcda606e9b5046e00ef-container\">\n",
       "<!-- ko template: getTemplate() --><!-- /ko -->\n",
       "</div>\n",
       "<script data-pagespeed-orig-index=\"19\" data-pagespeed-orig-type=\"text/javascript\" type=\"text/psajs\">\n",
       "    require(['jquery', 'domReady!'], function ($) {\n",
       "        $('#msp-recaptcha-58312e2256fb5bcda606e9b5046e00ef-container')\n",
       "            .appendTo('#newsletter-validate-detail');\n",
       "    });\n",
       "</script>\n",
       "<script type=\"text/x-magento-init\">\n",
       "{\n",
       "    \"#msp-recaptcha-58312e2256fb5bcda606e9b5046e00ef-container\": {\n",
       "        \"Magento_Ui/js/core/app\": {\"components\":{\"msp-recaptcha-58312e2256fb5bcda606e9b5046e00ef\":{\"component\":\"MSP_ReCaptcha\\/js\\/reCaptcha\",\"reCaptchaId\":\"msp-recaptcha-58312e2256fb5bcda606e9b5046e00ef\",\"zone\":\"newsletter\",\"badge\":\"bottomright\",\"settings\":{\"siteKey\":\"6LdAIM8ZAAAAAH5WsA0eMkrdXme-bpPf9UFQphRZ\",\"size\":\"invisible\",\"badge\":\"bottomleft\",\"theme\":null,\"lang\":null,\"enabled\":{\"login\":false,\"create\":true,\"forgot\":true,\"contact\":true,\"review\":false,\"newsletter\":false,\"sendfriend\":false}}}}}    }\n",
       "}\n",
       "</script>\n",
       "</div></div></footer><script type=\"text/x-magento-init\">\n",
       "        {\n",
       "            \"*\": {\n",
       "                \"Magento_Ui/js/core/app\": {\n",
       "                    \"components\": {\n",
       "                        \"storage-manager\": {\n",
       "                            \"component\": \"Magento_Catalog/js/storage-manager\",\n",
       "                            \"appendTo\": \"\",\n",
       "                            \"storagesConfiguration\" : {\"recently_viewed_product\":{\"requestConfig\":{\"syncUrl\":\"https:\\/\\/www.caskers.com\\/catalog\\/product\\/frontend_action_synchronize\\/\"},\"lifetime\":\"1000\",\"allowToSendRequest\":null},\"recently_compared_product\":{\"requestConfig\":{\"syncUrl\":\"https:\\/\\/www.caskers.com\\/catalog\\/product\\/frontend_action_synchronize\\/\"},\"lifetime\":\"1000\",\"allowToSendRequest\":null},\"product_data_storage\":{\"updateRequestConfig\":{\"url\":\"https:\\/\\/www.caskers.com\\/rest\\/default\\/V1\\/products-render-info\"},\"allowToSendRequest\":null}}                        }\n",
       "                    }\n",
       "                }\n",
       "            }\n",
       "        }\n",
       "</script>\n",
       "<!-- Start of Caskers Helpscout widget -->\n",
       "<script data-pagespeed-orig-index=\"20\" data-pagespeed-orig-type=\"text/javascript\" type=\"text/psajs\">!function(e,t,n){function a(){var e=t.getElementsByTagName(\"script\")[0],n=t.createElement(\"script\");n.type=\"text/javascript\",n.async=!0,n.src=\"https://beacon-v2.helpscout.net\",e.parentNode.insertBefore(n,e)}if(e.Beacon=n=function(t,n,a){e.Beacon.readyQueue.push({method:t,options:n,data:a})},n.readyQueue=[],\"complete\"===t.readyState)return a();e.attachEvent?e.attachEvent(\"onload\",a):e.addEventListener(\"load\",a,!1)}(window,document,window.Beacon||function(){});</script>\n",
       "<script data-pagespeed-orig-index=\"21\" data-pagespeed-orig-type=\"text/javascript\" type=\"text/psajs\">\n",
       "window.Beacon('init', '6cc4cb2d-cc32-4f84-add1-7dcbe15800c7');\n",
       "window.Beacon('config', {\"display\":{\"zIndex\":\"1500\"}});\n",
       "</script>\n",
       "<!-- End of Caskers Helpscouut widget --><script data-pagespeed-orig-index=\"22\" type=\"text/psajs\">\n",
       "\trequire(['jquery'],function($)\n",
       "\t{\n",
       "\t\t(function($, dataLayer)\n",
       "\t\t{\n",
       "\t\t\tvar events = \n",
       "\t\t\t{\n",
       "\t\t\t\taddToCart: function()\n",
       "\t\t\t\t{\n",
       "\t\t\t\t\t\n",
       "\t\t\t\t\tAEC.ajax(this, dataLayer);\n",
       "\t\t\t\t\t\n",
       "\t\t\t\t\t\t\t\t\t\t\n",
       "\t\t\t\t},\n",
       "\t\t\t\tremoveFromCart: function()\n",
       "\t\t\t\t{\n",
       "\t\t\t\t\t\n",
       "\t\t\t\t\tAEC.remove(this, dataLayer);\n",
       "\t\t\t\t\t\n",
       "\t\t\t\t\t\t\t\t\t\t\n",
       "\t\t\t\t},\n",
       "\t\t\t\tproductClick: function()\n",
       "\t\t\t\t{\n",
       "\t\t\t\t\t\n",
       "\t\t\t\t\tAEC.click(this, dataLayer);\n",
       "\t\t\t\t\t\n",
       "\t\t\t\t\t\t\t\t\t\t\n",
       "\t\t\t\t},\n",
       "\t\t\t\taddToWishlist: function()\n",
       "\t\t\t\t{\n",
       "\t\t\t\t\t\n",
       "\t\t\t\t\tAEC.wishlist(this, dataLayer);\n",
       "\t\t\t\t\t\n",
       "\t\t\t\t\t\t\t\t\t\t\n",
       "\t\t\t\t},\n",
       "\t\t\t\taddToCompare: function()\n",
       "\t\t\t\t{\n",
       "\t\t\t\t\t\n",
       "\t\t\t\t\tAEC.compare(this, dataLayer);\n",
       "\t\t\t\t\t\n",
       "\t\t\t\t\t\t\t\t\t\t\n",
       "\t\t\t\t},\n",
       "\t\t\t\taddToCartSwatch: function()\n",
       "\t\t\t\t{\n",
       "\t\t\t\t\t\n",
       "\t\t\t\t\tAEC.ajaxSwatch(this, dataLayer);\n",
       "\t\t\t\t\t\n",
       "\t\t\t\t\t\t\t\t\t}\n",
       "\t\t\t};\n",
       "\n",
       "\t\t\tvar b = function(events)\n",
       "\t\t\t{\n",
       "\t\t\t\t$.each(events, function(event, callback)\n",
       "\t\t\t\t{\n",
       "\t\t\t\t\tvar elements = $('[data-event]').filter(function()\n",
       "\t\t\t\t\t{\n",
       "\t\t\t\t\t\treturn $(this).data('event') == event;\n",
       "\t\t\t\t\t});\n",
       "\n",
       "\t\t\t\t\telements.each(function()\n",
       "\t\t\t\t\t{\n",
       "\t\t\t\t\t\t$(this).off('click.ec').on('click.ec', callback);\n",
       "\t\t\t\t\t});\n",
       "\t\t\t\t});\n",
       "\t\t\t};\n",
       "\n",
       "\t\t\t\t\t\t\n",
       "\t\t\tb(events);\n",
       "\n",
       "\t\t\t\t\t\t\n",
       "\t\t\t(function(events)\n",
       "\t\t\t{\n",
       "\t\t\t\t$(document).ajaxComplete(function( event, request, settings ) \n",
       "\t\t\t\t{\n",
       "\t\t\t\t\tb(events);\n",
       "\t\t\t\t});\n",
       "\t\t\t})(events);\n",
       "\t\t\t\n",
       "\t\t})($, dataLayer);\n",
       "\t});\n",
       "</script>\n",
       "<script data-pagespeed-orig-index=\"23\" type=\"text/psajs\">\n",
       "\trequire(['jquery'],function($)\n",
       "\t{\n",
       "\t\t$(document).ready(function()\n",
       "\t\t{\n",
       "\t\t    var PromotionTrack = (function($, dataLayer)\n",
       "\t\t    {\n",
       "\t\t        return {\n",
       "\t\t            apply: function()\n",
       "\t\t            {\n",
       "\t\t                var promotions = [], position = 0;\n",
       "\t\t\n",
       "\t\t                $('[data-promotion]').each(function()\n",
       "\t\t                {\n",
       "\t\t                    promotions.push(\n",
       "\t                        {\n",
       "\t                            id:      \t$(this).data('promotion-id'),\n",
       "\t                            name:    \t$(this).data('promotion-name'),\n",
       "\t                            creative:\t$(this).data('promotion-creative'),\n",
       "\t                            position:\t++position\n",
       "\t                        });\n",
       "\t\n",
       "\t\t                    $(this).on(\n",
       "\t                        {\n",
       "\t                            click: function()\n",
       "\t                            {\n",
       "\t\t                           \tvar data = \n",
       "\t\t\t                        {\n",
       "\t                           \t\t\t'event': 'promotionClick',\n",
       "                                        'ecommerce': \n",
       "                                        {\n",
       "                                            'promoClick': \n",
       "                                            {\n",
       "                                                'promotions':\n",
       "                                                [\n",
       "\t                                                {\n",
       "\t\t                                                'id':       $(this).data('promotion-id'),\n",
       "\t\t                                                'name':     $(this).data('promotion-name'),\n",
       "\t\t                                                'creative': $(this).data('promotion-creative'),\n",
       "\t\t                                                'position': $(this).data('promotion-position')\n",
       "\t                                                }\n",
       "                                                ]\n",
       "                                            }\n",
       "                                        }\n",
       "\t\t\t\t\t                };\n",
       "\t\t\t\t\t                \n",
       "\t                                AEC.Cookie.promotionClick(data).push(dataLayer);\n",
       "\n",
       "\t                                /**\n",
       "\t                                 * Save persistent data\n",
       "\t                                 */\n",
       "\t                                AEC.Persist.push(AEC.Persist.CONST_KEY_PROMOTION,\n",
       "\t    \t                        {\n",
       "\t\t    \t                        'promotion':data.ecommerce.promoClick.promotions[0]\n",
       "\t\t    \t                    });\n",
       "\t                            }\n",
       "\t                        });\n",
       "\t\t                });\n",
       "\t\t\n",
       "\t\t                if (promotions.length)\n",
       "\t\t                {\n",
       "\t\t\t                AEC.Cookie.promotion({\n",
       "\t\t                        'event':'promoViewNonInteractive',\n",
       "\t                            'ecommerce':\n",
       "\t                            {\n",
       "\t                                'promoView':\n",
       "\t                                {\n",
       "\t                                    'promotions': promotions\n",
       "\t                                }\n",
       "\t                            }\n",
       "\t                        }).push(dataLayer);\n",
       "\t\t                }\n",
       "\t\t\n",
       "\t\t                return this;\n",
       "\t\t            }\n",
       "\t\t        }\n",
       "\t\t    })($, dataLayer).apply();\n",
       "\t\t});\n",
       "\t});\n",
       "</script><script data-pagespeed-orig-index=\"24\" type=\"text/psajs\">\n",
       "\n",
       "\tif (typeof dataLayer !== \"undefined\")\n",
       "\t{\n",
       "\t\t\n",
       "\t\t\t\t\t\n",
       "\t\t\n",
       "\t\t\t\t\t\n",
       "\t\t\n",
       "\t\t\t\t\t\n",
       "\t\t\n",
       "\t\tif ('undefined' !== typeof fbq)\n",
       "\t\t{\n",
       "\t\t\t\t\t}\n",
       "\n",
       "\t\tfor (a = 0, b = EC.length; a < b; a++)\n",
       "\t\t{\n",
       "\t\t\tEC[a].apply(this,[dataLayer]);\n",
       "\t\t\tEC[a].apply(this,[dataLayerTransport]);\n",
       "\t\t}\n",
       "\n",
       "\t\t/* AdWords Remarketing */\n",
       "\t\tif (window.google_tag_params)\n",
       "\t\t{\n",
       "\t\t\t(function(callback)\n",
       "\t\t\t{\n",
       "\t\t\t\tif (AEC.Const.COOKIE_DIRECTIVE)\n",
       "\t\t\t\t{\n",
       "\t\t\t\t\tif (!AEC.Const.COOKIE_DIRECTIVE_CONSENT_GRANTED)\n",
       "\t\t\t\t\t{\n",
       "\t\t\t\t\t\tAEC.CookieConsent.queue(callback);\n",
       "\t\t\t\t\t}\n",
       "\t\t\t\t\telse\n",
       "\t\t\t\t\t{\n",
       "\t\t\t\t\t\tcallback.apply(window,[]);\n",
       "\t\t\t\t\t}\n",
       "\t\t\t\t}\n",
       "\t\t\t\telse \n",
       "\t\t\t\t{\n",
       "\t\t\t\t\tcallback.apply(window,[]);\n",
       "\t\t\t\t}\n",
       "\t\t\t})\n",
       "\t\t\t(\n",
       "\t\t\t\t(function(dataLayer)\n",
       "\t\t\t\t{\n",
       "\t\t\t\t\treturn function()\n",
       "\t\t\t\t\t{\n",
       "\t\t\t\t\t\tAEC.Cookie.remarketing({'event':'fireRemarketingTag', 'google_tag_params':window.google_tag_params}).push(dataLayer);\n",
       "\t\t\t\t\t}\n",
       "\t\t\t\t})(dataLayer)\n",
       "\t\t\t);\n",
       "\t\t}\n",
       "\n",
       "\t\trequire(['jquery'],function($)\n",
       "\t\t{\n",
       "\t\t\t$(window).on(\n",
       "\t\t\t{\n",
       "\t\t\t\tload: function()\n",
       "\t\t\t\t{\n",
       "\t\t\t\t\tif (!AEC.gtm())\n",
       "\t\t\t\t\t{\n",
       "\t\t\t\t\t\t\t\t\t\t\t}\n",
       "\t\t\t\t}\n",
       "\t\t\t});\n",
       "\t\t});\n",
       "\n",
       "\t\tif (typeof FB !== 'undefined') \n",
       "\t\t{\n",
       "\t\t\tFB.Event.subscribe('edge.create',function(href) \n",
       "\t\t \t{\n",
       "\t\t\t\tdataLayer.push(\n",
       "\t\t\t\t{\n",
       "\t\t\t\t\t'event': \t\t\t'socialInt',\n",
       "\t\t\t\t\t'socialNetwork': \t'Facebook',\n",
       "\t\t\t\t\t'socialAction': \t'Like',\n",
       "\t\t\t\t\t'socialTarget': \thref\n",
       "\t\t\t\t});\n",
       "\t\t\t});\n",
       "\t\t}\n",
       "\n",
       "\t\twindow.sendPlus = function(g)\n",
       "\t\t{\n",
       "\t\t    dataLayer.push(\n",
       "\t\t\t{\n",
       "\t\t        'event': \t\t\t'socialInt',\n",
       "\t\t        'socialNetwork': \t'Google',\n",
       "\t\t        'socialAction': \t'+1',\n",
       "\t\t        'socialTarget': \tg.href\n",
       "\t\t    });\n",
       "\t\t};\n",
       "\n",
       "\t\tif (typeof twttr !== 'undefined') \n",
       "\t\t{\n",
       "\t\t\ttwttr.ready(function (twttr) \n",
       "\t\t\t{\n",
       "\t\t\t\ttwttr.events.bind('click', function()\n",
       "\t\t\t\t{\n",
       "\t\t\t\t\tdataLayer.push(\n",
       "\t\t\t\t\t{\n",
       "\t\t\t\t\t\t'event': \t\t\t'socialInt',\n",
       "\t\t\t\t\t\t'socialNetwork': \t'Twitter',\n",
       "\t\t\t\t\t\t'socialAction': \t'tweet',\n",
       "\t\t\t\t\t\t'socialTarget': \twindow.location.href\n",
       "\t\t\t\t\t});\n",
       "\t\t\t\t}); \n",
       "\t\t\t});\n",
       "\t\t}\n",
       "\t}\n",
       "\telse\n",
       "\t{\n",
       "\t\tlog('dataLayer[] is not intialized. Check if GTM is installed properly');\n",
       "\t}\n",
       "\t\n",
       "</script><div id=\"fb-root\"></div>\n",
       "<script data-pagespeed-orig-index=\"25\" type=\"text/psajs\">\n",
       "    var fbLocaleCode = 'en';\n",
       "    var fbAppId = '';\n",
       "    var fbShareUrl = 'https://www.caskers.com/rewards_behavior/facebook/share/';\n",
       "    var fbLikeUrl = 'https://www.caskers.com/rewards_behavior/facebook/like/';\n",
       "    var fbUnlikeUrl = 'https://www.caskers.com/rewards_behavior/facebook/unlike/';\n",
       "    var rewardsFacebookApiVersion = 'v3.1';\n",
       "</script>\n",
       "<script data-pagespeed-orig-index=\"26\" type=\"text/psajs\">\n",
       "    // facebook\n",
       "    (function(d, s, id) {\n",
       "        if (d.getElementById(id)) { // reinit FB on Magento cache load\n",
       "            d.getElementById(id).remove();\n",
       "            delete FB;\n",
       "        }\n",
       "        var js, fjs = d.getElementsByTagName(s)[0];\n",
       "        if (d.getElementById(id)) {return;}\n",
       "        js = d.createElement(s); js.id = id;\n",
       "        js.src = \"//connect.facebook.net/\" + fbLocaleCode + \"/all.js#xfbml=1&appId=\" + fbAppId + \"&version=\" + rewardsFacebookApiVersion;\n",
       "        fjs.parentNode.insertBefore(js, fjs);\n",
       "    }(document, 'script', 'facebook-jssdk'));\n",
       "</script>\n",
       "</div> <script src=\"/pagespeed_static/js_defer.I4cHjq6EEP.js\" type=\"text/javascript\"></script></body>\n",
       "</html>"
      ]
     },
     "execution_count": 179,
     "metadata": {},
     "output_type": "execute_result"
    }
   ],
   "source": [
    "response = requests.get('https://www.caskers.com/westward-american-single-malt-whiskey/', headers=header)\n",
    "\n",
    "data = response.text\n",
    "\n",
    "soup = BeautifulSoup(data, \"html.parser\")\n",
    "\n",
    "soup"
   ]
  },
  {
   "cell_type": "code",
   "execution_count": 180,
   "id": "c617935d",
   "metadata": {
    "ExecuteTime": {
     "end_time": "2021-05-25T05:05:25.266650Z",
     "start_time": "2021-05-25T05:05:25.242617Z"
    }
   },
   "outputs": [
    {
     "data": {
      "text/plain": [
       "'Westward American Single Malt Whiskey'"
      ]
     },
     "execution_count": 180,
     "metadata": {},
     "output_type": "execute_result"
    }
   ],
   "source": [
    "soup.find(class_='page-title').text.strip() #name"
   ]
  },
  {
   "cell_type": "code",
   "execution_count": 181,
   "id": "3de2c4a0",
   "metadata": {
    "ExecuteTime": {
     "end_time": "2021-05-25T05:05:26.819435Z",
     "start_time": "2021-05-25T05:05:26.799429Z"
    }
   },
   "outputs": [
    {
     "data": {
      "text/plain": [
       "'This grain-to-glass Oregon single malt is crafted from scratch, using American Northwest two-row barley.\\n\\n '"
      ]
     },
     "execution_count": 181,
     "metadata": {},
     "output_type": "execute_result"
    }
   ],
   "source": [
    "soup.find(itemprop='description').text #Description"
   ]
  },
  {
   "cell_type": "code",
   "execution_count": 182,
   "id": "c1d235ab",
   "metadata": {
    "ExecuteTime": {
     "end_time": "2021-05-25T05:05:27.507836Z",
     "start_time": "2021-05-25T05:05:27.487837Z"
    }
   },
   "outputs": [
    {
     "data": {
      "text/plain": [
       "'$32.99'"
      ]
     },
     "execution_count": 182,
     "metadata": {},
     "output_type": "execute_result"
    }
   ],
   "source": [
    "soup.find(class_='price').text  #Price"
   ]
  },
  {
   "cell_type": "code",
   "execution_count": 183,
   "id": "bcb5d95b",
   "metadata": {
    "ExecuteTime": {
     "end_time": "2021-05-25T05:05:28.297520Z",
     "start_time": "2021-05-25T05:05:28.273521Z"
    }
   },
   "outputs": [
    {
     "data": {
      "text/plain": [
       "\"Born in the Northwest, Westward Whiskey was founded in 2004 by former brewer and winemaker Christian Krogstad who had a vision to bring American Single Malt, inspired by the distinctive culture, climate, and natural ingredients that come together in the Northwest, to the people. It's worth noting that at the time, there were no more than about three dozen craft distilleries in the U.S. Today, Westward Whiskey is lead by Christian and Thomas Mooney who joined the team in 2011. The distillery is a proud leader among more than 2,200 producers, bringing bold, robust and delicious American Single Malt to the world. \\n\\nWestward strives for perfection through Minimalist Distilling, a philosophy pioneered by their founders that begins by selection the highest quality ingredients. Their purposefully inefficient production process brings out the flavor of the grain and other natural ingredients. Every step is meant to express flavor; never to strip away or mask impurities.\\n\\nWestward American Single Malt begins by brewing a delicious, artisanal American ale, from scratch, using locally malted barley, ale yeast, and a slow, low temperature fermentation. The fresh beer is then distilled twice in custom low-reflux pot stills designed to create a robust spirit, transforming our fresh beer into whiskey. Westward is aged to perfection in new, charred American Oak barrels, then mingled in small batches to achieve Westward’s signature flavor profile – balanced and bold, with just the right amount of spice and sweetness.\\n\\nWestwatd American Single Malt Whiskey earned a Double Gold, at the San Francisco World Spirits Competition, 2019.\\n\\n\\nGet yours today!\""
      ]
     },
     "execution_count": 183,
     "metadata": {},
     "output_type": "execute_result"
    }
   ],
   "source": [
    "soup.find(class_='product attribute description').text.strip() #Full description"
   ]
  },
  {
   "cell_type": "code",
   "execution_count": 184,
   "id": "1bd6d7b7",
   "metadata": {
    "ExecuteTime": {
     "end_time": "2021-05-25T05:05:30.708651Z",
     "start_time": "2021-05-25T05:05:30.688650Z"
    }
   },
   "outputs": [
    {
     "data": {
      "text/plain": [
       "'90 (45% ABV)'"
      ]
     },
     "execution_count": 184,
     "metadata": {},
     "output_type": "execute_result"
    }
   ],
   "source": [
    "soup.find('td').text #Alcohol Vol"
   ]
  },
  {
   "cell_type": "code",
   "execution_count": 185,
   "id": "e69abc5d",
   "metadata": {
    "ExecuteTime": {
     "end_time": "2021-05-25T05:05:31.370510Z",
     "start_time": "2021-05-25T05:05:31.346501Z"
    }
   },
   "outputs": [
    {
     "data": {
      "text/plain": [
       "'Robust aromas of fruit, with creamy vanilla and brown sugar notes on the nose. The palate has flavors of baking spice, lush fruit, and sweet malt. The finish has notes of tobacco, dark chocolate, with a lingering oaky sweetness that gives way to stone fruit.'"
      ]
     },
     "execution_count": 185,
     "metadata": {},
     "output_type": "execute_result"
    }
   ],
   "source": [
    "soup.find(class_='product attribute tasting-note').text.strip()  #Tasting Note"
   ]
  },
  {
   "cell_type": "code",
   "execution_count": 187,
   "id": "7cff204f",
   "metadata": {
    "ExecuteTime": {
     "end_time": "2021-05-25T05:05:56.822276Z",
     "start_time": "2021-05-25T05:05:56.798280Z"
    }
   },
   "outputs": [
    {
     "data": {
      "text/plain": [
       "[]"
      ]
     },
     "execution_count": 187,
     "metadata": {},
     "output_type": "execute_result"
    }
   ],
   "source": [
    "soup.find_all(class_='fotorama__stage__frame fotorama__active fotorama_vertical_ratio fotorama__loaded fotorama__loaded--img')"
   ]
  },
  {
   "cell_type": "code",
   "execution_count": 188,
   "id": "d5878c01",
   "metadata": {
    "ExecuteTime": {
     "end_time": "2021-05-25T05:05:59.808427Z",
     "start_time": "2021-05-25T05:05:59.768457Z"
    }
   },
   "outputs": [
    {
     "name": "stdout",
     "output_type": "stream",
     "text": [
      "https://www.caskers.com/static/version1620198840/frontend/BelVG/caskers_theme/en_US/images/logo/caskers-logo.svg\n",
      "https://www.caskers.com/static/version1620198840/frontend/BelVG/caskers_theme/en_US/images/logo/mobile.svg\n",
      "https://cdn.caskers.com/catalog/product/cache/93c295f2daf74f86d695f29e893b5a2d/b/o/bowman-brothers-bourbon-small-batch-1-1-n.jpg\n",
      "https://cdn.caskers.com/catalog/product/cache/93c295f2daf74f86d695f29e893b5a2d/o/r/orphan-barrel-barterhouse-20-year-bourbon-1.jpg\n",
      "https://cdn.caskers.com/catalog/product/cache/93c295f2daf74f86d695f29e893b5a2d/r/i/rittenhouse-straight-rye-whiskey-1-n.jpg\n",
      "https://cdn.caskers.com/catalog/product/cache/93c295f2daf74f86d695f29e893b5a2d/b/o/bootlegger-21-new-york-vodka_1.jpg\n",
      "https://cdn.caskers.com/catalog/product/cache/93c295f2daf74f86d695f29e893b5a2d/w/i/willett-pot-still-reserve-small-batch-1.jpg\n",
      "https://cdn.caskers.com/catalog/product/cache/93c295f2daf74f86d695f29e893b5a2d/b/o/boyd_blair_potato_vodka_1-n.jpg\n",
      "https://cdn.caskers.com/catalog/product/cache/93c295f2daf74f86d695f29e893b5a2d/a/b/aberlour-a_bunadh_1.jpg\n",
      "https://cdn.caskers.com/catalog/product/cache/93c295f2daf74f86d695f29e893b5a2d/l/a/larceny_very_special_small_batch_kentucky_straight_bourbon_whiskey_1-n.jpg\n",
      "https://cdn.caskers.com/wysiwyg/fd-2021-slim-desktop.png\n",
      "https://www.caskers.com/static/version1620198840/frontend/BelVG/caskers_theme/en_US/images/loader.svg\n",
      "https://www.caskers.com/static/version1620198840/frontend/BelVG/caskers_theme/en_US/images/logo/caskers-logo.svg\n",
      "https://www.caskers.com/static/version1620198840/frontend/BelVG/caskers_theme/en_US/images/logo/mobile.svg\n",
      "https://www.caskers.com/static/version1620198840/frontend/BelVG/caskers_theme/en_US/images/logo/caskers-logo.svg\n",
      "https://www.caskers.com/static/version1620198840/frontend/BelVG/caskers_theme/en_US/images/logo/mobile.svg\n",
      "https://cdn.caskers.com/catalog/product/cache/00cecac1993c85adfe937bb669fd27a3/w/e/westland-american-oak-1_1_2.jpg\n",
      "https://cdn.caskers.com/catalog/product/cache/00cecac1993c85adfe937bb669fd27a3/w/e/westland-sherry-wood-1_2.jpg\n",
      "https://cdn.caskers.com/catalog/product/cache/00cecac1993c85adfe937bb669fd27a3/w/e/westland-peated-1.jpg\n",
      "https://cdn.caskers.com/catalog/product/cache/00cecac1993c85adfe937bb669fd27a3/w/e/westland-garryana-edition-2-1.jpg\n",
      "https://cdn.caskers.com/catalog/product/cache/00cecac1993c85adfe937bb669fd27a3/f/e/few-single-malt-whisky-1_1.jpg\n",
      "https://cdn.caskers.com/catalog/product/cache/00cecac1993c85adfe937bb669fd27a3/b/a/balcones-texas-single-malt-whisky-1.jpg\n",
      "https://cdn.caskers.com/catalog/product/cache/00cecac1993c85adfe937bb669fd27a3/b/a/balcones-peated-texas-single-malt_1_1.jpg\n",
      "https://cdn.caskers.com/catalog/product/cache/00cecac1993c85adfe937bb669fd27a3/c/o/colkegan-single-malt-whiskey-1.jpg\n"
     ]
    }
   ],
   "source": [
    "for i in range(24):\n",
    "    print(soup.find_all('img')[i]['src'])"
   ]
  },
  {
   "cell_type": "code",
   "execution_count": 93,
   "id": "f9624502",
   "metadata": {
    "ExecuteTime": {
     "end_time": "2021-05-25T04:36:02.444911Z",
     "start_time": "2021-05-25T04:36:02.428913Z"
    }
   },
   "outputs": [],
   "source": [
    "all_beer_list = []\n",
    "root_beerandbrewing = 'https://beerandbrewing.com/beer-reviews/?q=&hPP=100&idx=cbb_web_review_search&p={}'"
   ]
  },
  {
   "cell_type": "code",
   "execution_count": 4,
   "id": "549d31e5",
   "metadata": {
    "ExecuteTime": {
     "end_time": "2021-05-25T14:52:06.912432Z",
     "start_time": "2021-05-25T14:52:06.747641Z"
    }
   },
   "outputs": [],
   "source": [
    "response = requests.get('https://beerandbrewing.com/beer-reviews/?q=&hPP=100&idx=cbb_web_review_search&p=1', headers=header)\n",
    "\n",
    "data = response.text\n",
    "\n",
    "soup = BeautifulSoup(data, \"html.parser\")"
   ]
  },
  {
   "cell_type": "code",
   "execution_count": 10,
   "id": "41189858",
   "metadata": {
    "ExecuteTime": {
     "end_time": "2021-05-25T15:03:07.103592Z",
     "start_time": "2021-05-25T15:03:07.092622Z"
    }
   },
   "outputs": [],
   "source": [
    "soup.find(class_='hit-image col-xs-12 col-sm-12 col-md-2')"
   ]
  },
  {
   "cell_type": "code",
   "execution_count": null,
   "id": "3c22b7ca",
   "metadata": {},
   "outputs": [],
   "source": []
  },
  {
   "cell_type": "code",
   "execution_count": null,
   "id": "ff0bbb8f",
   "metadata": {},
   "outputs": [],
   "source": []
  },
  {
   "cell_type": "code",
   "execution_count": null,
   "id": "37a42e2b",
   "metadata": {},
   "outputs": [],
   "source": []
  },
  {
   "cell_type": "code",
   "execution_count": 186,
   "id": "4af55ae6",
   "metadata": {
    "ExecuteTime": {
     "end_time": "2021-05-25T18:02:19.966246Z",
     "start_time": "2021-05-25T18:02:19.701475Z"
    }
   },
   "outputs": [],
   "source": [
    "response = requests.get('https://www.liquor.com/recipes/bourbon-old-fashioned/', headers=header)\n",
    "\n",
    "data = response.text\n",
    "\n",
    "soup = BeautifulSoup(data, \"html.parser\")\n"
   ]
  },
  {
   "cell_type": "code",
   "execution_count": 187,
   "id": "57830cad",
   "metadata": {
    "ExecuteTime": {
     "end_time": "2021-05-25T18:02:20.373238Z",
     "start_time": "2021-05-25T18:02:20.363272Z"
    }
   },
   "outputs": [
    {
     "data": {
      "text/plain": [
       "'Bourbon Old Fashioned'"
      ]
     },
     "execution_count": 187,
     "metadata": {},
     "output_type": "execute_result"
    }
   ],
   "source": [
    "soup.find('h1').text  #Name"
   ]
  },
  {
   "cell_type": "code",
   "execution_count": 195,
   "id": "4435c9ff",
   "metadata": {
    "ExecuteTime": {
     "end_time": "2021-05-25T18:03:42.628502Z",
     "start_time": "2021-05-25T18:03:42.613572Z"
    }
   },
   "outputs": [
    {
     "data": {
      "text/plain": [
       "'1/2 teaspoon sugar, 3 dashes Angostura bitters, 1 teaspoon water, 2 ounces bourbon, Garnish: orange peel, '"
      ]
     },
     "execution_count": 195,
     "metadata": {},
     "output_type": "execute_result"
    }
   ],
   "source": [
    "all_ingre = soup.find(id='section--ingredients_1-0').find_all('li')\n",
    "ingredients = ''\n",
    "for ingre in all_ingre:\n",
    "    ingredients = ingredients + ingre.text.strip() + ', '\n",
    "ingredients"
   ]
  },
  {
   "cell_type": "code",
   "execution_count": 199,
   "id": "d76009cb",
   "metadata": {
    "ExecuteTime": {
     "end_time": "2021-05-25T18:04:50.928106Z",
     "start_time": "2021-05-25T18:04:50.917136Z"
    }
   },
   "outputs": [
    {
     "data": {
      "text/plain": [
       "'Add the sugar and bitters to a rocks glass, then add water, and stir until sugar is nearly dissolved. Fill the glass with large ice cubes, add the bourbon, and gently stir to combine. Express the oil of an orange peel over the glass, then drop in. '"
      ]
     },
     "execution_count": 199,
     "metadata": {},
     "output_type": "execute_result"
    }
   ],
   "source": [
    "all_steps = soup.find(id='section--instructions_1-0').find_all('p')\n",
    "instructions = ''\n",
    "for step in all_steps:\n",
    "    instructions = instructions + step.text.strip() + ' '\n",
    "instructions"
   ]
  },
  {
   "cell_type": "code",
   "execution_count": 200,
   "id": "ade1e52f",
   "metadata": {
    "ExecuteTime": {
     "end_time": "2021-05-25T18:04:56.994312Z",
     "start_time": "2021-05-25T18:04:56.981347Z"
    }
   },
   "outputs": [
    {
     "data": {
      "text/plain": [
       "'When you get right down to it, the Bourbon Old Fashioned is little more than a slug of whiskey, seasoned and sweetened. Yet for all of its suave simplicity, the drink remains as relevant today as it was when it first captured drinkers’ hearts 200 years ago. If you’re a history buff, you could draw a straight line connecting this drink to the first recorded definition of the cocktail category in general (circa 1806), which called for spirits, sugar, water and bitters. The Old Fashioned hits all those marks, with whiskey, sugar, water and aromatic bitters. You could also skip the history lesson and simply make the drink. Do the latter if you’re already thirsty. Start by using good bourbon, the rule being that if you wouldn’t sip it by itself it has no place at the helm of a Bourbon Old Fashioned. (There are other whiskey drinks for masking subpar booze—this isn’t one of them.) From there, the cocktail-minded seem to break into two camps: simple syrup or muddled sugar. While a barspoon of syrup can cut your prep time in half, it robs the drink of some of the weight and texture that provides its deep appeal. If you want to make the drink like they did back in the 19th century, granulated sugar or a sugar cube is the way to go. If you want to make the cocktail with more of a modern twist, opt for simple syrup. (Although what’s the big rush? The Bourbon Old Fashioned isn’t going anywhere.) Just know that simple syrup adds a bit more water to your drink, so you may need to adjust your ice and stirring accordingly. Once you’ve mastered the Bourbon Old Fashioned, you can also try making the cocktail with rye whiskey, which results in a slightly spicier drink. Or you can use rum, brandy or any number of spirits—after all, the Old Fashioned is more of a template than an exact science. But there’s something about the bourbon-spiked version that drinkers have been coming back to for decades, so why mess with perfection? '"
      ]
     },
     "execution_count": 200,
     "metadata": {},
     "output_type": "execute_result"
    }
   ],
   "source": [
    "all_des = soup.find(id='article__header--project_1-0').find_all('p')\n",
    "descriptions = ''\n",
    "for des in all_des:\n",
    "    descriptions = descriptions + des.text.strip() + ' '\n",
    "descriptions"
   ]
  },
  {
   "cell_type": "code",
   "execution_count": 100,
   "id": "452ad399",
   "metadata": {
    "ExecuteTime": {
     "end_time": "2021-05-25T17:40:33.222676Z",
     "start_time": "2021-05-25T17:40:33.206719Z"
    }
   },
   "outputs": [
    {
     "data": {
      "text/plain": [
       "'https://www.liquor.com/thmb/qe8tGKwe_Pn7ush7dP4JD306_h0=/960x0/filters:no_upscale():max_bytes(150000):strip_icc()/__opt__aboutcom__coeus__resources__content_migration__liquor__2018__05__08113350__bourbon-old-fashioned-720x720-recipe-ade6f7780c304999be3577e565c9bcdd.jpg'"
      ]
     },
     "execution_count": 100,
     "metadata": {},
     "output_type": "execute_result"
    }
   ],
   "source": [
    "soup.find(class_='img-placeholder')('img')[0]['src'] #Photo_Link"
   ]
  },
  {
   "cell_type": "code",
   "execution_count": 143,
   "id": "1ab06be5",
   "metadata": {
    "ExecuteTime": {
     "end_time": "2021-05-25T17:52:54.323063Z",
     "start_time": "2021-05-25T17:52:54.311101Z"
    }
   },
   "outputs": [],
   "source": [
    "list_cocktails = []"
   ]
  },
  {
   "cell_type": "code",
   "execution_count": null,
   "id": "014261d1",
   "metadata": {},
   "outputs": [],
   "source": []
  },
  {
   "cell_type": "code",
   "execution_count": 171,
   "id": "277bfd19",
   "metadata": {
    "ExecuteTime": {
     "end_time": "2021-05-25T17:55:20.237271Z",
     "start_time": "2021-05-25T17:55:19.984107Z"
    }
   },
   "outputs": [],
   "source": [
    "response = requests.get('https://www.liquor.com/gin-cocktails-4779436', headers=header)\n",
    "\n",
    "data = response.text\n",
    "\n",
    "soup = BeautifulSoup(data, \"html.parser\")\n"
   ]
  },
  {
   "cell_type": "code",
   "execution_count": 172,
   "id": "22bf3dcf",
   "metadata": {
    "ExecuteTime": {
     "end_time": "2021-05-25T17:55:20.612014Z",
     "start_time": "2021-05-25T17:55:20.595056Z"
    }
   },
   "outputs": [
    {
     "data": {
      "text/plain": [
       "42"
      ]
     },
     "execution_count": 172,
     "metadata": {},
     "output_type": "execute_result"
    }
   ],
   "source": [
    "len(soup.find_all('a', class_='comp card'))"
   ]
  },
  {
   "cell_type": "code",
   "execution_count": 173,
   "id": "3efa1dcf",
   "metadata": {
    "ExecuteTime": {
     "end_time": "2021-05-25T17:55:21.512556Z",
     "start_time": "2021-05-25T17:55:21.374922Z"
    }
   },
   "outputs": [
    {
     "name": "stdout",
     "output_type": "stream",
     "text": [
      "We now have 383 cocktails links\n"
     ]
    }
   ],
   "source": [
    "for i in range(len(soup.find_all('a', class_='comp card'))):\n",
    "    list_cocktails.append(soup.find_all('a', class_='comp card')[i]['href'])\n",
    "\n",
    "print('We now have {} cocktails links'.format(len(list_cocktails)))"
   ]
  },
  {
   "cell_type": "code",
   "execution_count": 181,
   "id": "88da8a63",
   "metadata": {
    "ExecuteTime": {
     "end_time": "2021-05-25T17:58:00.459084Z",
     "start_time": "2021-05-25T17:58:00.451105Z"
    }
   },
   "outputs": [],
   "source": [
    "new_list = []\n",
    "for item in list_cocktails:\n",
    "    if 'article' not in item:\n",
    "        new_list.append(item)"
   ]
  },
  {
   "cell_type": "code",
   "execution_count": 201,
   "id": "2f6b0898",
   "metadata": {
    "ExecuteTime": {
     "end_time": "2021-05-25T19:21:20.343581Z",
     "start_time": "2021-05-25T19:21:20.325603Z"
    }
   },
   "outputs": [
    {
     "data": {
      "text/plain": [
       "369"
      ]
     },
     "execution_count": 201,
     "metadata": {},
     "output_type": "execute_result"
    }
   ],
   "source": [
    "len(new_list)"
   ]
  },
  {
   "cell_type": "code",
   "execution_count": 202,
   "id": "acdbb1f1",
   "metadata": {
    "ExecuteTime": {
     "end_time": "2021-05-25T19:29:51.383632Z",
     "start_time": "2021-05-25T19:27:07.482321Z"
    }
   },
   "outputs": [
    {
     "name": "stdout",
     "output_type": "stream",
     "text": [
      "Done!\n"
     ]
    }
   ],
   "source": [
    "#Scrape more reviews and photos\n",
    "smaller_headers = [\"Name\", \"Instructions\", \"Photo_Link\", \"Ingredients\", \"Description\"]\n",
    "features_list = []\n",
    "\n",
    "for url in new_list:\n",
    "\n",
    "    response = requests.get(url, headers=header)\n",
    "\n",
    "    data = response.text\n",
    "\n",
    "    soup = BeautifulSoup(data, \"html.parser\")\n",
    "\n",
    "\n",
    "    try:\n",
    "        name = soup.find('h1').text \n",
    "    except:\n",
    "        name = np.nan\n",
    "        \n",
    "    try:\n",
    "        all_steps = soup.find(id='section--instructions_1-0').find_all('p')\n",
    "        instructions = ''\n",
    "        for step in all_steps:\n",
    "            instructions = instructions + step.text.strip() + ' '\n",
    "    except:\n",
    "        instructions = np.nan\n",
    "\n",
    "\n",
    "    try:\n",
    "        photo_link = soup.find(class_='img-placeholder')('img')[0]['src'] #photo 127 x 228\n",
    "    except:\n",
    "        photo_link = np.nan\n",
    "    \n",
    "    \n",
    "    try:\n",
    "        all_ingre = soup.find(id='section--ingredients_1-0').find_all('li')\n",
    "        ingredients = ''\n",
    "        for ingre in all_ingre:\n",
    "            ingredients = ingredients + ingre.text.strip() + ', '\n",
    "    except:\n",
    "        ingredients = np.nan\n",
    "    \n",
    "    \n",
    "    try:\n",
    "        all_des = soup.find(id='article__header--project_1-0').find_all('p')\n",
    "        descriptions = ''\n",
    "        for des in all_des:\n",
    "            descriptions = descriptions + des.text.strip() + ' '\n",
    "    except:\n",
    "        descriptions = np.nan\n",
    "    \n",
    "    \n",
    "\n",
    "\n",
    "    #Put all features in a dictionary\n",
    "    drink_dict = dict(zip(smaller_headers, [name, instructions, photo_link, ingredients, descriptions]))\n",
    "\n",
    "    features_list.append(drink_dict)\n",
    "\n",
    "df = pd.DataFrame(features_list)\n",
    "\n",
    "df.to_csv('more_cocktails.csv')\n",
    "time.sleep(60)\n",
    "print('Done!')"
   ]
  },
  {
   "cell_type": "code",
   "execution_count": null,
   "id": "46ef3494",
   "metadata": {},
   "outputs": [],
   "source": []
  },
  {
   "cell_type": "code",
   "execution_count": null,
   "id": "7355c0f9",
   "metadata": {},
   "outputs": [],
   "source": []
  },
  {
   "cell_type": "code",
   "execution_count": 217,
   "id": "989f88d4",
   "metadata": {
    "ExecuteTime": {
     "end_time": "2021-05-25T19:48:04.416816Z",
     "start_time": "2021-05-25T19:48:03.534018Z"
    }
   },
   "outputs": [],
   "source": [
    "response = requests.get('https://bottlebuzz.com/collections/whiskey?page=2', headers=header)\n",
    "\n",
    "data = response.text\n",
    "\n",
    "soup = BeautifulSoup(data, \"html.parser\")\n"
   ]
  },
  {
   "cell_type": "code",
   "execution_count": 240,
   "id": "3dc88651",
   "metadata": {
    "ExecuteTime": {
     "end_time": "2021-05-25T19:51:13.579221Z",
     "start_time": "2021-05-25T19:51:13.566255Z"
    }
   },
   "outputs": [],
   "source": [
    "root_ = 'https://bottlebuzz.com'"
   ]
  },
  {
   "cell_type": "code",
   "execution_count": 270,
   "id": "b09605cc",
   "metadata": {
    "ExecuteTime": {
     "end_time": "2021-05-25T19:55:49.384304Z",
     "start_time": "2021-05-25T19:55:49.363360Z"
    }
   },
   "outputs": [
    {
     "data": {
      "text/plain": [
       "'https://bottlebuzz.com/collections/whiskey/products/elijah-craig-small-batch-bourbon'"
      ]
     },
     "execution_count": 270,
     "metadata": {},
     "output_type": "execute_result"
    }
   ],
   "source": [
    "root_ + soup.find_all(class_='ProductItem__Wrapper')[0]('div')[1]('a')[0]['href']"
   ]
  },
  {
   "cell_type": "code",
   "execution_count": null,
   "id": "e4e96ecb",
   "metadata": {},
   "outputs": [],
   "source": []
  },
  {
   "cell_type": "code",
   "execution_count": null,
   "id": "bdcca945",
   "metadata": {},
   "outputs": [],
   "source": []
  },
  {
   "cell_type": "code",
   "execution_count": 289,
   "id": "f697a5a1",
   "metadata": {
    "ExecuteTime": {
     "end_time": "2021-05-25T20:00:56.369053Z",
     "start_time": "2021-05-25T20:00:56.359080Z"
    }
   },
   "outputs": [
    {
     "data": {
      "text/plain": [
       "<Response [200]>"
      ]
     },
     "execution_count": 289,
     "metadata": {},
     "output_type": "execute_result"
    }
   ],
   "source": [
    "response"
   ]
  },
  {
   "cell_type": "code",
   "execution_count": 286,
   "id": "402d092c",
   "metadata": {
    "ExecuteTime": {
     "end_time": "2021-05-25T19:59:10.448468Z",
     "start_time": "2021-05-25T19:59:10.418539Z"
    }
   },
   "outputs": [
    {
     "data": {
      "text/plain": [
       "32"
      ]
     },
     "execution_count": 286,
     "metadata": {},
     "output_type": "execute_result"
    }
   ],
   "source": []
  },
  {
   "cell_type": "code",
   "execution_count": 287,
   "id": "f4ad0011",
   "metadata": {
    "ExecuteTime": {
     "end_time": "2021-05-25T19:59:49.400633Z",
     "start_time": "2021-05-25T19:59:49.382681Z"
    }
   },
   "outputs": [],
   "source": [
    "list_bottle_buzz = []"
   ]
  },
  {
   "cell_type": "code",
   "execution_count": 345,
   "id": "168335d7",
   "metadata": {
    "ExecuteTime": {
     "end_time": "2021-05-25T20:18:01.429291Z",
     "start_time": "2021-05-25T20:17:59.400999Z"
    }
   },
   "outputs": [
    {
     "ename": "IndexError",
     "evalue": "list index out of range",
     "output_type": "error",
     "traceback": [
      "\u001b[1;31m---------------------------------------------------------------------------\u001b[0m",
      "\u001b[1;31mIndexError\u001b[0m                                Traceback (most recent call last)",
      "\u001b[1;32m<ipython-input-345-d242c0fa6b95>\u001b[0m in \u001b[0;36m<module>\u001b[1;34m\u001b[0m\n\u001b[0;32m     11\u001b[0m         \u001b[1;32mtry\u001b[0m\u001b[1;33m:\u001b[0m\u001b[1;33m\u001b[0m\u001b[1;33m\u001b[0m\u001b[0m\n\u001b[1;32m---> 12\u001b[1;33m             \u001b[0mlist_bottle_buzz\u001b[0m\u001b[1;33m.\u001b[0m\u001b[0mappend\u001b[0m\u001b[1;33m(\u001b[0m\u001b[0mroot_\u001b[0m \u001b[1;33m+\u001b[0m \u001b[0msoup\u001b[0m\u001b[1;33m.\u001b[0m\u001b[0mfind_all\u001b[0m\u001b[1;33m(\u001b[0m\u001b[0mclass_\u001b[0m\u001b[1;33m=\u001b[0m\u001b[1;34m'ProductItem__Wrapper'\u001b[0m\u001b[1;33m)\u001b[0m\u001b[1;33m[\u001b[0m\u001b[0mi\u001b[0m\u001b[1;33m]\u001b[0m\u001b[1;33m(\u001b[0m\u001b[1;34m'div'\u001b[0m\u001b[1;33m)\u001b[0m\u001b[1;33m[\u001b[0m\u001b[1;36m1\u001b[0m\u001b[1;33m]\u001b[0m\u001b[1;33m(\u001b[0m\u001b[1;34m'a'\u001b[0m\u001b[1;33m)\u001b[0m\u001b[1;33m[\u001b[0m\u001b[1;36m0\u001b[0m\u001b[1;33m]\u001b[0m\u001b[1;33m[\u001b[0m\u001b[1;34m'href'\u001b[0m\u001b[1;33m]\u001b[0m\u001b[1;33m)\u001b[0m\u001b[1;33m\u001b[0m\u001b[1;33m\u001b[0m\u001b[0m\n\u001b[0m\u001b[0;32m     13\u001b[0m         \u001b[1;32mexcept\u001b[0m\u001b[1;33m:\u001b[0m\u001b[1;33m\u001b[0m\u001b[1;33m\u001b[0m\u001b[0m\n",
      "\u001b[1;31mIndexError\u001b[0m: list index out of range",
      "\nDuring handling of the above exception, another exception occurred:\n",
      "\u001b[1;31mIndexError\u001b[0m                                Traceback (most recent call last)",
      "\u001b[1;32m<ipython-input-345-d242c0fa6b95>\u001b[0m in \u001b[0;36m<module>\u001b[1;34m\u001b[0m\n\u001b[0;32m     12\u001b[0m             \u001b[0mlist_bottle_buzz\u001b[0m\u001b[1;33m.\u001b[0m\u001b[0mappend\u001b[0m\u001b[1;33m(\u001b[0m\u001b[0mroot_\u001b[0m \u001b[1;33m+\u001b[0m \u001b[0msoup\u001b[0m\u001b[1;33m.\u001b[0m\u001b[0mfind_all\u001b[0m\u001b[1;33m(\u001b[0m\u001b[0mclass_\u001b[0m\u001b[1;33m=\u001b[0m\u001b[1;34m'ProductItem__Wrapper'\u001b[0m\u001b[1;33m)\u001b[0m\u001b[1;33m[\u001b[0m\u001b[0mi\u001b[0m\u001b[1;33m]\u001b[0m\u001b[1;33m(\u001b[0m\u001b[1;34m'div'\u001b[0m\u001b[1;33m)\u001b[0m\u001b[1;33m[\u001b[0m\u001b[1;36m1\u001b[0m\u001b[1;33m]\u001b[0m\u001b[1;33m(\u001b[0m\u001b[1;34m'a'\u001b[0m\u001b[1;33m)\u001b[0m\u001b[1;33m[\u001b[0m\u001b[1;36m0\u001b[0m\u001b[1;33m]\u001b[0m\u001b[1;33m[\u001b[0m\u001b[1;34m'href'\u001b[0m\u001b[1;33m]\u001b[0m\u001b[1;33m)\u001b[0m\u001b[1;33m\u001b[0m\u001b[1;33m\u001b[0m\u001b[0m\n\u001b[0;32m     13\u001b[0m         \u001b[1;32mexcept\u001b[0m\u001b[1;33m:\u001b[0m\u001b[1;33m\u001b[0m\u001b[1;33m\u001b[0m\u001b[0m\n\u001b[1;32m---> 14\u001b[1;33m             \u001b[0mlist_bottle_buzz\u001b[0m\u001b[1;33m.\u001b[0m\u001b[0mappend\u001b[0m\u001b[1;33m(\u001b[0m\u001b[0mroot_\u001b[0m \u001b[1;33m+\u001b[0m \u001b[0msoup\u001b[0m\u001b[1;33m.\u001b[0m\u001b[0mfind_all\u001b[0m\u001b[1;33m(\u001b[0m\u001b[0mclass_\u001b[0m\u001b[1;33m=\u001b[0m\u001b[1;34m'ProductItem__Wrapper'\u001b[0m\u001b[1;33m)\u001b[0m\u001b[1;33m[\u001b[0m\u001b[0mi\u001b[0m\u001b[1;33m]\u001b[0m\u001b[1;33m(\u001b[0m\u001b[1;34m'div'\u001b[0m\u001b[1;33m)\u001b[0m\u001b[1;33m[\u001b[0m\u001b[1;36m2\u001b[0m\u001b[1;33m]\u001b[0m\u001b[1;33m(\u001b[0m\u001b[1;34m'a'\u001b[0m\u001b[1;33m)\u001b[0m\u001b[1;33m[\u001b[0m\u001b[1;36m0\u001b[0m\u001b[1;33m]\u001b[0m\u001b[1;33m[\u001b[0m\u001b[1;34m'href'\u001b[0m\u001b[1;33m]\u001b[0m\u001b[1;33m)\u001b[0m\u001b[1;33m\u001b[0m\u001b[1;33m\u001b[0m\u001b[0m\n\u001b[0m",
      "\u001b[1;31mIndexError\u001b[0m: list index out of range"
     ]
    }
   ],
   "source": [
    "for num in range(1,3):\n",
    "    \n",
    "    response = requests.get('https://bottlebuzz.com/collections/wine?page={}'.format(num), headers=header)\n",
    "\n",
    "    data = response.text\n",
    "\n",
    "    soup = BeautifulSoup(data, \"html.parser\")\n",
    "\n",
    "    for i in range(32):\n",
    "\n",
    "        try:\n",
    "            list_bottle_buzz.append(root_ + soup.find_all(class_='ProductItem__Wrapper')[i]('div')[1]('a')[0]['href'])\n",
    "        except:\n",
    "            list_bottle_buzz.append(root_ + soup.find_all(class_='ProductItem__Wrapper')[i]('div')[2]('a')[0]['href'])\n"
   ]
  },
  {
   "cell_type": "code",
   "execution_count": 346,
   "id": "856d255f",
   "metadata": {
    "ExecuteTime": {
     "end_time": "2021-05-25T20:18:06.095682Z",
     "start_time": "2021-05-25T20:18:06.089698Z"
    }
   },
   "outputs": [
    {
     "data": {
      "text/plain": [
       "1059"
      ]
     },
     "execution_count": 346,
     "metadata": {},
     "output_type": "execute_result"
    }
   ],
   "source": [
    "len(list_bottle_buzz)"
   ]
  },
  {
   "cell_type": "code",
   "execution_count": null,
   "id": "e895bde9",
   "metadata": {},
   "outputs": [],
   "source": []
  },
  {
   "cell_type": "code",
   "execution_count": 329,
   "id": "4560acb6",
   "metadata": {
    "ExecuteTime": {
     "end_time": "2021-05-25T20:13:23.783052Z",
     "start_time": "2021-05-25T20:13:23.270250Z"
    }
   },
   "outputs": [],
   "source": [
    "response = requests.get('https://bottlebuzz.com/collections/whiskey/products/crown-royal-1-75l', headers=header)\n",
    "\n",
    "data = response.text\n",
    "\n",
    "soup = BeautifulSoup(data, \"html.parser\")\n"
   ]
  },
  {
   "cell_type": "code",
   "execution_count": 330,
   "id": "c4e389d3",
   "metadata": {
    "ExecuteTime": {
     "end_time": "2021-05-25T20:13:24.420255Z",
     "start_time": "2021-05-25T20:13:24.403351Z"
    }
   },
   "outputs": [
    {
     "data": {
      "text/plain": [
       "'//cdn.shopify.com/s/files/1/0287/8390/2817/products/Crown_Royal_1.75L_800x.png?v=1590544070'"
      ]
     },
     "execution_count": 330,
     "metadata": {},
     "output_type": "execute_result"
    }
   ],
   "source": [
    "soup.find(class_='Product__SlideItem Product__SlideItem--image Carousel__Cell is-selected')('img')[-1]['src'] #Photo_Link"
   ]
  },
  {
   "cell_type": "code",
   "execution_count": 331,
   "id": "3194b145",
   "metadata": {
    "ExecuteTime": {
     "end_time": "2021-05-25T20:13:25.879081Z",
     "start_time": "2021-05-25T20:13:25.867085Z"
    }
   },
   "outputs": [
    {
     "data": {
      "text/plain": [
       "'Crown Royal 1.75L'"
      ]
     },
     "execution_count": 331,
     "metadata": {},
     "output_type": "execute_result"
    }
   ],
   "source": [
    "soup.find(class_='ProductMeta__Title Heading u-h2').text  #Name"
   ]
  },
  {
   "cell_type": "code",
   "execution_count": 332,
   "id": "47e9e9b2",
   "metadata": {
    "ExecuteTime": {
     "end_time": "2021-05-25T20:13:26.302754Z",
     "start_time": "2021-05-25T20:13:26.282807Z"
    }
   },
   "outputs": [
    {
     "data": {
      "text/plain": [
       "'$64.99'"
      ]
     },
     "execution_count": 332,
     "metadata": {},
     "output_type": "execute_result"
    }
   ],
   "source": [
    "soup.find(class_='ProductMeta__PriceList Heading').text #Price"
   ]
  },
  {
   "cell_type": "code",
   "execution_count": 333,
   "id": "27508694",
   "metadata": {
    "ExecuteTime": {
     "end_time": "2021-05-25T20:13:28.075925Z",
     "start_time": "2021-05-25T20:13:28.067926Z"
    }
   },
   "outputs": [
    {
     "data": {
      "text/plain": [
       "'A smooth blend of 50 distinct, full-bodied whiskies matured in white oak barrels. The taste is enhanced by a rich, lingering finish with hints of oak and vanilla. Approachable and unpretentious. Enjoy neat, with ice, or in cola.\\n'"
      ]
     },
     "execution_count": 333,
     "metadata": {},
     "output_type": "execute_result"
    }
   ],
   "source": [
    "soup.find(class_='Rte').text  #Review"
   ]
  },
  {
   "cell_type": "code",
   "execution_count": 347,
   "id": "3a3745c4",
   "metadata": {
    "ExecuteTime": {
     "end_time": "2021-05-25T20:30:43.525926Z",
     "start_time": "2021-05-25T20:21:46.592903Z"
    }
   },
   "outputs": [
    {
     "name": "stdout",
     "output_type": "stream",
     "text": [
      "Done!\n"
     ]
    }
   ],
   "source": [
    "#Scrape more reviews and photos\n",
    "smaller_headers = [\"Name\", \"Description\", \"Photo_Link\", \"Price\"]\n",
    "features_list = []\n",
    "\n",
    "for url in list_bottle_buzz:\n",
    "\n",
    "    response = requests.get(url, headers=header)\n",
    "\n",
    "    data = response.text\n",
    "\n",
    "    soup = BeautifulSoup(data, \"html.parser\")\n",
    "\n",
    "\n",
    "    try:\n",
    "        name = soup.find('h1').text \n",
    "    except:\n",
    "        name = np.nan\n",
    "        \n",
    "    try:\n",
    "        description = soup.find(class_='Rte').text\n",
    "    except:\n",
    "        description = np.nan\n",
    "\n",
    "\n",
    "    try:\n",
    "        photo_link = soup.find(class_='Product__SlideItem Product__SlideItem--image Carousel__Cell is-selected')('img')[-1]['src'] #photo 127 x 228\n",
    "    except:\n",
    "        photo_link = np.nan\n",
    "    \n",
    "\n",
    "    \n",
    "    try:\n",
    "        price = soup.find(class_='ProductMeta__PriceList Heading').text\n",
    "    except:\n",
    "        price = np.nan\n",
    "    \n",
    "    \n",
    "\n",
    "\n",
    "    #Put all features in a dictionary\n",
    "    drink_dict = dict(zip(smaller_headers, [name, description, photo_link, price]))\n",
    "\n",
    "    features_list.append(drink_dict)\n",
    "\n",
    "df = pd.DataFrame(features_list)\n",
    "\n",
    "df.to_csv('more_cocktails.csv')\n",
    "time.sleep(60)\n",
    "print('Done!')"
   ]
  },
  {
   "cell_type": "code",
   "execution_count": null,
   "id": "9e1e5fdb",
   "metadata": {},
   "outputs": [],
   "source": []
  },
  {
   "cell_type": "code",
   "execution_count": 350,
   "id": "b11c071c",
   "metadata": {
    "ExecuteTime": {
     "end_time": "2021-05-25T21:26:13.777640Z",
     "start_time": "2021-05-25T21:26:13.758656Z"
    }
   },
   "outputs": [
    {
     "data": {
      "text/plain": [
       "'https://beerconnoisseur.com/reviews?page={}'"
      ]
     },
     "execution_count": 350,
     "metadata": {},
     "output_type": "execute_result"
    }
   ],
   "source": [
    "'https://beerconnoisseur.com/reviews?page={}' #150"
   ]
  },
  {
   "cell_type": "code",
   "execution_count": 351,
   "id": "3701c3ca",
   "metadata": {
    "ExecuteTime": {
     "end_time": "2021-05-25T21:26:38.563807Z",
     "start_time": "2021-05-25T21:26:37.945436Z"
    }
   },
   "outputs": [],
   "source": [
    "response = requests.get('https://beerconnoisseur.com/reviews?page=1', headers=header)\n",
    "\n",
    "data = response.text\n",
    "\n",
    "soup = BeautifulSoup(data, \"html.parser\")\n"
   ]
  },
  {
   "cell_type": "code",
   "execution_count": 370,
   "id": "362f15f8",
   "metadata": {
    "ExecuteTime": {
     "end_time": "2021-05-25T21:29:28.783034Z",
     "start_time": "2021-05-25T21:29:28.776083Z"
    }
   },
   "outputs": [],
   "source": [
    "root_url_ = 'https://beerconnoisseur.com'"
   ]
  },
  {
   "cell_type": "code",
   "execution_count": 373,
   "id": "c9d5fe0a",
   "metadata": {
    "ExecuteTime": {
     "end_time": "2021-05-25T21:29:46.729725Z",
     "start_time": "2021-05-25T21:29:46.701770Z"
    }
   },
   "outputs": [
    {
     "data": {
      "text/plain": [
       "'https://beerconnoisseur.com/review/judges-review-88-rating-night-warden-avery-brewing-co'"
      ]
     },
     "execution_count": 373,
     "metadata": {},
     "output_type": "execute_result"
    }
   ],
   "source": [
    "root_url_ + soup.find_all(class_='views-field views-field-title-field')[15]('a')[0]['href']"
   ]
  },
  {
   "cell_type": "code",
   "execution_count": 375,
   "id": "2cfca9f9",
   "metadata": {
    "ExecuteTime": {
     "end_time": "2021-05-25T21:31:31.072781Z",
     "start_time": "2021-05-25T21:31:31.048809Z"
    }
   },
   "outputs": [
    {
     "data": {
      "text/plain": [
       "16"
      ]
     },
     "execution_count": 375,
     "metadata": {},
     "output_type": "execute_result"
    }
   ],
   "source": [
    "len(soup.find_all(class_='views-field views-field-title-field'))"
   ]
  },
  {
   "cell_type": "code",
   "execution_count": 381,
   "id": "11184cd7",
   "metadata": {
    "ExecuteTime": {
     "end_time": "2021-05-25T21:33:13.395798Z",
     "start_time": "2021-05-25T21:33:13.377816Z"
    }
   },
   "outputs": [],
   "source": [
    "list_beer = []"
   ]
  },
  {
   "cell_type": "code",
   "execution_count": 383,
   "id": "77008a66",
   "metadata": {
    "ExecuteTime": {
     "end_time": "2021-05-25T21:38:09.753588Z",
     "start_time": "2021-05-25T21:33:20.651490Z"
    }
   },
   "outputs": [],
   "source": [
    "for num in range(1,151):\n",
    "    \n",
    "    response = requests.get('https://beerconnoisseur.com/reviews?page={}'.format(num), headers=header)\n",
    "\n",
    "    data = response.text\n",
    "\n",
    "    soup = BeautifulSoup(data, \"html.parser\")\n",
    "    \n",
    "    for i in range(len(soup.find_all(class_='views-field views-field-title-field'))):\n",
    "        \n",
    "        list_beer.append(root_url_ + soup.find_all(class_='views-field views-field-title-field')[i]('a')[0]['href'])\n",
    "    "
   ]
  },
  {
   "cell_type": "code",
   "execution_count": 385,
   "id": "e815280c",
   "metadata": {
    "ExecuteTime": {
     "end_time": "2021-05-25T21:40:53.699291Z",
     "start_time": "2021-05-25T21:40:53.691312Z"
    }
   },
   "outputs": [
    {
     "data": {
      "text/plain": [
       "2400"
      ]
     },
     "execution_count": 385,
     "metadata": {},
     "output_type": "execute_result"
    }
   ],
   "source": [
    "len(list_beer)"
   ]
  },
  {
   "cell_type": "code",
   "execution_count": 406,
   "id": "66efd710",
   "metadata": {
    "ExecuteTime": {
     "end_time": "2021-05-25T21:48:14.776659Z",
     "start_time": "2021-05-25T21:48:14.770677Z"
    }
   },
   "outputs": [
    {
     "data": {
      "text/plain": [
       "'https://beerconnoisseur.com/review/cherry-busey'"
      ]
     },
     "execution_count": 406,
     "metadata": {},
     "output_type": "execute_result"
    }
   ],
   "source": [
    "list_beer[1300]"
   ]
  },
  {
   "cell_type": "code",
   "execution_count": 407,
   "id": "60557b9d",
   "metadata": {
    "ExecuteTime": {
     "end_time": "2021-05-25T21:48:32.310650Z",
     "start_time": "2021-05-25T21:48:31.534309Z"
    }
   },
   "outputs": [],
   "source": [
    "response = requests.get('https://beerconnoisseur.com/review/cherry-busey', headers=header)\n",
    "\n",
    "data = response.text\n",
    "\n",
    "soup = BeautifulSoup(data, \"html.parser\")\n"
   ]
  },
  {
   "cell_type": "code",
   "execution_count": 408,
   "id": "898f1ca9",
   "metadata": {
    "ExecuteTime": {
     "end_time": "2021-05-25T21:48:32.885823Z",
     "start_time": "2021-05-25T21:48:32.877846Z"
    }
   },
   "outputs": [
    {
     "data": {
      "text/plain": [
       "'Cherry Busey'"
      ]
     },
     "execution_count": 408,
     "metadata": {},
     "output_type": "execute_result"
    }
   ],
   "source": [
    "soup.find(class_='field-item even').text.strip()    #Name"
   ]
  },
  {
   "cell_type": "code",
   "execution_count": 409,
   "id": "bccdf017",
   "metadata": {
    "ExecuteTime": {
     "end_time": "2021-05-25T21:48:34.365953Z",
     "start_time": "2021-05-25T21:48:34.345008Z"
    }
   },
   "outputs": [
    {
     "data": {
      "text/plain": [
       "'United States'"
      ]
     },
     "execution_count": 409,
     "metadata": {},
     "output_type": "execute_result"
    }
   ],
   "source": [
    "soup.find(class_='field field-name-field-country field-type-list-text field-label-hidden').text.strip()  #Country"
   ]
  },
  {
   "cell_type": "code",
   "execution_count": null,
   "id": "7d28fc34",
   "metadata": {},
   "outputs": [],
   "source": []
  },
  {
   "cell_type": "code",
   "execution_count": 410,
   "id": "76ec99b2",
   "metadata": {
    "ExecuteTime": {
     "end_time": "2021-05-25T21:48:35.746774Z",
     "start_time": "2021-05-25T21:48:35.727825Z"
    }
   },
   "outputs": [
    {
     "data": {
      "text/plain": [
       "'20 / 24'"
      ]
     },
     "execution_count": 410,
     "metadata": {},
     "output_type": "execute_result"
    }
   ],
   "source": [
    "soup.find(class_='field field-name-field-judge-aroma field-type-number-decimal field-label-inline clearfix').find(class_='field-item even').text   #Aroma"
   ]
  },
  {
   "cell_type": "code",
   "execution_count": 411,
   "id": "7cbf45b0",
   "metadata": {
    "ExecuteTime": {
     "end_time": "2021-05-25T21:48:37.000374Z",
     "start_time": "2021-05-25T21:48:36.983419Z"
    }
   },
   "outputs": [
    {
     "data": {
      "text/plain": [
       "'37 / 40'"
      ]
     },
     "execution_count": 411,
     "metadata": {},
     "output_type": "execute_result"
    }
   ],
   "source": [
    "soup.find(class_='field field-name-field-judge-flavor field-type-number-decimal field-label-inline clearfix').find(class_='field-item even').text    #Flavor"
   ]
  },
  {
   "cell_type": "code",
   "execution_count": 412,
   "id": "a8f507b3",
   "metadata": {
    "ExecuteTime": {
     "end_time": "2021-05-25T21:48:37.668517Z",
     "start_time": "2021-05-25T21:48:37.650566Z"
    }
   },
   "outputs": [
    {
     "data": {
      "text/plain": [
       "'A beautiful opaque brown pour with red highlights produces scores of rapidly rising bubbles under a thin but persistent light tan foam cap. Cherry and dark cakey malt aromas drift in from 4 feet away. The cherries dominate but as you work through it hints of vanilla, raisins and dried fruit show up. The malt aromas are medium low. The sour in the aroma is not vinegary. Rich cherry flavors predominate. The malt character is medium to medium low with moderately low spiciness. Sourness on the tongue is medium to medium high. Caramel and toffee notes are medium low. The base beer balances between malt and sour/tart. Based on BJCP style guidelines for a Flanders Oud Bruin with cherries, the added cherries suppress the malt character. The beer needs more dried fruit, caramel and toffee to balance the tart and the cherries. Cutting back on the carbonation a little might help as would dialing back slightly on the cherries and kicking up the malt. Setting the style guidelines aside, this is a great beer and I would gladly drink another.\\n'"
      ]
     },
     "execution_count": 412,
     "metadata": {},
     "output_type": "execute_result"
    }
   ],
   "source": [
    "soup.find(class_='field field-name-body field-type-text-with-summary field-label-hidden').find(class_='field-item even').text   ##Description"
   ]
  },
  {
   "cell_type": "code",
   "execution_count": 422,
   "id": "897763de",
   "metadata": {
    "ExecuteTime": {
     "end_time": "2021-05-25T21:51:13.676502Z",
     "start_time": "2021-05-25T21:51:13.658550Z"
    }
   },
   "outputs": [
    {
     "data": {
      "text/plain": [
       "'https://beerconnoisseur.com/sites/default/files/styles/beer_page_245w/public/beer/sun-king-cherry-busey.jpg?itok=bvxvExj0'"
      ]
     },
     "execution_count": 422,
     "metadata": {},
     "output_type": "execute_result"
    }
   ],
   "source": [
    "soup.find(class_='field field-name-field-beer-image field-type-image field-label-hidden').find('a')('img')[0]['src']"
   ]
  },
  {
   "cell_type": "code",
   "execution_count": null,
   "id": "737beb10",
   "metadata": {},
   "outputs": [],
   "source": []
  },
  {
   "cell_type": "code",
   "execution_count": 432,
   "id": "32deb84b",
   "metadata": {
    "ExecuteTime": {
     "end_time": "2021-05-25T22:24:37.868792Z",
     "start_time": "2021-05-25T22:24:37.859816Z"
    }
   },
   "outputs": [
    {
     "data": {
      "text/plain": [
       "2400"
      ]
     },
     "execution_count": 432,
     "metadata": {},
     "output_type": "execute_result"
    }
   ],
   "source": [
    "len(list_beer)"
   ]
  },
  {
   "cell_type": "code",
   "execution_count": 434,
   "id": "f19f4732",
   "metadata": {
    "ExecuteTime": {
     "end_time": "2021-05-25T23:12:48.850540Z",
     "start_time": "2021-05-25T22:53:02.680746Z"
    }
   },
   "outputs": [
    {
     "name": "stdout",
     "output_type": "stream",
     "text": [
      "Done!\n"
     ]
    }
   ],
   "source": [
    "#Scrape more reviews and photos\n",
    "smaller_headers = [\"Name\", \"Description\", \"Country\", \"Aroma\", \"Flavor\", \"Photo_Link\"]\n",
    "features_list = []\n",
    "\n",
    "for url in list_beer[1700:]:\n",
    "\n",
    "    response = requests.get(url, headers=header)\n",
    "\n",
    "    data = response.text\n",
    "\n",
    "    soup = BeautifulSoup(data, \"html.parser\")\n",
    "\n",
    "\n",
    "    try:\n",
    "        name = soup.find(class_='field-item even').text.strip()\n",
    "    except:\n",
    "        name = np.nan\n",
    "        \n",
    "    try:\n",
    "        description = soup.find(class_='field field-name-body field-type-text-with-summary field-label-hidden').find(class_='field-item even').text   ##Description\n",
    "    except:\n",
    "        description = np.nan\n",
    "\n",
    " \n",
    "    \n",
    "    try:\n",
    "        country = soup.find(class_='field field-name-field-country field-type-list-text field-label-hidden').text.strip()\n",
    "    except:\n",
    "        country = np.nan\n",
    "    \n",
    "    try:\n",
    "        aroma = soup.find(class_='field field-name-field-judge-aroma field-type-number-decimal field-label-inline clearfix').find(class_='field-item even').text\n",
    "    except:\n",
    "        aroma = np.nan\n",
    "        \n",
    "    try:\n",
    "        flavor = soup.find(class_='field field-name-field-judge-flavor field-type-number-decimal field-label-inline clearfix').find(class_='field-item even').text\n",
    "    except:\n",
    "        flavor = np.nan\n",
    "    \n",
    "    \n",
    "    try:\n",
    "        photo_link = soup.find(class_='field field-name-field-beer-image field-type-image field-label-hidden').find('a')('img')[0]['src'] #photo 127 x 228\n",
    "    except:\n",
    "        photo_link = np.nan\n",
    "    \n",
    "    \n",
    "\n",
    "\n",
    "    #Put all features in a dictionary\n",
    "    drink_dict = dict(zip(smaller_headers, [name, description, country, aroma, flavor, photo_link]))\n",
    "\n",
    "    features_list.append(drink_dict)\n",
    "\n",
    "df = pd.DataFrame(features_list)\n",
    "\n",
    "df.to_csv('more_beer_3.csv')\n",
    "time.sleep(60)\n",
    "print('Done!')"
   ]
  },
  {
   "cell_type": "code",
   "execution_count": 431,
   "id": "8890933c",
   "metadata": {
    "ExecuteTime": {
     "end_time": "2021-05-25T22:24:24.927339Z",
     "start_time": "2021-05-25T22:24:24.907394Z"
    }
   },
   "outputs": [
    {
     "data": {
      "text/html": [
       "<div>\n",
       "<style scoped>\n",
       "    .dataframe tbody tr th:only-of-type {\n",
       "        vertical-align: middle;\n",
       "    }\n",
       "\n",
       "    .dataframe tbody tr th {\n",
       "        vertical-align: top;\n",
       "    }\n",
       "\n",
       "    .dataframe thead th {\n",
       "        text-align: right;\n",
       "    }\n",
       "</style>\n",
       "<table border=\"1\" class=\"dataframe\">\n",
       "  <thead>\n",
       "    <tr style=\"text-align: right;\">\n",
       "      <th></th>\n",
       "      <th>Name</th>\n",
       "      <th>Description</th>\n",
       "      <th>Country</th>\n",
       "      <th>Aroma</th>\n",
       "      <th>Flavor</th>\n",
       "      <th>Photo_Link</th>\n",
       "    </tr>\n",
       "  </thead>\n",
       "  <tbody>\n",
       "    <tr>\n",
       "      <th>985</th>\n",
       "      <td>New Belgium Sour Saison</td>\n",
       "      <td>New Belgium Sour Saison is being evaluated as ...</td>\n",
       "      <td>United States</td>\n",
       "      <td>24 / 24</td>\n",
       "      <td>35 / 40</td>\n",
       "      <td>https://beerconnoisseur.com/sites/default/file...</td>\n",
       "    </tr>\n",
       "    <tr>\n",
       "      <th>986</th>\n",
       "      <td>Double Bass Chipotle Double Chocolate Stout</td>\n",
       "      <td>Double Bass Chipotle Chocolate Stout by Starr ...</td>\n",
       "      <td>United States</td>\n",
       "      <td>20 / 24</td>\n",
       "      <td>36 / 40</td>\n",
       "      <td>https://beerconnoisseur.com/sites/default/file...</td>\n",
       "    </tr>\n",
       "    <tr>\n",
       "      <th>987</th>\n",
       "      <td>Double Bass Mocha Double Chocolate Stout</td>\n",
       "      <td>Double Bass Mocha Double Chocolate Stout by St...</td>\n",
       "      <td>United States</td>\n",
       "      <td>24 / 24</td>\n",
       "      <td>38 / 40</td>\n",
       "      <td>https://beerconnoisseur.com/sites/default/file...</td>\n",
       "    </tr>\n",
       "    <tr>\n",
       "      <th>988</th>\n",
       "      <td>Double Bass Peppermint Chocolate Stout</td>\n",
       "      <td>Double Bass Peppermint Chocolate Stout by Star...</td>\n",
       "      <td>United States</td>\n",
       "      <td>20 / 24</td>\n",
       "      <td>34 / 40</td>\n",
       "      <td>https://beerconnoisseur.com/sites/default/file...</td>\n",
       "    </tr>\n",
       "    <tr>\n",
       "      <th>989</th>\n",
       "      <td>Altstadt Lager</td>\n",
       "      <td>With the style described as 'Premium German La...</td>\n",
       "      <td>United States</td>\n",
       "      <td>19 / 24</td>\n",
       "      <td>35 / 40</td>\n",
       "      <td>https://beerconnoisseur.com/sites/default/file...</td>\n",
       "    </tr>\n",
       "  </tbody>\n",
       "</table>\n",
       "</div>"
      ],
      "text/plain": [
       "                                            Name  \\\n",
       "985                      New Belgium Sour Saison   \n",
       "986  Double Bass Chipotle Double Chocolate Stout   \n",
       "987     Double Bass Mocha Double Chocolate Stout   \n",
       "988       Double Bass Peppermint Chocolate Stout   \n",
       "989                               Altstadt Lager   \n",
       "\n",
       "                                           Description        Country  \\\n",
       "985  New Belgium Sour Saison is being evaluated as ...  United States   \n",
       "986  Double Bass Chipotle Chocolate Stout by Starr ...  United States   \n",
       "987  Double Bass Mocha Double Chocolate Stout by St...  United States   \n",
       "988  Double Bass Peppermint Chocolate Stout by Star...  United States   \n",
       "989  With the style described as 'Premium German La...  United States   \n",
       "\n",
       "       Aroma   Flavor                                         Photo_Link  \n",
       "985  24 / 24  35 / 40  https://beerconnoisseur.com/sites/default/file...  \n",
       "986  20 / 24  36 / 40  https://beerconnoisseur.com/sites/default/file...  \n",
       "987  24 / 24  38 / 40  https://beerconnoisseur.com/sites/default/file...  \n",
       "988  20 / 24  34 / 40  https://beerconnoisseur.com/sites/default/file...  \n",
       "989  19 / 24  35 / 40  https://beerconnoisseur.com/sites/default/file...  "
      ]
     },
     "execution_count": 431,
     "metadata": {},
     "output_type": "execute_result"
    }
   ],
   "source": [
    "df = pd.DataFrame(features_list)\n",
    "df.tail()"
   ]
  },
  {
   "cell_type": "code",
   "execution_count": 430,
   "id": "fada5020",
   "metadata": {
    "ExecuteTime": {
     "end_time": "2021-05-25T22:23:30.167083Z",
     "start_time": "2021-05-25T22:23:30.118244Z"
    }
   },
   "outputs": [],
   "source": [
    "df.to_csv('more_beer_1.csv')"
   ]
  },
  {
   "cell_type": "code",
   "execution_count": null,
   "id": "ce2ed1ad",
   "metadata": {},
   "outputs": [],
   "source": []
  },
  {
   "cell_type": "code",
   "execution_count": 157,
   "id": "a6e68007",
   "metadata": {
    "ExecuteTime": {
     "end_time": "2021-05-25T04:49:22.099449Z",
     "start_time": "2021-05-25T04:49:22.087449Z"
    }
   },
   "outputs": [
    {
     "data": {
      "text/plain": [
       "'Aroma: “Pleasant rich and complex hops aroma with lemon, orange, pine, peppercorn. Light, sweet bready malt character is hard to find behind the hops.”'"
      ]
     },
     "execution_count": 157,
     "metadata": {},
     "output_type": "execute_result"
    }
   ],
   "source": [
    "soup.find_all(class_='col-md-12 col-sm-12 col-xs-12')[1]('p')[1].text #Aroma"
   ]
  },
  {
   "cell_type": "code",
   "execution_count": 158,
   "id": "d6266ff9",
   "metadata": {
    "ExecuteTime": {
     "end_time": "2021-05-25T04:49:22.947932Z",
     "start_time": "2021-05-25T04:49:22.931928Z"
    }
   },
   "outputs": [
    {
     "data": {
      "text/plain": [
       "'Flavor: “Smooth mouthfeel and body. Some nice cracker-like malt sweetness followed by some citrus-fruit character. Some lemon. Some spice notes add complexity. Bitterness balances well throughout the taste. Fruity. The carbonation adds to the taste. Refreshing and crisp. Restrained bitterness on the finish leaves you with lingering light fruit and spice character.”'"
      ]
     },
     "execution_count": 158,
     "metadata": {},
     "output_type": "execute_result"
    }
   ],
   "source": [
    "soup.find_all(class_='col-md-12 col-sm-12 col-xs-12')[1]('p')[2].text #Flavor"
   ]
  },
  {
   "cell_type": "code",
   "execution_count": 159,
   "id": "833739a6",
   "metadata": {
    "ExecuteTime": {
     "end_time": "2021-05-25T04:49:24.770398Z",
     "start_time": "2021-05-25T04:49:24.746401Z"
    }
   },
   "outputs": [
    {
     "data": {
      "text/plain": [
       "'Overall: “A very nice beer. The dry hopping adds complexity throughout but isn’t heavy handed or out of balance with the underlying beer. IPL meets sessionable Pilsner meets session pale ale. A pleasantly crisp and refreshing beer with a distinctive fruity hops character and a soft finish.”'"
      ]
     },
     "execution_count": 159,
     "metadata": {},
     "output_type": "execute_result"
    }
   ],
   "source": [
    "soup.find_all(class_='col-md-12 col-sm-12 col-xs-12')[1]('p')[3].text #Overall"
   ]
  },
  {
   "cell_type": "code",
   "execution_count": 160,
   "id": "f8ff9af4",
   "metadata": {
    "ExecuteTime": {
     "end_time": "2021-05-25T04:49:25.275967Z",
     "start_time": "2021-05-25T04:49:25.255967Z"
    }
   },
   "outputs": [
    {
     "data": {
      "text/plain": [
       "'5.2'"
      ]
     },
     "execution_count": 160,
     "metadata": {},
     "output_type": "execute_result"
    }
   ],
   "source": [
    "soup.find(class_='review-meta-holder')('p')[1].text.strip().split('\\n')[0].split(': ')[1] #Alcohol Volume"
   ]
  },
  {
   "cell_type": "code",
   "execution_count": 161,
   "id": "9472843d",
   "metadata": {
    "ExecuteTime": {
     "end_time": "2021-05-25T04:49:26.470114Z",
     "start_time": "2021-05-25T04:49:26.462124Z"
    }
   },
   "outputs": [
    {
     "data": {
      "text/plain": [
       "'//images.ctfassets.net/sz2xpiwl6od9/5QgnTNoawoiCm2YySY4AWY/dc41c05447cec2b61c537c83418e2501/Finback_Telephone_Lines_18-03-30_CBB_Issue_26-131_reviews_6x10.jpg?w=900'"
      ]
     },
     "execution_count": 161,
     "metadata": {},
     "output_type": "execute_result"
    }
   ],
   "source": [
    "soup.find(class_='article-lede-image')['src'] #Photo_Link"
   ]
  },
  {
   "cell_type": "code",
   "execution_count": null,
   "id": "8e6a6946",
   "metadata": {},
   "outputs": [],
   "source": []
  },
  {
   "cell_type": "code",
   "execution_count": 69,
   "id": "scratchy-shake",
   "metadata": {
    "ExecuteTime": {
     "end_time": "2021-05-25T04:10:26.164505Z",
     "start_time": "2021-05-25T04:10:25.602297Z"
    }
   },
   "outputs": [
    {
     "data": {
      "image/jpeg": "[encoded data removed]",
      "text/plain": [
       "<IPython.core.display.Image object>"
      ]
     },
     "execution_count": 69,
     "metadata": {
      "image/jpeg": {
       "height": 228,
       "width": 127
      }
     },
     "output_type": "execute_result"
    }
   ],
   "source": [
    "# libraries for displaying images\n",
    "from IPython.display import Image \n",
    "from IPython.core.display import HTML \n",
    "Image('https://www.tastings.com/Product-Images/Spirits/2021/5_1_2021/235087_z.jpg', width=127, height=228)"
   ]
  },
  {
   "cell_type": "markdown",
   "id": "be842078",
   "metadata": {},
   "source": [
    "### More"
   ]
  },
  {
   "cell_type": "code",
   "execution_count": 3,
   "id": "c26dea7c",
   "metadata": {
    "ExecuteTime": {
     "end_time": "2021-05-29T20:08:05.223690Z",
     "start_time": "2021-05-29T20:08:05.207689Z"
    }
   },
   "outputs": [],
   "source": [
    "with open('items_list_liquor_total_wine.pkl', 'rb') as input:\n",
    "    total_wine_list = pickle.load(input)"
   ]
  },
  {
   "cell_type": "code",
   "execution_count": 4,
   "id": "91bfe910",
   "metadata": {
    "ExecuteTime": {
     "end_time": "2021-05-29T20:08:07.284946Z",
     "start_time": "2021-05-29T20:08:07.272960Z"
    }
   },
   "outputs": [
    {
     "data": {
      "text/plain": [
       "'https://www.totalwine.com/spirits/vodka/flavored-vodka/raspberry/absolut-raspberri/p/99450750?s=1108&igrules=true'"
      ]
     },
     "execution_count": 4,
     "metadata": {},
     "output_type": "execute_result"
    }
   ],
   "source": [
    "total_wine_list[2000]"
   ]
  },
  {
   "cell_type": "code",
   "execution_count": 83,
   "id": "fat-active",
   "metadata": {
    "ExecuteTime": {
     "end_time": "2021-05-26T17:24:06.928762Z",
     "start_time": "2021-05-26T17:24:06.400146Z"
    }
   },
   "outputs": [],
   "source": [
    "response = requests.get('https://www.totalwine.com/spirits/bourbon/small-batch-bourbon/winchester-kentucky-straight-bourbon-whiskey/p/219535050?s=1406&igrules=true', headers=header)\n",
    "\n",
    "data = response.text\n",
    "\n",
    "soup = BeautifulSoup(data, \"html.parser\")\n"
   ]
  },
  {
   "cell_type": "code",
   "execution_count": 84,
   "id": "18a3dd44",
   "metadata": {
    "ExecuteTime": {
     "end_time": "2021-05-26T17:24:07.502148Z",
     "start_time": "2021-05-26T17:24:07.485166Z"
    }
   },
   "outputs": [
    {
     "data": {
      "text/plain": [
       "'WINCHESTER KENTUCKY STRAIGHT BOURBON WHISKEY '"
      ]
     },
     "execution_count": 84,
     "metadata": {},
     "output_type": "execute_result"
    }
   ],
   "source": [
    "soup.find('h1').text #Name"
   ]
  },
  {
   "cell_type": "code",
   "execution_count": 54,
   "id": "013cdfac",
   "metadata": {
    "ExecuteTime": {
     "end_time": "2021-05-26T17:06:31.525377Z",
     "start_time": "2021-05-26T17:06:31.518397Z"
    }
   },
   "outputs": [
    {
     "data": {
      "text/plain": [
       "'https://www.totalwine.com/dynamic/x490,sq/media/sys_master/twmmedia/h49/h5e/13693587816478.png'"
      ]
     },
     "execution_count": 54,
     "metadata": {},
     "output_type": "execute_result"
    }
   ],
   "source": [
    "soup.find(class_='productImages__30ruxKAu')('img')[0]['src']  #Photo_Link"
   ]
  },
  {
   "cell_type": "code",
   "execution_count": 55,
   "id": "8b12e526",
   "metadata": {
    "ExecuteTime": {
     "end_time": "2021-05-26T17:06:33.530168Z",
     "start_time": "2021-05-26T17:06:33.513244Z"
    }
   },
   "outputs": [
    {
     "data": {
      "text/plain": [
       "'USA- Pour, sip, and escape with a Los Cabos Margarita. Crafted with the original south-of-the-border recipe using real fruit juice, natural flavors, and silver tequila. Fresh strawberry flavor, full of sweet, ripe notes. Just pour over ice and enjoy!'"
      ]
     },
     "execution_count": 55,
     "metadata": {},
     "output_type": "execute_result"
    }
   ],
   "source": [
    "soup.find(class_='productInfoContainer__2oSxzsKz')('p')[0].text  #Description"
   ]
  },
  {
   "cell_type": "code",
   "execution_count": 73,
   "id": "90d2350a",
   "metadata": {
    "ExecuteTime": {
     "end_time": "2021-05-26T17:11:24.596119Z",
     "start_time": "2021-05-26T17:11:24.565202Z"
    }
   },
   "outputs": [
    {
     "name": "stdout",
     "output_type": "stream",
     "text": [
      "BRANDLa Tradicion Los Cabos\n",
      "COUNTRYUnited States\n",
      "STATECalifornia\n",
      "SPIRITS TYPEReady to Drink\n",
      "SPIRITS STYLETequila Cocktails, Margarita\n",
      "ABV9%\n",
      "SKU233024175-1\n"
     ]
    }
   ],
   "source": [
    "for i in range(len(soup.find_all(class_='detailsTableRow__2kp3qVvB'))):\n",
    "    print(soup.find_all(class_='detailsTableRow__2kp3qVvB')[i].text)"
   ]
  },
  {
   "cell_type": "code",
   "execution_count": 85,
   "id": "d2d16b16",
   "metadata": {
    "ExecuteTime": {
     "end_time": "2021-05-26T17:24:15.886136Z",
     "start_time": "2021-05-26T17:24:15.835272Z"
    }
   },
   "outputs": [
    {
     "name": "stdout",
     "output_type": "stream",
     "text": [
      "BRANDWinchester\n",
      "COUNTRYUnited States\n",
      "STATEKentucky\n",
      "SPIRITS TYPEBourbon\n",
      "SPIRITS STYLESmall Batch Bourbon\n",
      "ABV45%\n",
      "TASTERich, Oak, Honey, Balanced\n",
      "SKU219535050-1\n"
     ]
    }
   ],
   "source": [
    "for i in range(len(soup.find_all(class_='detailsTableRow__2kp3qVvB'))):\n",
    "    print(soup.find_all(class_='detailsTableRow__2kp3qVvB')[i].text)"
   ]
  },
  {
   "cell_type": "code",
   "execution_count": 76,
   "id": "cc203ba5",
   "metadata": {
    "ExecuteTime": {
     "end_time": "2021-05-26T17:14:34.082424Z",
     "start_time": "2021-05-26T17:14:34.049540Z"
    }
   },
   "outputs": [],
   "source": [
    "for i in range(len(soup.find_all(class_='detailsTableRow__2kp3qVvB'))):\n",
    "    if 'SPIRITS STYLE' in soup.find_all(class_='detailsTableRow__2kp3qVvB')[i].text:\n",
    "        category = soup.find_all(class_='detailsTableRow__2kp3qVvB')[i].text"
   ]
  },
  {
   "cell_type": "code",
   "execution_count": 77,
   "id": "1eefe265",
   "metadata": {
    "ExecuteTime": {
     "end_time": "2021-05-26T17:14:37.478843Z",
     "start_time": "2021-05-26T17:14:37.463883Z"
    }
   },
   "outputs": [
    {
     "data": {
      "text/plain": [
       "'SPIRITS STYLETequila Cocktails, Margarita'"
      ]
     },
     "execution_count": 77,
     "metadata": {},
     "output_type": "execute_result"
    }
   ],
   "source": [
    "category"
   ]
  },
  {
   "cell_type": "code",
   "execution_count": 78,
   "id": "b1bf264e",
   "metadata": {
    "ExecuteTime": {
     "end_time": "2021-05-26T17:15:43.416855Z",
     "start_time": "2021-05-26T17:15:43.384944Z"
    }
   },
   "outputs": [],
   "source": [
    "for i in range(len(soup.find_all(class_='detailsTableRow__2kp3qVvB'))):\n",
    "    if 'ABV' in soup.find_all(class_='detailsTableRow__2kp3qVvB')[i].text:\n",
    "        vol = soup.find_all(class_='detailsTableRow__2kp3qVvB')[i].text"
   ]
  },
  {
   "cell_type": "code",
   "execution_count": 79,
   "id": "3bee670d",
   "metadata": {
    "ExecuteTime": {
     "end_time": "2021-05-26T17:15:47.594206Z",
     "start_time": "2021-05-26T17:15:47.582272Z"
    }
   },
   "outputs": [
    {
     "data": {
      "text/plain": [
       "'ABV9%'"
      ]
     },
     "execution_count": 79,
     "metadata": {},
     "output_type": "execute_result"
    }
   ],
   "source": [
    "vol"
   ]
  },
  {
   "cell_type": "code",
   "execution_count": 61,
   "id": "84e059da",
   "metadata": {
    "ExecuteTime": {
     "end_time": "2021-05-26T17:07:11.501338Z",
     "start_time": "2021-05-26T17:07:11.482389Z"
    },
    "collapsed": true
   },
   "outputs": [
    {
     "data": {
      "text/plain": [
       "[<div class=\"detailsTableText__1SvcRdYn\"><a anclick=\"attribute_La Tradicion Los Cabos\" href=\"/spirits/brand/la-tradicion-los-cabos\" rel=\"noopener noreferrer\">La Tradicion Los Cabos</a></div>,\n",
       " <div class=\"detailsTableText__1SvcRdYn\"><a anclick=\"attribute_United States\" href=\"/spirits/united-states/c/001016\" rel=\"noopener noreferrer\">United States</a></div>,\n",
       " <div class=\"detailsTableText__1SvcRdYn\"><a anclick=\"attribute_California\" href=\"/spirits/california/california/c/001079\" rel=\"noopener noreferrer\">California</a></div>,\n",
       " <div class=\"detailsTableText__1SvcRdYn\"><a anclick=\"attribute_Ready to Drink\" href=\"/spirits/ready-to-drink/c/000791\" rel=\"noopener noreferrer\">Ready to Drink</a></div>,\n",
       " <div class=\"detailsTableText__1SvcRdYn\"><a anclick=\"attribute_Tequila Cocktails\" href=\"/spirits/tequila-cocktails/tequila-cocktails/c/191034\" rel=\"noopener noreferrer\">Tequila Cocktails</a>, <!-- -->Margarita</div>,\n",
       " <div class=\"detailsTableText__1SvcRdYn\">9<!-- -->%</div>,\n",
       " <div class=\"detailsTableText__1SvcRdYn\">233024175-1</div>]"
      ]
     },
     "execution_count": 61,
     "metadata": {},
     "output_type": "execute_result"
    }
   ],
   "source": [
    "soup.find_all(class_='detailsTableText__1SvcRdYn')"
   ]
  },
  {
   "cell_type": "code",
   "execution_count": 56,
   "id": "41b5d4cc",
   "metadata": {
    "ExecuteTime": {
     "end_time": "2021-05-26T17:06:35.174530Z",
     "start_time": "2021-05-26T17:06:35.162589Z"
    }
   },
   "outputs": [
    {
     "data": {
      "text/plain": [
       "'La Tradicion Los Cabos'"
      ]
     },
     "execution_count": 56,
     "metadata": {},
     "output_type": "execute_result"
    }
   ],
   "source": [
    "soup.find_all(class_='detailsTableText__1SvcRdYn')[0].text  #Brand"
   ]
  },
  {
   "cell_type": "code",
   "execution_count": 57,
   "id": "22e47a48",
   "metadata": {
    "ExecuteTime": {
     "end_time": "2021-05-26T17:06:45.461655Z",
     "start_time": "2021-05-26T17:06:45.446702Z"
    }
   },
   "outputs": [
    {
     "data": {
      "text/plain": [
       "'United States'"
      ]
     },
     "execution_count": 57,
     "metadata": {},
     "output_type": "execute_result"
    }
   ],
   "source": [
    "soup.find_all(class_='detailsTableText__1SvcRdYn')[1].text   #Country"
   ]
  },
  {
   "cell_type": "code",
   "execution_count": 58,
   "id": "47593ada",
   "metadata": {
    "ExecuteTime": {
     "end_time": "2021-05-26T17:06:46.749764Z",
     "start_time": "2021-05-26T17:06:46.734765Z"
    }
   },
   "outputs": [
    {
     "data": {
      "text/plain": [
       "'Ready to Drink California'"
      ]
     },
     "execution_count": 58,
     "metadata": {},
     "output_type": "execute_result"
    }
   ],
   "source": [
    "soup.find_all(class_='detailsTableText__1SvcRdYn')[3].text + ' ' +  soup.find_all(class_='detailsTableText__1SvcRdYn')[2].text #Category"
   ]
  },
  {
   "cell_type": "code",
   "execution_count": 40,
   "id": "28df19bc",
   "metadata": {
    "ExecuteTime": {
     "end_time": "2021-05-26T17:02:37.381820Z",
     "start_time": "2021-05-26T17:02:37.359880Z"
    }
   },
   "outputs": [
    {
     "data": {
      "text/plain": [
       "'Medium, Cherry, Pepper, Oak, Mild'"
      ]
     },
     "execution_count": 40,
     "metadata": {},
     "output_type": "execute_result"
    }
   ],
   "source": [
    "soup.find_all(class_='detailsTableText__1SvcRdYn')[4].text   #Aroma, flavor"
   ]
  },
  {
   "cell_type": "code",
   "execution_count": 44,
   "id": "20b06baa",
   "metadata": {
    "ExecuteTime": {
     "end_time": "2021-05-26T17:03:20.878128Z",
     "start_time": "2021-05-26T17:03:20.860176Z"
    }
   },
   "outputs": [
    {
     "data": {
      "text/plain": [
       "'$219.99'"
      ]
     },
     "execution_count": 44,
     "metadata": {},
     "output_type": "execute_result"
    }
   ],
   "source": [
    "soup.find(id='edlpPrice').text   #Price"
   ]
  },
  {
   "cell_type": "code",
   "execution_count": 5,
   "id": "d7166de0",
   "metadata": {
    "ExecuteTime": {
     "end_time": "2021-05-29T20:08:11.838090Z",
     "start_time": "2021-05-29T20:08:11.830062Z"
    }
   },
   "outputs": [
    {
     "data": {
      "text/plain": [
       "3700"
      ]
     },
     "execution_count": 5,
     "metadata": {},
     "output_type": "execute_result"
    }
   ],
   "source": [
    "len(total_wine_list)"
   ]
  },
  {
   "cell_type": "code",
   "execution_count": 8,
   "id": "b72c6bd1",
   "metadata": {
    "ExecuteTime": {
     "end_time": "2021-05-29T20:09:03.490453Z",
     "start_time": "2021-05-29T20:09:03.474478Z"
    }
   },
   "outputs": [
    {
     "data": {
      "text/plain": [
       "0"
      ]
     },
     "execution_count": 8,
     "metadata": {},
     "output_type": "execute_result"
    }
   ],
   "source": [
    "40 % 20"
   ]
  },
  {
   "cell_type": "code",
   "execution_count": 9,
   "id": "ddfa6eef",
   "metadata": {
    "ExecuteTime": {
     "end_time": "2021-05-29T20:10:27.767844Z",
     "start_time": "2021-05-29T20:10:27.751844Z"
    }
   },
   "outputs": [
    {
     "name": "stdout",
     "output_type": "stream",
     "text": [
      "0 https://www.totalwine.com/spirits/ready-to-drink/tequila-cocktails/margarita/los-cabos-strawberry-margarita/p/233024175?s=1108&igrules=true\n",
      "1 https://www.totalwine.com/spirits/ready-to-drink/tequila-cocktails/margarita/los-cabos-spicy-mango-margarita/p/233023175?s=1108&igrules=true\n",
      "2 https://www.totalwine.com/spirits/deals/tequila/blanco-silver/los-cabos-silver-tequila/p/233715175?s=1108&igrules=true\n",
      "3 https://www.totalwine.com/spirits/ready-to-drink/tequila-cocktails/margarita/los-cabos-classic-lime-margarita/p/232798175?s=1108&igrules=true\n",
      "4 https://www.totalwine.com/spirits/ready-to-drink/tequila-cocktails/margarita/los-cabos-peach-margarita/p/233723175?s=1108&igrules=true\n",
      "5 https://www.totalwine.com/spirits/ready-to-drink/tequila-cocktails/margarita/los-cabos-cucumber-mint-margarita/p/233021175?s=1108&igrules=true\n",
      "6 https://www.totalwine.com/spirits/deals/vodka/vodka/tower-vodka/p/159399175?s=1108&igrules=true\n",
      "7 https://www.totalwine.com/spirits/ready-to-drink/frozen-freezable-cocktails/ice-pops/veil-vodka-pops-ready-to-freeze/p/228300100?s=1108&igrules=true\n",
      "8 https://www.totalwine.com/spirits/deals/vodka/vodka/summum-vodka/p/108949175?s=1108&igrules=true\n",
      "9 https://www.totalwine.com/spirits/deals/american-whiskey/american-single-malt/balcones-single-malt-whiskey/p/126245750?s=1108&igrules=true\n",
      "10 https://www.totalwine.com/spirits/deals/brandy-cognac/cognac/a-de-fussigny-xo-cognac/p/17276750?s=1108&igrules=true\n",
      "11 https://www.totalwine.com/spirits/bourbon/small-batch-bourbon/first-call-kentucky-straight-bourbon/p/231358175?s=1108&igrules=true\n",
      "12 https://www.totalwine.com/spirits/gin/vincenzi-gin-di-fiori/p/227604750?s=1108&igrules=true\n",
      "13 https://www.totalwine.com/spirits/deals/vodka/vodka/titos-handmade-vodka/p/96260175?s=1108&igrules=true\n",
      "14 https://www.totalwine.com/spirits/deals/scotch/single-malt/shieldaig-speyside-single-malt-12yr/p/109033750?s=1108&igrules=true\n",
      "15 https://www.totalwine.com/spirits/vodka/vodka/starr-blu-vodka-plastic-/p/147671175?s=1108&igrules=true\n",
      "16 https://www.totalwine.com/spirits/deals/tequila/blanco-silver/el-padrino-blanco-tequila/p/114957750?s=1108&igrules=true\n",
      "17 https://www.totalwine.com/spirits/tequila/blanco-silver/patron-silver/p/5654750?s=1108&igrules=true\n",
      "18 https://www.totalwine.com/spirits/deals/vodka/vodka/the-american-plains-vodka/p/133857175?s=1108&igrules=true\n",
      "19 https://www.totalwine.com/spirits/vodka/vodka/ketel-one/p/1808175?s=1108&igrules=true\n"
     ]
    }
   ],
   "source": [
    "for indx, url in enumerate(total_wine_list[:20]):\n",
    "    print(indx, url)"
   ]
  },
  {
   "cell_type": "code",
   "execution_count": 10,
   "id": "c6c4110c",
   "metadata": {
    "ExecuteTime": {
     "end_time": "2021-05-29T20:31:43.344784Z",
     "start_time": "2021-05-29T20:12:17.908648Z"
    }
   },
   "outputs": [
    {
     "name": "stdout",
     "output_type": "stream",
     "text": [
      "Done!\n"
     ]
    }
   ],
   "source": [
    "#Scrape more reviews and photos\n",
    "smaller_headers = [\"Name\", \"Category\", \"Description\", \"Country\", \"Aroma\", \"Alcohol_Vol\", \"Photo_Link\", \"Price\"]\n",
    "features_list = []\n",
    "\n",
    "for indx, url in enumerate(total_wine_list[:1000]):\n",
    "    \n",
    "    if indx % 20 == 0:\n",
    "        \n",
    "        time.sleep(20)\n",
    "    \n",
    "    else:\n",
    "\n",
    "        response = requests.get(url, headers=header)\n",
    "\n",
    "        data = response.text\n",
    "\n",
    "        soup = BeautifulSoup(data, \"html.parser\")\n",
    "\n",
    "\n",
    "        try:\n",
    "            name = soup.find('h1').text\n",
    "        except:\n",
    "            name = np.nan\n",
    "\n",
    "        category = np.nan\n",
    "        country = np.nan\n",
    "        aroma = np.nan\n",
    "        alcohol_vol = np.nan\n",
    "\n",
    "        for i in range(len(soup.find_all(class_='detailsTableRow__2kp3qVvB'))):\n",
    "\n",
    "            if 'SPIRITS STYLE' in soup.find_all(class_='detailsTableRow__2kp3qVvB')[i].text:\n",
    "                category = soup.find_all(class_='detailsTableRow__2kp3qVvB')[i].text\n",
    "            elif 'COUNTRY' in soup.find_all(class_='detailsTableRow__2kp3qVvB')[i].text:\n",
    "                country = soup.find_all(class_='detailsTableRow__2kp3qVvB')[i].text\n",
    "            elif 'TASTE' in soup.find_all(class_='detailsTableRow__2kp3qVvB')[i].text:\n",
    "                aroma = soup.find_all(class_='detailsTableRow__2kp3qVvB')[i].text\n",
    "            elif 'ABV' in soup.find_all(class_='detailsTableRow__2kp3qVvB')[i].text:\n",
    "                alcohol_vol = soup.find_all(class_='detailsTableRow__2kp3qVvB')[i].text\n",
    "\n",
    "\n",
    "        try:\n",
    "            description = soup.find(class_='productInfoContainer__2oSxzsKz')('p')[0].text   ##Description\n",
    "        except:\n",
    "            description = np.nan\n",
    "\n",
    "\n",
    "        try:\n",
    "            photo_link = soup.find(class_='productImages__30ruxKAu')('img')[0]['src']\n",
    "        except:\n",
    "            photo_link = np.nan\n",
    "\n",
    "        try:\n",
    "            price = soup.find(id='edlpPrice').text\n",
    "        except:\n",
    "            price = np.nan\n",
    "\n",
    "\n",
    "\n",
    "\n",
    "        #Put all features in a dictionary\n",
    "        drink_dict = dict(zip(smaller_headers, [name, category, description, country, aroma, alcohol_vol, photo_link, price]))\n",
    "\n",
    "        features_list.append(drink_dict)\n",
    "\n",
    "df = pd.DataFrame(features_list)\n",
    "\n",
    "df.to_csv('more_drinks_total_wine_1.csv')\n",
    "time.sleep(60)\n",
    "print('Done!')"
   ]
  },
  {
   "cell_type": "code",
   "execution_count": 11,
   "id": "2b22c713",
   "metadata": {
    "ExecuteTime": {
     "end_time": "2021-05-29T20:43:04.071759Z",
     "start_time": "2021-05-29T20:43:04.047753Z"
    }
   },
   "outputs": [
    {
     "data": {
      "text/html": [
       "<div>\n",
       "<style scoped>\n",
       "    .dataframe tbody tr th:only-of-type {\n",
       "        vertical-align: middle;\n",
       "    }\n",
       "\n",
       "    .dataframe tbody tr th {\n",
       "        vertical-align: top;\n",
       "    }\n",
       "\n",
       "    .dataframe thead th {\n",
       "        text-align: right;\n",
       "    }\n",
       "</style>\n",
       "<table border=\"1\" class=\"dataframe\">\n",
       "  <thead>\n",
       "    <tr style=\"text-align: right;\">\n",
       "      <th></th>\n",
       "      <th>Name</th>\n",
       "      <th>Category</th>\n",
       "      <th>Description</th>\n",
       "      <th>Country</th>\n",
       "      <th>Aroma</th>\n",
       "      <th>Alcohol_Vol</th>\n",
       "      <th>Photo_Link</th>\n",
       "      <th>Price</th>\n",
       "    </tr>\n",
       "  </thead>\n",
       "  <tbody>\n",
       "    <tr>\n",
       "      <th>0</th>\n",
       "      <td>Please verify you are a human</td>\n",
       "      <td>NaN</td>\n",
       "      <td>NaN</td>\n",
       "      <td>NaN</td>\n",
       "      <td>NaN</td>\n",
       "      <td>NaN</td>\n",
       "      <td>NaN</td>\n",
       "      <td>NaN</td>\n",
       "    </tr>\n",
       "    <tr>\n",
       "      <th>1</th>\n",
       "      <td>Please verify you are a human</td>\n",
       "      <td>NaN</td>\n",
       "      <td>NaN</td>\n",
       "      <td>NaN</td>\n",
       "      <td>NaN</td>\n",
       "      <td>NaN</td>\n",
       "      <td>NaN</td>\n",
       "      <td>NaN</td>\n",
       "    </tr>\n",
       "    <tr>\n",
       "      <th>2</th>\n",
       "      <td>Please verify you are a human</td>\n",
       "      <td>NaN</td>\n",
       "      <td>NaN</td>\n",
       "      <td>NaN</td>\n",
       "      <td>NaN</td>\n",
       "      <td>NaN</td>\n",
       "      <td>NaN</td>\n",
       "      <td>NaN</td>\n",
       "    </tr>\n",
       "    <tr>\n",
       "      <th>3</th>\n",
       "      <td>Please verify you are a human</td>\n",
       "      <td>NaN</td>\n",
       "      <td>NaN</td>\n",
       "      <td>NaN</td>\n",
       "      <td>NaN</td>\n",
       "      <td>NaN</td>\n",
       "      <td>NaN</td>\n",
       "      <td>NaN</td>\n",
       "    </tr>\n",
       "    <tr>\n",
       "      <th>4</th>\n",
       "      <td>Please verify you are a human</td>\n",
       "      <td>NaN</td>\n",
       "      <td>NaN</td>\n",
       "      <td>NaN</td>\n",
       "      <td>NaN</td>\n",
       "      <td>NaN</td>\n",
       "      <td>NaN</td>\n",
       "      <td>NaN</td>\n",
       "    </tr>\n",
       "    <tr>\n",
       "      <th>...</th>\n",
       "      <td>...</td>\n",
       "      <td>...</td>\n",
       "      <td>...</td>\n",
       "      <td>...</td>\n",
       "      <td>...</td>\n",
       "      <td>...</td>\n",
       "      <td>...</td>\n",
       "      <td>...</td>\n",
       "    </tr>\n",
       "    <tr>\n",
       "      <th>945</th>\n",
       "      <td>Please verify you are a human</td>\n",
       "      <td>NaN</td>\n",
       "      <td>NaN</td>\n",
       "      <td>NaN</td>\n",
       "      <td>NaN</td>\n",
       "      <td>NaN</td>\n",
       "      <td>NaN</td>\n",
       "      <td>NaN</td>\n",
       "    </tr>\n",
       "    <tr>\n",
       "      <th>946</th>\n",
       "      <td>Please verify you are a human</td>\n",
       "      <td>NaN</td>\n",
       "      <td>NaN</td>\n",
       "      <td>NaN</td>\n",
       "      <td>NaN</td>\n",
       "      <td>NaN</td>\n",
       "      <td>NaN</td>\n",
       "      <td>NaN</td>\n",
       "    </tr>\n",
       "    <tr>\n",
       "      <th>947</th>\n",
       "      <td>Please verify you are a human</td>\n",
       "      <td>NaN</td>\n",
       "      <td>NaN</td>\n",
       "      <td>NaN</td>\n",
       "      <td>NaN</td>\n",
       "      <td>NaN</td>\n",
       "      <td>NaN</td>\n",
       "      <td>NaN</td>\n",
       "    </tr>\n",
       "    <tr>\n",
       "      <th>948</th>\n",
       "      <td>Please verify you are a human</td>\n",
       "      <td>NaN</td>\n",
       "      <td>NaN</td>\n",
       "      <td>NaN</td>\n",
       "      <td>NaN</td>\n",
       "      <td>NaN</td>\n",
       "      <td>NaN</td>\n",
       "      <td>NaN</td>\n",
       "    </tr>\n",
       "    <tr>\n",
       "      <th>949</th>\n",
       "      <td>Please verify you are a human</td>\n",
       "      <td>NaN</td>\n",
       "      <td>NaN</td>\n",
       "      <td>NaN</td>\n",
       "      <td>NaN</td>\n",
       "      <td>NaN</td>\n",
       "      <td>NaN</td>\n",
       "      <td>NaN</td>\n",
       "    </tr>\n",
       "  </tbody>\n",
       "</table>\n",
       "<p>950 rows × 8 columns</p>\n",
       "</div>"
      ],
      "text/plain": [
       "                              Name Category Description Country  Aroma  \\\n",
       "0    Please verify you are a human      NaN         NaN     NaN    NaN   \n",
       "1    Please verify you are a human      NaN         NaN     NaN    NaN   \n",
       "2    Please verify you are a human      NaN         NaN     NaN    NaN   \n",
       "3    Please verify you are a human      NaN         NaN     NaN    NaN   \n",
       "4    Please verify you are a human      NaN         NaN     NaN    NaN   \n",
       "..                             ...      ...         ...     ...    ...   \n",
       "945  Please verify you are a human      NaN         NaN     NaN    NaN   \n",
       "946  Please verify you are a human      NaN         NaN     NaN    NaN   \n",
       "947  Please verify you are a human      NaN         NaN     NaN    NaN   \n",
       "948  Please verify you are a human      NaN         NaN     NaN    NaN   \n",
       "949  Please verify you are a human      NaN         NaN     NaN    NaN   \n",
       "\n",
       "    Alcohol_Vol Photo_Link Price  \n",
       "0           NaN        NaN   NaN  \n",
       "1           NaN        NaN   NaN  \n",
       "2           NaN        NaN   NaN  \n",
       "3           NaN        NaN   NaN  \n",
       "4           NaN        NaN   NaN  \n",
       "..          ...        ...   ...  \n",
       "945         NaN        NaN   NaN  \n",
       "946         NaN        NaN   NaN  \n",
       "947         NaN        NaN   NaN  \n",
       "948         NaN        NaN   NaN  \n",
       "949         NaN        NaN   NaN  \n",
       "\n",
       "[950 rows x 8 columns]"
      ]
     },
     "execution_count": 11,
     "metadata": {},
     "output_type": "execute_result"
    }
   ],
   "source": [
    "df"
   ]
  },
  {
   "cell_type": "code",
   "execution_count": 13,
   "id": "05cd6e4a",
   "metadata": {
    "ExecuteTime": {
     "end_time": "2021-05-29T21:45:40.921277Z",
     "start_time": "2021-05-29T21:45:40.781276Z"
    }
   },
   "outputs": [
    {
     "data": {
      "text/plain": [
       "<!DOCTYPE html>\n",
       " <html lang=\"en\"> <head> <meta charset=\"utf-8\"/> <meta content=\"width=device-width, initial-scale=1\" name=\"viewport\"/> <title>Total Wine &amp; More - Access to this page has been denied.</title> <link href=\"https://fonts.googleapis.com/css?family=Roboto&amp;display=swap\" rel=\"stylesheet\"/> <style> html, body { margin: 0; padding: 0; font-family: 'Roboto', sans-serif; color: #000; } a { color: #c5c5c5; text-decoration: none; } .container { align-items: center; display: flex; flex: 1; justify-content: space-between; flex-direction: column; height: 100%; } .container > div { width: 100%; display: flex; justify-content: center; } .container > div > div { display: flex; width: 80%; } .customer-logo-wrapper { padding: 0px; background-color: #811F08; } .customer-logo { padding: 16px 0px 16px 0px; } .page-title-wrapper { flex-grow: 2; } .page-title { flex-direction: column-reverse; } .content-wrapper { flex-grow: 5; } .content { flex-direction: column; } .page-footer-wrapper { align-items: center; flex-grow: 0.2; background-color: #000; color: #c5c5c5; font-size: 70%; } @media (min-width: 768px) { html, body { height: 100%; } } </style> <!-- Custom CSS --> </head> <body> <section class=\"container\"> <div class=\"customer-logo-wrapper\"> <div class=\"customer-logo\"> <svg height=\"50\" style=\"color: #fff !important; fill: #fff !important; text-align: bottom;\" viewbox=\"0 0 180 50\" width=\"180\"><use xlink:href=\"/global-static-resources/twm-sprite.svg#twm-logo\"></use></svg> </div> </div> <div class=\"page-title-wrapper\"> <div class=\"page-title\"> <h1>Please verify you are a human</h1> </div> </div> <div class=\"content-wrapper\"> <div class=\"content\"> <div id=\"px-captcha\"> </div> <p> Access to this page has been denied because we believe you are using automation tools to browse the website. </p> <p> This may happen as a result of the following: </p> <ul> <li> Javascript is disabled or blocked by an extension (ad blockers for example) </li> <li> Your browser does not support cookies </li> </ul> <p> Please make sure that Javascript and cookies are enabled on your browser and that you are not blocking them from loading. </p> <p> Reference ID: #3778a350-c0c7-11eb-b0a2-cb60f0edd365 </p> </div> </div> <div class=\"page-footer-wrapper\"> <div class=\"page-footer\"> <p> Powered by <a href=\"https://www.perimeterx.com/whywasiblocked\">PerimeterX</a> , Inc. </p> </div> </div> </section> <!-- Px --> <script> window._pxAppId = 'PXFF0j69T5'; window._pxJsClientSrc = '/FF0j69T5/init.js'; window._pxFirstPartyEnabled = true; window._pxVid = ''; window._pxUuid = '3778a350-c0c7-11eb-b0a2-cb60f0edd365'; window._pxHostUrl = '/FF0j69T5/xhr'; </script> <script> var s = document.createElement('script'); s.src = '/FF0j69T5/captcha/captcha.js?a=c&u=3778a350-c0c7-11eb-b0a2-cb60f0edd365&v=&m=0'; var p = document.getElementsByTagName('head')[0]; p.insertBefore(s, null); if (true ){s.onerror = function () {s = document.createElement('script'); var suffixIndex = '/FF0j69T5/captcha/captcha.js?a=c&u=3778a350-c0c7-11eb-b0a2-cb60f0edd365&v=&m=0'.indexOf('/captcha.js'); var temperedBlockScript = '/FF0j69T5/captcha/captcha.js?a=c&u=3778a350-c0c7-11eb-b0a2-cb60f0edd365&v=&m=0'.substring(suffixIndex); s.src = '//captcha.px-cdn.net/PXFF0j69T5' + temperedBlockScript; p.parentNode.insertBefore(s, p);};}</script> <!-- Custom Script --> </body> </html>"
      ]
     },
     "execution_count": 13,
     "metadata": {},
     "output_type": "execute_result"
    }
   ],
   "source": [
    "response = requests.get('https://www.totalwine.com/spirits/bourbon/small-batch-bourbon/winchester-kentucky-straight-bourbon-whiskey/p/219535050?s=1406&igrules=true', headers=header)\n",
    "\n",
    "data = response.text\n",
    "\n",
    "soup = BeautifulSoup(data, \"html.parser\")\n",
    "\n",
    "soup"
   ]
  },
  {
   "cell_type": "code",
   "execution_count": null,
   "id": "16015f0f",
   "metadata": {},
   "outputs": [],
   "source": []
  }
 ],
 "metadata": {
  "kernelspec": {
   "display_name": "Python [conda env:metis] *",
   "language": "python",
   "name": "conda-env-metis-py"
  },
  "language_info": {
   "codemirror_mode": {
    "name": "ipython",
    "version": 3
   },
   "file_extension": ".py",
   "mimetype": "text/x-python",
   "name": "python",
   "nbconvert_exporter": "python",
   "pygments_lexer": "ipython3",
   "version": "3.8.8"
  },
  "toc": {
   "base_numbering": 1,
   "nav_menu": {},
   "number_sections": true,
   "sideBar": true,
   "skip_h1_title": false,
   "title_cell": "Table of Contents",
   "title_sidebar": "Contents",
   "toc_cell": false,
   "toc_position": {
    "height": "calc(100% - 180px)",
    "left": "10px",
    "top": "150px",
    "width": "205.273px"
   },
   "toc_section_display": true,
   "toc_window_display": true
  },
  "varInspector": {
   "cols": {
    "lenName": 16,
    "lenType": 16,
    "lenVar": 40
   },
   "kernels_config": {
    "python": {
     "delete_cmd_postfix": "",
     "delete_cmd_prefix": "del ",
     "library": "var_list.py",
     "varRefreshCmd": "print(var_dic_list())"
    },
    "r": {
     "delete_cmd_postfix": ") ",
     "delete_cmd_prefix": "rm(",
     "library": "var_list.r",
     "varRefreshCmd": "cat(var_dic_list()) "
    }
   },
   "types_to_exclude": [
    "module",
    "function",
    "builtin_function_or_method",
    "instance",
    "_Feature"
   ],
   "window_display": false
  }
 },
 "nbformat": 4,
 "nbformat_minor": 5
}
