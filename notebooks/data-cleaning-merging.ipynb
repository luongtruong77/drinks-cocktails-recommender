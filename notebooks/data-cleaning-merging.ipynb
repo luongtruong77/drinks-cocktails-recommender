{
 "cells": [
  {
   "cell_type": "code",
   "execution_count": 5,
   "id": "bf771afb",
   "metadata": {
    "ExecuteTime": {
     "end_time": "2021-05-24T16:26:39.967366Z",
     "start_time": "2021-05-24T16:26:39.951439Z"
    }
   },
   "outputs": [
    {
     "name": "stdout",
     "output_type": "stream",
     "text": [
      "Libraries imported!\n"
     ]
    }
   ],
   "source": [
    "# Necessary imports\n",
    "import warnings\n",
    "warnings.filterwarnings(\"ignore\")\n",
    "import pandas as pd\n",
    "import numpy as np\n",
    "import glob\n",
    "import re\n",
    "from IPython.core.display import display, HTML\n",
    "from IPython.display import Image \n",
    "from IPython.core.display import HTML \n",
    "import nltk\n",
    "from nltk.tokenize import word_tokenize\n",
    "from nltk.stem.lancaster import LancasterStemmer\n",
    "from nltk.tokenize import RegexpTokenizer\n",
    "from nltk.stem import WordNetLemmatizer\n",
    "from time import time\n",
    "import matplotlib.pyplot as plt\n",
    "\n",
    "from sklearn.feature_extraction.text import TfidfVectorizer, ENGLISH_STOP_WORDS\n",
    "from sklearn.decomposition import NMF, TruncatedSVD, LatentDirichletAllocation\n",
    "\n",
    "print('Libraries imported!')"
   ]
  },
  {
   "cell_type": "code",
   "execution_count": 2,
   "id": "3be871ab",
   "metadata": {
    "ExecuteTime": {
     "end_time": "2021-05-20T17:42:38.986157Z",
     "start_time": "2021-05-20T17:42:38.972095Z"
    }
   },
   "outputs": [],
   "source": [
    "# path = r'C:/Metis_Bootcamp/Cocktails_recommendation_NLP/data/reviews_photos/' # data path\n",
    "# all_files = glob.glob(path + \"/*.csv\")\n",
    "\n",
    "# li = []\n",
    "\n",
    "# for filename in all_files:\n",
    "#     data = pd.read_csv(filename, index_col=0, header=0)\n",
    "#     li.append(data)\n",
    "\n",
    "# df = pd.concat(li, axis=0, ignore_index=True)\n",
    "\n",
    "# print(df.shape)\n",
    "\n",
    "# df.head()"
   ]
  },
  {
   "cell_type": "code",
   "execution_count": 3,
   "id": "4285b10b",
   "metadata": {
    "ExecuteTime": {
     "end_time": "2021-05-20T17:42:39.002118Z",
     "start_time": "2021-05-20T17:42:38.988152Z"
    }
   },
   "outputs": [],
   "source": [
    "#df.to_csv('reviews_photos.csv')"
   ]
  },
  {
   "cell_type": "code",
   "execution_count": 4,
   "id": "dd41d6d6",
   "metadata": {
    "ExecuteTime": {
     "end_time": "2021-05-20T17:42:39.173851Z",
     "start_time": "2021-05-20T17:42:39.004117Z"
    }
   },
   "outputs": [
    {
     "data": {
      "text/plain": [
       "(10522, 17)"
      ]
     },
     "execution_count": 4,
     "metadata": {},
     "output_type": "execute_result"
    }
   ],
   "source": [
    "df = pd.read_csv('../data/main_reviews.csv', index_col=0)\n",
    "df.shape"
   ]
  },
  {
   "cell_type": "code",
   "execution_count": 5,
   "id": "c81ec98c",
   "metadata": {
    "ExecuteTime": {
     "end_time": "2021-05-20T17:42:39.281289Z",
     "start_time": "2021-05-20T17:42:39.174849Z"
    }
   },
   "outputs": [
    {
     "data": {
      "text/plain": [
       "(10522, 5)"
      ]
     },
     "execution_count": 5,
     "metadata": {},
     "output_type": "execute_result"
    }
   ],
   "source": [
    "df_2 = pd.read_csv('../data/reviews_photos.csv', index_col=0)\n",
    "df_2.shape"
   ]
  },
  {
   "cell_type": "markdown",
   "id": "f079ab55",
   "metadata": {},
   "source": [
    "### df_1"
   ]
  },
  {
   "cell_type": "code",
   "execution_count": 6,
   "id": "2593d5ca",
   "metadata": {
    "ExecuteTime": {
     "end_time": "2021-05-20T17:42:39.296234Z",
     "start_time": "2021-05-20T17:42:39.282237Z"
    }
   },
   "outputs": [],
   "source": [
    "def numerical_extraction(df):\n",
    "    \n",
    "    #Take only numbers for the points\n",
    "    for _ in range(len(df)):\n",
    "        try:\n",
    "            df.Points[_] = df.Points[_].split(\" \")[0]\n",
    "        except:\n",
    "            pass\n",
    "\n",
    "    #Convert it to int64\n",
    "    try:\n",
    "        df.Points = pd.to_numeric(df.Points, errors='coerce').fillna(0).astype(np.int64)\n",
    "    except:\n",
    "        pass\n",
    "\n",
    "\n",
    "    #Replace 0 by nan since nan does not mean 0 point\n",
    "    for _ in range(len(df)):\n",
    "        if df.Points[_] == 0:\n",
    "            df.Points[_] = np.nan\n",
    "        else:\n",
    "            pass\n",
    "\n",
    "    #Do the same thing for Price\n",
    "    for _ in range(len(df)):\n",
    "        try:\n",
    "            df.Price[_] = df.Price[_].split(\"$\")[1]\n",
    "        except:\n",
    "            pass\n",
    "\n",
    "    try:\n",
    "        df.Price = pd.to_numeric(df.Price, errors='coerce').fillna(0).astype(np.int64)\n",
    "    except:\n",
    "        pass\n",
    "\n",
    "\n",
    "    for _ in range(len(df)):\n",
    "        if df.Price[_] == 0:\n",
    "            df.Price[_] = np.nan\n",
    "        else:\n",
    "            pass\n",
    "    \n",
    "    return df"
   ]
  },
  {
   "cell_type": "code",
   "execution_count": 7,
   "id": "8578efc2",
   "metadata": {
    "ExecuteTime": {
     "end_time": "2021-05-20T17:42:44.230276Z",
     "start_time": "2021-05-20T17:42:39.297128Z"
    }
   },
   "outputs": [
    {
     "data": {
      "text/html": [
       "<div>\n",
       "<style scoped>\n",
       "    .dataframe tbody tr th:only-of-type {\n",
       "        vertical-align: middle;\n",
       "    }\n",
       "\n",
       "    .dataframe tbody tr th {\n",
       "        vertical-align: top;\n",
       "    }\n",
       "\n",
       "    .dataframe thead th {\n",
       "        text-align: right;\n",
       "    }\n",
       "</style>\n",
       "<table border=\"1\" class=\"dataframe\">\n",
       "  <thead>\n",
       "    <tr style=\"text-align: right;\">\n",
       "      <th></th>\n",
       "      <th>Name</th>\n",
       "      <th>Description</th>\n",
       "      <th>Category</th>\n",
       "      <th>Country</th>\n",
       "      <th>Alcohol_Vol</th>\n",
       "      <th>Review</th>\n",
       "      <th>Style</th>\n",
       "      <th>Aroma</th>\n",
       "      <th>Flavor</th>\n",
       "      <th>Sweetness</th>\n",
       "      <th>Bitterness</th>\n",
       "      <th>Enjoy</th>\n",
       "      <th>Pairing</th>\n",
       "      <th>Cocktails</th>\n",
       "      <th>Bottom_Line</th>\n",
       "      <th>Points</th>\n",
       "      <th>Price</th>\n",
       "    </tr>\n",
       "  </thead>\n",
       "  <tbody>\n",
       "    <tr>\n",
       "      <th>0</th>\n",
       "      <td>Mezcal de Leyendas Verde San Luis Potosi Mezca...</td>\n",
       "      <td>Mezcal de Leyendas Review Verde San Luis Potos...</td>\n",
       "      <td>Blanco Mezcal</td>\n",
       "      <td>Mexico</td>\n",
       "      <td>45%</td>\n",
       "      <td>Clear color. Aromas and flavors of cucumber, m...</td>\n",
       "      <td>Fruity, Funky, Rich, Spicy, Smoky, Herbal &amp; Co...</td>\n",
       "      <td>cucumber-melon, lime spritz, caramelized orang...</td>\n",
       "      <td>Same as aromas with notes of pickled ginger, s...</td>\n",
       "      <td>NaN</td>\n",
       "      <td>NaN</td>\n",
       "      <td>in cocktails, on the rocks and neat</td>\n",
       "      <td>NaN</td>\n",
       "      <td>Paloma, Sangrita, Tommy's Margarita</td>\n",
       "      <td>A sweet, savory, salty, juicy display of compl...</td>\n",
       "      <td>97.0</td>\n",
       "      <td>49.0</td>\n",
       "    </tr>\n",
       "    <tr>\n",
       "      <th>1</th>\n",
       "      <td>El Tesoro Paradiso Tequila Extra Anejo Mexico ...</td>\n",
       "      <td>El Tesoro Review Paradiso Tequila Extra Anejo ...</td>\n",
       "      <td>Extra Añejo Tequila</td>\n",
       "      <td>Mexico</td>\n",
       "      <td>40%</td>\n",
       "      <td>Gold color. Inviting aromas of roasted nuts, c...</td>\n",
       "      <td>Fruity, Complex, Candied, Herbal, Rich &amp; Spicy</td>\n",
       "      <td>roasted nuts, candied cherries, vanilla bean, ...</td>\n",
       "      <td>ripe melons, toffee, and white pepper</td>\n",
       "      <td>NaN</td>\n",
       "      <td>NaN</td>\n",
       "      <td>in cocktails, neat, on the rocks and with cigars</td>\n",
       "      <td>NaN</td>\n",
       "      <td>Paloma, Sangrita, Tommy's Margarita</td>\n",
       "      <td>A tantalizing melange of complex flavors that ...</td>\n",
       "      <td>97.0</td>\n",
       "      <td>180.0</td>\n",
       "    </tr>\n",
       "    <tr>\n",
       "      <th>2</th>\n",
       "      <td>Peloton de la Muerte Vegan Pechuga Mezcal Mexi...</td>\n",
       "      <td>Peloton de la Muerte Review Vegan Pechuga Mezc...</td>\n",
       "      <td>Flavored Mezcal</td>\n",
       "      <td>Mexico</td>\n",
       "      <td>45.10%</td>\n",
       "      <td>Silvery straw color. Citrusy aromas and flavor...</td>\n",
       "      <td>Complex, Fruity &amp; Herbal</td>\n",
       "      <td>pickled melon and pineapple, candied jalapeño,...</td>\n",
       "      <td>Same as aromas with suggestions of curry</td>\n",
       "      <td>NaN</td>\n",
       "      <td>NaN</td>\n",
       "      <td>in cocktails, neat and on the rocks</td>\n",
       "      <td>NaN</td>\n",
       "      <td>Paloma, Sangrita, Tommy's Margarita</td>\n",
       "      <td>A joyous, extroverted Mezcal with juicy fruit ...</td>\n",
       "      <td>96.0</td>\n",
       "      <td>44.0</td>\n",
       "    </tr>\n",
       "    <tr>\n",
       "      <th>3</th>\n",
       "      <td>El Tesoro Anejo Tequila Mexico Spirits Review ...</td>\n",
       "      <td>El Tesoro Review Anejo Tequila Mexico Mexican ...</td>\n",
       "      <td>Añejo Tequila</td>\n",
       "      <td>Mexico</td>\n",
       "      <td>40%</td>\n",
       "      <td>Straw color. Inviting aromas and flavors of ho...</td>\n",
       "      <td>Fruity, Spicy &amp; Herbal</td>\n",
       "      <td>honey-drizzled grapefruit, sweet apple compote...</td>\n",
       "      <td>Same as aromas with notes of pink peppercorns,...</td>\n",
       "      <td>NaN</td>\n",
       "      <td>NaN</td>\n",
       "      <td>in cocktails, neat and on the rocks</td>\n",
       "      <td>NaN</td>\n",
       "      <td>Paloma, Sangrita, Tommy's Margarita</td>\n",
       "      <td>A stylish, peppery tequila with an authentic v...</td>\n",
       "      <td>96.0</td>\n",
       "      <td>85.0</td>\n",
       "    </tr>\n",
       "    <tr>\n",
       "      <th>4</th>\n",
       "      <td>1800 Milenio Extra Anejo Tequila Mexico Spirit...</td>\n",
       "      <td>1800 Review Milenio Extra Anejo Tequila Mexico...</td>\n",
       "      <td>Extra Añejo Tequila</td>\n",
       "      <td>Mexico</td>\n",
       "      <td>40%</td>\n",
       "      <td>Amber color. Aromas of toffee coated popcorn, ...</td>\n",
       "      <td>Fruity, Rich &amp; Spicy</td>\n",
       "      <td>toffee coated popcorn, peanuts, warm madeira c...</td>\n",
       "      <td>allspice, mint tea, candied ginger, honey, and...</td>\n",
       "      <td>NaN</td>\n",
       "      <td>NaN</td>\n",
       "      <td>neat and on the rocks</td>\n",
       "      <td>NaN</td>\n",
       "      <td>NaN</td>\n",
       "      <td>A richly flavored Extra Añejo Tequila with an ...</td>\n",
       "      <td>96.0</td>\n",
       "      <td>250.0</td>\n",
       "    </tr>\n",
       "    <tr>\n",
       "      <th>...</th>\n",
       "      <td>...</td>\n",
       "      <td>...</td>\n",
       "      <td>...</td>\n",
       "      <td>...</td>\n",
       "      <td>...</td>\n",
       "      <td>...</td>\n",
       "      <td>...</td>\n",
       "      <td>...</td>\n",
       "      <td>...</td>\n",
       "      <td>...</td>\n",
       "      <td>...</td>\n",
       "      <td>...</td>\n",
       "      <td>...</td>\n",
       "      <td>...</td>\n",
       "      <td>...</td>\n",
       "      <td>...</td>\n",
       "      <td>...</td>\n",
       "    </tr>\n",
       "    <tr>\n",
       "      <th>10517</th>\n",
       "      <td>Angry Orchard Super Natural Cider USA Cider Re...</td>\n",
       "      <td>Angry Orchard Review Super Natural Cider MA Ma...</td>\n",
       "      <td>Specialty Cider</td>\n",
       "      <td>USA</td>\n",
       "      <td>7.60%</td>\n",
       "      <td>Straw green color. Aromas of apple cider vineg...</td>\n",
       "      <td>Funky</td>\n",
       "      <td>apple cider vinegar, new sneakers, and mango pits</td>\n",
       "      <td>wild lemon and grapefruit pith</td>\n",
       "      <td>Dry</td>\n",
       "      <td>NaN</td>\n",
       "      <td>with food</td>\n",
       "      <td>Chicken Fajitas, Chicken Kebobs, BBQ Chicken</td>\n",
       "      <td>NaN</td>\n",
       "      <td>A bone dry, adventurous cider for kombucha lov...</td>\n",
       "      <td>NaN</td>\n",
       "      <td>NaN</td>\n",
       "    </tr>\n",
       "    <tr>\n",
       "      <th>10518</th>\n",
       "      <td>Avid Cider Co Apricot Cider USA Cider Review |...</td>\n",
       "      <td>Avid Cider Review Apricot Cider OR Oregon USA ...</td>\n",
       "      <td>Fruit Cider</td>\n",
       "      <td>USA</td>\n",
       "      <td>6.20%</td>\n",
       "      <td>Light gold color. Aromas of orange creamsicle,...</td>\n",
       "      <td>Sweet &amp; Fruity &amp; Funky</td>\n",
       "      <td>orange creamsicle, apple juice, melons in crea...</td>\n",
       "      <td>yogurt with apple cereal</td>\n",
       "      <td>Fruity</td>\n",
       "      <td>NaN</td>\n",
       "      <td>Enjoy on its own</td>\n",
       "      <td>Pork Chops, Cobb Salad, Chicken Caesar Salad</td>\n",
       "      <td>NaN</td>\n",
       "      <td>A sweet, subtle apple-y refresher.</td>\n",
       "      <td>NaN</td>\n",
       "      <td>NaN</td>\n",
       "    </tr>\n",
       "    <tr>\n",
       "      <th>10519</th>\n",
       "      <td>Magnotta Craft Ciders Apple Flavored Cider Can...</td>\n",
       "      <td>Magnotta Craft Ciders Review Apple Flavored Ci...</td>\n",
       "      <td>Common Cider</td>\n",
       "      <td>Canada</td>\n",
       "      <td>5.60%</td>\n",
       "      <td>Silvery straw color. Aromas of pinot grigio, p...</td>\n",
       "      <td>Crisp &amp; Light &amp; Sweet &amp; Fruity</td>\n",
       "      <td>pinot grigio, pear slices, nougat, and brown rice</td>\n",
       "      <td>fondant and diced apples in powdered sugar</td>\n",
       "      <td>Very Sweet</td>\n",
       "      <td>NaN</td>\n",
       "      <td>on its own and with food</td>\n",
       "      <td>Buffalo Chicken Sandwich, Sweet &amp; Sour Pork, G...</td>\n",
       "      <td>NaN</td>\n",
       "      <td>Pear notes shine in this cider that is sure to...</td>\n",
       "      <td>NaN</td>\n",
       "      <td>NaN</td>\n",
       "    </tr>\n",
       "    <tr>\n",
       "      <th>10520</th>\n",
       "      <td>Topa Brut Artisanal Cidre France Cider Review ...</td>\n",
       "      <td>Topa Review Brut Artisanal Cidre France French...</td>\n",
       "      <td>French Cider</td>\n",
       "      <td>France</td>\n",
       "      <td>5.50%</td>\n",
       "      <td>Gold color. Aromas and flavors of frosted cere...</td>\n",
       "      <td>Crisp &amp; Light &amp; Funky</td>\n",
       "      <td>frosted cereal, raisins in a cardboard box, si...</td>\n",
       "      <td>Same as aromas with notes of apple soufflé</td>\n",
       "      <td>Dryish</td>\n",
       "      <td>NaN</td>\n",
       "      <td>with food</td>\n",
       "      <td>Cheeseburger, Veggie Frittata, Baked Ham</td>\n",
       "      <td>NaN</td>\n",
       "      <td>Attractive tannins make this a solid choice fo...</td>\n",
       "      <td>NaN</td>\n",
       "      <td>NaN</td>\n",
       "    </tr>\n",
       "    <tr>\n",
       "      <th>10521</th>\n",
       "      <td>Angry Orchard Strawman Farmhouse Hard Cider US...</td>\n",
       "      <td>Angry Orchard Review Strawman Farmhouse Hard C...</td>\n",
       "      <td>French Cider</td>\n",
       "      <td>USA</td>\n",
       "      <td>10%</td>\n",
       "      <td>Hazy bronze color. Aromas of green apple candy...</td>\n",
       "      <td>Funky</td>\n",
       "      <td>green apple candy, butterscotch, permanent mar...</td>\n",
       "      <td>tingling, relaxed</td>\n",
       "      <td>Bitter</td>\n",
       "      <td>NaN</td>\n",
       "      <td>Enjoy on its own</td>\n",
       "      <td>Pork Chops, Veggie Frittata, Baked Ham</td>\n",
       "      <td>NaN</td>\n",
       "      <td>A rustic cider with issues.</td>\n",
       "      <td>NaN</td>\n",
       "      <td>NaN</td>\n",
       "    </tr>\n",
       "  </tbody>\n",
       "</table>\n",
       "<p>10522 rows × 17 columns</p>\n",
       "</div>"
      ],
      "text/plain": [
       "                                                    Name  \\\n",
       "0      Mezcal de Leyendas Verde San Luis Potosi Mezca...   \n",
       "1      El Tesoro Paradiso Tequila Extra Anejo Mexico ...   \n",
       "2      Peloton de la Muerte Vegan Pechuga Mezcal Mexi...   \n",
       "3      El Tesoro Anejo Tequila Mexico Spirits Review ...   \n",
       "4      1800 Milenio Extra Anejo Tequila Mexico Spirit...   \n",
       "...                                                  ...   \n",
       "10517  Angry Orchard Super Natural Cider USA Cider Re...   \n",
       "10518  Avid Cider Co Apricot Cider USA Cider Review |...   \n",
       "10519  Magnotta Craft Ciders Apple Flavored Cider Can...   \n",
       "10520  Topa Brut Artisanal Cidre France Cider Review ...   \n",
       "10521  Angry Orchard Strawman Farmhouse Hard Cider US...   \n",
       "\n",
       "                                             Description             Category  \\\n",
       "0      Mezcal de Leyendas Review Verde San Luis Potos...        Blanco Mezcal   \n",
       "1      El Tesoro Review Paradiso Tequila Extra Anejo ...  Extra Añejo Tequila   \n",
       "2      Peloton de la Muerte Review Vegan Pechuga Mezc...      Flavored Mezcal   \n",
       "3      El Tesoro Review Anejo Tequila Mexico Mexican ...        Añejo Tequila   \n",
       "4      1800 Review Milenio Extra Anejo Tequila Mexico...  Extra Añejo Tequila   \n",
       "...                                                  ...                  ...   \n",
       "10517  Angry Orchard Review Super Natural Cider MA Ma...      Specialty Cider   \n",
       "10518  Avid Cider Review Apricot Cider OR Oregon USA ...          Fruit Cider   \n",
       "10519  Magnotta Craft Ciders Review Apple Flavored Ci...         Common Cider   \n",
       "10520  Topa Review Brut Artisanal Cidre France French...         French Cider   \n",
       "10521  Angry Orchard Review Strawman Farmhouse Hard C...         French Cider   \n",
       "\n",
       "      Country Alcohol_Vol                                             Review  \\\n",
       "0      Mexico         45%  Clear color. Aromas and flavors of cucumber, m...   \n",
       "1      Mexico         40%  Gold color. Inviting aromas of roasted nuts, c...   \n",
       "2      Mexico      45.10%  Silvery straw color. Citrusy aromas and flavor...   \n",
       "3      Mexico         40%  Straw color. Inviting aromas and flavors of ho...   \n",
       "4      Mexico         40%  Amber color. Aromas of toffee coated popcorn, ...   \n",
       "...       ...         ...                                                ...   \n",
       "10517     USA       7.60%  Straw green color. Aromas of apple cider vineg...   \n",
       "10518     USA       6.20%  Light gold color. Aromas of orange creamsicle,...   \n",
       "10519  Canada       5.60%  Silvery straw color. Aromas of pinot grigio, p...   \n",
       "10520  France       5.50%  Gold color. Aromas and flavors of frosted cere...   \n",
       "10521     USA         10%  Hazy bronze color. Aromas of green apple candy...   \n",
       "\n",
       "                                                   Style  \\\n",
       "0      Fruity, Funky, Rich, Spicy, Smoky, Herbal & Co...   \n",
       "1         Fruity, Complex, Candied, Herbal, Rich & Spicy   \n",
       "2                               Complex, Fruity & Herbal   \n",
       "3                                 Fruity, Spicy & Herbal   \n",
       "4                                   Fruity, Rich & Spicy   \n",
       "...                                                  ...   \n",
       "10517                                              Funky   \n",
       "10518                             Sweet & Fruity & Funky   \n",
       "10519                     Crisp & Light & Sweet & Fruity   \n",
       "10520                              Crisp & Light & Funky   \n",
       "10521                                              Funky   \n",
       "\n",
       "                                                   Aroma  \\\n",
       "0      cucumber-melon, lime spritz, caramelized orang...   \n",
       "1      roasted nuts, candied cherries, vanilla bean, ...   \n",
       "2      pickled melon and pineapple, candied jalapeño,...   \n",
       "3      honey-drizzled grapefruit, sweet apple compote...   \n",
       "4      toffee coated popcorn, peanuts, warm madeira c...   \n",
       "...                                                  ...   \n",
       "10517  apple cider vinegar, new sneakers, and mango pits   \n",
       "10518  orange creamsicle, apple juice, melons in crea...   \n",
       "10519  pinot grigio, pear slices, nougat, and brown rice   \n",
       "10520  frosted cereal, raisins in a cardboard box, si...   \n",
       "10521  green apple candy, butterscotch, permanent mar...   \n",
       "\n",
       "                                                  Flavor   Sweetness  \\\n",
       "0      Same as aromas with notes of pickled ginger, s...         NaN   \n",
       "1                  ripe melons, toffee, and white pepper         NaN   \n",
       "2               Same as aromas with suggestions of curry         NaN   \n",
       "3      Same as aromas with notes of pink peppercorns,...         NaN   \n",
       "4      allspice, mint tea, candied ginger, honey, and...         NaN   \n",
       "...                                                  ...         ...   \n",
       "10517                     wild lemon and grapefruit pith         Dry   \n",
       "10518                           yogurt with apple cereal      Fruity   \n",
       "10519         fondant and diced apples in powdered sugar  Very Sweet   \n",
       "10520         Same as aromas with notes of apple soufflé      Dryish   \n",
       "10521                                  tingling, relaxed      Bitter   \n",
       "\n",
       "      Bitterness                                             Enjoy  \\\n",
       "0            NaN               in cocktails, on the rocks and neat   \n",
       "1            NaN  in cocktails, neat, on the rocks and with cigars   \n",
       "2            NaN               in cocktails, neat and on the rocks   \n",
       "3            NaN               in cocktails, neat and on the rocks   \n",
       "4            NaN                             neat and on the rocks   \n",
       "...          ...                                               ...   \n",
       "10517        NaN                                         with food   \n",
       "10518        NaN                                  Enjoy on its own   \n",
       "10519        NaN                          on its own and with food   \n",
       "10520        NaN                                         with food   \n",
       "10521        NaN                                  Enjoy on its own   \n",
       "\n",
       "                                                 Pairing  \\\n",
       "0                                                    NaN   \n",
       "1                                                    NaN   \n",
       "2                                                    NaN   \n",
       "3                                                    NaN   \n",
       "4                                                    NaN   \n",
       "...                                                  ...   \n",
       "10517       Chicken Fajitas, Chicken Kebobs, BBQ Chicken   \n",
       "10518       Pork Chops, Cobb Salad, Chicken Caesar Salad   \n",
       "10519  Buffalo Chicken Sandwich, Sweet & Sour Pork, G...   \n",
       "10520           Cheeseburger, Veggie Frittata, Baked Ham   \n",
       "10521             Pork Chops, Veggie Frittata, Baked Ham   \n",
       "\n",
       "                                 Cocktails  \\\n",
       "0      Paloma, Sangrita, Tommy's Margarita   \n",
       "1      Paloma, Sangrita, Tommy's Margarita   \n",
       "2      Paloma, Sangrita, Tommy's Margarita   \n",
       "3      Paloma, Sangrita, Tommy's Margarita   \n",
       "4                                      NaN   \n",
       "...                                    ...   \n",
       "10517                                  NaN   \n",
       "10518                                  NaN   \n",
       "10519                                  NaN   \n",
       "10520                                  NaN   \n",
       "10521                                  NaN   \n",
       "\n",
       "                                             Bottom_Line  Points  Price  \n",
       "0      A sweet, savory, salty, juicy display of compl...    97.0   49.0  \n",
       "1      A tantalizing melange of complex flavors that ...    97.0  180.0  \n",
       "2      A joyous, extroverted Mezcal with juicy fruit ...    96.0   44.0  \n",
       "3      A stylish, peppery tequila with an authentic v...    96.0   85.0  \n",
       "4      A richly flavored Extra Añejo Tequila with an ...    96.0  250.0  \n",
       "...                                                  ...     ...    ...  \n",
       "10517  A bone dry, adventurous cider for kombucha lov...     NaN    NaN  \n",
       "10518                 A sweet, subtle apple-y refresher.     NaN    NaN  \n",
       "10519  Pear notes shine in this cider that is sure to...     NaN    NaN  \n",
       "10520  Attractive tannins make this a solid choice fo...     NaN    NaN  \n",
       "10521                        A rustic cider with issues.     NaN    NaN  \n",
       "\n",
       "[10522 rows x 17 columns]"
      ]
     },
     "execution_count": 7,
     "metadata": {},
     "output_type": "execute_result"
    }
   ],
   "source": [
    "numerical_extraction(df)"
   ]
  },
  {
   "cell_type": "code",
   "execution_count": 8,
   "id": "b922a0a6",
   "metadata": {
    "ExecuteTime": {
     "end_time": "2021-05-20T17:42:44.261156Z",
     "start_time": "2021-05-20T17:42:44.232240Z"
    }
   },
   "outputs": [
    {
     "name": "stdout",
     "output_type": "stream",
     "text": [
      "<class 'pandas.core.frame.DataFrame'>\n",
      "Int64Index: 10522 entries, 0 to 10521\n",
      "Data columns (total 17 columns):\n",
      " #   Column       Non-Null Count  Dtype  \n",
      "---  ------       --------------  -----  \n",
      " 0   Name         10517 non-null  object \n",
      " 1   Description  10517 non-null  object \n",
      " 2   Category     9467 non-null   object \n",
      " 3   Country      9461 non-null   object \n",
      " 4   Alcohol_Vol  9467 non-null   object \n",
      " 5   Review       9467 non-null   object \n",
      " 6   Style        9406 non-null   object \n",
      " 7   Aroma        9429 non-null   object \n",
      " 8   Flavor       9427 non-null   object \n",
      " 9   Sweetness    6927 non-null   object \n",
      " 10  Bitterness   473 non-null    object \n",
      " 11  Enjoy        9429 non-null   object \n",
      " 12  Pairing      7171 non-null   object \n",
      " 13  Cocktails    1643 non-null   object \n",
      " 14  Bottom_Line  9467 non-null   object \n",
      " 15  Points       7949 non-null   float64\n",
      " 16  Price        8577 non-null   float64\n",
      "dtypes: float64(2), object(15)\n",
      "memory usage: 1.7+ MB\n"
     ]
    }
   ],
   "source": [
    "df.info()"
   ]
  },
  {
   "cell_type": "code",
   "execution_count": 9,
   "id": "b9c31ec7",
   "metadata": {
    "ExecuteTime": {
     "end_time": "2021-05-20T17:42:50.082487Z",
     "start_time": "2021-05-20T17:42:44.263149Z"
    }
   },
   "outputs": [
    {
     "name": "stdout",
     "output_type": "stream",
     "text": [
      "Low       3901\n",
      "Medium    3839\n",
      "High       209\n",
      "Name: Points_Ranking, dtype: int64\n",
      "Cheap        4481\n",
      "Medium       3653\n",
      "Expensive     443\n",
      "Name: Price_Range, dtype: int64\n"
     ]
    }
   ],
   "source": [
    "df['Points_Ranking'] = np.nan\n",
    "\n",
    "for i in range(len(df)):\n",
    "    \n",
    "    if df.Points[i] > 94:\n",
    "        df['Points_Ranking'][i] = 'High'\n",
    "    \n",
    "    elif df.Points[i] >= 89:\n",
    "        df['Points_Ranking'][i] = 'Medium'\n",
    "        \n",
    "    elif df.Points[i] < 89:\n",
    "        df['Points_Ranking'][i] = 'Low'\n",
    "        \n",
    "    else:\n",
    "        pass\n",
    "\n",
    "print(df.Points_Ranking.value_counts())\n",
    "\n",
    "df['Price_Range'] = np.nan\n",
    "\n",
    "for i in range(len(df)):\n",
    "    \n",
    "    if df.Price[i] > 70:\n",
    "        df['Price_Range'][i] = 'Expensive'\n",
    "    \n",
    "    elif df.Price[i] >= 20:\n",
    "        df['Price_Range'][i] = 'Medium'\n",
    "        \n",
    "    elif df.Price[i] < 20:\n",
    "        df['Price_Range'][i] = 'Cheap'\n",
    "        \n",
    "    else:\n",
    "        pass\n",
    "print(df.Price_Range.value_counts())"
   ]
  },
  {
   "cell_type": "code",
   "execution_count": 11,
   "id": "df00df76",
   "metadata": {
    "ExecuteTime": {
     "end_time": "2021-05-20T17:43:21.277000Z",
     "start_time": "2021-05-20T17:43:17.806318Z"
    }
   },
   "outputs": [
    {
     "data": {
      "text/plain": [
       "(10522, 19)"
      ]
     },
     "execution_count": 11,
     "metadata": {},
     "output_type": "execute_result"
    }
   ],
   "source": [
    "for i in range(len(df)):\n",
    "    \n",
    "    try:\n",
    "        df['Name'][i] = df['Name'][i].split(' Review')[0]\n",
    "    except:\n",
    "        pass\n",
    "    \n",
    "df.shape"
   ]
  },
  {
   "cell_type": "code",
   "execution_count": 12,
   "id": "2a04cf96",
   "metadata": {
    "ExecuteTime": {
     "end_time": "2021-05-20T17:43:24.332571Z",
     "start_time": "2021-05-20T17:43:24.292644Z"
    }
   },
   "outputs": [
    {
     "name": "stdout",
     "output_type": "stream",
     "text": [
      "<class 'pandas.core.frame.DataFrame'>\n",
      "Int64Index: 8319 entries, 0 to 10521\n",
      "Data columns (total 19 columns):\n",
      " #   Column          Non-Null Count  Dtype  \n",
      "---  ------          --------------  -----  \n",
      " 0   Name            8319 non-null   object \n",
      " 1   Description     8319 non-null   object \n",
      " 2   Category        7322 non-null   object \n",
      " 3   Country         7317 non-null   object \n",
      " 4   Alcohol_Vol     7322 non-null   object \n",
      " 5   Review          7322 non-null   object \n",
      " 6   Style           7286 non-null   object \n",
      " 7   Aroma           7303 non-null   object \n",
      " 8   Flavor          7301 non-null   object \n",
      " 9   Sweetness       5225 non-null   object \n",
      " 10  Bitterness      438 non-null    object \n",
      " 11  Enjoy           7303 non-null   object \n",
      " 12  Pairing         5509 non-null   object \n",
      " 13  Cocktails       1315 non-null   object \n",
      " 14  Bottom_Line     7322 non-null   object \n",
      " 15  Points          6224 non-null   float64\n",
      " 16  Price           6554 non-null   float64\n",
      " 17  Points_Ranking  6224 non-null   object \n",
      " 18  Price_Range     6554 non-null   object \n",
      "dtypes: float64(2), object(17)\n",
      "memory usage: 1.3+ MB\n"
     ]
    }
   ],
   "source": [
    "df.drop_duplicates(subset='Name', keep=\"last\", inplace=True)\n",
    "\n",
    "df = df[df['Name'].notna()]\n",
    "\n",
    "df.info()"
   ]
  },
  {
   "cell_type": "code",
   "execution_count": null,
   "id": "716ce7a8",
   "metadata": {},
   "outputs": [],
   "source": []
  },
  {
   "cell_type": "code",
   "execution_count": null,
   "id": "b613f4f8",
   "metadata": {},
   "outputs": [],
   "source": []
  },
  {
   "cell_type": "markdown",
   "id": "092cc96b",
   "metadata": {},
   "source": [
    "### df_2"
   ]
  },
  {
   "cell_type": "code",
   "execution_count": 41,
   "id": "136fa5e9",
   "metadata": {
    "ExecuteTime": {
     "end_time": "2021-05-20T18:58:23.848908Z",
     "start_time": "2021-05-20T18:58:23.752150Z"
    }
   },
   "outputs": [
    {
     "data": {
      "text/plain": [
       "(10522, 5)"
      ]
     },
     "execution_count": 41,
     "metadata": {},
     "output_type": "execute_result"
    }
   ],
   "source": [
    "df_2 = pd.read_csv('../data/reviews_photos.csv', index_col=0)\n",
    "df_2.shape"
   ]
  },
  {
   "cell_type": "code",
   "execution_count": 42,
   "id": "2611e1d1",
   "metadata": {
    "ExecuteTime": {
     "end_time": "2021-05-20T18:58:32.180925Z",
     "start_time": "2021-05-20T18:58:31.360179Z"
    }
   },
   "outputs": [
    {
     "data": {
      "text/plain": [
       "(10522, 5)"
      ]
     },
     "execution_count": 42,
     "metadata": {},
     "output_type": "execute_result"
    }
   ],
   "source": [
    "for i in range(len(df_2)):\n",
    "    \n",
    "    try:\n",
    "        df_2['Name'][i] = df_2['Name'][i].split(' Review')[0]\n",
    "    except:\n",
    "        pass\n",
    "    \n",
    "df_2.shape"
   ]
  },
  {
   "cell_type": "code",
   "execution_count": 50,
   "id": "f1330e14",
   "metadata": {
    "ExecuteTime": {
     "end_time": "2021-05-20T19:01:56.539215Z",
     "start_time": "2021-05-20T19:01:53.370972Z"
    }
   },
   "outputs": [
    {
     "data": {
      "text/html": [
       "<div>\n",
       "<style scoped>\n",
       "    .dataframe tbody tr th:only-of-type {\n",
       "        vertical-align: middle;\n",
       "    }\n",
       "\n",
       "    .dataframe tbody tr th {\n",
       "        vertical-align: top;\n",
       "    }\n",
       "\n",
       "    .dataframe thead th {\n",
       "        text-align: right;\n",
       "    }\n",
       "</style>\n",
       "<table border=\"1\" class=\"dataframe\">\n",
       "  <thead>\n",
       "    <tr style=\"text-align: right;\">\n",
       "      <th></th>\n",
       "      <th>Name</th>\n",
       "      <th>Extend_Review</th>\n",
       "      <th>Photo_Link</th>\n",
       "      <th>Medal</th>\n",
       "      <th>Bands</th>\n",
       "      <th>Medal_Rank</th>\n",
       "    </tr>\n",
       "  </thead>\n",
       "  <tbody>\n",
       "    <tr>\n",
       "      <th>0</th>\n",
       "      <td>Mezcal de Leyendas Verde San Luis Potosi Mezca...</td>\n",
       "      <td>Blanco mezcal is a spirit from Mexico that can...</td>\n",
       "      <td>https://www.tastings.com/images-BTI/Glasses/Sp...</td>\n",
       "      <td>Platinum Medal</td>\n",
       "      <td>Superlative</td>\n",
       "      <td>5.0</td>\n",
       "    </tr>\n",
       "    <tr>\n",
       "      <th>1</th>\n",
       "      <td>El Tesoro Paradiso Tequila Extra Anejo Mexico ...</td>\n",
       "      <td>An extra añejo tequila must be aged for at lea...</td>\n",
       "      <td>https://www.tastings.com/images-BTI/Glasses/Sp...</td>\n",
       "      <td>Platinum Medal</td>\n",
       "      <td>Superlative</td>\n",
       "      <td>5.0</td>\n",
       "    </tr>\n",
       "    <tr>\n",
       "      <th>2</th>\n",
       "      <td>Peloton de la Muerte Vegan Pechuga Mezcal Mexi...</td>\n",
       "      <td>A Flavored Mezcal is an agave-based distillate...</td>\n",
       "      <td>https://www.tastings.com/images-BTI/Glasses/Sp...</td>\n",
       "      <td>Platinum Medal</td>\n",
       "      <td>Superlative</td>\n",
       "      <td>5.0</td>\n",
       "    </tr>\n",
       "    <tr>\n",
       "      <th>3</th>\n",
       "      <td>El Tesoro Anejo Tequila Mexico Spirits</td>\n",
       "      <td>Añejo (\"old\") Tequila is aged in wooden barrel...</td>\n",
       "      <td>https://www.tastings.com/images-BTI/Glasses/Sp...</td>\n",
       "      <td>Platinum Medal</td>\n",
       "      <td>Superlative</td>\n",
       "      <td>5.0</td>\n",
       "    </tr>\n",
       "    <tr>\n",
       "      <th>4</th>\n",
       "      <td>1800 Milenio Extra Anejo Tequila Mexico Spirits</td>\n",
       "      <td>An extra añejo tequila must be aged for at lea...</td>\n",
       "      <td>https://www.tastings.com/images-BTI/Glasses/Sp...</td>\n",
       "      <td>Platinum Medal</td>\n",
       "      <td>Superlative</td>\n",
       "      <td>5.0</td>\n",
       "    </tr>\n",
       "  </tbody>\n",
       "</table>\n",
       "</div>"
      ],
      "text/plain": [
       "                                                Name  \\\n",
       "0  Mezcal de Leyendas Verde San Luis Potosi Mezca...   \n",
       "1  El Tesoro Paradiso Tequila Extra Anejo Mexico ...   \n",
       "2  Peloton de la Muerte Vegan Pechuga Mezcal Mexi...   \n",
       "3             El Tesoro Anejo Tequila Mexico Spirits   \n",
       "4    1800 Milenio Extra Anejo Tequila Mexico Spirits   \n",
       "\n",
       "                                       Extend_Review  \\\n",
       "0  Blanco mezcal is a spirit from Mexico that can...   \n",
       "1  An extra añejo tequila must be aged for at lea...   \n",
       "2  A Flavored Mezcal is an agave-based distillate...   \n",
       "3  Añejo (\"old\") Tequila is aged in wooden barrel...   \n",
       "4  An extra añejo tequila must be aged for at lea...   \n",
       "\n",
       "                                          Photo_Link           Medal  \\\n",
       "0  https://www.tastings.com/images-BTI/Glasses/Sp...  Platinum Medal   \n",
       "1  https://www.tastings.com/images-BTI/Glasses/Sp...  Platinum Medal   \n",
       "2  https://www.tastings.com/images-BTI/Glasses/Sp...  Platinum Medal   \n",
       "3  https://www.tastings.com/images-BTI/Glasses/Sp...  Platinum Medal   \n",
       "4  https://www.tastings.com/images-BTI/Glasses/Sp...  Platinum Medal   \n",
       "\n",
       "         Bands  Medal_Rank  \n",
       "0  Superlative         5.0  \n",
       "1  Superlative         5.0  \n",
       "2  Superlative         5.0  \n",
       "3  Superlative         5.0  \n",
       "4  Superlative         5.0  "
      ]
     },
     "execution_count": 50,
     "metadata": {},
     "output_type": "execute_result"
    }
   ],
   "source": [
    "df_2[\"Medal_Rank\"] = np.nan\n",
    "for i in range(len(df_2)):\n",
    "    \n",
    "    if df_2.Medal[i] == 'Platinum Medal':\n",
    "        df_2.Medal_Rank[i] = 5\n",
    "    \n",
    "    elif df_2.Medal[i] == 'Gold Medal':\n",
    "        df_2.Medal_Rank[i] = 4\n",
    "        \n",
    "    elif df_2.Medal[i] == 'Silver Medal':\n",
    "        df_2.Medal_Rank[i] = 3\n",
    "    \n",
    "    elif df_2.Medal[i] == 'Bronze Medal':\n",
    "        df_2.Medal_Rank[i] = 2\n",
    "    \n",
    "    else:\n",
    "        pass\n",
    "    \n",
    "df_2.head()"
   ]
  },
  {
   "cell_type": "code",
   "execution_count": 52,
   "id": "e7566328",
   "metadata": {
    "ExecuteTime": {
     "end_time": "2021-05-20T19:38:06.585568Z",
     "start_time": "2021-05-20T19:38:03.387431Z"
    }
   },
   "outputs": [
    {
     "data": {
      "text/html": [
       "<div>\n",
       "<style scoped>\n",
       "    .dataframe tbody tr th:only-of-type {\n",
       "        vertical-align: middle;\n",
       "    }\n",
       "\n",
       "    .dataframe tbody tr th {\n",
       "        vertical-align: top;\n",
       "    }\n",
       "\n",
       "    .dataframe thead th {\n",
       "        text-align: right;\n",
       "    }\n",
       "</style>\n",
       "<table border=\"1\" class=\"dataframe\">\n",
       "  <thead>\n",
       "    <tr style=\"text-align: right;\">\n",
       "      <th></th>\n",
       "      <th>Name</th>\n",
       "      <th>Extend_Review</th>\n",
       "      <th>Photo_Link</th>\n",
       "      <th>Medal</th>\n",
       "      <th>Bands</th>\n",
       "      <th>Medal_Rank</th>\n",
       "      <th>Bands_Rank</th>\n",
       "    </tr>\n",
       "  </thead>\n",
       "  <tbody>\n",
       "    <tr>\n",
       "      <th>0</th>\n",
       "      <td>Mezcal de Leyendas Verde San Luis Potosi Mezca...</td>\n",
       "      <td>Blanco mezcal is a spirit from Mexico that can...</td>\n",
       "      <td>https://www.tastings.com/images-BTI/Glasses/Sp...</td>\n",
       "      <td>Platinum Medal</td>\n",
       "      <td>Superlative</td>\n",
       "      <td>5.0</td>\n",
       "      <td>5.0</td>\n",
       "    </tr>\n",
       "    <tr>\n",
       "      <th>1</th>\n",
       "      <td>El Tesoro Paradiso Tequila Extra Anejo Mexico ...</td>\n",
       "      <td>An extra añejo tequila must be aged for at lea...</td>\n",
       "      <td>https://www.tastings.com/images-BTI/Glasses/Sp...</td>\n",
       "      <td>Platinum Medal</td>\n",
       "      <td>Superlative</td>\n",
       "      <td>5.0</td>\n",
       "      <td>5.0</td>\n",
       "    </tr>\n",
       "    <tr>\n",
       "      <th>2</th>\n",
       "      <td>Peloton de la Muerte Vegan Pechuga Mezcal Mexi...</td>\n",
       "      <td>A Flavored Mezcal is an agave-based distillate...</td>\n",
       "      <td>https://www.tastings.com/images-BTI/Glasses/Sp...</td>\n",
       "      <td>Platinum Medal</td>\n",
       "      <td>Superlative</td>\n",
       "      <td>5.0</td>\n",
       "      <td>5.0</td>\n",
       "    </tr>\n",
       "    <tr>\n",
       "      <th>3</th>\n",
       "      <td>El Tesoro Anejo Tequila Mexico Spirits</td>\n",
       "      <td>Añejo (\"old\") Tequila is aged in wooden barrel...</td>\n",
       "      <td>https://www.tastings.com/images-BTI/Glasses/Sp...</td>\n",
       "      <td>Platinum Medal</td>\n",
       "      <td>Superlative</td>\n",
       "      <td>5.0</td>\n",
       "      <td>5.0</td>\n",
       "    </tr>\n",
       "    <tr>\n",
       "      <th>4</th>\n",
       "      <td>1800 Milenio Extra Anejo Tequila Mexico Spirits</td>\n",
       "      <td>An extra añejo tequila must be aged for at lea...</td>\n",
       "      <td>https://www.tastings.com/images-BTI/Glasses/Sp...</td>\n",
       "      <td>Platinum Medal</td>\n",
       "      <td>Superlative</td>\n",
       "      <td>5.0</td>\n",
       "      <td>5.0</td>\n",
       "    </tr>\n",
       "  </tbody>\n",
       "</table>\n",
       "</div>"
      ],
      "text/plain": [
       "                                                Name  \\\n",
       "0  Mezcal de Leyendas Verde San Luis Potosi Mezca...   \n",
       "1  El Tesoro Paradiso Tequila Extra Anejo Mexico ...   \n",
       "2  Peloton de la Muerte Vegan Pechuga Mezcal Mexi...   \n",
       "3             El Tesoro Anejo Tequila Mexico Spirits   \n",
       "4    1800 Milenio Extra Anejo Tequila Mexico Spirits   \n",
       "\n",
       "                                       Extend_Review  \\\n",
       "0  Blanco mezcal is a spirit from Mexico that can...   \n",
       "1  An extra añejo tequila must be aged for at lea...   \n",
       "2  A Flavored Mezcal is an agave-based distillate...   \n",
       "3  Añejo (\"old\") Tequila is aged in wooden barrel...   \n",
       "4  An extra añejo tequila must be aged for at lea...   \n",
       "\n",
       "                                          Photo_Link           Medal  \\\n",
       "0  https://www.tastings.com/images-BTI/Glasses/Sp...  Platinum Medal   \n",
       "1  https://www.tastings.com/images-BTI/Glasses/Sp...  Platinum Medal   \n",
       "2  https://www.tastings.com/images-BTI/Glasses/Sp...  Platinum Medal   \n",
       "3  https://www.tastings.com/images-BTI/Glasses/Sp...  Platinum Medal   \n",
       "4  https://www.tastings.com/images-BTI/Glasses/Sp...  Platinum Medal   \n",
       "\n",
       "         Bands  Medal_Rank  Bands_Rank  \n",
       "0  Superlative         5.0         5.0  \n",
       "1  Superlative         5.0         5.0  \n",
       "2  Superlative         5.0         5.0  \n",
       "3  Superlative         5.0         5.0  \n",
       "4  Superlative         5.0         5.0  "
      ]
     },
     "execution_count": 52,
     "metadata": {},
     "output_type": "execute_result"
    }
   ],
   "source": [
    "df_2[\"Bands_Rank\"] = np.nan\n",
    "for i in range(len(df_2)):\n",
    "    \n",
    "    if df_2.Bands[i] == 'Superlative':\n",
    "        df_2.Bands_Rank[i] = 5\n",
    "    \n",
    "    elif df_2.Bands[i] == 'Exceptional':\n",
    "        df_2.Bands_Rank[i] = 4\n",
    "        \n",
    "    elif df_2.Bands[i] == 'Highly Recommended':\n",
    "        df_2.Bands_Rank[i] = 3\n",
    "    \n",
    "    elif df_2.Bands[i] == 'Recommended':\n",
    "        df_2.Bands_Rank[i] = 2\n",
    "    \n",
    "    else:\n",
    "        pass\n",
    "    \n",
    "df_2.head()"
   ]
  },
  {
   "cell_type": "code",
   "execution_count": 55,
   "id": "3d69b589",
   "metadata": {
    "ExecuteTime": {
     "end_time": "2021-05-20T19:38:45.148890Z",
     "start_time": "2021-05-20T19:38:45.141910Z"
    }
   },
   "outputs": [
    {
     "data": {
      "text/plain": [
       "(10522, 7)"
      ]
     },
     "execution_count": 55,
     "metadata": {},
     "output_type": "execute_result"
    }
   ],
   "source": [
    "df_2.shape"
   ]
  },
  {
   "cell_type": "code",
   "execution_count": 56,
   "id": "43144aa7",
   "metadata": {
    "ExecuteTime": {
     "end_time": "2021-05-20T19:38:50.582204Z",
     "start_time": "2021-05-20T19:38:50.563228Z"
    }
   },
   "outputs": [
    {
     "name": "stdout",
     "output_type": "stream",
     "text": [
      "<class 'pandas.core.frame.DataFrame'>\n",
      "Int64Index: 8319 entries, 0 to 10521\n",
      "Data columns (total 7 columns):\n",
      " #   Column         Non-Null Count  Dtype  \n",
      "---  ------         --------------  -----  \n",
      " 0   Name           8319 non-null   object \n",
      " 1   Extend_Review  7279 non-null   object \n",
      " 2   Photo_Link     7289 non-null   object \n",
      " 3   Medal          7289 non-null   object \n",
      " 4   Bands          7289 non-null   object \n",
      " 5   Medal_Rank     7289 non-null   float64\n",
      " 6   Bands_Rank     7289 non-null   float64\n",
      "dtypes: float64(2), object(5)\n",
      "memory usage: 519.9+ KB\n"
     ]
    }
   ],
   "source": [
    "df_2.drop_duplicates(subset='Name', keep=\"last\", inplace=True)\n",
    "\n",
    "df_2 = df_2[df_2['Name'].notna()]\n",
    "\n",
    "df_2.info()"
   ]
  },
  {
   "cell_type": "code",
   "execution_count": 33,
   "id": "ed273b0e",
   "metadata": {
    "ExecuteTime": {
     "end_time": "2021-05-20T17:51:43.005987Z",
     "start_time": "2021-05-20T17:51:42.739992Z"
    }
   },
   "outputs": [
    {
     "data": {
      "image/jpeg": "[encoded data removed]",
      "text/plain": [
       "<IPython.core.display.Image object>"
      ]
     },
     "execution_count": 33,
     "metadata": {
      "image/jpeg": {
       "height": 228,
       "width": 127
      }
     },
     "output_type": "execute_result"
    }
   ],
   "source": [
    "# libraries for displaying images\n",
    "from IPython.display import Image \n",
    "from IPython.core.display import HTML \n",
    "Image(df_2.Photo_Link[8990], width=127, height=228)"
   ]
  },
  {
   "cell_type": "code",
   "execution_count": 58,
   "id": "503ba8cd",
   "metadata": {
    "ExecuteTime": {
     "end_time": "2021-05-20T19:38:59.634072Z",
     "start_time": "2021-05-20T19:38:59.619097Z"
    }
   },
   "outputs": [
    {
     "data": {
      "text/plain": [
       "(8319, 19)"
      ]
     },
     "execution_count": 58,
     "metadata": {},
     "output_type": "execute_result"
    }
   ],
   "source": [
    "df.shape"
   ]
  },
  {
   "cell_type": "code",
   "execution_count": 59,
   "id": "33acfb92",
   "metadata": {
    "ExecuteTime": {
     "end_time": "2021-05-20T19:39:03.502978Z",
     "start_time": "2021-05-20T19:39:03.490014Z"
    }
   },
   "outputs": [
    {
     "data": {
      "text/plain": [
       "(8319, 7)"
      ]
     },
     "execution_count": 59,
     "metadata": {},
     "output_type": "execute_result"
    }
   ],
   "source": [
    "df_2.shape"
   ]
  },
  {
   "cell_type": "code",
   "execution_count": 63,
   "id": "db923e5c",
   "metadata": {
    "ExecuteTime": {
     "end_time": "2021-05-20T19:45:41.893907Z",
     "start_time": "2021-05-20T19:45:41.871968Z"
    }
   },
   "outputs": [],
   "source": [
    "cleaned_df = df.merge(df_2, on='Name')"
   ]
  },
  {
   "cell_type": "code",
   "execution_count": 66,
   "id": "85df4ac3",
   "metadata": {
    "ExecuteTime": {
     "end_time": "2021-05-20T19:46:11.662135Z",
     "start_time": "2021-05-20T19:46:11.267818Z"
    }
   },
   "outputs": [],
   "source": [
    "cleaned_df.to_csv('cleaned_data.csv')"
   ]
  },
  {
   "cell_type": "code",
   "execution_count": 149,
   "id": "a1d134a6",
   "metadata": {
    "ExecuteTime": {
     "end_time": "2021-05-20T20:49:40.266155Z",
     "start_time": "2021-05-20T20:49:40.237266Z"
    }
   },
   "outputs": [
    {
     "name": "stdout",
     "output_type": "stream",
     "text": [
      "<class 'pandas.core.frame.DataFrame'>\n",
      "Int64Index: 8319 entries, 0 to 8318\n",
      "Data columns (total 25 columns):\n",
      " #   Column          Non-Null Count  Dtype  \n",
      "---  ------          --------------  -----  \n",
      " 0   Name            8319 non-null   object \n",
      " 1   Description     8319 non-null   object \n",
      " 2   Category        7322 non-null   object \n",
      " 3   Country         7317 non-null   object \n",
      " 4   Alcohol_Vol     7322 non-null   object \n",
      " 5   Review          7322 non-null   object \n",
      " 6   Style           7286 non-null   object \n",
      " 7   Aroma           7303 non-null   object \n",
      " 8   Flavor          7301 non-null   object \n",
      " 9   Sweetness       5225 non-null   object \n",
      " 10  Bitterness      438 non-null    object \n",
      " 11  Enjoy           7303 non-null   object \n",
      " 12  Pairing         5509 non-null   object \n",
      " 13  Cocktails       1315 non-null   object \n",
      " 14  Bottom_Line     7322 non-null   object \n",
      " 15  Points          6224 non-null   float64\n",
      " 16  Price           6554 non-null   float64\n",
      " 17  Points_Ranking  6224 non-null   object \n",
      " 18  Price_Range     6554 non-null   object \n",
      " 19  Extend_Review   7279 non-null   object \n",
      " 20  Photo_Link      7289 non-null   object \n",
      " 21  Medal           7289 non-null   object \n",
      " 22  Bands           7289 non-null   object \n",
      " 23  Medal_Rank      7289 non-null   float64\n",
      " 24  Bands_Rank      7289 non-null   float64\n",
      "dtypes: float64(4), object(21)\n",
      "memory usage: 1.7+ MB\n"
     ]
    }
   ],
   "source": [
    "cleaned_df.info()"
   ]
  },
  {
   "cell_type": "code",
   "execution_count": 158,
   "id": "cf356a6c",
   "metadata": {
    "ExecuteTime": {
     "end_time": "2021-05-20T20:52:27.312097Z",
     "start_time": "2021-05-20T20:52:27.282145Z"
    }
   },
   "outputs": [],
   "source": [
    "cleaned_df['Full_Review'] = cleaned_df['Review'] + '. ' + cleaned_df['Extend_Review']"
   ]
  },
  {
   "cell_type": "code",
   "execution_count": 189,
   "id": "f82ca232",
   "metadata": {
    "ExecuteTime": {
     "end_time": "2021-05-20T21:07:50.419027Z",
     "start_time": "2021-05-20T21:07:50.386115Z"
    }
   },
   "outputs": [],
   "source": [
    "cleaned_df['Tasting_Info'] = cleaned_df['Style'].fillna('') + ' | ' + cleaned_df['Aroma'].fillna('') + ' | ' + cleaned_df['Flavor'].fillna('') + ' | ' + cleaned_df['Sweetness'].fillna('')  + '|' + cleaned_df['Bitterness'].fillna('') + '|' + cleaned_df['Enjoy'].fillna('') + '|' + cleaned_df['Pairing'].fillna('') + '|' + cleaned_df['Cocktails'].fillna('') + '|' + cleaned_df['Bottom_Line'].fillna('')"
   ]
  },
  {
   "cell_type": "code",
   "execution_count": 193,
   "id": "a13a7621",
   "metadata": {
    "ExecuteTime": {
     "end_time": "2021-05-20T21:08:14.863957Z",
     "start_time": "2021-05-20T21:08:14.848997Z"
    }
   },
   "outputs": [
    {
     "data": {
      "text/plain": [
       "'Quaffable | dried lemon, green apple, grapefruit juice, and quince | Same as aromas with accents of toasted cashew | Dry-yet-Fruity||Now on its own|BBQ Chicken, Pad Thai Chicken, Chicken Fajitas||A crisp quaffer to serve with a good chill.'"
      ]
     },
     "execution_count": 193,
     "metadata": {},
     "output_type": "execute_result"
    }
   ],
   "source": [
    "cleaned_df.Tasting_Info[4312]"
   ]
  },
  {
   "cell_type": "code",
   "execution_count": 191,
   "id": "03919c68",
   "metadata": {
    "ExecuteTime": {
     "end_time": "2021-05-20T21:08:04.204530Z",
     "start_time": "2021-05-20T21:08:04.185621Z"
    }
   },
   "outputs": [
    {
     "name": "stdout",
     "output_type": "stream",
     "text": [
      "<class 'pandas.core.frame.DataFrame'>\n",
      "Int64Index: 8319 entries, 0 to 8318\n",
      "Data columns (total 27 columns):\n",
      " #   Column          Non-Null Count  Dtype  \n",
      "---  ------          --------------  -----  \n",
      " 0   Name            8319 non-null   object \n",
      " 1   Description     8319 non-null   object \n",
      " 2   Category        7322 non-null   object \n",
      " 3   Country         7317 non-null   object \n",
      " 4   Alcohol_Vol     7322 non-null   object \n",
      " 5   Review          7322 non-null   object \n",
      " 6   Style           7286 non-null   object \n",
      " 7   Aroma           7303 non-null   object \n",
      " 8   Flavor          7301 non-null   object \n",
      " 9   Sweetness       5225 non-null   object \n",
      " 10  Bitterness      438 non-null    object \n",
      " 11  Enjoy           7303 non-null   object \n",
      " 12  Pairing         5509 non-null   object \n",
      " 13  Cocktails       1315 non-null   object \n",
      " 14  Bottom_Line     7322 non-null   object \n",
      " 15  Points          6224 non-null   float64\n",
      " 16  Price           6554 non-null   float64\n",
      " 17  Points_Ranking  6224 non-null   object \n",
      " 18  Price_Range     6554 non-null   object \n",
      " 19  Extend_Review   7279 non-null   object \n",
      " 20  Photo_Link      7289 non-null   object \n",
      " 21  Medal           7289 non-null   object \n",
      " 22  Bands           7289 non-null   object \n",
      " 23  Medal_Rank      7289 non-null   float64\n",
      " 24  Bands_Rank      7289 non-null   float64\n",
      " 25  Full_Review     7274 non-null   object \n",
      " 26  Tasting_Info    8319 non-null   object \n",
      "dtypes: float64(4), object(23)\n",
      "memory usage: 2.0+ MB\n"
     ]
    }
   ],
   "source": [
    "cleaned_df.info()"
   ]
  },
  {
   "cell_type": "code",
   "execution_count": 194,
   "id": "827cb371",
   "metadata": {
    "ExecuteTime": {
     "end_time": "2021-05-20T21:10:25.651900Z",
     "start_time": "2021-05-20T21:10:25.628993Z"
    }
   },
   "outputs": [
    {
     "data": {
      "text/html": [
       "<div>\n",
       "<style scoped>\n",
       "    .dataframe tbody tr th:only-of-type {\n",
       "        vertical-align: middle;\n",
       "    }\n",
       "\n",
       "    .dataframe tbody tr th {\n",
       "        vertical-align: top;\n",
       "    }\n",
       "\n",
       "    .dataframe thead th {\n",
       "        text-align: right;\n",
       "    }\n",
       "</style>\n",
       "<table border=\"1\" class=\"dataframe\">\n",
       "  <thead>\n",
       "    <tr style=\"text-align: right;\">\n",
       "      <th></th>\n",
       "      <th>Name</th>\n",
       "      <th>Description</th>\n",
       "      <th>Category</th>\n",
       "      <th>Country</th>\n",
       "      <th>Alcohol_Vol</th>\n",
       "      <th>Review</th>\n",
       "      <th>Style</th>\n",
       "      <th>Aroma</th>\n",
       "      <th>Flavor</th>\n",
       "      <th>Sweetness</th>\n",
       "      <th>...</th>\n",
       "      <th>Points_Ranking</th>\n",
       "      <th>Price_Range</th>\n",
       "      <th>Extend_Review</th>\n",
       "      <th>Photo_Link</th>\n",
       "      <th>Medal</th>\n",
       "      <th>Bands</th>\n",
       "      <th>Medal_Rank</th>\n",
       "      <th>Bands_Rank</th>\n",
       "      <th>Full_Review</th>\n",
       "      <th>Tasting_Info</th>\n",
       "    </tr>\n",
       "  </thead>\n",
       "  <tbody>\n",
       "    <tr>\n",
       "      <th>0</th>\n",
       "      <td>Mezcal de Leyendas Verde San Luis Potosi Mezca...</td>\n",
       "      <td>Mezcal de Leyendas Review Verde San Luis Potos...</td>\n",
       "      <td>Blanco Mezcal</td>\n",
       "      <td>Mexico</td>\n",
       "      <td>45%</td>\n",
       "      <td>Clear color. Aromas and flavors of cucumber, m...</td>\n",
       "      <td>Fruity, Funky, Rich, Spicy, Smoky, Herbal &amp; Co...</td>\n",
       "      <td>cucumber-melon, lime spritz, caramelized orang...</td>\n",
       "      <td>Same as aromas with notes of pickled ginger, s...</td>\n",
       "      <td>NaN</td>\n",
       "      <td>...</td>\n",
       "      <td>High</td>\n",
       "      <td>Medium</td>\n",
       "      <td>Blanco mezcal is a spirit from Mexico that can...</td>\n",
       "      <td>https://www.tastings.com/images-BTI/Glasses/Sp...</td>\n",
       "      <td>Platinum Medal</td>\n",
       "      <td>Superlative</td>\n",
       "      <td>5.0</td>\n",
       "      <td>5.0</td>\n",
       "      <td>Clear color. Aromas and flavors of cucumber, m...</td>\n",
       "      <td>Fruity, Funky, Rich, Spicy, Smoky, Herbal &amp; Co...</td>\n",
       "    </tr>\n",
       "    <tr>\n",
       "      <th>1</th>\n",
       "      <td>El Tesoro Paradiso Tequila Extra Anejo Mexico ...</td>\n",
       "      <td>El Tesoro Review Paradiso Tequila Extra Anejo ...</td>\n",
       "      <td>Extra Añejo Tequila</td>\n",
       "      <td>Mexico</td>\n",
       "      <td>40%</td>\n",
       "      <td>Gold color. Inviting aromas of roasted nuts, c...</td>\n",
       "      <td>Fruity, Complex, Candied, Herbal, Rich &amp; Spicy</td>\n",
       "      <td>roasted nuts, candied cherries, vanilla bean, ...</td>\n",
       "      <td>ripe melons, toffee, and white pepper</td>\n",
       "      <td>NaN</td>\n",
       "      <td>...</td>\n",
       "      <td>High</td>\n",
       "      <td>Expensive</td>\n",
       "      <td>An extra añejo tequila must be aged for at lea...</td>\n",
       "      <td>https://www.tastings.com/images-BTI/Glasses/Sp...</td>\n",
       "      <td>Platinum Medal</td>\n",
       "      <td>Superlative</td>\n",
       "      <td>5.0</td>\n",
       "      <td>5.0</td>\n",
       "      <td>Gold color. Inviting aromas of roasted nuts, c...</td>\n",
       "      <td>Fruity, Complex, Candied, Herbal, Rich &amp; Spicy...</td>\n",
       "    </tr>\n",
       "    <tr>\n",
       "      <th>2</th>\n",
       "      <td>Peloton de la Muerte Vegan Pechuga Mezcal Mexi...</td>\n",
       "      <td>Peloton de la Muerte Review Vegan Pechuga Mezc...</td>\n",
       "      <td>Flavored Mezcal</td>\n",
       "      <td>Mexico</td>\n",
       "      <td>45.10%</td>\n",
       "      <td>Silvery straw color. Citrusy aromas and flavor...</td>\n",
       "      <td>Complex, Fruity &amp; Herbal</td>\n",
       "      <td>pickled melon and pineapple, candied jalapeño,...</td>\n",
       "      <td>Same as aromas with suggestions of curry</td>\n",
       "      <td>NaN</td>\n",
       "      <td>...</td>\n",
       "      <td>High</td>\n",
       "      <td>Medium</td>\n",
       "      <td>A Flavored Mezcal is an agave-based distillate...</td>\n",
       "      <td>https://www.tastings.com/images-BTI/Glasses/Sp...</td>\n",
       "      <td>Platinum Medal</td>\n",
       "      <td>Superlative</td>\n",
       "      <td>5.0</td>\n",
       "      <td>5.0</td>\n",
       "      <td>Silvery straw color. Citrusy aromas and flavor...</td>\n",
       "      <td>Complex, Fruity &amp; Herbal | pickled melon and p...</td>\n",
       "    </tr>\n",
       "    <tr>\n",
       "      <th>3</th>\n",
       "      <td>El Tesoro Anejo Tequila Mexico Spirits</td>\n",
       "      <td>El Tesoro Review Anejo Tequila Mexico Mexican ...</td>\n",
       "      <td>Añejo Tequila</td>\n",
       "      <td>Mexico</td>\n",
       "      <td>40%</td>\n",
       "      <td>Straw color. Inviting aromas and flavors of ho...</td>\n",
       "      <td>Fruity, Spicy &amp; Herbal</td>\n",
       "      <td>honey-drizzled grapefruit, sweet apple compote...</td>\n",
       "      <td>Same as aromas with notes of pink peppercorns,...</td>\n",
       "      <td>NaN</td>\n",
       "      <td>...</td>\n",
       "      <td>High</td>\n",
       "      <td>Expensive</td>\n",
       "      <td>Añejo (\"old\") Tequila is aged in wooden barrel...</td>\n",
       "      <td>https://www.tastings.com/images-BTI/Glasses/Sp...</td>\n",
       "      <td>Platinum Medal</td>\n",
       "      <td>Superlative</td>\n",
       "      <td>5.0</td>\n",
       "      <td>5.0</td>\n",
       "      <td>Straw color. Inviting aromas and flavors of ho...</td>\n",
       "      <td>Fruity, Spicy &amp; Herbal | honey-drizzled grapef...</td>\n",
       "    </tr>\n",
       "    <tr>\n",
       "      <th>4</th>\n",
       "      <td>1800 Milenio Extra Anejo Tequila Mexico Spirits</td>\n",
       "      <td>1800 Review Milenio Extra Anejo Tequila Mexico...</td>\n",
       "      <td>Extra Añejo Tequila</td>\n",
       "      <td>Mexico</td>\n",
       "      <td>40%</td>\n",
       "      <td>Amber color. Aromas of toffee coated popcorn, ...</td>\n",
       "      <td>Fruity, Rich &amp; Spicy</td>\n",
       "      <td>toffee coated popcorn, peanuts, warm madeira c...</td>\n",
       "      <td>allspice, mint tea, candied ginger, honey, and...</td>\n",
       "      <td>NaN</td>\n",
       "      <td>...</td>\n",
       "      <td>High</td>\n",
       "      <td>Expensive</td>\n",
       "      <td>An extra añejo tequila must be aged for at lea...</td>\n",
       "      <td>https://www.tastings.com/images-BTI/Glasses/Sp...</td>\n",
       "      <td>Platinum Medal</td>\n",
       "      <td>Superlative</td>\n",
       "      <td>5.0</td>\n",
       "      <td>5.0</td>\n",
       "      <td>Amber color. Aromas of toffee coated popcorn, ...</td>\n",
       "      <td>Fruity, Rich &amp; Spicy | toffee coated popcorn, ...</td>\n",
       "    </tr>\n",
       "  </tbody>\n",
       "</table>\n",
       "<p>5 rows × 27 columns</p>\n",
       "</div>"
      ],
      "text/plain": [
       "                                                Name  \\\n",
       "0  Mezcal de Leyendas Verde San Luis Potosi Mezca...   \n",
       "1  El Tesoro Paradiso Tequila Extra Anejo Mexico ...   \n",
       "2  Peloton de la Muerte Vegan Pechuga Mezcal Mexi...   \n",
       "3             El Tesoro Anejo Tequila Mexico Spirits   \n",
       "4    1800 Milenio Extra Anejo Tequila Mexico Spirits   \n",
       "\n",
       "                                         Description             Category  \\\n",
       "0  Mezcal de Leyendas Review Verde San Luis Potos...        Blanco Mezcal   \n",
       "1  El Tesoro Review Paradiso Tequila Extra Anejo ...  Extra Añejo Tequila   \n",
       "2  Peloton de la Muerte Review Vegan Pechuga Mezc...      Flavored Mezcal   \n",
       "3  El Tesoro Review Anejo Tequila Mexico Mexican ...        Añejo Tequila   \n",
       "4  1800 Review Milenio Extra Anejo Tequila Mexico...  Extra Añejo Tequila   \n",
       "\n",
       "  Country Alcohol_Vol                                             Review  \\\n",
       "0  Mexico         45%  Clear color. Aromas and flavors of cucumber, m...   \n",
       "1  Mexico         40%  Gold color. Inviting aromas of roasted nuts, c...   \n",
       "2  Mexico      45.10%  Silvery straw color. Citrusy aromas and flavor...   \n",
       "3  Mexico         40%  Straw color. Inviting aromas and flavors of ho...   \n",
       "4  Mexico         40%  Amber color. Aromas of toffee coated popcorn, ...   \n",
       "\n",
       "                                               Style  \\\n",
       "0  Fruity, Funky, Rich, Spicy, Smoky, Herbal & Co...   \n",
       "1     Fruity, Complex, Candied, Herbal, Rich & Spicy   \n",
       "2                           Complex, Fruity & Herbal   \n",
       "3                             Fruity, Spicy & Herbal   \n",
       "4                               Fruity, Rich & Spicy   \n",
       "\n",
       "                                               Aroma  \\\n",
       "0  cucumber-melon, lime spritz, caramelized orang...   \n",
       "1  roasted nuts, candied cherries, vanilla bean, ...   \n",
       "2  pickled melon and pineapple, candied jalapeño,...   \n",
       "3  honey-drizzled grapefruit, sweet apple compote...   \n",
       "4  toffee coated popcorn, peanuts, warm madeira c...   \n",
       "\n",
       "                                              Flavor Sweetness  ...  \\\n",
       "0  Same as aromas with notes of pickled ginger, s...       NaN  ...   \n",
       "1              ripe melons, toffee, and white pepper       NaN  ...   \n",
       "2           Same as aromas with suggestions of curry       NaN  ...   \n",
       "3  Same as aromas with notes of pink peppercorns,...       NaN  ...   \n",
       "4  allspice, mint tea, candied ginger, honey, and...       NaN  ...   \n",
       "\n",
       "  Points_Ranking Price_Range  \\\n",
       "0           High      Medium   \n",
       "1           High   Expensive   \n",
       "2           High      Medium   \n",
       "3           High   Expensive   \n",
       "4           High   Expensive   \n",
       "\n",
       "                                       Extend_Review  \\\n",
       "0  Blanco mezcal is a spirit from Mexico that can...   \n",
       "1  An extra añejo tequila must be aged for at lea...   \n",
       "2  A Flavored Mezcal is an agave-based distillate...   \n",
       "3  Añejo (\"old\") Tequila is aged in wooden barrel...   \n",
       "4  An extra añejo tequila must be aged for at lea...   \n",
       "\n",
       "                                          Photo_Link           Medal  \\\n",
       "0  https://www.tastings.com/images-BTI/Glasses/Sp...  Platinum Medal   \n",
       "1  https://www.tastings.com/images-BTI/Glasses/Sp...  Platinum Medal   \n",
       "2  https://www.tastings.com/images-BTI/Glasses/Sp...  Platinum Medal   \n",
       "3  https://www.tastings.com/images-BTI/Glasses/Sp...  Platinum Medal   \n",
       "4  https://www.tastings.com/images-BTI/Glasses/Sp...  Platinum Medal   \n",
       "\n",
       "         Bands  Medal_Rank Bands_Rank  \\\n",
       "0  Superlative         5.0        5.0   \n",
       "1  Superlative         5.0        5.0   \n",
       "2  Superlative         5.0        5.0   \n",
       "3  Superlative         5.0        5.0   \n",
       "4  Superlative         5.0        5.0   \n",
       "\n",
       "                                         Full_Review  \\\n",
       "0  Clear color. Aromas and flavors of cucumber, m...   \n",
       "1  Gold color. Inviting aromas of roasted nuts, c...   \n",
       "2  Silvery straw color. Citrusy aromas and flavor...   \n",
       "3  Straw color. Inviting aromas and flavors of ho...   \n",
       "4  Amber color. Aromas of toffee coated popcorn, ...   \n",
       "\n",
       "                                        Tasting_Info  \n",
       "0  Fruity, Funky, Rich, Spicy, Smoky, Herbal & Co...  \n",
       "1  Fruity, Complex, Candied, Herbal, Rich & Spicy...  \n",
       "2  Complex, Fruity & Herbal | pickled melon and p...  \n",
       "3  Fruity, Spicy & Herbal | honey-drizzled grapef...  \n",
       "4  Fruity, Rich & Spicy | toffee coated popcorn, ...  \n",
       "\n",
       "[5 rows x 27 columns]"
      ]
     },
     "execution_count": 194,
     "metadata": {},
     "output_type": "execute_result"
    }
   ],
   "source": [
    "cleaned_df.head()"
   ]
  },
  {
   "cell_type": "code",
   "execution_count": 195,
   "id": "c0552f19",
   "metadata": {
    "ExecuteTime": {
     "end_time": "2021-05-20T21:12:02.570170Z",
     "start_time": "2021-05-20T21:12:02.557205Z"
    }
   },
   "outputs": [],
   "source": [
    "filtered_df = cleaned_df[['Name', 'Description', 'Full_Review', 'Tasting_Info']]"
   ]
  },
  {
   "cell_type": "code",
   "execution_count": 197,
   "id": "4293a2b0",
   "metadata": {
    "ExecuteTime": {
     "end_time": "2021-05-20T21:12:38.999809Z",
     "start_time": "2021-05-20T21:12:38.653482Z"
    }
   },
   "outputs": [],
   "source": [
    "filtered_df.to_csv('filtered_data.csv')"
   ]
  },
  {
   "cell_type": "code",
   "execution_count": null,
   "id": "29a4946e",
   "metadata": {},
   "outputs": [],
   "source": []
  },
  {
   "cell_type": "markdown",
   "id": "ffcc1e0c",
   "metadata": {},
   "source": [
    "### Photo Links"
   ]
  },
  {
   "cell_type": "code",
   "execution_count": null,
   "id": "e85351bc",
   "metadata": {},
   "outputs": [],
   "source": []
  },
  {
   "cell_type": "code",
   "execution_count": 42,
   "id": "919fcc72",
   "metadata": {
    "ExecuteTime": {
     "end_time": "2021-05-24T16:52:34.245216Z",
     "start_time": "2021-05-24T16:52:34.201334Z"
    }
   },
   "outputs": [
    {
     "name": "stdout",
     "output_type": "stream",
     "text": [
      "(10522, 2)\n"
     ]
    },
    {
     "data": {
      "text/html": [
       "<div>\n",
       "<style scoped>\n",
       "    .dataframe tbody tr th:only-of-type {\n",
       "        vertical-align: middle;\n",
       "    }\n",
       "\n",
       "    .dataframe tbody tr th {\n",
       "        vertical-align: top;\n",
       "    }\n",
       "\n",
       "    .dataframe thead th {\n",
       "        text-align: right;\n",
       "    }\n",
       "</style>\n",
       "<table border=\"1\" class=\"dataframe\">\n",
       "  <thead>\n",
       "    <tr style=\"text-align: right;\">\n",
       "      <th></th>\n",
       "      <th>Name</th>\n",
       "      <th>Photo_Link</th>\n",
       "    </tr>\n",
       "  </thead>\n",
       "  <tbody>\n",
       "    <tr>\n",
       "      <th>0</th>\n",
       "      <td>Mezcal de Leyendas Verde San Luis Potosi Mezca...</td>\n",
       "      <td>https://www.tastings.com/Product-Images/Spirit...</td>\n",
       "    </tr>\n",
       "    <tr>\n",
       "      <th>1</th>\n",
       "      <td>El Tesoro Paradiso Tequila Extra Anejo Mexico ...</td>\n",
       "      <td>https://www.tastings.com/Product-Images/Spirit...</td>\n",
       "    </tr>\n",
       "    <tr>\n",
       "      <th>2</th>\n",
       "      <td>Peloton de la Muerte Vegan Pechuga Mezcal Mexi...</td>\n",
       "      <td>https://www.tastings.com/Product-Images/Spirit...</td>\n",
       "    </tr>\n",
       "    <tr>\n",
       "      <th>3</th>\n",
       "      <td>El Tesoro Anejo Tequila Mexico Spirits Review ...</td>\n",
       "      <td>https://www.tastings.com/Product-Images/Spirit...</td>\n",
       "    </tr>\n",
       "    <tr>\n",
       "      <th>4</th>\n",
       "      <td>1800 Milenio Extra Anejo Tequila Mexico Spirit...</td>\n",
       "      <td>https://www.tastings.com/Product-Images/Spirit...</td>\n",
       "    </tr>\n",
       "  </tbody>\n",
       "</table>\n",
       "</div>"
      ],
      "text/plain": [
       "                                                Name  \\\n",
       "0  Mezcal de Leyendas Verde San Luis Potosi Mezca...   \n",
       "1  El Tesoro Paradiso Tequila Extra Anejo Mexico ...   \n",
       "2  Peloton de la Muerte Vegan Pechuga Mezcal Mexi...   \n",
       "3  El Tesoro Anejo Tequila Mexico Spirits Review ...   \n",
       "4  1800 Milenio Extra Anejo Tequila Mexico Spirit...   \n",
       "\n",
       "                                          Photo_Link  \n",
       "0  https://www.tastings.com/Product-Images/Spirit...  \n",
       "1  https://www.tastings.com/Product-Images/Spirit...  \n",
       "2  https://www.tastings.com/Product-Images/Spirit...  \n",
       "3  https://www.tastings.com/Product-Images/Spirit...  \n",
       "4  https://www.tastings.com/Product-Images/Spirit...  "
      ]
     },
     "execution_count": 42,
     "metadata": {},
     "output_type": "execute_result"
    }
   ],
   "source": [
    "path = r'C:/Metis_Bootcamp/Cocktails_recommendation_NLP/data/photo_links/' # data path\n",
    "all_files = glob.glob(path + \"/*.csv\")\n",
    "\n",
    "li = []\n",
    "\n",
    "for filename in all_files:\n",
    "    data = pd.read_csv(filename, index_col=0, header=0)\n",
    "    li.append(data)\n",
    "\n",
    "df = pd.concat(li, axis=0, ignore_index=True)\n",
    "\n",
    "print(df.shape)\n",
    "\n",
    "df.head()"
   ]
  },
  {
   "cell_type": "code",
   "execution_count": 23,
   "id": "6a5031d8",
   "metadata": {
    "ExecuteTime": {
     "end_time": "2021-05-24T16:31:58.614902Z",
     "start_time": "2021-05-24T16:31:58.323258Z"
    }
   },
   "outputs": [
    {
     "data": {
      "image/jpeg": "[encoded data removed]",
      "text/plain": [
       "<IPython.core.display.Image object>"
      ]
     },
     "execution_count": 23,
     "metadata": {
      "image/jpeg": {
       "width": 127
      }
     },
     "output_type": "execute_result"
    }
   ],
   "source": [
    "\n",
    "Image(df.iloc[6000].Photo_Link, width=127)"
   ]
  },
  {
   "cell_type": "code",
   "execution_count": 17,
   "id": "e78b2285",
   "metadata": {
    "ExecuteTime": {
     "end_time": "2021-05-24T16:29:14.528808Z",
     "start_time": "2021-05-24T16:29:14.501869Z"
    }
   },
   "outputs": [
    {
     "name": "stdout",
     "output_type": "stream",
     "text": [
      "<class 'pandas.core.frame.DataFrame'>\n",
      "Int64Index: 8319 entries, 0 to 10521\n",
      "Data columns (total 2 columns):\n",
      " #   Column      Non-Null Count  Dtype \n",
      "---  ------      --------------  ----- \n",
      " 0   Name        8319 non-null   object\n",
      " 1   Photo_Link  7304 non-null   object\n",
      "dtypes: object(2)\n",
      "memory usage: 195.0+ KB\n"
     ]
    }
   ],
   "source": [
    "df.drop_duplicates(subset='Name', inplace=True)\n",
    "\n",
    "df = df[df['Name'].notna()]\n",
    "\n",
    "df.info()"
   ]
  },
  {
   "cell_type": "code",
   "execution_count": 19,
   "id": "96a5b464",
   "metadata": {
    "ExecuteTime": {
     "end_time": "2021-05-24T16:31:12.580698Z",
     "start_time": "2021-05-24T16:31:12.529832Z"
    }
   },
   "outputs": [],
   "source": [
    "df.to_csv('photos_links.csv')"
   ]
  },
  {
   "cell_type": "code",
   "execution_count": null,
   "id": "d5f5a5a5",
   "metadata": {},
   "outputs": [],
   "source": []
  },
  {
   "cell_type": "code",
   "execution_count": 26,
   "id": "69628ebc",
   "metadata": {
    "ExecuteTime": {
     "end_time": "2021-05-24T16:37:38.342200Z",
     "start_time": "2021-05-24T16:37:38.136859Z"
    }
   },
   "outputs": [
    {
     "data": {
      "text/html": [
       "<div>\n",
       "<style scoped>\n",
       "    .dataframe tbody tr th:only-of-type {\n",
       "        vertical-align: middle;\n",
       "    }\n",
       "\n",
       "    .dataframe tbody tr th {\n",
       "        vertical-align: top;\n",
       "    }\n",
       "\n",
       "    .dataframe thead th {\n",
       "        text-align: right;\n",
       "    }\n",
       "</style>\n",
       "<table border=\"1\" class=\"dataframe\">\n",
       "  <thead>\n",
       "    <tr style=\"text-align: right;\">\n",
       "      <th></th>\n",
       "      <th>Name</th>\n",
       "      <th>Description</th>\n",
       "      <th>Category</th>\n",
       "      <th>Country</th>\n",
       "      <th>Alcohol_Vol</th>\n",
       "      <th>Review</th>\n",
       "      <th>Style</th>\n",
       "      <th>Aroma</th>\n",
       "      <th>Flavor</th>\n",
       "      <th>Sweetness</th>\n",
       "      <th>...</th>\n",
       "      <th>Points</th>\n",
       "      <th>Price</th>\n",
       "      <th>Points_Ranking</th>\n",
       "      <th>Price_Range</th>\n",
       "      <th>Extend_Review</th>\n",
       "      <th>Photo_Link</th>\n",
       "      <th>Medal</th>\n",
       "      <th>Bands</th>\n",
       "      <th>Medal_Rank</th>\n",
       "      <th>Bands_Rank</th>\n",
       "    </tr>\n",
       "  </thead>\n",
       "  <tbody>\n",
       "    <tr>\n",
       "      <th>8314</th>\n",
       "      <td>Angry Orchard Super Natural Cider USA Cider</td>\n",
       "      <td>Angry Orchard Review Super Natural Cider MA Ma...</td>\n",
       "      <td>Specialty Cider</td>\n",
       "      <td>USA</td>\n",
       "      <td>7.60%</td>\n",
       "      <td>Straw green color. Aromas of apple cider vineg...</td>\n",
       "      <td>Funky</td>\n",
       "      <td>apple cider vinegar, new sneakers, and mango pits</td>\n",
       "      <td>wild lemon and grapefruit pith</td>\n",
       "      <td>Dry</td>\n",
       "      <td>...</td>\n",
       "      <td>NaN</td>\n",
       "      <td>NaN</td>\n",
       "      <td>NaN</td>\n",
       "      <td>NaN</td>\n",
       "      <td>Specialty ciders include all ciders that do no...</td>\n",
       "      <td>https://www.tastings.com/images-BTI/Glasses/Wi...</td>\n",
       "      <td>Bronze Medal</td>\n",
       "      <td>Recommended</td>\n",
       "      <td>2.0</td>\n",
       "      <td>2.0</td>\n",
       "    </tr>\n",
       "    <tr>\n",
       "      <th>8315</th>\n",
       "      <td>Avid Cider Co Apricot Cider USA Cider</td>\n",
       "      <td>Avid Cider Review Apricot Cider OR Oregon USA ...</td>\n",
       "      <td>Fruit Cider</td>\n",
       "      <td>USA</td>\n",
       "      <td>6.20%</td>\n",
       "      <td>Light gold color. Aromas of orange creamsicle,...</td>\n",
       "      <td>Sweet &amp; Fruity &amp; Funky</td>\n",
       "      <td>orange creamsicle, apple juice, melons in crea...</td>\n",
       "      <td>yogurt with apple cereal</td>\n",
       "      <td>Fruity</td>\n",
       "      <td>...</td>\n",
       "      <td>NaN</td>\n",
       "      <td>NaN</td>\n",
       "      <td>NaN</td>\n",
       "      <td>NaN</td>\n",
       "      <td>This category contains all non-apple based cid...</td>\n",
       "      <td>https://www.tastings.com/images-BTI/Glasses/Wi...</td>\n",
       "      <td>Bronze Medal</td>\n",
       "      <td>Recommended</td>\n",
       "      <td>2.0</td>\n",
       "      <td>2.0</td>\n",
       "    </tr>\n",
       "    <tr>\n",
       "      <th>8316</th>\n",
       "      <td>Magnotta Craft Ciders Apple Flavored Cider Can...</td>\n",
       "      <td>Magnotta Craft Ciders Review Apple Flavored Ci...</td>\n",
       "      <td>Common Cider</td>\n",
       "      <td>Canada</td>\n",
       "      <td>5.60%</td>\n",
       "      <td>Silvery straw color. Aromas of pinot grigio, p...</td>\n",
       "      <td>Crisp &amp; Light &amp; Sweet &amp; Fruity</td>\n",
       "      <td>pinot grigio, pear slices, nougat, and brown rice</td>\n",
       "      <td>fondant and diced apples in powdered sugar</td>\n",
       "      <td>Very Sweet</td>\n",
       "      <td>...</td>\n",
       "      <td>NaN</td>\n",
       "      <td>NaN</td>\n",
       "      <td>NaN</td>\n",
       "      <td>NaN</td>\n",
       "      <td>Common ciders range in alcohol from 4-8% and t...</td>\n",
       "      <td>https://www.tastings.com/images-BTI/Glasses/Wi...</td>\n",
       "      <td>Bronze Medal</td>\n",
       "      <td>Recommended</td>\n",
       "      <td>2.0</td>\n",
       "      <td>2.0</td>\n",
       "    </tr>\n",
       "    <tr>\n",
       "      <th>8317</th>\n",
       "      <td>Topa Brut Artisanal Cidre France Cider</td>\n",
       "      <td>Topa Review Brut Artisanal Cidre France French...</td>\n",
       "      <td>French Cider</td>\n",
       "      <td>France</td>\n",
       "      <td>5.50%</td>\n",
       "      <td>Gold color. Aromas and flavors of frosted cere...</td>\n",
       "      <td>Crisp &amp; Light &amp; Funky</td>\n",
       "      <td>frosted cereal, raisins in a cardboard box, si...</td>\n",
       "      <td>Same as aromas with notes of apple soufflé</td>\n",
       "      <td>Dryish</td>\n",
       "      <td>...</td>\n",
       "      <td>NaN</td>\n",
       "      <td>NaN</td>\n",
       "      <td>NaN</td>\n",
       "      <td>NaN</td>\n",
       "      <td>French-style ciders range in alcohol from 3-10...</td>\n",
       "      <td>https://www.tastings.com/images-BTI/Glasses/Wi...</td>\n",
       "      <td>Bronze Medal</td>\n",
       "      <td>Recommended</td>\n",
       "      <td>2.0</td>\n",
       "      <td>2.0</td>\n",
       "    </tr>\n",
       "    <tr>\n",
       "      <th>8318</th>\n",
       "      <td>Angry Orchard Strawman Farmhouse Hard Cider US...</td>\n",
       "      <td>Angry Orchard Review Strawman Farmhouse Hard C...</td>\n",
       "      <td>French Cider</td>\n",
       "      <td>USA</td>\n",
       "      <td>10%</td>\n",
       "      <td>Hazy bronze color. Aromas of green apple candy...</td>\n",
       "      <td>Funky</td>\n",
       "      <td>green apple candy, butterscotch, permanent mar...</td>\n",
       "      <td>tingling, relaxed</td>\n",
       "      <td>Bitter</td>\n",
       "      <td>...</td>\n",
       "      <td>NaN</td>\n",
       "      <td>NaN</td>\n",
       "      <td>NaN</td>\n",
       "      <td>NaN</td>\n",
       "      <td>French-style ciders range in alcohol from 3-10...</td>\n",
       "      <td>https://www.tastings.com/images-BTI/Glasses/Wi...</td>\n",
       "      <td>Bronze Medal</td>\n",
       "      <td>Recommended</td>\n",
       "      <td>2.0</td>\n",
       "      <td>2.0</td>\n",
       "    </tr>\n",
       "  </tbody>\n",
       "</table>\n",
       "<p>5 rows × 25 columns</p>\n",
       "</div>"
      ],
      "text/plain": [
       "                                                   Name  \\\n",
       "8314        Angry Orchard Super Natural Cider USA Cider   \n",
       "8315              Avid Cider Co Apricot Cider USA Cider   \n",
       "8316  Magnotta Craft Ciders Apple Flavored Cider Can...   \n",
       "8317             Topa Brut Artisanal Cidre France Cider   \n",
       "8318  Angry Orchard Strawman Farmhouse Hard Cider US...   \n",
       "\n",
       "                                            Description         Category  \\\n",
       "8314  Angry Orchard Review Super Natural Cider MA Ma...  Specialty Cider   \n",
       "8315  Avid Cider Review Apricot Cider OR Oregon USA ...      Fruit Cider   \n",
       "8316  Magnotta Craft Ciders Review Apple Flavored Ci...     Common Cider   \n",
       "8317  Topa Review Brut Artisanal Cidre France French...     French Cider   \n",
       "8318  Angry Orchard Review Strawman Farmhouse Hard C...     French Cider   \n",
       "\n",
       "     Country Alcohol_Vol                                             Review  \\\n",
       "8314     USA       7.60%  Straw green color. Aromas of apple cider vineg...   \n",
       "8315     USA       6.20%  Light gold color. Aromas of orange creamsicle,...   \n",
       "8316  Canada       5.60%  Silvery straw color. Aromas of pinot grigio, p...   \n",
       "8317  France       5.50%  Gold color. Aromas and flavors of frosted cere...   \n",
       "8318     USA         10%  Hazy bronze color. Aromas of green apple candy...   \n",
       "\n",
       "                               Style  \\\n",
       "8314                           Funky   \n",
       "8315          Sweet & Fruity & Funky   \n",
       "8316  Crisp & Light & Sweet & Fruity   \n",
       "8317           Crisp & Light & Funky   \n",
       "8318                           Funky   \n",
       "\n",
       "                                                  Aroma  \\\n",
       "8314  apple cider vinegar, new sneakers, and mango pits   \n",
       "8315  orange creamsicle, apple juice, melons in crea...   \n",
       "8316  pinot grigio, pear slices, nougat, and brown rice   \n",
       "8317  frosted cereal, raisins in a cardboard box, si...   \n",
       "8318  green apple candy, butterscotch, permanent mar...   \n",
       "\n",
       "                                          Flavor   Sweetness  ... Points  \\\n",
       "8314              wild lemon and grapefruit pith         Dry  ...    NaN   \n",
       "8315                    yogurt with apple cereal      Fruity  ...    NaN   \n",
       "8316  fondant and diced apples in powdered sugar  Very Sweet  ...    NaN   \n",
       "8317  Same as aromas with notes of apple soufflé      Dryish  ...    NaN   \n",
       "8318                           tingling, relaxed      Bitter  ...    NaN   \n",
       "\n",
       "     Price Points_Ranking Price_Range  \\\n",
       "8314   NaN            NaN         NaN   \n",
       "8315   NaN            NaN         NaN   \n",
       "8316   NaN            NaN         NaN   \n",
       "8317   NaN            NaN         NaN   \n",
       "8318   NaN            NaN         NaN   \n",
       "\n",
       "                                          Extend_Review  \\\n",
       "8314  Specialty ciders include all ciders that do no...   \n",
       "8315  This category contains all non-apple based cid...   \n",
       "8316  Common ciders range in alcohol from 4-8% and t...   \n",
       "8317  French-style ciders range in alcohol from 3-10...   \n",
       "8318  French-style ciders range in alcohol from 3-10...   \n",
       "\n",
       "                                             Photo_Link         Medal  \\\n",
       "8314  https://www.tastings.com/images-BTI/Glasses/Wi...  Bronze Medal   \n",
       "8315  https://www.tastings.com/images-BTI/Glasses/Wi...  Bronze Medal   \n",
       "8316  https://www.tastings.com/images-BTI/Glasses/Wi...  Bronze Medal   \n",
       "8317  https://www.tastings.com/images-BTI/Glasses/Wi...  Bronze Medal   \n",
       "8318  https://www.tastings.com/images-BTI/Glasses/Wi...  Bronze Medal   \n",
       "\n",
       "            Bands Medal_Rank Bands_Rank  \n",
       "8314  Recommended        2.0        2.0  \n",
       "8315  Recommended        2.0        2.0  \n",
       "8316  Recommended        2.0        2.0  \n",
       "8317  Recommended        2.0        2.0  \n",
       "8318  Recommended        2.0        2.0  \n",
       "\n",
       "[5 rows x 25 columns]"
      ]
     },
     "execution_count": 26,
     "metadata": {},
     "output_type": "execute_result"
    }
   ],
   "source": [
    "df_main = pd.read_csv('../data/cleaned_reviews_data.csv', index_col=0)\n",
    "df_main.tail()"
   ]
  },
  {
   "cell_type": "code",
   "execution_count": null,
   "id": "b7e54389",
   "metadata": {},
   "outputs": [],
   "source": []
  },
  {
   "cell_type": "code",
   "execution_count": null,
   "id": "41586c61",
   "metadata": {},
   "outputs": [],
   "source": []
  },
  {
   "cell_type": "code",
   "execution_count": null,
   "id": "bff168aa",
   "metadata": {},
   "outputs": [],
   "source": []
  },
  {
   "cell_type": "code",
   "execution_count": 29,
   "id": "b82b8a50",
   "metadata": {
    "ExecuteTime": {
     "end_time": "2021-05-24T16:39:11.071603Z",
     "start_time": "2021-05-24T16:39:11.039723Z"
    }
   },
   "outputs": [
    {
     "data": {
      "text/html": [
       "<div>\n",
       "<style scoped>\n",
       "    .dataframe tbody tr th:only-of-type {\n",
       "        vertical-align: middle;\n",
       "    }\n",
       "\n",
       "    .dataframe tbody tr th {\n",
       "        vertical-align: top;\n",
       "    }\n",
       "\n",
       "    .dataframe thead th {\n",
       "        text-align: right;\n",
       "    }\n",
       "</style>\n",
       "<table border=\"1\" class=\"dataframe\">\n",
       "  <thead>\n",
       "    <tr style=\"text-align: right;\">\n",
       "      <th></th>\n",
       "      <th>Name</th>\n",
       "      <th>Photo_Link_2</th>\n",
       "    </tr>\n",
       "  </thead>\n",
       "  <tbody>\n",
       "    <tr>\n",
       "      <th>10517</th>\n",
       "      <td>Angry Orchard Super Natural Cider USA Cider Re...</td>\n",
       "      <td>https://www.tastings.com/Product-Images/Beer/2...</td>\n",
       "    </tr>\n",
       "    <tr>\n",
       "      <th>10518</th>\n",
       "      <td>Avid Cider Co Apricot Cider USA Cider Review |...</td>\n",
       "      <td>https://www.tastings.com/Product-Images/Beer/2...</td>\n",
       "    </tr>\n",
       "    <tr>\n",
       "      <th>10519</th>\n",
       "      <td>Magnotta Craft Ciders Apple Flavored Cider Can...</td>\n",
       "      <td>https://www.tastings.com/Product-Images/Beer/2...</td>\n",
       "    </tr>\n",
       "    <tr>\n",
       "      <th>10520</th>\n",
       "      <td>Topa Brut Artisanal Cidre France Cider Review ...</td>\n",
       "      <td>https://www.tastings.com/Product-Images/Beer/2...</td>\n",
       "    </tr>\n",
       "    <tr>\n",
       "      <th>10521</th>\n",
       "      <td>Angry Orchard Strawman Farmhouse Hard Cider US...</td>\n",
       "      <td>https://www.tastings.com/Product-Images/Beer/2...</td>\n",
       "    </tr>\n",
       "  </tbody>\n",
       "</table>\n",
       "</div>"
      ],
      "text/plain": [
       "                                                    Name  \\\n",
       "10517  Angry Orchard Super Natural Cider USA Cider Re...   \n",
       "10518  Avid Cider Co Apricot Cider USA Cider Review |...   \n",
       "10519  Magnotta Craft Ciders Apple Flavored Cider Can...   \n",
       "10520  Topa Brut Artisanal Cidre France Cider Review ...   \n",
       "10521  Angry Orchard Strawman Farmhouse Hard Cider US...   \n",
       "\n",
       "                                            Photo_Link_2  \n",
       "10517  https://www.tastings.com/Product-Images/Beer/2...  \n",
       "10518  https://www.tastings.com/Product-Images/Beer/2...  \n",
       "10519  https://www.tastings.com/Product-Images/Beer/2...  \n",
       "10520  https://www.tastings.com/Product-Images/Beer/2...  \n",
       "10521  https://www.tastings.com/Product-Images/Beer/2...  "
      ]
     },
     "execution_count": 29,
     "metadata": {},
     "output_type": "execute_result"
    }
   ],
   "source": [
    "df_photo_links = pd.read_csv('../data/photos_links.csv', index_col=0)\n",
    "df_photo_links.tail()"
   ]
  },
  {
   "cell_type": "code",
   "execution_count": null,
   "id": "1cecf876",
   "metadata": {},
   "outputs": [],
   "source": []
  },
  {
   "cell_type": "code",
   "execution_count": 43,
   "id": "2f5399d5",
   "metadata": {
    "ExecuteTime": {
     "end_time": "2021-05-24T16:53:03.682352Z",
     "start_time": "2021-05-24T16:53:02.862249Z"
    }
   },
   "outputs": [
    {
     "data": {
      "text/plain": [
       "(10522, 2)"
      ]
     },
     "execution_count": 43,
     "metadata": {},
     "output_type": "execute_result"
    }
   ],
   "source": [
    "for i in range(len(df)):\n",
    "    \n",
    "    try:\n",
    "        df['Name'][i] = df['Name'][i].split(' Review')[0]\n",
    "    except:\n",
    "        pass\n",
    "    \n",
    "df.shape"
   ]
  },
  {
   "cell_type": "code",
   "execution_count": 45,
   "id": "ad0850c2",
   "metadata": {
    "ExecuteTime": {
     "end_time": "2021-05-24T16:53:28.650960Z",
     "start_time": "2021-05-24T16:53:28.631014Z"
    }
   },
   "outputs": [
    {
     "name": "stdout",
     "output_type": "stream",
     "text": [
      "<class 'pandas.core.frame.DataFrame'>\n",
      "Int64Index: 8319 entries, 0 to 10521\n",
      "Data columns (total 2 columns):\n",
      " #   Column      Non-Null Count  Dtype \n",
      "---  ------      --------------  ----- \n",
      " 0   Name        8319 non-null   object\n",
      " 1   Photo_Link  7304 non-null   object\n",
      "dtypes: object(2)\n",
      "memory usage: 195.0+ KB\n"
     ]
    }
   ],
   "source": [
    "df.drop_duplicates(subset='Name', inplace=True)\n",
    "\n",
    "df = df[df['Name'].notna()]\n",
    "\n",
    "df.info()"
   ]
  },
  {
   "cell_type": "code",
   "execution_count": 47,
   "id": "068ff19d",
   "metadata": {
    "ExecuteTime": {
     "end_time": "2021-05-24T16:53:46.910655Z",
     "start_time": "2021-05-24T16:53:46.896665Z"
    }
   },
   "outputs": [
    {
     "data": {
      "text/html": [
       "<div>\n",
       "<style scoped>\n",
       "    .dataframe tbody tr th:only-of-type {\n",
       "        vertical-align: middle;\n",
       "    }\n",
       "\n",
       "    .dataframe tbody tr th {\n",
       "        vertical-align: top;\n",
       "    }\n",
       "\n",
       "    .dataframe thead th {\n",
       "        text-align: right;\n",
       "    }\n",
       "</style>\n",
       "<table border=\"1\" class=\"dataframe\">\n",
       "  <thead>\n",
       "    <tr style=\"text-align: right;\">\n",
       "      <th></th>\n",
       "      <th>Name</th>\n",
       "      <th>Photo_Link</th>\n",
       "    </tr>\n",
       "  </thead>\n",
       "  <tbody>\n",
       "    <tr>\n",
       "      <th>10517</th>\n",
       "      <td>Angry Orchard Super Natural Cider USA Cider</td>\n",
       "      <td>https://www.tastings.com/Product-Images/Beer/2...</td>\n",
       "    </tr>\n",
       "    <tr>\n",
       "      <th>10518</th>\n",
       "      <td>Avid Cider Co Apricot Cider USA Cider</td>\n",
       "      <td>https://www.tastings.com/Product-Images/Beer/2...</td>\n",
       "    </tr>\n",
       "    <tr>\n",
       "      <th>10519</th>\n",
       "      <td>Magnotta Craft Ciders Apple Flavored Cider Can...</td>\n",
       "      <td>https://www.tastings.com/Product-Images/Beer/2...</td>\n",
       "    </tr>\n",
       "    <tr>\n",
       "      <th>10520</th>\n",
       "      <td>Topa Brut Artisanal Cidre France Cider</td>\n",
       "      <td>https://www.tastings.com/Product-Images/Beer/2...</td>\n",
       "    </tr>\n",
       "    <tr>\n",
       "      <th>10521</th>\n",
       "      <td>Angry Orchard Strawman Farmhouse Hard Cider US...</td>\n",
       "      <td>https://www.tastings.com/Product-Images/Beer/2...</td>\n",
       "    </tr>\n",
       "  </tbody>\n",
       "</table>\n",
       "</div>"
      ],
      "text/plain": [
       "                                                    Name  \\\n",
       "10517        Angry Orchard Super Natural Cider USA Cider   \n",
       "10518              Avid Cider Co Apricot Cider USA Cider   \n",
       "10519  Magnotta Craft Ciders Apple Flavored Cider Can...   \n",
       "10520             Topa Brut Artisanal Cidre France Cider   \n",
       "10521  Angry Orchard Strawman Farmhouse Hard Cider US...   \n",
       "\n",
       "                                              Photo_Link  \n",
       "10517  https://www.tastings.com/Product-Images/Beer/2...  \n",
       "10518  https://www.tastings.com/Product-Images/Beer/2...  \n",
       "10519  https://www.tastings.com/Product-Images/Beer/2...  \n",
       "10520  https://www.tastings.com/Product-Images/Beer/2...  \n",
       "10521  https://www.tastings.com/Product-Images/Beer/2...  "
      ]
     },
     "execution_count": 47,
     "metadata": {},
     "output_type": "execute_result"
    }
   ],
   "source": [
    "df.tail()"
   ]
  },
  {
   "cell_type": "code",
   "execution_count": 48,
   "id": "d3ee858e",
   "metadata": {
    "ExecuteTime": {
     "end_time": "2021-05-24T16:54:47.209757Z",
     "start_time": "2021-05-24T16:54:47.190813Z"
    }
   },
   "outputs": [
    {
     "data": {
      "text/html": [
       "<div>\n",
       "<style scoped>\n",
       "    .dataframe tbody tr th:only-of-type {\n",
       "        vertical-align: middle;\n",
       "    }\n",
       "\n",
       "    .dataframe tbody tr th {\n",
       "        vertical-align: top;\n",
       "    }\n",
       "\n",
       "    .dataframe thead th {\n",
       "        text-align: right;\n",
       "    }\n",
       "</style>\n",
       "<table border=\"1\" class=\"dataframe\">\n",
       "  <thead>\n",
       "    <tr style=\"text-align: right;\">\n",
       "      <th></th>\n",
       "      <th>Name</th>\n",
       "      <th>Photo_Link_2</th>\n",
       "    </tr>\n",
       "  </thead>\n",
       "  <tbody>\n",
       "    <tr>\n",
       "      <th>10517</th>\n",
       "      <td>Angry Orchard Super Natural Cider USA Cider</td>\n",
       "      <td>https://www.tastings.com/Product-Images/Beer/2...</td>\n",
       "    </tr>\n",
       "    <tr>\n",
       "      <th>10518</th>\n",
       "      <td>Avid Cider Co Apricot Cider USA Cider</td>\n",
       "      <td>https://www.tastings.com/Product-Images/Beer/2...</td>\n",
       "    </tr>\n",
       "    <tr>\n",
       "      <th>10519</th>\n",
       "      <td>Magnotta Craft Ciders Apple Flavored Cider Can...</td>\n",
       "      <td>https://www.tastings.com/Product-Images/Beer/2...</td>\n",
       "    </tr>\n",
       "    <tr>\n",
       "      <th>10520</th>\n",
       "      <td>Topa Brut Artisanal Cidre France Cider</td>\n",
       "      <td>https://www.tastings.com/Product-Images/Beer/2...</td>\n",
       "    </tr>\n",
       "    <tr>\n",
       "      <th>10521</th>\n",
       "      <td>Angry Orchard Strawman Farmhouse Hard Cider US...</td>\n",
       "      <td>https://www.tastings.com/Product-Images/Beer/2...</td>\n",
       "    </tr>\n",
       "  </tbody>\n",
       "</table>\n",
       "</div>"
      ],
      "text/plain": [
       "                                                    Name  \\\n",
       "10517        Angry Orchard Super Natural Cider USA Cider   \n",
       "10518              Avid Cider Co Apricot Cider USA Cider   \n",
       "10519  Magnotta Craft Ciders Apple Flavored Cider Can...   \n",
       "10520             Topa Brut Artisanal Cidre France Cider   \n",
       "10521  Angry Orchard Strawman Farmhouse Hard Cider US...   \n",
       "\n",
       "                                            Photo_Link_2  \n",
       "10517  https://www.tastings.com/Product-Images/Beer/2...  \n",
       "10518  https://www.tastings.com/Product-Images/Beer/2...  \n",
       "10519  https://www.tastings.com/Product-Images/Beer/2...  \n",
       "10520  https://www.tastings.com/Product-Images/Beer/2...  \n",
       "10521  https://www.tastings.com/Product-Images/Beer/2...  "
      ]
     },
     "execution_count": 48,
     "metadata": {},
     "output_type": "execute_result"
    }
   ],
   "source": [
    "df.rename(columns={'Photo_Link': 'Photo_Link_2'}, inplace=True)\n",
    "df.tail()"
   ]
  },
  {
   "cell_type": "code",
   "execution_count": 50,
   "id": "18a24b47",
   "metadata": {
    "ExecuteTime": {
     "end_time": "2021-05-24T16:55:36.428793Z",
     "start_time": "2021-05-24T16:55:36.016646Z"
    }
   },
   "outputs": [],
   "source": [
    "df_clean = df_main.merge(df, on='Name')\n"
   ]
  },
  {
   "cell_type": "code",
   "execution_count": 53,
   "id": "24024bcf",
   "metadata": {
    "ExecuteTime": {
     "end_time": "2021-05-24T17:22:46.928832Z",
     "start_time": "2021-05-24T17:22:46.919857Z"
    }
   },
   "outputs": [
    {
     "data": {
      "text/plain": [
       "Cheap        3184\n",
       "Medium       3016\n",
       "Expensive     354\n",
       "Name: Price_Range, dtype: int64"
      ]
     },
     "execution_count": 53,
     "metadata": {},
     "output_type": "execute_result"
    }
   ],
   "source": [
    "df_clean.Price_Range.value_counts()"
   ]
  },
  {
   "cell_type": "code",
   "execution_count": 56,
   "id": "d7789669",
   "metadata": {
    "ExecuteTime": {
     "end_time": "2021-05-24T17:25:07.225703Z",
     "start_time": "2021-05-24T17:25:07.216727Z"
    }
   },
   "outputs": [
    {
     "data": {
      "text/plain": [
       "'Expensive'"
      ]
     },
     "execution_count": 56,
     "metadata": {},
     "output_type": "execute_result"
    }
   ],
   "source": [
    "df_clean.Price_Range[1]"
   ]
  },
  {
   "cell_type": "code",
   "execution_count": 57,
   "id": "c8f023ac",
   "metadata": {
    "ExecuteTime": {
     "end_time": "2021-05-24T17:25:42.948965Z",
     "start_time": "2021-05-24T17:25:41.875260Z"
    }
   },
   "outputs": [
    {
     "data": {
      "text/plain": [
       "Cheap        3184\n",
       "Mid Range    3016\n",
       "Expensive     354\n",
       "Name: Price_Range, dtype: int64"
      ]
     },
     "execution_count": 57,
     "metadata": {},
     "output_type": "execute_result"
    }
   ],
   "source": [
    "for i in range(len(df_clean)):\n",
    "    \n",
    "    if df_clean.Price_Range[i] == 'Medium':\n",
    "        df_clean.Price_Range[i] = 'Mid Range'\n",
    "    else:\n",
    "        pass\n",
    "    \n",
    "df_clean.Price_Range.value_counts()"
   ]
  },
  {
   "cell_type": "code",
   "execution_count": 58,
   "id": "ca9374ae",
   "metadata": {
    "ExecuteTime": {
     "end_time": "2021-05-24T17:25:59.516637Z",
     "start_time": "2021-05-24T17:25:59.114708Z"
    }
   },
   "outputs": [],
   "source": [
    "df_clean.to_csv('cleaned_data.csv')"
   ]
  },
  {
   "cell_type": "markdown",
   "id": "0372e596",
   "metadata": {},
   "source": [
    "### Cocktails DB"
   ]
  },
  {
   "cell_type": "code",
   "execution_count": 104,
   "id": "5424abc8",
   "metadata": {
    "ExecuteTime": {
     "end_time": "2021-05-20T20:21:04.775180Z",
     "start_time": "2021-05-20T20:21:04.756257Z"
    }
   },
   "outputs": [
    {
     "data": {
      "text/plain": [
       "(546, 40)"
      ]
     },
     "execution_count": 104,
     "metadata": {},
     "output_type": "execute_result"
    }
   ],
   "source": [
    "ct_df1 = pd.read_csv('../data/all_drinks_cocktailDB.csv', index_col=0)\n",
    "ct_df1.shape"
   ]
  },
  {
   "cell_type": "code",
   "execution_count": 73,
   "id": "da5ed275",
   "metadata": {
    "ExecuteTime": {
     "end_time": "2021-05-20T19:51:54.241191Z",
     "start_time": "2021-05-20T19:51:54.219281Z"
    }
   },
   "outputs": [
    {
     "data": {
      "text/plain": [
       "(687, 8)"
      ]
     },
     "execution_count": 73,
     "metadata": {},
     "output_type": "execute_result"
    }
   ],
   "source": [
    "ct_df2 = pd.read_csv('../data/hotaling_cocktails - Cocktails.csv', index_col=0)\n",
    "ct_df2.shape"
   ]
  },
  {
   "cell_type": "code",
   "execution_count": 125,
   "id": "17732e6c",
   "metadata": {
    "ExecuteTime": {
     "end_time": "2021-05-20T20:33:49.803703Z",
     "start_time": "2021-05-20T20:33:49.782766Z"
    }
   },
   "outputs": [
    {
     "data": {
      "text/plain": [
       "(990, 17)"
      ]
     },
     "execution_count": 125,
     "metadata": {},
     "output_type": "execute_result"
    }
   ],
   "source": [
    "ct_df3 = pd.read_csv('../data/mr-boston-flattened.csv')\n",
    "ct_df3.shape"
   ]
  },
  {
   "cell_type": "code",
   "execution_count": 72,
   "id": "0d6a91a5",
   "metadata": {
    "ExecuteTime": {
     "end_time": "2021-05-20T19:51:50.096454Z",
     "start_time": "2021-05-20T19:51:50.063542Z"
    },
    "scrolled": true
   },
   "outputs": [
    {
     "data": {
      "text/html": [
       "<div>\n",
       "<style scoped>\n",
       "    .dataframe tbody tr th:only-of-type {\n",
       "        vertical-align: middle;\n",
       "    }\n",
       "\n",
       "    .dataframe tbody tr th {\n",
       "        vertical-align: top;\n",
       "    }\n",
       "\n",
       "    .dataframe thead th {\n",
       "        text-align: right;\n",
       "    }\n",
       "</style>\n",
       "<table border=\"1\" class=\"dataframe\">\n",
       "  <thead>\n",
       "    <tr style=\"text-align: right;\">\n",
       "      <th></th>\n",
       "      <th>strDrink</th>\n",
       "      <th>dateModified</th>\n",
       "      <th>idDrink</th>\n",
       "      <th>strAlcoholic</th>\n",
       "      <th>strCategory</th>\n",
       "      <th>strDrinkThumb</th>\n",
       "      <th>strGlass</th>\n",
       "      <th>strIBA</th>\n",
       "      <th>strIngredient1</th>\n",
       "      <th>strIngredient10</th>\n",
       "      <th>...</th>\n",
       "      <th>strMeasure15</th>\n",
       "      <th>strMeasure2</th>\n",
       "      <th>strMeasure3</th>\n",
       "      <th>strMeasure4</th>\n",
       "      <th>strMeasure5</th>\n",
       "      <th>strMeasure6</th>\n",
       "      <th>strMeasure7</th>\n",
       "      <th>strMeasure8</th>\n",
       "      <th>strMeasure9</th>\n",
       "      <th>strVideo</th>\n",
       "    </tr>\n",
       "  </thead>\n",
       "  <tbody>\n",
       "    <tr>\n",
       "      <th>0</th>\n",
       "      <td>'57 Chevy with a White License Plate</td>\n",
       "      <td>7/18/2016 22:49</td>\n",
       "      <td>14029</td>\n",
       "      <td>Alcoholic</td>\n",
       "      <td>Cocktail</td>\n",
       "      <td>http://www.thecocktaildb.com/images/media/drin...</td>\n",
       "      <td>Highball glass</td>\n",
       "      <td>NaN</td>\n",
       "      <td>Creme de Cacao</td>\n",
       "      <td>NaN</td>\n",
       "      <td>...</td>\n",
       "      <td>NaN</td>\n",
       "      <td>1 oz</td>\n",
       "      <td></td>\n",
       "      <td></td>\n",
       "      <td></td>\n",
       "      <td></td>\n",
       "      <td></td>\n",
       "      <td>NaN</td>\n",
       "      <td>NaN</td>\n",
       "      <td>NaN</td>\n",
       "    </tr>\n",
       "    <tr>\n",
       "      <th>1</th>\n",
       "      <td>1-900-FUK-MEUP</td>\n",
       "      <td>7/18/2016 22:27</td>\n",
       "      <td>15395</td>\n",
       "      <td>Alcoholic</td>\n",
       "      <td>Shot</td>\n",
       "      <td>http://www.thecocktaildb.com/images/media/drin...</td>\n",
       "      <td>Old-fashioned glass</td>\n",
       "      <td>NaN</td>\n",
       "      <td>Absolut Kurant</td>\n",
       "      <td>NaN</td>\n",
       "      <td>...</td>\n",
       "      <td>NaN</td>\n",
       "      <td>1/4 oz</td>\n",
       "      <td>1/4 oz</td>\n",
       "      <td>1/4 oz</td>\n",
       "      <td>1/4 oz</td>\n",
       "      <td>1/4 oz</td>\n",
       "      <td>1/2 oz</td>\n",
       "      <td>1/4 oz</td>\n",
       "      <td></td>\n",
       "      <td>NaN</td>\n",
       "    </tr>\n",
       "    <tr>\n",
       "      <th>2</th>\n",
       "      <td>110 in the shade</td>\n",
       "      <td>2/3/2016 14:51</td>\n",
       "      <td>15423</td>\n",
       "      <td>Alcoholic</td>\n",
       "      <td>Beer</td>\n",
       "      <td>http://www.thecocktaildb.com/images/media/drin...</td>\n",
       "      <td>Beer Glass</td>\n",
       "      <td>NaN</td>\n",
       "      <td>Lager</td>\n",
       "      <td>NaN</td>\n",
       "      <td>...</td>\n",
       "      <td>NaN</td>\n",
       "      <td>1.5 oz</td>\n",
       "      <td></td>\n",
       "      <td></td>\n",
       "      <td></td>\n",
       "      <td></td>\n",
       "      <td></td>\n",
       "      <td>NaN</td>\n",
       "      <td>NaN</td>\n",
       "      <td>NaN</td>\n",
       "    </tr>\n",
       "    <tr>\n",
       "      <th>3</th>\n",
       "      <td>151 Florida Bushwacker</td>\n",
       "      <td>7/18/2016 22:28</td>\n",
       "      <td>14588</td>\n",
       "      <td>Alcoholic</td>\n",
       "      <td>Milk / Float / Shake</td>\n",
       "      <td>http://www.thecocktaildb.com/images/media/drin...</td>\n",
       "      <td>Beer mug</td>\n",
       "      <td>NaN</td>\n",
       "      <td>Malibu rum</td>\n",
       "      <td>NaN</td>\n",
       "      <td>...</td>\n",
       "      <td>NaN</td>\n",
       "      <td>1/2 oz</td>\n",
       "      <td>1/2 oz Bacardi</td>\n",
       "      <td>1 oz</td>\n",
       "      <td>1 oz</td>\n",
       "      <td>3 oz</td>\n",
       "      <td>1 oz</td>\n",
       "      <td>1 cup</td>\n",
       "      <td></td>\n",
       "      <td>NaN</td>\n",
       "    </tr>\n",
       "    <tr>\n",
       "      <th>4</th>\n",
       "      <td>155 Belmont</td>\n",
       "      <td>10/5/2016 12:36</td>\n",
       "      <td>15346</td>\n",
       "      <td>Alcoholic</td>\n",
       "      <td>Cocktail</td>\n",
       "      <td>http://www.thecocktaildb.com/images/media/drin...</td>\n",
       "      <td>White wine glass</td>\n",
       "      <td>NaN</td>\n",
       "      <td>Dark rum</td>\n",
       "      <td>NaN</td>\n",
       "      <td>...</td>\n",
       "      <td>NaN</td>\n",
       "      <td>2 shots</td>\n",
       "      <td>1 shot</td>\n",
       "      <td>1 shot</td>\n",
       "      <td></td>\n",
       "      <td></td>\n",
       "      <td></td>\n",
       "      <td></td>\n",
       "      <td></td>\n",
       "      <td>NaN</td>\n",
       "    </tr>\n",
       "  </tbody>\n",
       "</table>\n",
       "<p>5 rows × 40 columns</p>\n",
       "</div>"
      ],
      "text/plain": [
       "                               strDrink     dateModified  idDrink  \\\n",
       "0  '57 Chevy with a White License Plate  7/18/2016 22:49    14029   \n",
       "1                        1-900-FUK-MEUP  7/18/2016 22:27    15395   \n",
       "2                      110 in the shade   2/3/2016 14:51    15423   \n",
       "3                151 Florida Bushwacker  7/18/2016 22:28    14588   \n",
       "4                           155 Belmont  10/5/2016 12:36    15346   \n",
       "\n",
       "  strAlcoholic           strCategory  \\\n",
       "0    Alcoholic              Cocktail   \n",
       "1    Alcoholic                  Shot   \n",
       "2    Alcoholic                  Beer   \n",
       "3    Alcoholic  Milk / Float / Shake   \n",
       "4    Alcoholic              Cocktail   \n",
       "\n",
       "                                       strDrinkThumb             strGlass  \\\n",
       "0  http://www.thecocktaildb.com/images/media/drin...       Highball glass   \n",
       "1  http://www.thecocktaildb.com/images/media/drin...  Old-fashioned glass   \n",
       "2  http://www.thecocktaildb.com/images/media/drin...           Beer Glass   \n",
       "3  http://www.thecocktaildb.com/images/media/drin...             Beer mug   \n",
       "4  http://www.thecocktaildb.com/images/media/drin...     White wine glass   \n",
       "\n",
       "  strIBA  strIngredient1 strIngredient10  ... strMeasure15 strMeasure2  \\\n",
       "0    NaN  Creme de Cacao             NaN  ...          NaN       1 oz    \n",
       "1    NaN  Absolut Kurant             NaN  ...          NaN     1/4 oz    \n",
       "2    NaN           Lager             NaN  ...          NaN     1.5 oz    \n",
       "3    NaN      Malibu rum             NaN  ...          NaN     1/2 oz    \n",
       "4    NaN        Dark rum             NaN  ...          NaN    2 shots    \n",
       "\n",
       "       strMeasure3  strMeasure4  strMeasure5 strMeasure6 strMeasure7  \\\n",
       "0                                                                      \n",
       "1          1/4 oz       1/4 oz       1/4 oz      1/4 oz      1/2 oz    \n",
       "2                                                                      \n",
       "3  1/2 oz Bacardi         1 oz         1 oz        3 oz        1 oz    \n",
       "4          1 shot       1 shot                                         \n",
       "\n",
       "  strMeasure8 strMeasure9 strVideo  \n",
       "0         NaN         NaN      NaN  \n",
       "1     1/4 oz                   NaN  \n",
       "2         NaN         NaN      NaN  \n",
       "3      1 cup                   NaN  \n",
       "4                              NaN  \n",
       "\n",
       "[5 rows x 40 columns]"
      ]
     },
     "execution_count": 72,
     "metadata": {},
     "output_type": "execute_result"
    }
   ],
   "source": [
    "ct_df1.head()"
   ]
  },
  {
   "cell_type": "code",
   "execution_count": 105,
   "id": "ac402ba9",
   "metadata": {
    "ExecuteTime": {
     "end_time": "2021-05-20T20:21:09.209008Z",
     "start_time": "2021-05-20T20:21:09.200032Z"
    }
   },
   "outputs": [],
   "source": [
    "ct_df1['Name'] = ct_df1.strDrink\n",
    "ct_df1['Category'] = ct_df1.strCategory\n",
    "ct_df1['Photo_Link'] = ct_df1.strDrinkThumb\n",
    "ct_df1['Serve_In'] = ct_df1.strGlass\n",
    "ct_df1['Instructions'] = ct_df1.strInstructions"
   ]
  },
  {
   "cell_type": "code",
   "execution_count": 106,
   "id": "1624f5c4",
   "metadata": {
    "ExecuteTime": {
     "end_time": "2021-05-20T20:21:09.880187Z",
     "start_time": "2021-05-20T20:21:09.852236Z"
    }
   },
   "outputs": [
    {
     "data": {
      "text/html": [
       "<div>\n",
       "<style scoped>\n",
       "    .dataframe tbody tr th:only-of-type {\n",
       "        vertical-align: middle;\n",
       "    }\n",
       "\n",
       "    .dataframe tbody tr th {\n",
       "        vertical-align: top;\n",
       "    }\n",
       "\n",
       "    .dataframe thead th {\n",
       "        text-align: right;\n",
       "    }\n",
       "</style>\n",
       "<table border=\"1\" class=\"dataframe\">\n",
       "  <thead>\n",
       "    <tr style=\"text-align: right;\">\n",
       "      <th></th>\n",
       "      <th>strDrink</th>\n",
       "      <th>dateModified</th>\n",
       "      <th>idDrink</th>\n",
       "      <th>strAlcoholic</th>\n",
       "      <th>strCategory</th>\n",
       "      <th>strDrinkThumb</th>\n",
       "      <th>strGlass</th>\n",
       "      <th>strIBA</th>\n",
       "      <th>strIngredient1</th>\n",
       "      <th>strIngredient10</th>\n",
       "      <th>...</th>\n",
       "      <th>strMeasure6</th>\n",
       "      <th>strMeasure7</th>\n",
       "      <th>strMeasure8</th>\n",
       "      <th>strMeasure9</th>\n",
       "      <th>strVideo</th>\n",
       "      <th>Name</th>\n",
       "      <th>Category</th>\n",
       "      <th>Photo_Link</th>\n",
       "      <th>Serve_In</th>\n",
       "      <th>Instructions</th>\n",
       "    </tr>\n",
       "  </thead>\n",
       "  <tbody>\n",
       "    <tr>\n",
       "      <th>0</th>\n",
       "      <td>'57 Chevy with a White License Plate</td>\n",
       "      <td>7/18/2016 22:49</td>\n",
       "      <td>14029</td>\n",
       "      <td>Alcoholic</td>\n",
       "      <td>Cocktail</td>\n",
       "      <td>http://www.thecocktaildb.com/images/media/drin...</td>\n",
       "      <td>Highball glass</td>\n",
       "      <td>NaN</td>\n",
       "      <td>Creme de Cacao</td>\n",
       "      <td>NaN</td>\n",
       "      <td>...</td>\n",
       "      <td></td>\n",
       "      <td></td>\n",
       "      <td>NaN</td>\n",
       "      <td>NaN</td>\n",
       "      <td>NaN</td>\n",
       "      <td>'57 Chevy with a White License Plate</td>\n",
       "      <td>Cocktail</td>\n",
       "      <td>http://www.thecocktaildb.com/images/media/drin...</td>\n",
       "      <td>Highball glass</td>\n",
       "      <td>1. Fill a rocks glass with ice 2.add white cre...</td>\n",
       "    </tr>\n",
       "    <tr>\n",
       "      <th>1</th>\n",
       "      <td>1-900-FUK-MEUP</td>\n",
       "      <td>7/18/2016 22:27</td>\n",
       "      <td>15395</td>\n",
       "      <td>Alcoholic</td>\n",
       "      <td>Shot</td>\n",
       "      <td>http://www.thecocktaildb.com/images/media/drin...</td>\n",
       "      <td>Old-fashioned glass</td>\n",
       "      <td>NaN</td>\n",
       "      <td>Absolut Kurant</td>\n",
       "      <td>NaN</td>\n",
       "      <td>...</td>\n",
       "      <td>1/4 oz</td>\n",
       "      <td>1/2 oz</td>\n",
       "      <td>1/4 oz</td>\n",
       "      <td></td>\n",
       "      <td>NaN</td>\n",
       "      <td>1-900-FUK-MEUP</td>\n",
       "      <td>Shot</td>\n",
       "      <td>http://www.thecocktaildb.com/images/media/drin...</td>\n",
       "      <td>Old-fashioned glass</td>\n",
       "      <td>Shake ingredients in a mixing tin filled with ...</td>\n",
       "    </tr>\n",
       "    <tr>\n",
       "      <th>2</th>\n",
       "      <td>110 in the shade</td>\n",
       "      <td>2/3/2016 14:51</td>\n",
       "      <td>15423</td>\n",
       "      <td>Alcoholic</td>\n",
       "      <td>Beer</td>\n",
       "      <td>http://www.thecocktaildb.com/images/media/drin...</td>\n",
       "      <td>Beer Glass</td>\n",
       "      <td>NaN</td>\n",
       "      <td>Lager</td>\n",
       "      <td>NaN</td>\n",
       "      <td>...</td>\n",
       "      <td></td>\n",
       "      <td></td>\n",
       "      <td>NaN</td>\n",
       "      <td>NaN</td>\n",
       "      <td>NaN</td>\n",
       "      <td>110 in the shade</td>\n",
       "      <td>Beer</td>\n",
       "      <td>http://www.thecocktaildb.com/images/media/drin...</td>\n",
       "      <td>Beer Glass</td>\n",
       "      <td>Drop shooter in glass. Fill with beer</td>\n",
       "    </tr>\n",
       "    <tr>\n",
       "      <th>3</th>\n",
       "      <td>151 Florida Bushwacker</td>\n",
       "      <td>7/18/2016 22:28</td>\n",
       "      <td>14588</td>\n",
       "      <td>Alcoholic</td>\n",
       "      <td>Milk / Float / Shake</td>\n",
       "      <td>http://www.thecocktaildb.com/images/media/drin...</td>\n",
       "      <td>Beer mug</td>\n",
       "      <td>NaN</td>\n",
       "      <td>Malibu rum</td>\n",
       "      <td>NaN</td>\n",
       "      <td>...</td>\n",
       "      <td>3 oz</td>\n",
       "      <td>1 oz</td>\n",
       "      <td>1 cup</td>\n",
       "      <td></td>\n",
       "      <td>NaN</td>\n",
       "      <td>151 Florida Bushwacker</td>\n",
       "      <td>Milk / Float / Shake</td>\n",
       "      <td>http://www.thecocktaildb.com/images/media/drin...</td>\n",
       "      <td>Beer mug</td>\n",
       "      <td>Combine all ingredients. Blend until smooth. G...</td>\n",
       "    </tr>\n",
       "    <tr>\n",
       "      <th>4</th>\n",
       "      <td>155 Belmont</td>\n",
       "      <td>10/5/2016 12:36</td>\n",
       "      <td>15346</td>\n",
       "      <td>Alcoholic</td>\n",
       "      <td>Cocktail</td>\n",
       "      <td>http://www.thecocktaildb.com/images/media/drin...</td>\n",
       "      <td>White wine glass</td>\n",
       "      <td>NaN</td>\n",
       "      <td>Dark rum</td>\n",
       "      <td>NaN</td>\n",
       "      <td>...</td>\n",
       "      <td></td>\n",
       "      <td></td>\n",
       "      <td></td>\n",
       "      <td></td>\n",
       "      <td>NaN</td>\n",
       "      <td>155 Belmont</td>\n",
       "      <td>Cocktail</td>\n",
       "      <td>http://www.thecocktaildb.com/images/media/drin...</td>\n",
       "      <td>White wine glass</td>\n",
       "      <td>Blend with ice. Serve in a wine glass. Garnish...</td>\n",
       "    </tr>\n",
       "  </tbody>\n",
       "</table>\n",
       "<p>5 rows × 45 columns</p>\n",
       "</div>"
      ],
      "text/plain": [
       "                               strDrink     dateModified  idDrink  \\\n",
       "0  '57 Chevy with a White License Plate  7/18/2016 22:49    14029   \n",
       "1                        1-900-FUK-MEUP  7/18/2016 22:27    15395   \n",
       "2                      110 in the shade   2/3/2016 14:51    15423   \n",
       "3                151 Florida Bushwacker  7/18/2016 22:28    14588   \n",
       "4                           155 Belmont  10/5/2016 12:36    15346   \n",
       "\n",
       "  strAlcoholic           strCategory  \\\n",
       "0    Alcoholic              Cocktail   \n",
       "1    Alcoholic                  Shot   \n",
       "2    Alcoholic                  Beer   \n",
       "3    Alcoholic  Milk / Float / Shake   \n",
       "4    Alcoholic              Cocktail   \n",
       "\n",
       "                                       strDrinkThumb             strGlass  \\\n",
       "0  http://www.thecocktaildb.com/images/media/drin...       Highball glass   \n",
       "1  http://www.thecocktaildb.com/images/media/drin...  Old-fashioned glass   \n",
       "2  http://www.thecocktaildb.com/images/media/drin...           Beer Glass   \n",
       "3  http://www.thecocktaildb.com/images/media/drin...             Beer mug   \n",
       "4  http://www.thecocktaildb.com/images/media/drin...     White wine glass   \n",
       "\n",
       "  strIBA  strIngredient1 strIngredient10  ... strMeasure6 strMeasure7  \\\n",
       "0    NaN  Creme de Cacao             NaN  ...                           \n",
       "1    NaN  Absolut Kurant             NaN  ...     1/4 oz      1/2 oz    \n",
       "2    NaN           Lager             NaN  ...                           \n",
       "3    NaN      Malibu rum             NaN  ...       3 oz        1 oz    \n",
       "4    NaN        Dark rum             NaN  ...                           \n",
       "\n",
       "   strMeasure8  strMeasure9  strVideo                                  Name  \\\n",
       "0          NaN          NaN       NaN  '57 Chevy with a White License Plate   \n",
       "1      1/4 oz                     NaN                        1-900-FUK-MEUP   \n",
       "2          NaN          NaN       NaN                      110 in the shade   \n",
       "3       1 cup                     NaN                151 Florida Bushwacker   \n",
       "4                                 NaN                           155 Belmont   \n",
       "\n",
       "               Category                                         Photo_Link  \\\n",
       "0              Cocktail  http://www.thecocktaildb.com/images/media/drin...   \n",
       "1                  Shot  http://www.thecocktaildb.com/images/media/drin...   \n",
       "2                  Beer  http://www.thecocktaildb.com/images/media/drin...   \n",
       "3  Milk / Float / Shake  http://www.thecocktaildb.com/images/media/drin...   \n",
       "4              Cocktail  http://www.thecocktaildb.com/images/media/drin...   \n",
       "\n",
       "              Serve_In                                       Instructions  \n",
       "0       Highball glass  1. Fill a rocks glass with ice 2.add white cre...  \n",
       "1  Old-fashioned glass  Shake ingredients in a mixing tin filled with ...  \n",
       "2           Beer Glass              Drop shooter in glass. Fill with beer  \n",
       "3             Beer mug  Combine all ingredients. Blend until smooth. G...  \n",
       "4     White wine glass  Blend with ice. Serve in a wine glass. Garnish...  \n",
       "\n",
       "[5 rows x 45 columns]"
      ]
     },
     "execution_count": 106,
     "metadata": {},
     "output_type": "execute_result"
    }
   ],
   "source": [
    "ct_df1.head()"
   ]
  },
  {
   "cell_type": "code",
   "execution_count": 107,
   "id": "2c1bb9f3",
   "metadata": {
    "ExecuteTime": {
     "end_time": "2021-05-20T20:21:12.305488Z",
     "start_time": "2021-05-20T20:21:12.300499Z"
    }
   },
   "outputs": [],
   "source": [
    "ct_df1 = ct_df1[['Name', 'Category', 'Instructions', 'Serve_In', 'Photo_Link']]"
   ]
  },
  {
   "cell_type": "code",
   "execution_count": 108,
   "id": "4102d97b",
   "metadata": {
    "ExecuteTime": {
     "end_time": "2021-05-20T20:21:12.852528Z",
     "start_time": "2021-05-20T20:21:12.839563Z"
    }
   },
   "outputs": [
    {
     "data": {
      "text/html": [
       "<div>\n",
       "<style scoped>\n",
       "    .dataframe tbody tr th:only-of-type {\n",
       "        vertical-align: middle;\n",
       "    }\n",
       "\n",
       "    .dataframe tbody tr th {\n",
       "        vertical-align: top;\n",
       "    }\n",
       "\n",
       "    .dataframe thead th {\n",
       "        text-align: right;\n",
       "    }\n",
       "</style>\n",
       "<table border=\"1\" class=\"dataframe\">\n",
       "  <thead>\n",
       "    <tr style=\"text-align: right;\">\n",
       "      <th></th>\n",
       "      <th>Name</th>\n",
       "      <th>Category</th>\n",
       "      <th>Instructions</th>\n",
       "      <th>Serve_In</th>\n",
       "      <th>Photo_Link</th>\n",
       "    </tr>\n",
       "  </thead>\n",
       "  <tbody>\n",
       "    <tr>\n",
       "      <th>0</th>\n",
       "      <td>'57 Chevy with a White License Plate</td>\n",
       "      <td>Cocktail</td>\n",
       "      <td>1. Fill a rocks glass with ice 2.add white cre...</td>\n",
       "      <td>Highball glass</td>\n",
       "      <td>http://www.thecocktaildb.com/images/media/drin...</td>\n",
       "    </tr>\n",
       "    <tr>\n",
       "      <th>1</th>\n",
       "      <td>1-900-FUK-MEUP</td>\n",
       "      <td>Shot</td>\n",
       "      <td>Shake ingredients in a mixing tin filled with ...</td>\n",
       "      <td>Old-fashioned glass</td>\n",
       "      <td>http://www.thecocktaildb.com/images/media/drin...</td>\n",
       "    </tr>\n",
       "    <tr>\n",
       "      <th>2</th>\n",
       "      <td>110 in the shade</td>\n",
       "      <td>Beer</td>\n",
       "      <td>Drop shooter in glass. Fill with beer</td>\n",
       "      <td>Beer Glass</td>\n",
       "      <td>http://www.thecocktaildb.com/images/media/drin...</td>\n",
       "    </tr>\n",
       "    <tr>\n",
       "      <th>3</th>\n",
       "      <td>151 Florida Bushwacker</td>\n",
       "      <td>Milk / Float / Shake</td>\n",
       "      <td>Combine all ingredients. Blend until smooth. G...</td>\n",
       "      <td>Beer mug</td>\n",
       "      <td>http://www.thecocktaildb.com/images/media/drin...</td>\n",
       "    </tr>\n",
       "    <tr>\n",
       "      <th>4</th>\n",
       "      <td>155 Belmont</td>\n",
       "      <td>Cocktail</td>\n",
       "      <td>Blend with ice. Serve in a wine glass. Garnish...</td>\n",
       "      <td>White wine glass</td>\n",
       "      <td>http://www.thecocktaildb.com/images/media/drin...</td>\n",
       "    </tr>\n",
       "    <tr>\n",
       "      <th>...</th>\n",
       "      <td>...</td>\n",
       "      <td>...</td>\n",
       "      <td>...</td>\n",
       "      <td>...</td>\n",
       "      <td>...</td>\n",
       "    </tr>\n",
       "    <tr>\n",
       "      <th>541</th>\n",
       "      <td>Zippy's Revenge</td>\n",
       "      <td>Cocktail</td>\n",
       "      <td>Mix Kool-Aid to taste then add Rum and ammaret...</td>\n",
       "      <td>Old-fashioned glass</td>\n",
       "      <td>http://www.thecocktaildb.com/images/media/drin...</td>\n",
       "    </tr>\n",
       "    <tr>\n",
       "      <th>542</th>\n",
       "      <td>Zizi Coin-coin</td>\n",
       "      <td>Punch / Party Drink</td>\n",
       "      <td>Pour 5cl of Cointreau on ice, add 2cl of fresh...</td>\n",
       "      <td>Margarita/Coupette glass</td>\n",
       "      <td>http://www.thecocktaildb.com/images/media/drin...</td>\n",
       "    </tr>\n",
       "    <tr>\n",
       "      <th>543</th>\n",
       "      <td>Zoksel</td>\n",
       "      <td>Soft Drink / Soda</td>\n",
       "      <td>No specific mixinginstructions, just poor ever...</td>\n",
       "      <td>Beer pilsner</td>\n",
       "      <td>http://www.thecocktaildb.com/images/media/drin...</td>\n",
       "    </tr>\n",
       "    <tr>\n",
       "      <th>544</th>\n",
       "      <td>Zorbatini</td>\n",
       "      <td>Cocktail</td>\n",
       "      <td>Prepare like a Martini. Garnish with a green o...</td>\n",
       "      <td>Cocktail glass</td>\n",
       "      <td>http://www.thecocktaildb.com/images/media/drin...</td>\n",
       "    </tr>\n",
       "    <tr>\n",
       "      <th>545</th>\n",
       "      <td>Zorro</td>\n",
       "      <td>Coffee / Tea</td>\n",
       "      <td>add all and pour black coffee and add whipped ...</td>\n",
       "      <td>Coffee Mug</td>\n",
       "      <td>http://www.thecocktaildb.com/images/media/drin...</td>\n",
       "    </tr>\n",
       "  </tbody>\n",
       "</table>\n",
       "<p>546 rows × 5 columns</p>\n",
       "</div>"
      ],
      "text/plain": [
       "                                     Name              Category  \\\n",
       "0    '57 Chevy with a White License Plate              Cocktail   \n",
       "1                          1-900-FUK-MEUP                  Shot   \n",
       "2                        110 in the shade                  Beer   \n",
       "3                  151 Florida Bushwacker  Milk / Float / Shake   \n",
       "4                             155 Belmont              Cocktail   \n",
       "..                                    ...                   ...   \n",
       "541                       Zippy's Revenge              Cocktail   \n",
       "542                        Zizi Coin-coin   Punch / Party Drink   \n",
       "543                                Zoksel     Soft Drink / Soda   \n",
       "544                             Zorbatini              Cocktail   \n",
       "545                                 Zorro          Coffee / Tea   \n",
       "\n",
       "                                          Instructions  \\\n",
       "0    1. Fill a rocks glass with ice 2.add white cre...   \n",
       "1    Shake ingredients in a mixing tin filled with ...   \n",
       "2                Drop shooter in glass. Fill with beer   \n",
       "3    Combine all ingredients. Blend until smooth. G...   \n",
       "4    Blend with ice. Serve in a wine glass. Garnish...   \n",
       "..                                                 ...   \n",
       "541  Mix Kool-Aid to taste then add Rum and ammaret...   \n",
       "542  Pour 5cl of Cointreau on ice, add 2cl of fresh...   \n",
       "543  No specific mixinginstructions, just poor ever...   \n",
       "544  Prepare like a Martini. Garnish with a green o...   \n",
       "545  add all and pour black coffee and add whipped ...   \n",
       "\n",
       "                     Serve_In  \\\n",
       "0              Highball glass   \n",
       "1         Old-fashioned glass   \n",
       "2                  Beer Glass   \n",
       "3                    Beer mug   \n",
       "4            White wine glass   \n",
       "..                        ...   \n",
       "541       Old-fashioned glass   \n",
       "542  Margarita/Coupette glass   \n",
       "543              Beer pilsner   \n",
       "544            Cocktail glass   \n",
       "545                Coffee Mug   \n",
       "\n",
       "                                            Photo_Link  \n",
       "0    http://www.thecocktaildb.com/images/media/drin...  \n",
       "1    http://www.thecocktaildb.com/images/media/drin...  \n",
       "2    http://www.thecocktaildb.com/images/media/drin...  \n",
       "3    http://www.thecocktaildb.com/images/media/drin...  \n",
       "4    http://www.thecocktaildb.com/images/media/drin...  \n",
       "..                                                 ...  \n",
       "541  http://www.thecocktaildb.com/images/media/drin...  \n",
       "542  http://www.thecocktaildb.com/images/media/drin...  \n",
       "543  http://www.thecocktaildb.com/images/media/drin...  \n",
       "544  http://www.thecocktaildb.com/images/media/drin...  \n",
       "545  http://www.thecocktaildb.com/images/media/drin...  \n",
       "\n",
       "[546 rows x 5 columns]"
      ]
     },
     "execution_count": 108,
     "metadata": {},
     "output_type": "execute_result"
    }
   ],
   "source": [
    "ct_df1"
   ]
  },
  {
   "cell_type": "code",
   "execution_count": 90,
   "id": "a366eee0",
   "metadata": {
    "ExecuteTime": {
     "end_time": "2021-05-20T20:06:33.200271Z",
     "start_time": "2021-05-20T20:06:33.179355Z"
    }
   },
   "outputs": [
    {
     "data": {
      "text/html": [
       "<div>\n",
       "<style scoped>\n",
       "    .dataframe tbody tr th:only-of-type {\n",
       "        vertical-align: middle;\n",
       "    }\n",
       "\n",
       "    .dataframe tbody tr th {\n",
       "        vertical-align: top;\n",
       "    }\n",
       "\n",
       "    .dataframe thead th {\n",
       "        text-align: right;\n",
       "    }\n",
       "</style>\n",
       "<table border=\"1\" class=\"dataframe\">\n",
       "  <thead>\n",
       "    <tr style=\"text-align: right;\">\n",
       "      <th></th>\n",
       "      <th>Cocktail Name</th>\n",
       "      <th>Ingredients</th>\n",
       "      <th>Preparation</th>\n",
       "    </tr>\n",
       "  </thead>\n",
       "  <tbody>\n",
       "    <tr>\n",
       "      <th>0</th>\n",
       "      <td>155 Belmont</td>\n",
       "      <td>Orange juice, Vodka, Light rum, Dark rum,</td>\n",
       "      <td>Blend with ice. Serve in a wine glass. Garnish...</td>\n",
       "    </tr>\n",
       "    <tr>\n",
       "      <th>1</th>\n",
       "      <td>1-900-FUK-MEUP</td>\n",
       "      <td>Pineapple juice, Cranberry juice, Amaretto, Ma...</td>\n",
       "      <td>Shake ingredients in a mixing tin filled with ...</td>\n",
       "    </tr>\n",
       "    <tr>\n",
       "      <th>2</th>\n",
       "      <td>110 in the shade</td>\n",
       "      <td>Tequila, Lager,</td>\n",
       "      <td>Drop shooter in glass. Fill with beer</td>\n",
       "    </tr>\n",
       "    <tr>\n",
       "      <th>3</th>\n",
       "      <td>151 Florida Bushwacker</td>\n",
       "      <td>Vanilla ice-cream, Coconut liqueur, Milk, Coin...</td>\n",
       "      <td>Combine all ingredients. Blend until smooth. G...</td>\n",
       "    </tr>\n",
       "    <tr>\n",
       "      <th>4</th>\n",
       "      <td>252</td>\n",
       "      <td>Wild Turkey, 151 proof rum,</td>\n",
       "      <td>Add both ingredients to shot glass, shoot, and...</td>\n",
       "    </tr>\n",
       "  </tbody>\n",
       "</table>\n",
       "</div>"
      ],
      "text/plain": [
       "            Cocktail Name                                        Ingredients  \\\n",
       "0             155 Belmont         Orange juice, Vodka, Light rum, Dark rum,    \n",
       "1          1-900-FUK-MEUP  Pineapple juice, Cranberry juice, Amaretto, Ma...   \n",
       "2        110 in the shade                                   Tequila, Lager,    \n",
       "3  151 Florida Bushwacker  Vanilla ice-cream, Coconut liqueur, Milk, Coin...   \n",
       "4                     252                       Wild Turkey, 151 proof rum,    \n",
       "\n",
       "                                         Preparation  \n",
       "0  Blend with ice. Serve in a wine glass. Garnish...  \n",
       "1  Shake ingredients in a mixing tin filled with ...  \n",
       "2              Drop shooter in glass. Fill with beer  \n",
       "3  Combine all ingredients. Blend until smooth. G...  \n",
       "4  Add both ingredients to shot glass, shoot, and...  "
      ]
     },
     "execution_count": 90,
     "metadata": {},
     "output_type": "execute_result"
    }
   ],
   "source": [
    "ct_df_1_ing = pd.read_csv('../data/cocktails_db.csv')\n",
    "ct_df_1_ing.head()"
   ]
  },
  {
   "cell_type": "code",
   "execution_count": 93,
   "id": "c97ea5c2",
   "metadata": {
    "ExecuteTime": {
     "end_time": "2021-05-20T20:08:01.947675Z",
     "start_time": "2021-05-20T20:08:01.935705Z"
    }
   },
   "outputs": [],
   "source": [
    "ct_df_1_ing['Name'] = ct_df_1_ing['Cocktail Name']"
   ]
  },
  {
   "cell_type": "code",
   "execution_count": 95,
   "id": "98c4daac",
   "metadata": {
    "ExecuteTime": {
     "end_time": "2021-05-20T20:08:21.888715Z",
     "start_time": "2021-05-20T20:08:21.880737Z"
    }
   },
   "outputs": [],
   "source": [
    "ct_df_1_ing = ct_df_1_ing[['Name', 'Ingredients']]"
   ]
  },
  {
   "cell_type": "code",
   "execution_count": 96,
   "id": "ffc9873c",
   "metadata": {
    "ExecuteTime": {
     "end_time": "2021-05-20T20:08:25.647010Z",
     "start_time": "2021-05-20T20:08:25.630056Z"
    }
   },
   "outputs": [
    {
     "data": {
      "text/html": [
       "<div>\n",
       "<style scoped>\n",
       "    .dataframe tbody tr th:only-of-type {\n",
       "        vertical-align: middle;\n",
       "    }\n",
       "\n",
       "    .dataframe tbody tr th {\n",
       "        vertical-align: top;\n",
       "    }\n",
       "\n",
       "    .dataframe thead th {\n",
       "        text-align: right;\n",
       "    }\n",
       "</style>\n",
       "<table border=\"1\" class=\"dataframe\">\n",
       "  <thead>\n",
       "    <tr style=\"text-align: right;\">\n",
       "      <th></th>\n",
       "      <th>Name</th>\n",
       "      <th>Ingredients</th>\n",
       "    </tr>\n",
       "  </thead>\n",
       "  <tbody>\n",
       "    <tr>\n",
       "      <th>0</th>\n",
       "      <td>155 Belmont</td>\n",
       "      <td>Orange juice, Vodka, Light rum, Dark rum,</td>\n",
       "    </tr>\n",
       "    <tr>\n",
       "      <th>1</th>\n",
       "      <td>1-900-FUK-MEUP</td>\n",
       "      <td>Pineapple juice, Cranberry juice, Amaretto, Ma...</td>\n",
       "    </tr>\n",
       "    <tr>\n",
       "      <th>2</th>\n",
       "      <td>110 in the shade</td>\n",
       "      <td>Tequila, Lager,</td>\n",
       "    </tr>\n",
       "    <tr>\n",
       "      <th>3</th>\n",
       "      <td>151 Florida Bushwacker</td>\n",
       "      <td>Vanilla ice-cream, Coconut liqueur, Milk, Coin...</td>\n",
       "    </tr>\n",
       "    <tr>\n",
       "      <th>4</th>\n",
       "      <td>252</td>\n",
       "      <td>Wild Turkey, 151 proof rum,</td>\n",
       "    </tr>\n",
       "    <tr>\n",
       "      <th>...</th>\n",
       "      <td>...</td>\n",
       "      <td>...</td>\n",
       "    </tr>\n",
       "    <tr>\n",
       "      <th>377</th>\n",
       "      <td>Zippy's Revenge</td>\n",
       "      <td>Kool-Aid, Rum, Amaretto,</td>\n",
       "    </tr>\n",
       "    <tr>\n",
       "      <th>378</th>\n",
       "      <td>Zimadori Zinger</td>\n",
       "      <td>Zima, Midori melon liqueur,</td>\n",
       "    </tr>\n",
       "    <tr>\n",
       "      <th>379</th>\n",
       "      <td>Ziemes Martini Apfelsaft</td>\n",
       "      <td>Apple juice, Vermouth,</td>\n",
       "    </tr>\n",
       "    <tr>\n",
       "      <th>380</th>\n",
       "      <td>'57 Chevy with a White License Plate</td>\n",
       "      <td>Vodka, Creme de Cacao,</td>\n",
       "    </tr>\n",
       "    <tr>\n",
       "      <th>381</th>\n",
       "      <td>Sex on the Beach</td>\n",
       "      <td>1 oz Vodka, 3/4 oz Peach Schnapps, Cranberry j...</td>\n",
       "    </tr>\n",
       "  </tbody>\n",
       "</table>\n",
       "<p>382 rows × 2 columns</p>\n",
       "</div>"
      ],
      "text/plain": [
       "                                     Name  \\\n",
       "0                             155 Belmont   \n",
       "1                          1-900-FUK-MEUP   \n",
       "2                        110 in the shade   \n",
       "3                  151 Florida Bushwacker   \n",
       "4                                     252   \n",
       "..                                    ...   \n",
       "377                       Zippy's Revenge   \n",
       "378                       Zimadori Zinger   \n",
       "379              Ziemes Martini Apfelsaft   \n",
       "380  '57 Chevy with a White License Plate   \n",
       "381                      Sex on the Beach   \n",
       "\n",
       "                                           Ingredients  \n",
       "0           Orange juice, Vodka, Light rum, Dark rum,   \n",
       "1    Pineapple juice, Cranberry juice, Amaretto, Ma...  \n",
       "2                                     Tequila, Lager,   \n",
       "3    Vanilla ice-cream, Coconut liqueur, Milk, Coin...  \n",
       "4                         Wild Turkey, 151 proof rum,   \n",
       "..                                                 ...  \n",
       "377                          Kool-Aid, Rum, Amaretto,   \n",
       "378                       Zima, Midori melon liqueur,   \n",
       "379                            Apple juice, Vermouth,   \n",
       "380                            Vodka, Creme de Cacao,   \n",
       "381  1 oz Vodka, 3/4 oz Peach Schnapps, Cranberry j...  \n",
       "\n",
       "[382 rows x 2 columns]"
      ]
     },
     "execution_count": 96,
     "metadata": {},
     "output_type": "execute_result"
    }
   ],
   "source": [
    "ct_df_1_ing"
   ]
  },
  {
   "cell_type": "code",
   "execution_count": 109,
   "id": "f4c800a6",
   "metadata": {
    "ExecuteTime": {
     "end_time": "2021-05-20T20:21:21.202405Z",
     "start_time": "2021-05-20T20:21:21.192431Z"
    }
   },
   "outputs": [],
   "source": [
    "ct_df1 = ct_df1.merge(ct_df_1_ing, how='outer', on='Name')"
   ]
  },
  {
   "cell_type": "code",
   "execution_count": 110,
   "id": "28e1cea5",
   "metadata": {
    "ExecuteTime": {
     "end_time": "2021-05-20T20:21:21.742159Z",
     "start_time": "2021-05-20T20:21:21.730192Z"
    }
   },
   "outputs": [
    {
     "name": "stdout",
     "output_type": "stream",
     "text": [
      "<class 'pandas.core.frame.DataFrame'>\n",
      "Int64Index: 590 entries, 0 to 589\n",
      "Data columns (total 6 columns):\n",
      " #   Column        Non-Null Count  Dtype \n",
      "---  ------        --------------  ----- \n",
      " 0   Name          590 non-null    object\n",
      " 1   Category      546 non-null    object\n",
      " 2   Instructions  545 non-null    object\n",
      " 3   Serve_In      546 non-null    object\n",
      " 4   Photo_Link    546 non-null    object\n",
      " 5   Ingredients   382 non-null    object\n",
      "dtypes: object(6)\n",
      "memory usage: 32.3+ KB\n"
     ]
    }
   ],
   "source": [
    "ct_df1.info()"
   ]
  },
  {
   "cell_type": "code",
   "execution_count": 112,
   "id": "3020d987",
   "metadata": {
    "ExecuteTime": {
     "end_time": "2021-05-20T20:23:55.010243Z",
     "start_time": "2021-05-20T20:23:54.990296Z"
    }
   },
   "outputs": [
    {
     "data": {
      "text/html": [
       "<div>\n",
       "<style scoped>\n",
       "    .dataframe tbody tr th:only-of-type {\n",
       "        vertical-align: middle;\n",
       "    }\n",
       "\n",
       "    .dataframe tbody tr th {\n",
       "        vertical-align: top;\n",
       "    }\n",
       "\n",
       "    .dataframe thead th {\n",
       "        text-align: right;\n",
       "    }\n",
       "</style>\n",
       "<table border=\"1\" class=\"dataframe\">\n",
       "  <thead>\n",
       "    <tr style=\"text-align: right;\">\n",
       "      <th></th>\n",
       "      <th>Name</th>\n",
       "      <th>Category</th>\n",
       "      <th>Instructions</th>\n",
       "      <th>Serve_In</th>\n",
       "      <th>Photo_Link</th>\n",
       "      <th>Ingredients</th>\n",
       "    </tr>\n",
       "  </thead>\n",
       "  <tbody>\n",
       "    <tr>\n",
       "      <th>0</th>\n",
       "      <td>'57 Chevy with a White License Plate</td>\n",
       "      <td>Cocktail</td>\n",
       "      <td>1. Fill a rocks glass with ice 2.add white cre...</td>\n",
       "      <td>Highball glass</td>\n",
       "      <td>http://www.thecocktaildb.com/images/media/drin...</td>\n",
       "      <td>Vodka, Creme de Cacao,</td>\n",
       "    </tr>\n",
       "    <tr>\n",
       "      <th>1</th>\n",
       "      <td>1-900-FUK-MEUP</td>\n",
       "      <td>Shot</td>\n",
       "      <td>Shake ingredients in a mixing tin filled with ...</td>\n",
       "      <td>Old-fashioned glass</td>\n",
       "      <td>http://www.thecocktaildb.com/images/media/drin...</td>\n",
       "      <td>Pineapple juice, Cranberry juice, Amaretto, Ma...</td>\n",
       "    </tr>\n",
       "    <tr>\n",
       "      <th>2</th>\n",
       "      <td>110 in the shade</td>\n",
       "      <td>Beer</td>\n",
       "      <td>Drop shooter in glass. Fill with beer</td>\n",
       "      <td>Beer Glass</td>\n",
       "      <td>http://www.thecocktaildb.com/images/media/drin...</td>\n",
       "      <td>Tequila, Lager,</td>\n",
       "    </tr>\n",
       "    <tr>\n",
       "      <th>3</th>\n",
       "      <td>151 Florida Bushwacker</td>\n",
       "      <td>Milk / Float / Shake</td>\n",
       "      <td>Combine all ingredients. Blend until smooth. G...</td>\n",
       "      <td>Beer mug</td>\n",
       "      <td>http://www.thecocktaildb.com/images/media/drin...</td>\n",
       "      <td>Vanilla ice-cream, Coconut liqueur, Milk, Coin...</td>\n",
       "    </tr>\n",
       "    <tr>\n",
       "      <th>4</th>\n",
       "      <td>155 Belmont</td>\n",
       "      <td>Cocktail</td>\n",
       "      <td>Blend with ice. Serve in a wine glass. Garnish...</td>\n",
       "      <td>White wine glass</td>\n",
       "      <td>http://www.thecocktaildb.com/images/media/drin...</td>\n",
       "      <td>Orange juice, Vodka, Light rum, Dark rum,</td>\n",
       "    </tr>\n",
       "  </tbody>\n",
       "</table>\n",
       "</div>"
      ],
      "text/plain": [
       "                                   Name              Category  \\\n",
       "0  '57 Chevy with a White License Plate              Cocktail   \n",
       "1                        1-900-FUK-MEUP                  Shot   \n",
       "2                      110 in the shade                  Beer   \n",
       "3                151 Florida Bushwacker  Milk / Float / Shake   \n",
       "4                           155 Belmont              Cocktail   \n",
       "\n",
       "                                        Instructions             Serve_In  \\\n",
       "0  1. Fill a rocks glass with ice 2.add white cre...       Highball glass   \n",
       "1  Shake ingredients in a mixing tin filled with ...  Old-fashioned glass   \n",
       "2              Drop shooter in glass. Fill with beer           Beer Glass   \n",
       "3  Combine all ingredients. Blend until smooth. G...             Beer mug   \n",
       "4  Blend with ice. Serve in a wine glass. Garnish...     White wine glass   \n",
       "\n",
       "                                          Photo_Link  \\\n",
       "0  http://www.thecocktaildb.com/images/media/drin...   \n",
       "1  http://www.thecocktaildb.com/images/media/drin...   \n",
       "2  http://www.thecocktaildb.com/images/media/drin...   \n",
       "3  http://www.thecocktaildb.com/images/media/drin...   \n",
       "4  http://www.thecocktaildb.com/images/media/drin...   \n",
       "\n",
       "                                         Ingredients  \n",
       "0                            Vodka, Creme de Cacao,   \n",
       "1  Pineapple juice, Cranberry juice, Amaretto, Ma...  \n",
       "2                                   Tequila, Lager,   \n",
       "3  Vanilla ice-cream, Coconut liqueur, Milk, Coin...  \n",
       "4         Orange juice, Vodka, Light rum, Dark rum,   "
      ]
     },
     "execution_count": 112,
     "metadata": {},
     "output_type": "execute_result"
    }
   ],
   "source": [
    "ct_df1.head()"
   ]
  },
  {
   "cell_type": "code",
   "execution_count": 101,
   "id": "2d041ca0",
   "metadata": {
    "ExecuteTime": {
     "end_time": "2021-05-20T20:13:23.285134Z",
     "start_time": "2021-05-20T20:13:23.261200Z"
    }
   },
   "outputs": [
    {
     "name": "stdout",
     "output_type": "stream",
     "text": [
      "(687, 9)\n"
     ]
    },
    {
     "data": {
      "text/html": [
       "<div>\n",
       "<style scoped>\n",
       "    .dataframe tbody tr th:only-of-type {\n",
       "        vertical-align: middle;\n",
       "    }\n",
       "\n",
       "    .dataframe tbody tr th {\n",
       "        vertical-align: top;\n",
       "    }\n",
       "\n",
       "    .dataframe thead th {\n",
       "        text-align: right;\n",
       "    }\n",
       "</style>\n",
       "<table border=\"1\" class=\"dataframe\">\n",
       "  <thead>\n",
       "    <tr style=\"text-align: right;\">\n",
       "      <th></th>\n",
       "      <th>Cocktail Name</th>\n",
       "      <th>Bartender</th>\n",
       "      <th>Bar/Company</th>\n",
       "      <th>Location</th>\n",
       "      <th>Ingredients</th>\n",
       "      <th>Garnish</th>\n",
       "      <th>Glassware</th>\n",
       "      <th>Preparation</th>\n",
       "      <th>Notes</th>\n",
       "    </tr>\n",
       "  </thead>\n",
       "  <tbody>\n",
       "    <tr>\n",
       "      <th>0</th>\n",
       "      <td>Flor de Amaras</td>\n",
       "      <td>Kelly McCarthy</td>\n",
       "      <td>NaN</td>\n",
       "      <td>Boston</td>\n",
       "      <td>1.5 oz Mezcal, 1 oz Hibiscus Simple Syrup*, .5...</td>\n",
       "      <td>Marigold Petals</td>\n",
       "      <td>NaN</td>\n",
       "      <td>*Hibiscus Simple Syrup:\\n1:1 w/ a cup of dried...</td>\n",
       "      <td>NaN</td>\n",
       "    </tr>\n",
       "    <tr>\n",
       "      <th>1</th>\n",
       "      <td>The Happy Place</td>\n",
       "      <td>Elizabeth Montana</td>\n",
       "      <td>Forgery &amp; Verso</td>\n",
       "      <td>San Francisco</td>\n",
       "      <td>2 oz Junipero Gin, .75 oz House-made Cranberry...</td>\n",
       "      <td>Dehydrated Lemon Wheel, Sprig of Rosemary</td>\n",
       "      <td>NaN</td>\n",
       "      <td>*House-made Cranberry syrup: \\n-- 2 cups Fresh...</td>\n",
       "      <td>Junipero Gin 20th Anniversary Signature Cocktail</td>\n",
       "    </tr>\n",
       "    <tr>\n",
       "      <th>2</th>\n",
       "      <td>Bon Voyage Pisco Punch</td>\n",
       "      <td>Jon Morales</td>\n",
       "      <td>NaN</td>\n",
       "      <td>San Francisco</td>\n",
       "      <td>1500 ml BarSol Selecto Italia Pisco, 750 ml Le...</td>\n",
       "      <td>NaN</td>\n",
       "      <td>Punch Bowl</td>\n",
       "      <td>*Pineapple Gomme: \\nMix equal parts (1.5 cups)...</td>\n",
       "      <td>NaN</td>\n",
       "    </tr>\n",
       "    <tr>\n",
       "      <th>3</th>\n",
       "      <td>Still Life of a Pineapple</td>\n",
       "      <td>Daniel Braganca</td>\n",
       "      <td>Backbar</td>\n",
       "      <td>Somerville</td>\n",
       "      <td>1.5 oz BarSol Primero Quebranta Pisco, .75 oz ...</td>\n",
       "      <td>NaN</td>\n",
       "      <td>NaN</td>\n",
       "      <td>*Pineapple Syrup:\\n&lt;em&gt;Equal parts pineapple b...</td>\n",
       "      <td>NaN</td>\n",
       "    </tr>\n",
       "    <tr>\n",
       "      <th>4</th>\n",
       "      <td>The Bittered Valley</td>\n",
       "      <td>Nik Virrey</td>\n",
       "      <td>NaN</td>\n",
       "      <td>Seattle</td>\n",
       "      <td>1.25 oz Luxardo Maraschino Liqueur, 4 drops Ac...</td>\n",
       "      <td>NaN</td>\n",
       "      <td>NaN</td>\n",
       "      <td>1st glass ingredients:\\nLuxardo Maraschino, Ac...</td>\n",
       "      <td>NaN</td>\n",
       "    </tr>\n",
       "  </tbody>\n",
       "</table>\n",
       "</div>"
      ],
      "text/plain": [
       "               Cocktail Name          Bartender      Bar/Company  \\\n",
       "0             Flor de Amaras     Kelly McCarthy              NaN   \n",
       "1            The Happy Place  Elizabeth Montana  Forgery & Verso   \n",
       "2     Bon Voyage Pisco Punch        Jon Morales              NaN   \n",
       "3  Still Life of a Pineapple    Daniel Braganca          Backbar   \n",
       "4        The Bittered Valley         Nik Virrey              NaN   \n",
       "\n",
       "        Location                                        Ingredients  \\\n",
       "0         Boston  1.5 oz Mezcal, 1 oz Hibiscus Simple Syrup*, .5...   \n",
       "1  San Francisco  2 oz Junipero Gin, .75 oz House-made Cranberry...   \n",
       "2  San Francisco  1500 ml BarSol Selecto Italia Pisco, 750 ml Le...   \n",
       "3     Somerville  1.5 oz BarSol Primero Quebranta Pisco, .75 oz ...   \n",
       "4        Seattle  1.25 oz Luxardo Maraschino Liqueur, 4 drops Ac...   \n",
       "\n",
       "                                     Garnish   Glassware  \\\n",
       "0                            Marigold Petals         NaN   \n",
       "1  Dehydrated Lemon Wheel, Sprig of Rosemary         NaN   \n",
       "2                                        NaN  Punch Bowl   \n",
       "3                                        NaN         NaN   \n",
       "4                                        NaN         NaN   \n",
       "\n",
       "                                         Preparation  \\\n",
       "0  *Hibiscus Simple Syrup:\\n1:1 w/ a cup of dried...   \n",
       "1  *House-made Cranberry syrup: \\n-- 2 cups Fresh...   \n",
       "2  *Pineapple Gomme: \\nMix equal parts (1.5 cups)...   \n",
       "3  *Pineapple Syrup:\\n<em>Equal parts pineapple b...   \n",
       "4  1st glass ingredients:\\nLuxardo Maraschino, Ac...   \n",
       "\n",
       "                                              Notes  \n",
       "0                                               NaN  \n",
       "1  Junipero Gin 20th Anniversary Signature Cocktail  \n",
       "2                                               NaN  \n",
       "3                                               NaN  \n",
       "4                                               NaN  "
      ]
     },
     "execution_count": 101,
     "metadata": {},
     "output_type": "execute_result"
    }
   ],
   "source": [
    "ct_df2 = pd.read_csv('../data/hotaling_cocktails - Cocktails.csv')\n",
    "print(ct_df2.shape)\n",
    "ct_df2.head()"
   ]
  },
  {
   "cell_type": "code",
   "execution_count": 111,
   "id": "3db4a8e8",
   "metadata": {
    "ExecuteTime": {
     "end_time": "2021-05-20T20:23:39.952218Z",
     "start_time": "2021-05-20T20:23:39.939252Z"
    }
   },
   "outputs": [
    {
     "data": {
      "text/html": [
       "<div>\n",
       "<style scoped>\n",
       "    .dataframe tbody tr th:only-of-type {\n",
       "        vertical-align: middle;\n",
       "    }\n",
       "\n",
       "    .dataframe tbody tr th {\n",
       "        vertical-align: top;\n",
       "    }\n",
       "\n",
       "    .dataframe thead th {\n",
       "        text-align: right;\n",
       "    }\n",
       "</style>\n",
       "<table border=\"1\" class=\"dataframe\">\n",
       "  <thead>\n",
       "    <tr style=\"text-align: right;\">\n",
       "      <th></th>\n",
       "      <th>Name</th>\n",
       "      <th>Instructions</th>\n",
       "      <th>Serve_In</th>\n",
       "      <th>Ingredients</th>\n",
       "    </tr>\n",
       "  </thead>\n",
       "  <tbody>\n",
       "    <tr>\n",
       "      <th>0</th>\n",
       "      <td>Flor de Amaras</td>\n",
       "      <td>*Hibiscus Simple Syrup:\\n1:1 w/ a cup of dried...</td>\n",
       "      <td>NaN</td>\n",
       "      <td>1.5 oz Mezcal, 1 oz Hibiscus Simple Syrup*, .5...</td>\n",
       "    </tr>\n",
       "    <tr>\n",
       "      <th>1</th>\n",
       "      <td>The Happy Place</td>\n",
       "      <td>*House-made Cranberry syrup: \\n-- 2 cups Fresh...</td>\n",
       "      <td>NaN</td>\n",
       "      <td>2 oz Junipero Gin, .75 oz House-made Cranberry...</td>\n",
       "    </tr>\n",
       "    <tr>\n",
       "      <th>2</th>\n",
       "      <td>Bon Voyage Pisco Punch</td>\n",
       "      <td>*Pineapple Gomme: \\nMix equal parts (1.5 cups)...</td>\n",
       "      <td>Punch Bowl</td>\n",
       "      <td>1500 ml BarSol Selecto Italia Pisco, 750 ml Le...</td>\n",
       "    </tr>\n",
       "    <tr>\n",
       "      <th>3</th>\n",
       "      <td>Still Life of a Pineapple</td>\n",
       "      <td>*Pineapple Syrup:\\n&lt;em&gt;Equal parts pineapple b...</td>\n",
       "      <td>NaN</td>\n",
       "      <td>1.5 oz BarSol Primero Quebranta Pisco, .75 oz ...</td>\n",
       "    </tr>\n",
       "    <tr>\n",
       "      <th>4</th>\n",
       "      <td>The Bittered Valley</td>\n",
       "      <td>1st glass ingredients:\\nLuxardo Maraschino, Ac...</td>\n",
       "      <td>NaN</td>\n",
       "      <td>1.25 oz Luxardo Maraschino Liqueur, 4 drops Ac...</td>\n",
       "    </tr>\n",
       "  </tbody>\n",
       "</table>\n",
       "</div>"
      ],
      "text/plain": [
       "                        Name  \\\n",
       "0             Flor de Amaras   \n",
       "1            The Happy Place   \n",
       "2     Bon Voyage Pisco Punch   \n",
       "3  Still Life of a Pineapple   \n",
       "4        The Bittered Valley   \n",
       "\n",
       "                                        Instructions    Serve_In  \\\n",
       "0  *Hibiscus Simple Syrup:\\n1:1 w/ a cup of dried...         NaN   \n",
       "1  *House-made Cranberry syrup: \\n-- 2 cups Fresh...         NaN   \n",
       "2  *Pineapple Gomme: \\nMix equal parts (1.5 cups)...  Punch Bowl   \n",
       "3  *Pineapple Syrup:\\n<em>Equal parts pineapple b...         NaN   \n",
       "4  1st glass ingredients:\\nLuxardo Maraschino, Ac...         NaN   \n",
       "\n",
       "                                         Ingredients  \n",
       "0  1.5 oz Mezcal, 1 oz Hibiscus Simple Syrup*, .5...  \n",
       "1  2 oz Junipero Gin, .75 oz House-made Cranberry...  \n",
       "2  1500 ml BarSol Selecto Italia Pisco, 750 ml Le...  \n",
       "3  1.5 oz BarSol Primero Quebranta Pisco, .75 oz ...  \n",
       "4  1.25 oz Luxardo Maraschino Liqueur, 4 drops Ac...  "
      ]
     },
     "execution_count": 111,
     "metadata": {},
     "output_type": "execute_result"
    }
   ],
   "source": [
    "ct_df2['Name'] = ct_df2['Cocktail Name']\n",
    "ct_df2['Instructions'] = ct_df2['Preparation']\n",
    "ct_df2['Serve_In'] = ct_df2.Glassware\n",
    "\n",
    "ct_df2 = ct_df2[['Name', 'Instructions', 'Serve_In', 'Ingredients']]\n",
    "\n",
    "ct_df2.head()"
   ]
  },
  {
   "cell_type": "code",
   "execution_count": 123,
   "id": "5b6ff07e",
   "metadata": {
    "ExecuteTime": {
     "end_time": "2021-05-20T20:29:17.766860Z",
     "start_time": "2021-05-20T20:29:17.748908Z"
    }
   },
   "outputs": [],
   "source": [
    "ct2_cleaned = pd.concat([ct_df1, ct_df2], axis=0).reset_index().drop(columns='index')"
   ]
  },
  {
   "cell_type": "code",
   "execution_count": null,
   "id": "e37f90ed",
   "metadata": {},
   "outputs": [],
   "source": []
  },
  {
   "cell_type": "code",
   "execution_count": 132,
   "id": "29b922b6",
   "metadata": {
    "ExecuteTime": {
     "end_time": "2021-05-20T20:35:39.017716Z",
     "start_time": "2021-05-20T20:35:39.003754Z"
    }
   },
   "outputs": [
    {
     "data": {
      "text/plain": [
       "'http://www.thecocktaildb.com/images/media/drink/lmj2yt1504820500.jpg'"
      ]
     },
     "execution_count": 132,
     "metadata": {},
     "output_type": "execute_result"
    }
   ],
   "source": [
    "ct2_cleaned.Photo_Link[520]"
   ]
  },
  {
   "cell_type": "code",
   "execution_count": 146,
   "id": "da06c844",
   "metadata": {
    "ExecuteTime": {
     "end_time": "2021-05-20T20:38:48.213241Z",
     "start_time": "2021-05-20T20:38:48.058275Z"
    }
   },
   "outputs": [
    {
     "data": {
      "image/jpeg": "[encoded data removed]",
      "text/plain": [
       "<IPython.core.display.Image object>"
      ]
     },
     "execution_count": 146,
     "metadata": {
      "image/jpeg": {
       "height": 300,
       "width": 300
      }
     },
     "output_type": "execute_result"
    }
   ],
   "source": [
    "# libraries for displaying images\n",
    "from IPython.display import Image \n",
    "from IPython.core.display import HTML \n",
    "Image('https://www.thecocktaildb.com/images/media/drink/6ck9yi1589574317.jpg', width=300, height=300)"
   ]
  },
  {
   "cell_type": "code",
   "execution_count": 147,
   "id": "065a0e83",
   "metadata": {
    "ExecuteTime": {
     "end_time": "2021-05-20T20:39:56.254653Z",
     "start_time": "2021-05-20T20:39:56.227757Z"
    }
   },
   "outputs": [],
   "source": [
    "ct2_cleaned.to_csv('cocktails_full.csv')"
   ]
  },
  {
   "cell_type": "code",
   "execution_count": 126,
   "id": "57a6a688",
   "metadata": {
    "ExecuteTime": {
     "end_time": "2021-05-20T20:33:57.930210Z",
     "start_time": "2021-05-20T20:33:57.907272Z"
    }
   },
   "outputs": [
    {
     "data": {
      "text/html": [
       "<div>\n",
       "<style scoped>\n",
       "    .dataframe tbody tr th:only-of-type {\n",
       "        vertical-align: middle;\n",
       "    }\n",
       "\n",
       "    .dataframe tbody tr th {\n",
       "        vertical-align: top;\n",
       "    }\n",
       "\n",
       "    .dataframe thead th {\n",
       "        text-align: right;\n",
       "    }\n",
       "</style>\n",
       "<table border=\"1\" class=\"dataframe\">\n",
       "  <thead>\n",
       "    <tr style=\"text-align: right;\">\n",
       "      <th></th>\n",
       "      <th>name</th>\n",
       "      <th>category</th>\n",
       "      <th>measurement-1</th>\n",
       "      <th>ingredient-1</th>\n",
       "      <th>measurement-2</th>\n",
       "      <th>ingredient-2</th>\n",
       "      <th>measurement-3</th>\n",
       "      <th>ingredient-3</th>\n",
       "      <th>measurement-4</th>\n",
       "      <th>ingredient-4</th>\n",
       "      <th>measurement-5</th>\n",
       "      <th>ingredient-5</th>\n",
       "      <th>measurement-6</th>\n",
       "      <th>ingredient-6</th>\n",
       "      <th>instructions</th>\n",
       "      <th>glass</th>\n",
       "      <th>glass-size</th>\n",
       "    </tr>\n",
       "  </thead>\n",
       "  <tbody>\n",
       "    <tr>\n",
       "      <th>0</th>\n",
       "      <td>Gauguin</td>\n",
       "      <td>Cocktail Classics</td>\n",
       "      <td>2 oz</td>\n",
       "      <td>Light Rum</td>\n",
       "      <td>1 oz</td>\n",
       "      <td>Passion Fruit Syrup</td>\n",
       "      <td>1 oz</td>\n",
       "      <td>Lemon Juice</td>\n",
       "      <td>1 oz</td>\n",
       "      <td>Lime Juice</td>\n",
       "      <td>NaN</td>\n",
       "      <td>NaN</td>\n",
       "      <td>NaN</td>\n",
       "      <td>NaN</td>\n",
       "      <td>Combine ingredients with a cup of crushed ice ...</td>\n",
       "      <td>Old-Fashioned Glass</td>\n",
       "      <td>6 to 8 ounces</td>\n",
       "    </tr>\n",
       "    <tr>\n",
       "      <th>1</th>\n",
       "      <td>Fort Lauderdale</td>\n",
       "      <td>Cocktail Classics</td>\n",
       "      <td>1 1/2 oz</td>\n",
       "      <td>Light Rum</td>\n",
       "      <td>1/2 oz</td>\n",
       "      <td>Sweet Vermouth</td>\n",
       "      <td>1/4 oz</td>\n",
       "      <td>Juice of Orange</td>\n",
       "      <td>1/4 oz</td>\n",
       "      <td>Juice of a Lime</td>\n",
       "      <td>NaN</td>\n",
       "      <td>NaN</td>\n",
       "      <td>NaN</td>\n",
       "      <td>NaN</td>\n",
       "      <td>Shake with ice and strain into old-fashioned g...</td>\n",
       "      <td>Old-Fashioned Glass</td>\n",
       "      <td>6 to 8 ounces</td>\n",
       "    </tr>\n",
       "    <tr>\n",
       "      <th>2</th>\n",
       "      <td>Apple Pie</td>\n",
       "      <td>Cordials and Liqueurs</td>\n",
       "      <td>3 oz</td>\n",
       "      <td>Apple schnapps</td>\n",
       "      <td>1 oz</td>\n",
       "      <td>Cinnamon schnapps</td>\n",
       "      <td>NaN</td>\n",
       "      <td>Apple slice</td>\n",
       "      <td>NaN</td>\n",
       "      <td>NaN</td>\n",
       "      <td>NaN</td>\n",
       "      <td>NaN</td>\n",
       "      <td>NaN</td>\n",
       "      <td>NaN</td>\n",
       "      <td>Pour into ice-filled old-fashioned glass. Garn...</td>\n",
       "      <td>Old-Fashioned Glass</td>\n",
       "      <td>6 to 8 ounces</td>\n",
       "    </tr>\n",
       "    <tr>\n",
       "      <th>3</th>\n",
       "      <td>Cuban Cocktail No. 1</td>\n",
       "      <td>Cocktail Classics</td>\n",
       "      <td>1/2 oz</td>\n",
       "      <td>Juice of a Lime</td>\n",
       "      <td>1/2 oz</td>\n",
       "      <td>Powdered Sugar</td>\n",
       "      <td>2 oz</td>\n",
       "      <td>Light Rum</td>\n",
       "      <td>NaN</td>\n",
       "      <td>NaN</td>\n",
       "      <td>NaN</td>\n",
       "      <td>NaN</td>\n",
       "      <td>NaN</td>\n",
       "      <td>NaN</td>\n",
       "      <td>Shake with ice and  strain into cocktail glass.</td>\n",
       "      <td>Cocktail Glass</td>\n",
       "      <td>6 or more ounces</td>\n",
       "    </tr>\n",
       "    <tr>\n",
       "      <th>4</th>\n",
       "      <td>Cool Carlos</td>\n",
       "      <td>Cocktail Classics</td>\n",
       "      <td>1 1/2 oz</td>\n",
       "      <td>Dark rum</td>\n",
       "      <td>2 oz</td>\n",
       "      <td>Cranberry Juice</td>\n",
       "      <td>2 oz</td>\n",
       "      <td>Pineapple Juice</td>\n",
       "      <td>1 oz</td>\n",
       "      <td>Orange curacao</td>\n",
       "      <td>1 oz</td>\n",
       "      <td>Sour Mix</td>\n",
       "      <td>NaN</td>\n",
       "      <td>NaN</td>\n",
       "      <td>Mix all ingredients except curacao with ice, s...</td>\n",
       "      <td>Collins Glass</td>\n",
       "      <td>14 to 16 ounces</td>\n",
       "    </tr>\n",
       "  </tbody>\n",
       "</table>\n",
       "</div>"
      ],
      "text/plain": [
       "                   name               category measurement-1  \\\n",
       "0               Gauguin      Cocktail Classics          2 oz   \n",
       "1       Fort Lauderdale      Cocktail Classics      1 1/2 oz   \n",
       "2             Apple Pie  Cordials and Liqueurs          3 oz   \n",
       "3  Cuban Cocktail No. 1      Cocktail Classics        1/2 oz   \n",
       "4           Cool Carlos      Cocktail Classics      1 1/2 oz   \n",
       "\n",
       "       ingredient-1 measurement-2          ingredient-2 measurement-3  \\\n",
       "0         Light Rum          1 oz   Passion Fruit Syrup          1 oz   \n",
       "1         Light Rum        1/2 oz        Sweet Vermouth        1/4 oz   \n",
       "2    Apple schnapps          1 oz     Cinnamon schnapps           NaN   \n",
       "3   Juice of a Lime        1/2 oz        Powdered Sugar          2 oz   \n",
       "4          Dark rum          2 oz       Cranberry Juice          2 oz   \n",
       "\n",
       "       ingredient-3 measurement-4      ingredient-4 measurement-5  \\\n",
       "0       Lemon Juice          1 oz        Lime Juice           NaN   \n",
       "1   Juice of Orange        1/4 oz   Juice of a Lime           NaN   \n",
       "2       Apple slice           NaN               NaN           NaN   \n",
       "3         Light Rum           NaN               NaN           NaN   \n",
       "4   Pineapple Juice          1 oz    Orange curacao          1 oz   \n",
       "\n",
       "  ingredient-5 measurement-6 ingredient-6  \\\n",
       "0          NaN           NaN          NaN   \n",
       "1          NaN           NaN          NaN   \n",
       "2          NaN           NaN          NaN   \n",
       "3          NaN           NaN          NaN   \n",
       "4     Sour Mix           NaN          NaN   \n",
       "\n",
       "                                        instructions                glass  \\\n",
       "0  Combine ingredients with a cup of crushed ice ...  Old-Fashioned Glass   \n",
       "1  Shake with ice and strain into old-fashioned g...  Old-Fashioned Glass   \n",
       "2  Pour into ice-filled old-fashioned glass. Garn...  Old-Fashioned Glass   \n",
       "3    Shake with ice and  strain into cocktail glass.       Cocktail Glass   \n",
       "4  Mix all ingredients except curacao with ice, s...        Collins Glass   \n",
       "\n",
       "         glass-size  \n",
       "0     6 to 8 ounces  \n",
       "1     6 to 8 ounces  \n",
       "2     6 to 8 ounces  \n",
       "3  6 or more ounces  \n",
       "4   14 to 16 ounces  "
      ]
     },
     "execution_count": 126,
     "metadata": {},
     "output_type": "execute_result"
    }
   ],
   "source": [
    "ct_df3.head()"
   ]
  },
  {
   "cell_type": "code",
   "execution_count": null,
   "id": "62f9a5ad",
   "metadata": {},
   "outputs": [],
   "source": []
  }
 ],
 "metadata": {
  "kernelspec": {
   "display_name": "Python [conda env:metis] *",
   "language": "python",
   "name": "conda-env-metis-py"
  },
  "language_info": {
   "codemirror_mode": {
    "name": "ipython",
    "version": 3
   },
   "file_extension": ".py",
   "mimetype": "text/x-python",
   "name": "python",
   "nbconvert_exporter": "python",
   "pygments_lexer": "ipython3",
   "version": "3.8.8"
  },
  "toc": {
   "base_numbering": 1,
   "nav_menu": {},
   "number_sections": true,
   "sideBar": true,
   "skip_h1_title": false,
   "title_cell": "Table of Contents",
   "title_sidebar": "Contents",
   "toc_cell": false,
   "toc_position": {
    "height": "calc(100% - 180px)",
    "left": "10px",
    "top": "150px",
    "width": "165px"
   },
   "toc_section_display": true,
   "toc_window_display": true
  },
  "varInspector": {
   "cols": {
    "lenName": 16,
    "lenType": 16,
    "lenVar": 40
   },
   "kernels_config": {
    "python": {
     "delete_cmd_postfix": "",
     "delete_cmd_prefix": "del ",
     "library": "var_list.py",
     "varRefreshCmd": "print(var_dic_list())"
    },
    "r": {
     "delete_cmd_postfix": ") ",
     "delete_cmd_prefix": "rm(",
     "library": "var_list.r",
     "varRefreshCmd": "cat(var_dic_list()) "
    }
   },
   "types_to_exclude": [
    "module",
    "function",
    "builtin_function_or_method",
    "instance",
    "_Feature"
   ],
   "window_display": false
  }
 },
 "nbformat": 4,
 "nbformat_minor": 5
}
