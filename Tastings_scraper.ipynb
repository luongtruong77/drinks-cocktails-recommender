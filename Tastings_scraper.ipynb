{
 "cells": [
  {
   "cell_type": "code",
   "execution_count": 1,
   "id": "entire-beads",
   "metadata": {
    "ExecuteTime": {
     "end_time": "2021-05-19T20:03:58.236259Z",
     "start_time": "2021-05-19T20:03:57.597371Z"
    }
   },
   "outputs": [
    {
     "name": "stdout",
     "output_type": "stream",
     "text": [
      "Libraries imported\n"
     ]
    }
   ],
   "source": [
    "import pandas as pd\n",
    "import pickle\n",
    "import time, os\n",
    "\n",
    "from bs4 import BeautifulSoup\n",
    "import requests\n",
    "\n",
    "import re\n",
    "\n",
    "import random\n",
    "\n",
    "print('Libraries imported')\n",
    "\n",
    "all_page_list = []\n",
    "\n",
    "all_items_list = []"
   ]
  },
  {
   "cell_type": "code",
   "execution_count": 2,
   "id": "verifiable-time",
   "metadata": {
    "ExecuteTime": {
     "end_time": "2021-05-19T20:03:58.252217Z",
     "start_time": "2021-05-19T20:03:58.237257Z"
    }
   },
   "outputs": [],
   "source": [
    "with open('all_item_list.pkl', 'rb') as input:\n",
    "    all_items_list = pickle.load(input)"
   ]
  },
  {
   "cell_type": "code",
   "execution_count": null,
   "id": "fumbling-purple",
   "metadata": {},
   "outputs": [],
   "source": []
  },
  {
   "cell_type": "code",
   "execution_count": 74,
   "id": "strategic-superior",
   "metadata": {
    "ExecuteTime": {
     "end_time": "2021-05-19T20:31:45.498029Z",
     "start_time": "2021-05-19T20:31:45.490050Z"
    }
   },
   "outputs": [],
   "source": [
    "#This header is to bypass CAPCHA\n",
    "header = {\n",
    "    \"User-Agent\": \"Mozilla/5.0 (Macintosh; Intel Mac OS X 10_15_5) AppleWebKit/537.36 (KHTML, like Gecko) Chrome/84.0.4147.125 Safari/537.36\",\n",
    "    \"Accept-Language\": \"en-GB,en-US;q=0.9,en;q=0.8\"\n",
    "}\n",
    "\n",
    "#Dataframe headers\n",
    "df_headers = [\"Name\", \"Description\", \"Category\", \"Country\", \"Alcohol_Vol\", \"Review\", \"Style\",\n",
    "             \"Aroma\", \"Flavor\", \"Sweetness\", \"Bitterness\", \"Enjoy\", \"Pairing\", \"Cocktails\", \n",
    "             \"Bottom_Line\", \"Points\", \"Price\"]\n",
    "\n",
    "root_url = 'https://www.tastings.com'"
   ]
  },
  {
   "cell_type": "markdown",
   "id": "foreign-hobby",
   "metadata": {},
   "source": [
    "### Get all page_links"
   ]
  },
  {
   "cell_type": "code",
   "execution_count": 4,
   "id": "underlying-arrow",
   "metadata": {
    "ExecuteTime": {
     "end_time": "2021-05-19T20:03:59.063577Z",
     "start_time": "2021-05-19T20:03:58.269172Z"
    }
   },
   "outputs": [
    {
     "name": "stdout",
     "output_type": "stream",
     "text": [
      "Now we have 95 links\n"
     ]
    }
   ],
   "source": [
    "\n",
    "#Lastest review\n",
    "page_url = 'https://www.tastings.com/Reviews/Latest-Spirits-Wine-Beer-Reviews.aspx'\n",
    "\n",
    "response = requests.get(page_url, headers=header)\n",
    "\n",
    "data = response.text\n",
    "\n",
    "soup = BeautifulSoup(data, \"html.parser\")\n",
    "for i in range(len(soup.find_all(class_='m-content-link-bold m-content-link-font-q'))):\n",
    "    \n",
    "    url = soup.find_all(class_='m-content-link-bold m-content-link-font-q')[i]['href']\n",
    "    all_page_list.append(root_url+url)\n",
    "\n",
    "print('Now we have {} links'.format(len(all_page_list)))"
   ]
  },
  {
   "cell_type": "code",
   "execution_count": 5,
   "id": "rental-chamber",
   "metadata": {
    "ExecuteTime": {
     "end_time": "2021-05-19T20:03:59.732603Z",
     "start_time": "2021-05-19T20:03:59.065571Z"
    }
   },
   "outputs": [
    {
     "name": "stdout",
     "output_type": "stream",
     "text": [
      "Now we have 192 links\n"
     ]
    }
   ],
   "source": [
    "#2020 Review\n",
    "\n",
    "page_url = 'https://www.tastings.com/Reviews/2020-Spirits-Wine-Beer-Reviews.aspx'\n",
    "\n",
    "response = requests.get(page_url, headers=header)\n",
    "\n",
    "data = response.text\n",
    "\n",
    "soup = BeautifulSoup(data, \"html.parser\")\n",
    "\n",
    "for i in range(len(soup.find_all(class_='m-content-link-bold m-content-link-font-q'))):\n",
    "    \n",
    "    url = soup.find_all(class_='m-content-link-bold m-content-link-font-q')[i]['href']\n",
    "    all_page_list.append(root_url+url)\n",
    "    \n",
    "print('Now we have {} links'.format(len(all_page_list)))"
   ]
  },
  {
   "cell_type": "code",
   "execution_count": 6,
   "id": "becoming-cleaners",
   "metadata": {
    "ExecuteTime": {
     "end_time": "2021-05-19T20:04:00.434081Z",
     "start_time": "2021-05-19T20:03:59.733572Z"
    }
   },
   "outputs": [
    {
     "name": "stdout",
     "output_type": "stream",
     "text": [
      "Now we have 292 links\n"
     ]
    }
   ],
   "source": [
    "#2019 Review\n",
    "\n",
    "page_url = 'https://www.tastings.com/Reviews/2019-Spirits-Wine-Beer-Reviews.aspx'\n",
    "\n",
    "response = requests.get(page_url, headers=header)\n",
    "\n",
    "data = response.text\n",
    "\n",
    "soup = BeautifulSoup(data, \"html.parser\")\n",
    "\n",
    "for i in range(len(soup.find_all(class_='m-content-link-bold m-content-link-font-q'))):\n",
    "    \n",
    "    url = soup.find_all(class_='m-content-link-bold m-content-link-font-q')[i]['href']\n",
    "    all_page_list.append(root_url+url)\n",
    "    \n",
    "print('Now we have {} links'.format(len(all_page_list)))"
   ]
  },
  {
   "cell_type": "code",
   "execution_count": 7,
   "id": "weekly-folks",
   "metadata": {
    "ExecuteTime": {
     "end_time": "2021-05-19T20:04:01.136606Z",
     "start_time": "2021-05-19T20:04:00.435071Z"
    }
   },
   "outputs": [
    {
     "name": "stdout",
     "output_type": "stream",
     "text": [
      "Now we have 390 links\n"
     ]
    }
   ],
   "source": [
    "#2018 Review\n",
    "\n",
    "page_url = 'https://www.tastings.com/Reviews/2018-Spirits-Wine-Beer-Reviews.aspx'\n",
    "\n",
    "response = requests.get(page_url, headers=header)\n",
    "\n",
    "data = response.text\n",
    "\n",
    "soup = BeautifulSoup(data, \"html.parser\")\n",
    "\n",
    "for i in range(len(soup.find_all(class_='m-content-link-bold m-content-link-font-q'))):\n",
    "    \n",
    "    url = soup.find_all(class_='m-content-link-bold m-content-link-font-q')[i]['href']\n",
    "    all_page_list.append(root_url+url)\n",
    "    \n",
    "print('Now we have {} links'.format(len(all_page_list)))"
   ]
  },
  {
   "cell_type": "markdown",
   "id": "massive-dakota",
   "metadata": {},
   "source": [
    "### Get all items_links"
   ]
  },
  {
   "cell_type": "code",
   "execution_count": 8,
   "id": "distinguished-celebration",
   "metadata": {
    "ExecuteTime": {
     "end_time": "2021-05-19T20:04:01.774444Z",
     "start_time": "2021-05-19T20:04:01.137603Z"
    }
   },
   "outputs": [],
   "source": [
    "page_url = 'https://www.tastings.com/Calendar-Spirits/Review-2021-05-01-Agave.aspx'\n",
    "\n",
    "response = requests.get(page_url, headers=header)\n",
    "\n",
    "data = response.text\n",
    "\n",
    "soup = BeautifulSoup(data, \"html.parser\")\n"
   ]
  },
  {
   "cell_type": "code",
   "execution_count": 9,
   "id": "specialized-metadata",
   "metadata": {
    "ExecuteTime": {
     "end_time": "2021-05-19T20:04:01.821319Z",
     "start_time": "2021-05-19T20:04:01.777435Z"
    }
   },
   "outputs": [
    {
     "data": {
      "text/plain": [
       "'/Spirits-Review/Mezcal-de-Leyendas-Verde-San-Luis-Potosi-Mezcal-Mexico-90-Proof-05-01-2021.aspx'"
      ]
     },
     "execution_count": 9,
     "metadata": {},
     "output_type": "execute_result"
    }
   ],
   "source": [
    "soup.find_all(class_='m-preview-title-1')[0].find('a')['href']"
   ]
  },
  {
   "cell_type": "code",
   "execution_count": 10,
   "id": "specific-concept",
   "metadata": {
    "ExecuteTime": {
     "end_time": "2021-05-19T20:04:01.836278Z",
     "start_time": "2021-05-19T20:04:01.823313Z"
    }
   },
   "outputs": [],
   "source": [
    "# #Get all items_links\n",
    "# all_items_list = []\n",
    "\n",
    "# for url in all_page_list:\n",
    "    \n",
    "#     response = requests.get(url, headers=header)\n",
    "\n",
    "#     data = response.text\n",
    "\n",
    "#     soup = BeautifulSoup(data, \"html.parser\")\n",
    "\n",
    "#     for i in range(len(soup.find_all(class_='m-preview-title-1'))):\n",
    "    \n",
    "#         item_url = soup.find_all(class_='m-preview-title-1')[i].find('a')['href']\n",
    "        \n",
    "#         all_items_list.append(root_url+item_url)\n",
    "\n",
    "    \n",
    "# print('Now we have {} items to scrape!'.format(len(all_items_list)))"
   ]
  },
  {
   "cell_type": "code",
   "execution_count": 11,
   "id": "injured-meditation",
   "metadata": {
    "ExecuteTime": {
     "end_time": "2021-05-19T20:04:01.852267Z",
     "start_time": "2021-05-19T20:04:01.838294Z"
    }
   },
   "outputs": [
    {
     "data": {
      "text/plain": [
       "['https://www.tastings.com/Spirits-Review/Mezcal-de-Leyendas-Verde-San-Luis-Potosi-Mezcal-Mexico-90-Proof-05-01-2021.aspx',\n",
       " 'https://www.tastings.com/Spirits-Review/El-Tesoro-Paradiso-Tequila-Extra-Anejo-Mexico-05-01-2021.aspx',\n",
       " 'https://www.tastings.com/Spirits-Review/Peloton-de-la-Muerte-Vegan-Pechuga-Mezcal-Mexico-90-2-Proof-05-01-2021.aspx',\n",
       " 'https://www.tastings.com/Spirits-Review/El-Tesoro-Anejo-Tequila-Mexico-05-01-2021.aspx',\n",
       " 'https://www.tastings.com/Spirits-Review/1800-Milenio-Extra-Anejo-Tequila-Mexico-05-01-2021.aspx',\n",
       " 'https://www.tastings.com/Spirits-Review/El-Tesoro-Blanco-Tequila-Mexico-05-01-2021.aspx',\n",
       " 'https://www.tastings.com/Spirits-Review/Mezcal-de-Leyendas-Cenizo-Durango-Mezcal-Mexico-94-Proof-05-01-2021.aspx',\n",
       " 'https://www.tastings.com/Spirits-Review/El-Tesoro-Extra-Anejo-Tequila-Mexico-05-01-2021.aspx',\n",
       " 'https://www.tastings.com/Spirits-Review/Jose-Cuervo-Reserva-De-La-Familia-Extra-Anejo-Tequila-Mexico-05-01-2021.aspx',\n",
       " 'https://www.tastings.com/Spirits-Review/Montelobos-Ensamble-Joven-Mezcal-Mexico-90-6-Proof-05-01-2021.aspx']"
      ]
     },
     "execution_count": 11,
     "metadata": {},
     "output_type": "execute_result"
    }
   ],
   "source": [
    "all_items_list[:10]"
   ]
  },
  {
   "cell_type": "markdown",
   "id": "retired-stadium",
   "metadata": {},
   "source": [
    "### Get all items_details"
   ]
  },
  {
   "cell_type": "code",
   "execution_count": 75,
   "id": "laughing-sauce",
   "metadata": {
    "ExecuteTime": {
     "end_time": "2021-05-19T20:31:54.135774Z",
     "start_time": "2021-05-19T20:31:53.678279Z"
    }
   },
   "outputs": [],
   "source": [
    "items_list = []\n",
    "\n",
    "page_url = 'https://www.tastings.com/Wine-Review/Celebrities-2018-Syrah-Carinena-Spain-11-08-2020.aspx'\n",
    "\n",
    "response = requests.get(page_url, headers=header)\n",
    "\n",
    "data = response.text\n",
    "\n",
    "soup = BeautifulSoup(data, \"html.parser\")\n"
   ]
  },
  {
   "cell_type": "code",
   "execution_count": 13,
   "id": "conservative-grade",
   "metadata": {
    "ExecuteTime": {
     "end_time": "2021-05-19T20:04:02.371779Z",
     "start_time": "2021-05-19T20:04:02.356821Z"
    }
   },
   "outputs": [
    {
     "data": {
      "text/plain": [
       "'Celebrities 2018 Syrah Carinena Spain Wine Review | Tastings'"
      ]
     },
     "execution_count": 13,
     "metadata": {},
     "output_type": "execute_result"
    }
   ],
   "source": [
    "soup.find_all('meta')[2]['content'] #name"
   ]
  },
  {
   "cell_type": "code",
   "execution_count": 14,
   "id": "informative-oakland",
   "metadata": {
    "ExecuteTime": {
     "end_time": "2021-05-19T20:04:02.387737Z",
     "start_time": "2021-05-19T20:04:02.372777Z"
    }
   },
   "outputs": [
    {
     "data": {
      "text/plain": [
       "'Celebrities Review Syrah 2018 Spain Spanish Wine Cariñena Syrah 233202 Red Wine Tasting Note Flavor Description Fruity Juicy & Smooth & Rich & Full Smooth Dryish Moderate Oak Interesting blackberry reduction sassafras dried figs and dates and black olives Same as aromas with notes of hints of roasted meats A bold chewy Syrah that will stand up to rich beefy dishes Silver Medal November 2020 Rating $10.99 88 Points Moderate Price Affordable Economical Gregory Vine Best Buy Best Buy Good Value'"
      ]
     },
     "execution_count": 14,
     "metadata": {},
     "output_type": "execute_result"
    }
   ],
   "source": [
    "soup.find_all('meta')[4]['content'] #description"
   ]
  },
  {
   "cell_type": "code",
   "execution_count": 27,
   "id": "streaming-region",
   "metadata": {
    "ExecuteTime": {
     "end_time": "2021-05-19T20:12:12.049873Z",
     "start_time": "2021-05-19T20:12:12.027947Z"
    }
   },
   "outputs": [
    {
     "data": {
      "text/plain": [
       "'Syrah'"
      ]
     },
     "execution_count": 27,
     "metadata": {},
     "output_type": "execute_result"
    }
   ],
   "source": [
    "soup.find_all(class_='m-review-center-info-text')[0].find('h3').text.split('\\r\\n')[1].strip() #categories"
   ]
  },
  {
   "cell_type": "code",
   "execution_count": 35,
   "id": "aggressive-album",
   "metadata": {
    "ExecuteTime": {
     "end_time": "2021-05-19T20:13:09.901947Z",
     "start_time": "2021-05-19T20:13:09.879959Z"
    }
   },
   "outputs": [
    {
     "data": {
      "text/plain": [
       "'Spain'"
      ]
     },
     "execution_count": 35,
     "metadata": {},
     "output_type": "execute_result"
    }
   ],
   "source": [
    "soup.find_all(class_='m-review-center-info-text')[0].find_all('div')[1].text.strip().split('\\r\\n')[1].strip() #country"
   ]
  },
  {
   "cell_type": "code",
   "execution_count": 36,
   "id": "ongoing-hamilton",
   "metadata": {
    "ExecuteTime": {
     "end_time": "2021-05-19T20:13:26.598700Z",
     "start_time": "2021-05-19T20:13:26.587760Z"
    }
   },
   "outputs": [
    {
     "data": {
      "text/plain": [
       "'14.5%'"
      ]
     },
     "execution_count": 36,
     "metadata": {},
     "output_type": "execute_result"
    }
   ],
   "source": [
    "soup.find_all(class_='m-review-center-info-text')[0].find_all('div')[2].text.strip().split('\\r\\n')[1].strip() #alcohol vol"
   ]
  },
  {
   "cell_type": "code",
   "execution_count": 41,
   "id": "respectful-reception",
   "metadata": {
    "ExecuteTime": {
     "end_time": "2021-05-19T20:14:42.907347Z",
     "start_time": "2021-05-19T20:14:42.896377Z"
    }
   },
   "outputs": [
    {
     "data": {
      "text/plain": [
       "'Black garnet color. Fruity aromas and flavors of blackberry reduction, sassafras, dried figs and dates, and black olives with a slightly chewy, vibrant, dryish medium-full body and a silky, appealing, medium-long finish displaying notes of hints of roasted meats with moderate oak flavor. A bold, chewy Syrah that will stand up to rich, beefy dishes.'"
      ]
     },
     "execution_count": 41,
     "metadata": {},
     "output_type": "execute_result"
    }
   ],
   "source": [
    "soup.find(class_='m-review-testimonials-text').text.strip() #review_text"
   ]
  },
  {
   "cell_type": "code",
   "execution_count": 56,
   "id": "well-lit-swim",
   "metadata": {
    "ExecuteTime": {
     "end_time": "2021-05-19T20:19:52.692554Z",
     "start_time": "2021-05-19T20:19:52.677594Z"
    }
   },
   "outputs": [
    {
     "data": {
      "text/plain": [
       "'Fruity, Juicy & Smooth & Rich & Full'"
      ]
     },
     "execution_count": 56,
     "metadata": {},
     "output_type": "execute_result"
    }
   ],
   "source": [
    "soup.find(id='ctl00_ContentMain_rowStyle').find(class_='m-review-tastings-notes-cell-value').text.strip() #Style"
   ]
  },
  {
   "cell_type": "code",
   "execution_count": 57,
   "id": "limited-menu",
   "metadata": {
    "ExecuteTime": {
     "end_time": "2021-05-19T20:20:19.423478Z",
     "start_time": "2021-05-19T20:20:19.404529Z"
    }
   },
   "outputs": [
    {
     "data": {
      "text/plain": [
       "'blackberry reduction, sassafras, dried figs and dates, and black olives'"
      ]
     },
     "execution_count": 57,
     "metadata": {},
     "output_type": "execute_result"
    }
   ],
   "source": [
    "soup.find(id='ctl00_ContentMain_rowAroma').find(class_='m-review-tastings-notes-cell-value').text.strip() #Aroma"
   ]
  },
  {
   "cell_type": "code",
   "execution_count": 58,
   "id": "self-reliant-analyst",
   "metadata": {
    "ExecuteTime": {
     "end_time": "2021-05-19T20:20:33.905006Z",
     "start_time": "2021-05-19T20:20:33.896030Z"
    }
   },
   "outputs": [
    {
     "data": {
      "text/plain": [
       "'Same as aromas with notes of hints of roasted meats'"
      ]
     },
     "execution_count": 58,
     "metadata": {},
     "output_type": "execute_result"
    }
   ],
   "source": [
    "soup.find(id='ctl00_ContentMain_rowFlavor').find(class_='m-review-tastings-notes-cell-value').text.strip() #Flavor"
   ]
  },
  {
   "cell_type": "code",
   "execution_count": 60,
   "id": "foolish-environment",
   "metadata": {
    "ExecuteTime": {
     "end_time": "2021-05-19T20:20:56.180399Z",
     "start_time": "2021-05-19T20:20:56.168432Z"
    }
   },
   "outputs": [
    {
     "data": {
      "text/plain": [
       "'Dryish'"
      ]
     },
     "execution_count": 60,
     "metadata": {},
     "output_type": "execute_result"
    }
   ],
   "source": [
    "soup.find(id='ctl00_ContentMain_rowSweetness').find(class_='m-review-tastings-notes-cell-value').text.strip() #Sweetness"
   ]
  },
  {
   "cell_type": "code",
   "execution_count": 73,
   "id": "monstrous-pot",
   "metadata": {
    "ExecuteTime": {
     "end_time": "2021-05-19T20:26:34.367637Z",
     "start_time": "2021-05-19T20:26:34.352678Z"
    }
   },
   "outputs": [
    {
     "ename": "AttributeError",
     "evalue": "'NoneType' object has no attribute 'find'",
     "output_type": "error",
     "traceback": [
      "\u001b[1;31m---------------------------------------------------------------------------\u001b[0m",
      "\u001b[1;31mAttributeError\u001b[0m                            Traceback (most recent call last)",
      "\u001b[1;32m<ipython-input-73-197c818281bc>\u001b[0m in \u001b[0;36m<module>\u001b[1;34m\u001b[0m\n\u001b[1;32m----> 1\u001b[1;33m \u001b[0msoup\u001b[0m\u001b[1;33m.\u001b[0m\u001b[0mfind\u001b[0m\u001b[1;33m(\u001b[0m\u001b[0mid\u001b[0m\u001b[1;33m=\u001b[0m\u001b[1;34m'ctl00_ContentMain_rowBitterness'\u001b[0m\u001b[1;33m)\u001b[0m\u001b[1;33m.\u001b[0m\u001b[0mfind\u001b[0m\u001b[1;33m(\u001b[0m\u001b[0mclass_\u001b[0m\u001b[1;33m=\u001b[0m\u001b[1;34m'm-review-tastings-notes-cell-value'\u001b[0m\u001b[1;33m)\u001b[0m\u001b[1;33m.\u001b[0m\u001b[0mtext\u001b[0m\u001b[1;33m.\u001b[0m\u001b[0mstrip\u001b[0m\u001b[1;33m(\u001b[0m\u001b[1;33m)\u001b[0m \u001b[1;31m#Bitterness\u001b[0m\u001b[1;33m\u001b[0m\u001b[1;33m\u001b[0m\u001b[0m\n\u001b[0m",
      "\u001b[1;31mAttributeError\u001b[0m: 'NoneType' object has no attribute 'find'"
     ]
    }
   ],
   "source": [
    "soup.find(id='ctl00_ContentMain_rowBitterness').find(class_='m-review-tastings-notes-cell-value').text.strip() #Bitterness"
   ]
  },
  {
   "cell_type": "code",
   "execution_count": 62,
   "id": "thirsty-assignment",
   "metadata": {
    "ExecuteTime": {
     "end_time": "2021-05-19T20:21:21.079944Z",
     "start_time": "2021-05-19T20:21:21.069980Z"
    }
   },
   "outputs": [
    {
     "data": {
      "text/plain": [
       "'Now on its own and with food'"
      ]
     },
     "execution_count": 62,
     "metadata": {},
     "output_type": "execute_result"
    }
   ],
   "source": [
    "soup.find(id='ctl00_ContentMain_rowEnjoy').find(class_='m-review-tastings-notes-cell-value').text.strip() #Enjoy"
   ]
  },
  {
   "cell_type": "code",
   "execution_count": 63,
   "id": "inferior-visual",
   "metadata": {
    "ExecuteTime": {
     "end_time": "2021-05-19T20:21:33.315028Z",
     "start_time": "2021-05-19T20:21:33.289091Z"
    }
   },
   "outputs": [
    {
     "data": {
      "text/plain": [
       "'Peking Duck, Lamb Tagine, Souvlaki'"
      ]
     },
     "execution_count": 63,
     "metadata": {},
     "output_type": "execute_result"
    }
   ],
   "source": [
    "soup.find(id='ctl00_ContentMain_rowPairing').find(class_='m-review-tastings-notes-cell-value').text.strip() #Pairing"
   ]
  },
  {
   "cell_type": "code",
   "execution_count": 72,
   "id": "sympathetic-border",
   "metadata": {
    "ExecuteTime": {
     "end_time": "2021-05-19T20:25:30.653681Z",
     "start_time": "2021-05-19T20:25:30.630757Z"
    }
   },
   "outputs": [
    {
     "ename": "AttributeError",
     "evalue": "'NoneType' object has no attribute 'find'",
     "output_type": "error",
     "traceback": [
      "\u001b[1;31m---------------------------------------------------------------------------\u001b[0m",
      "\u001b[1;31mAttributeError\u001b[0m                            Traceback (most recent call last)",
      "\u001b[1;32m<ipython-input-72-7501ec0b7825>\u001b[0m in \u001b[0;36m<module>\u001b[1;34m\u001b[0m\n\u001b[1;32m----> 1\u001b[1;33m \u001b[0msoup\u001b[0m\u001b[1;33m.\u001b[0m\u001b[0mfind\u001b[0m\u001b[1;33m(\u001b[0m\u001b[0mid\u001b[0m\u001b[1;33m=\u001b[0m\u001b[1;34m'ctl00_ContentMain_rowCocktails'\u001b[0m\u001b[1;33m)\u001b[0m\u001b[1;33m.\u001b[0m\u001b[0mfind\u001b[0m\u001b[1;33m(\u001b[0m\u001b[0mclass_\u001b[0m\u001b[1;33m=\u001b[0m\u001b[1;34m'm-review-tastings-notes-cell-value'\u001b[0m\u001b[1;33m)\u001b[0m\u001b[1;33m.\u001b[0m\u001b[0mtext\u001b[0m\u001b[1;33m.\u001b[0m\u001b[0mstrip\u001b[0m\u001b[1;33m(\u001b[0m\u001b[1;33m)\u001b[0m \u001b[1;31m#Cocktails\u001b[0m\u001b[1;33m\u001b[0m\u001b[1;33m\u001b[0m\u001b[0m\n\u001b[0m",
      "\u001b[1;31mAttributeError\u001b[0m: 'NoneType' object has no attribute 'find'"
     ]
    }
   ],
   "source": [
    "soup.find(id='ctl00_ContentMain_rowCocktails').find(class_='m-review-tastings-notes-cell-value').text.strip() #Cocktails"
   ]
  },
  {
   "cell_type": "code",
   "execution_count": 65,
   "id": "shocking-ad",
   "metadata": {
    "ExecuteTime": {
     "end_time": "2021-05-19T20:21:52.339590Z",
     "start_time": "2021-05-19T20:21:52.328621Z"
    }
   },
   "outputs": [
    {
     "data": {
      "text/plain": [
       "'A bold, chewy Syrah that will stand up to rich, beefy dishes.'"
      ]
     },
     "execution_count": 65,
     "metadata": {},
     "output_type": "execute_result"
    }
   ],
   "source": [
    "soup.find(id='ctl00_ContentMain_rowBottomLine').find(class_='m-review-tastings-notes-cell-value').text.strip() #Bottom Line"
   ]
  },
  {
   "cell_type": "code",
   "execution_count": 68,
   "id": "regular-value",
   "metadata": {
    "ExecuteTime": {
     "end_time": "2021-05-19T20:23:23.857060Z",
     "start_time": "2021-05-19T20:23:23.842105Z"
    }
   },
   "outputs": [
    {
     "data": {
      "text/plain": [
       "'88 Points'"
      ]
     },
     "execution_count": 68,
     "metadata": {},
     "output_type": "execute_result"
    }
   ],
   "source": [
    "soup.find(class_='m-review-medal-points-q').text.strip() #points"
   ]
  },
  {
   "cell_type": "code",
   "execution_count": 69,
   "id": "any-room",
   "metadata": {
    "ExecuteTime": {
     "end_time": "2021-05-19T20:23:57.011422Z",
     "start_time": "2021-05-19T20:23:57.002474Z"
    }
   },
   "outputs": [
    {
     "data": {
      "text/plain": [
       "'$10.99'"
      ]
     },
     "execution_count": 69,
     "metadata": {},
     "output_type": "execute_result"
    }
   ],
   "source": [
    "soup.find(id='ctl00_ContentMain_divPrice').text.strip() #Price"
   ]
  },
  {
   "cell_type": "markdown",
   "id": "bossy-internal",
   "metadata": {},
   "source": [
    "### Scrape"
   ]
  },
  {
   "cell_type": "code",
   "execution_count": 76,
   "id": "rusty-survey",
   "metadata": {
    "ExecuteTime": {
     "end_time": "2021-05-19T20:35:12.168639Z",
     "start_time": "2021-05-19T20:35:12.155704Z"
    }
   },
   "outputs": [],
   "source": [
    "import numpy as np"
   ]
  },
  {
   "cell_type": "code",
   "execution_count": 90,
   "id": "easy-value",
   "metadata": {
    "ExecuteTime": {
     "end_time": "2021-05-19T20:53:05.353236Z",
     "start_time": "2021-05-19T20:53:05.330298Z"
    }
   },
   "outputs": [],
   "source": [
    "def get_drink_features(url):\n",
    "    \n",
    "    features_list = []\n",
    "    \n",
    "    response = requests.get(url, headers=header)\n",
    "\n",
    "    data = response.text\n",
    "\n",
    "    soup = BeautifulSoup(data, \"html.parser\")\n",
    "    \n",
    "    \n",
    "    try:\n",
    "        name = soup.find_all('meta')[2]['content']\n",
    "    except:\n",
    "        name = np.nan\n",
    "    \n",
    "    \n",
    "    try:\n",
    "        description = soup.find_all('meta')[4]['content']\n",
    "    except:\n",
    "        description = np.nan\n",
    "    \n",
    "    try:\n",
    "        category = soup.find_all(class_='m-review-center-info-text')[0].find('h3').text.split('\\r\\n')[1].strip()\n",
    "    except:\n",
    "        category = np.nan\n",
    "        \n",
    "    try:\n",
    "        country = soup.find_all(class_='m-review-center-info-text')[0].find_all('div')[1].text.strip().split('\\r\\n')[1].strip()\n",
    "    except:\n",
    "        country = np.nan\n",
    "    \n",
    "    try:\n",
    "        alc_vol = soup.find_all(class_='m-review-center-info-text')[0].find_all('div')[2].text.strip().split('\\r\\n')[1].strip()\n",
    "    except:\n",
    "        alc_vol = np.nan\n",
    "        \n",
    "        \n",
    "    try:\n",
    "        review = soup.find(class_='m-review-testimonials-text').text.strip()\n",
    "    except:\n",
    "        review = np.nan\n",
    "        \n",
    "    try:\n",
    "        style = soup.find(id='ctl00_ContentMain_rowStyle').find(class_='m-review-tastings-notes-cell-value').text.strip()\n",
    "    except:\n",
    "        style = np.nan\n",
    "        \n",
    "    try:\n",
    "        aroma = soup.find(id='ctl00_ContentMain_rowAroma').find(class_='m-review-tastings-notes-cell-value').text.strip()\n",
    "    except:\n",
    "        aroma = np.nan\n",
    "        \n",
    "    try:\n",
    "        flavor = soup.find(id='ctl00_ContentMain_rowFlavor').find(class_='m-review-tastings-notes-cell-value').text.strip()\n",
    "    except:\n",
    "        flavor = np.nan\n",
    "        \n",
    "    try:\n",
    "        sweetness = soup.find(id='ctl00_ContentMain_rowSweetness').find(class_='m-review-tastings-notes-cell-value').text.strip()\n",
    "    except:\n",
    "        sweetness = np.nan\n",
    "        \n",
    "    try:\n",
    "        bitterness = soup.find(id='ctl00_ContentMain_rowBitterness').find(class_='m-review-tastings-notes-cell-value').text.strip()\n",
    "    except:\n",
    "        bitterness = np.nan\n",
    "        \n",
    "    try:\n",
    "        enjoy = soup.find(id='ctl00_ContentMain_rowEnjoy').find(class_='m-review-tastings-notes-cell-value').text.strip()\n",
    "    except:\n",
    "        enjoy = np.nan\n",
    "        \n",
    "    try:\n",
    "        pairing = soup.find(id='ctl00_ContentMain_rowPairing').find(class_='m-review-tastings-notes-cell-value').text.strip()\n",
    "    except:\n",
    "        pairing = np.nan\n",
    "        \n",
    "    try:\n",
    "        cocktails = soup.find(id='ctl00_ContentMain_rowCocktails').find(class_='m-review-tastings-notes-cell-value').text.strip()\n",
    "    except:\n",
    "        cocktails = np.nan\n",
    "        \n",
    "    try:\n",
    "        bot_line = soup.find(id='ctl00_ContentMain_rowBottomLine').find(class_='m-review-tastings-notes-cell-value').text.strip()\n",
    "    except:\n",
    "        bot_line = np.nan\n",
    "        \n",
    "    try:\n",
    "        point = soup.find(class_='m-review-medal-points-q').text.strip()\n",
    "    except:\n",
    "        point = np.nan\n",
    "        \n",
    "    try:\n",
    "        price = soup.find(id='ctl00_ContentMain_divPrice').text.strip()\n",
    "    except:\n",
    "        price = np.nan\n",
    "        \n",
    "        \n",
    "    #Put all features in a dictionary\n",
    "    drink_dict = dict(zip(df_headers, [name,\n",
    "                                      description,\n",
    "                                      category,\n",
    "                                      country,\n",
    "                                      alc_vol,\n",
    "                                      review,\n",
    "                                      style,\n",
    "                                      aroma,\n",
    "                                      flavor,\n",
    "                                      sweetness,\n",
    "                                      bitterness,\n",
    "                                      enjoy,\n",
    "                                      pairing,\n",
    "                                      cocktails,\n",
    "                                      bot_line,\n",
    "                                      point,\n",
    "                                      price]))\n",
    "    \n",
    "    features_list = features_list.append(drink_dict)\n",
    "    \n",
    "    return features_list\n",
    "    "
   ]
  },
  {
   "cell_type": "code",
   "execution_count": 92,
   "id": "kindly-cable",
   "metadata": {
    "ExecuteTime": {
     "end_time": "2021-05-19T20:55:48.460497Z",
     "start_time": "2021-05-19T20:55:47.952615Z"
    }
   },
   "outputs": [
    {
     "data": {
      "text/plain": [
       "[]"
      ]
     },
     "execution_count": 92,
     "metadata": {},
     "output_type": "execute_result"
    }
   ],
   "source": [
    "features_list = []\n",
    "\n",
    "get_drink_features('https://www.tastings.com/Wine-Review/Celebrities-2018-Syrah-Carinena-Spain-11-08-2020.aspx')\n",
    "\n",
    "features_list"
   ]
  },
  {
   "cell_type": "code",
   "execution_count": 94,
   "id": "agitated-catch",
   "metadata": {
    "ExecuteTime": {
     "end_time": "2021-05-19T20:58:46.888316Z",
     "start_time": "2021-05-19T20:58:46.883311Z"
    }
   },
   "outputs": [],
   "source": []
  },
  {
   "cell_type": "code",
   "execution_count": null,
   "id": "composed-keep",
   "metadata": {
    "ExecuteTime": {
     "start_time": "2021-05-19T21:57:41.906Z"
    }
   },
   "outputs": [],
   "source": [
    "#Scrape 1000 items\n",
    "\n",
    "features_list = []\n",
    "\n",
    "for url in all_items_list[5000:7000]:\n",
    "\n",
    "    response = requests.get(url, headers=header)\n",
    "\n",
    "    data = response.text\n",
    "\n",
    "    soup = BeautifulSoup(data, \"html.parser\")\n",
    "\n",
    "\n",
    "    try:\n",
    "        name = soup.find_all('meta')[2]['content']\n",
    "    except:\n",
    "        name = np.nan\n",
    "\n",
    "\n",
    "    try:\n",
    "        description = soup.find_all('meta')[4]['content']\n",
    "    except:\n",
    "        description = np.nan\n",
    "\n",
    "    try:\n",
    "        category = soup.find_all(class_='m-review-center-info-text')[0].find('h3').text.split('\\r\\n')[1].strip()\n",
    "    except:\n",
    "        category = np.nan\n",
    "\n",
    "    try:\n",
    "        country = soup.find_all(class_='m-review-center-info-text')[0].find_all('div')[1].text.strip().split('\\r\\n')[1].strip()\n",
    "    except:\n",
    "        country = np.nan\n",
    "\n",
    "    try:\n",
    "        alc_vol = soup.find_all(class_='m-review-center-info-text')[0].find_all('div')[2].text.strip().split('\\r\\n')[1].strip()\n",
    "    except:\n",
    "        alc_vol = np.nan\n",
    "\n",
    "\n",
    "    try:\n",
    "        review = soup.find(class_='m-review-testimonials-text').text.strip()\n",
    "    except:\n",
    "        review = np.nan\n",
    "\n",
    "    try:\n",
    "        style = soup.find(id='ctl00_ContentMain_rowStyle').find(class_='m-review-tastings-notes-cell-value').text.strip()\n",
    "    except:\n",
    "        style = np.nan\n",
    "\n",
    "    try:\n",
    "        aroma = soup.find(id='ctl00_ContentMain_rowAroma').find(class_='m-review-tastings-notes-cell-value').text.strip()\n",
    "    except:\n",
    "        aroma = np.nan\n",
    "\n",
    "    try:\n",
    "        flavor = soup.find(id='ctl00_ContentMain_rowFlavor').find(class_='m-review-tastings-notes-cell-value').text.strip()\n",
    "    except:\n",
    "        flavor = np.nan\n",
    "\n",
    "    try:\n",
    "        sweetness = soup.find(id='ctl00_ContentMain_rowSweetness').find(class_='m-review-tastings-notes-cell-value').text.strip()\n",
    "    except:\n",
    "        sweetness = np.nan\n",
    "\n",
    "    try:\n",
    "        bitterness = soup.find(id='ctl00_ContentMain_rowBitterness').find(class_='m-review-tastings-notes-cell-value').text.strip()\n",
    "    except:\n",
    "        bitterness = np.nan\n",
    "\n",
    "    try:\n",
    "        enjoy = soup.find(id='ctl00_ContentMain_rowEnjoy').find(class_='m-review-tastings-notes-cell-value').text.strip()\n",
    "    except:\n",
    "        enjoy = np.nan\n",
    "\n",
    "    try:\n",
    "        pairing = soup.find(id='ctl00_ContentMain_rowPairing').find(class_='m-review-tastings-notes-cell-value').text.strip()\n",
    "    except:\n",
    "        pairing = np.nan\n",
    "\n",
    "    try:\n",
    "        cocktails = soup.find(id='ctl00_ContentMain_rowCocktails').find(class_='m-review-tastings-notes-cell-value').text.strip()\n",
    "    except:\n",
    "        cocktails = np.nan\n",
    "\n",
    "    try:\n",
    "        bot_line = soup.find(id='ctl00_ContentMain_rowBottomLine').find(class_='m-review-tastings-notes-cell-value').text.strip()\n",
    "    except:\n",
    "        bot_line = np.nan\n",
    "\n",
    "    try:\n",
    "        point = soup.find(class_='m-review-medal-points-q').text.strip()\n",
    "    except:\n",
    "        point = np.nan\n",
    "\n",
    "    try:\n",
    "        price = soup.find(id='ctl00_ContentMain_divPrice').text.strip()\n",
    "    except:\n",
    "        price = np.nan\n",
    "\n",
    "\n",
    "    #Put all features in a dictionary\n",
    "    drink_dict = dict(zip(df_headers, [name,\n",
    "                                      description,\n",
    "                                      category,\n",
    "                                      country,\n",
    "                                      alc_vol,\n",
    "                                      review,\n",
    "                                      style,\n",
    "                                      aroma,\n",
    "                                      flavor,\n",
    "                                      sweetness,\n",
    "                                      bitterness,\n",
    "                                      enjoy,\n",
    "                                      pairing,\n",
    "                                      cocktails,\n",
    "                                      bot_line,\n",
    "                                      point,\n",
    "                                      price]))\n",
    "\n",
    "    features_list.append(drink_dict)\n",
    "\n",
    "df = pd.DataFrame(features_list)\n",
    "\n",
    "df.to_csv('data/df_1000items_p6_p7.csv')\n",
    "\n",
    "print('Done!')"
   ]
  },
  {
   "cell_type": "code",
   "execution_count": null,
   "id": "notable-nation",
   "metadata": {},
   "outputs": [],
   "source": []
  }
 ],
 "metadata": {
  "kernelspec": {
   "display_name": "Python [conda env:metis] *",
   "language": "python",
   "name": "conda-env-metis-py"
  },
  "language_info": {
   "codemirror_mode": {
    "name": "ipython",
    "version": 3
   },
   "file_extension": ".py",
   "mimetype": "text/x-python",
   "name": "python",
   "nbconvert_exporter": "python",
   "pygments_lexer": "ipython3",
   "version": "3.8.8"
  },
  "toc": {
   "base_numbering": 1,
   "nav_menu": {},
   "number_sections": true,
   "sideBar": true,
   "skip_h1_title": false,
   "title_cell": "Table of Contents",
   "title_sidebar": "Contents",
   "toc_cell": false,
   "toc_position": {
    "height": "calc(100% - 180px)",
    "left": "10px",
    "top": "150px",
    "width": "205.273px"
   },
   "toc_section_display": true,
   "toc_window_display": true
  },
  "varInspector": {
   "cols": {
    "lenName": 16,
    "lenType": 16,
    "lenVar": 40
   },
   "kernels_config": {
    "python": {
     "delete_cmd_postfix": "",
     "delete_cmd_prefix": "del ",
     "library": "var_list.py",
     "varRefreshCmd": "print(var_dic_list())"
    },
    "r": {
     "delete_cmd_postfix": ") ",
     "delete_cmd_prefix": "rm(",
     "library": "var_list.r",
     "varRefreshCmd": "cat(var_dic_list()) "
    }
   },
   "types_to_exclude": [
    "module",
    "function",
    "builtin_function_or_method",
    "instance",
    "_Feature"
   ],
   "window_display": false
  }
 },
 "nbformat": 4,
 "nbformat_minor": 5
}
